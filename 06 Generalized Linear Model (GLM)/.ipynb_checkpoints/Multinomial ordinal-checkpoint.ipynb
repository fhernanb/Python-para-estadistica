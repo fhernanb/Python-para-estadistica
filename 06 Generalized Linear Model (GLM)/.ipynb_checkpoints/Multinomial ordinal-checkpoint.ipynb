{
 "cells": [
  {
   "cell_type": "markdown",
   "metadata": {},
   "source": [
    "# Modelos Lineales Generalizado en Python\n",
    "# Regresión multinomial - nominal\n",
    "\n",
    "<img src=\"https://raw.githubusercontent.com/fhernanb/fhernanb.github.io/master/docs/logo_unal_color.png\" alt=\"drawing\" width=\"200\"/>\n",
    "\n",
    "Aquí se muestran varios ejemplos de como usar Python para ajustar un modelo lineal generalizado. "
   ]
  },
  {
   "cell_type": "markdown",
   "metadata": {},
   "source": [
    "Las explicaciones mostradas aquí están basadas en https://www.statsmodels.org/stable/examples/notebooks/generated/ordinal_regression.html\n",
    "\n",
    "Las librerías necesarias son las siguientes:"
   ]
  },
  {
   "cell_type": "code",
   "execution_count": 4,
   "metadata": {},
   "outputs": [
    {
     "ename": "ModuleNotFoundError",
     "evalue": "No module named 'statsmodels.miscmodels.ordinal_model'",
     "output_type": "error",
     "traceback": [
      "\u001b[1;31m---------------------------------------------------------------------------\u001b[0m",
      "\u001b[1;31mModuleNotFoundError\u001b[0m                       Traceback (most recent call last)",
      "\u001b[1;32m~\\AppData\\Local\\Temp/ipykernel_11972/4017022481.py\u001b[0m in \u001b[0;36m<module>\u001b[1;34m\u001b[0m\n\u001b[0;32m      1\u001b[0m \u001b[1;32mimport\u001b[0m \u001b[0mscipy\u001b[0m\u001b[1;33m.\u001b[0m\u001b[0mstats\u001b[0m \u001b[1;32mas\u001b[0m \u001b[0mstats\u001b[0m\u001b[1;33m\u001b[0m\u001b[1;33m\u001b[0m\u001b[0m\n\u001b[1;32m----> 2\u001b[1;33m \u001b[1;32mfrom\u001b[0m \u001b[0mstatsmodels\u001b[0m\u001b[1;33m.\u001b[0m\u001b[0mmiscmodels\u001b[0m\u001b[1;33m.\u001b[0m\u001b[0mordinal_model\u001b[0m \u001b[1;32mimport\u001b[0m \u001b[0mOrderedModel\u001b[0m\u001b[1;33m\u001b[0m\u001b[1;33m\u001b[0m\u001b[0m\n\u001b[0m",
      "\u001b[1;31mModuleNotFoundError\u001b[0m: No module named 'statsmodels.miscmodels.ordinal_model'"
     ]
    }
   ],
   "source": [
    "import scipy.stats as stats\n",
    "from statsmodels.miscmodels.ordinal_model import OrderedModel"
   ]
  },
  {
   "cell_type": "markdown",
   "metadata": {},
   "source": [
    "Otras librerías que se usarán en los ejemplos son:"
   ]
  },
  {
   "cell_type": "code",
   "execution_count": 5,
   "metadata": {},
   "outputs": [],
   "source": [
    "import pandas as pd"
   ]
  },
  {
   "cell_type": "markdown",
   "metadata": {},
   "source": [
    "## Ejemplo\n",
    "\n",
    "En esta actividad vamos a utilizar los datos presentados la sección 6.2.2 del libro \"An Introduction to Categorical Data Analysis\" de Agresti (2019). El objetivo es ajustar el siguiente modelo:\n",
    "\n",
    "$$\n",
    "logit(P(Y \\leq j)) = \\alpha_j + \\beta x, \\, \\text{para} \\, j=1, 2, 3, 4\n",
    "$$\n",
    "\n",
    "El objetivo es modelar ajustar un modelo de regresión multinomial para explicar la variable respuesta ideología política $Y$ en función del género y el partido. \n",
    "\n",
    "Abajo una figura ilustrativa.\n",
    "\n",
    "<img src=\"logo_partidos_politicos.png\" alt=\"drawing\" width=\"200\"/>"
   ]
  },
  {
   "cell_type": "markdown",
   "metadata": {},
   "source": [
    "Lo primero que usted debe hacer es leer la base de datos."
   ]
  },
  {
   "cell_type": "code",
   "execution_count": 6,
   "metadata": {},
   "outputs": [
    {
     "data": {
      "text/html": [
       "<div>\n",
       "<style scoped>\n",
       "    .dataframe tbody tr th:only-of-type {\n",
       "        vertical-align: middle;\n",
       "    }\n",
       "\n",
       "    .dataframe tbody tr th {\n",
       "        vertical-align: top;\n",
       "    }\n",
       "\n",
       "    .dataframe thead th {\n",
       "        text-align: right;\n",
       "    }\n",
       "</style>\n",
       "<table border=\"1\" class=\"dataframe\">\n",
       "  <thead>\n",
       "    <tr style=\"text-align: right;\">\n",
       "      <th></th>\n",
       "      <th>genero</th>\n",
       "      <th>partido</th>\n",
       "      <th>ideologia</th>\n",
       "    </tr>\n",
       "  </thead>\n",
       "  <tbody>\n",
       "    <tr>\n",
       "      <th>1</th>\n",
       "      <td>Female</td>\n",
       "      <td>Democ</td>\n",
       "      <td>Muy lib</td>\n",
       "    </tr>\n",
       "    <tr>\n",
       "      <th>2</th>\n",
       "      <td>Female</td>\n",
       "      <td>Democ</td>\n",
       "      <td>Muy lib</td>\n",
       "    </tr>\n",
       "    <tr>\n",
       "      <th>3</th>\n",
       "      <td>Female</td>\n",
       "      <td>Democ</td>\n",
       "      <td>Muy lib</td>\n",
       "    </tr>\n",
       "    <tr>\n",
       "      <th>4</th>\n",
       "      <td>Female</td>\n",
       "      <td>Democ</td>\n",
       "      <td>Muy lib</td>\n",
       "    </tr>\n",
       "    <tr>\n",
       "      <th>5</th>\n",
       "      <td>Female</td>\n",
       "      <td>Democ</td>\n",
       "      <td>Muy lib</td>\n",
       "    </tr>\n",
       "  </tbody>\n",
       "</table>\n",
       "</div>"
      ],
      "text/plain": [
       "   genero partido ideologia\n",
       "1  Female   Democ   Muy lib\n",
       "2  Female   Democ   Muy lib\n",
       "3  Female   Democ   Muy lib\n",
       "4  Female   Democ   Muy lib\n",
       "5  Female   Democ   Muy lib"
      ]
     },
     "execution_count": 6,
     "metadata": {},
     "output_type": "execute_result"
    }
   ],
   "source": [
    "datos = pd.read_csv('political_ideology.txt', sep='\\s+', header=0)\n",
    "datos.head()"
   ]
  },
  {
   "cell_type": "markdown",
   "metadata": {},
   "source": [
    "Para ver el tamaño de la base de datos"
   ]
  },
  {
   "cell_type": "code",
   "execution_count": 7,
   "metadata": {},
   "outputs": [
    {
     "data": {
      "text/plain": [
       "(661, 3)"
      ]
     },
     "execution_count": 7,
     "metadata": {},
     "output_type": "execute_result"
    }
   ],
   "source": [
    "datos.shape"
   ]
  },
  {
   "cell_type": "markdown",
   "metadata": {},
   "source": [
    "Vamos a explorar el tipo de cada una de las variables."
   ]
  },
  {
   "cell_type": "code",
   "execution_count": 8,
   "metadata": {},
   "outputs": [
    {
     "data": {
      "text/plain": [
       "genero       object\n",
       "partido      object\n",
       "ideologia    object\n",
       "dtype: object"
      ]
     },
     "execution_count": 8,
     "metadata": {},
     "output_type": "execute_result"
    }
   ],
   "source": [
    "datos.dtypes"
   ]
  },
  {
   "cell_type": "code",
   "execution_count": 9,
   "metadata": {},
   "outputs": [
    {
     "data": {
      "text/plain": [
       "dtype('O')"
      ]
     },
     "execution_count": 9,
     "metadata": {},
     "output_type": "execute_result"
    }
   ],
   "source": [
    "datos['ideologia'].dtype"
   ]
  },
  {
   "cell_type": "code",
   "execution_count": 11,
   "metadata": {},
   "outputs": [
    {
     "name": "stdout",
     "output_type": "stream",
     "text": [
      "   genero partido ideologia        y\n",
      "1  Female   Democ   Muy lib  Muy lib\n",
      "2  Female   Democ   Muy lib  Muy lib\n",
      "3  Female   Democ   Muy lib  Muy lib\n",
      "4  Female   Democ   Muy lib  Muy lib\n",
      "5  Female   Democ   Muy lib  Muy lib\n",
      "genero         object\n",
      "partido        object\n",
      "ideologia      object\n",
      "y            category\n",
      "dtype: object\n"
     ]
    }
   ],
   "source": [
    "datos[\"y\"] = pd.Categorical(datos['ideologia'], \n",
    "                            categories=[\"Muy lib\", \"Algo lib\", \"Mod\", \"Algo conser\", \"Muy conser\"], \n",
    "                            ordered=True)\n",
    "\n",
    "print(datos.head())\n",
    "\n",
    "print(datos.dtypes)"
   ]
  },
  {
   "cell_type": "markdown",
   "metadata": {},
   "source": [
    "Para ajustar el modelo:"
   ]
  },
  {
   "cell_type": "code",
   "execution_count": 12,
   "metadata": {},
   "outputs": [
    {
     "ename": "NameError",
     "evalue": "name 'OrderedModel' is not defined",
     "output_type": "error",
     "traceback": [
      "\u001b[1;31m---------------------------------------------------------------------------\u001b[0m",
      "\u001b[1;31mNameError\u001b[0m                                 Traceback (most recent call last)",
      "\u001b[1;32m~\\AppData\\Local\\Temp/ipykernel_11972/514198869.py\u001b[0m in \u001b[0;36m<module>\u001b[1;34m\u001b[0m\n\u001b[1;32m----> 1\u001b[1;33m mod_prob = OrderedModel(datos['y'],\n\u001b[0m\u001b[0;32m      2\u001b[0m                         \u001b[0mdatos\u001b[0m\u001b[1;33m[\u001b[0m\u001b[1;33m[\u001b[0m\u001b[1;34m'genero'\u001b[0m\u001b[1;33m,\u001b[0m \u001b[1;34m'partido'\u001b[0m\u001b[1;33m]\u001b[0m\u001b[1;33m]\u001b[0m\u001b[1;33m,\u001b[0m\u001b[1;33m\u001b[0m\u001b[1;33m\u001b[0m\u001b[0m\n\u001b[0;32m      3\u001b[0m                         distr='probit')\n\u001b[0;32m      4\u001b[0m \u001b[1;33m\u001b[0m\u001b[0m\n\u001b[0;32m      5\u001b[0m \u001b[0mres_prob\u001b[0m \u001b[1;33m=\u001b[0m \u001b[0mmod_prob\u001b[0m\u001b[1;33m.\u001b[0m\u001b[0mfit\u001b[0m\u001b[1;33m(\u001b[0m\u001b[0mmethod\u001b[0m\u001b[1;33m=\u001b[0m\u001b[1;34m'bfgs'\u001b[0m\u001b[1;33m)\u001b[0m\u001b[1;33m\u001b[0m\u001b[1;33m\u001b[0m\u001b[0m\n",
      "\u001b[1;31mNameError\u001b[0m: name 'OrderedModel' is not defined"
     ]
    }
   ],
   "source": [
    "mod_prob = OrderedModel(datos['y'],\n",
    "                        datos[['genero', 'partido']],\n",
    "                        distr='probit')\n",
    "\n",
    "res_prob = mod_prob.fit(method='bfgs')\n",
    "res_prob.summary()"
   ]
  },
  {
   "cell_type": "markdown",
   "metadata": {},
   "source": [
    "Usando los resultados de la tabla anterior podemos escribir el modelo\n",
    "\n",
    "\\begin{align}\n",
    "Y_i &\\sim Binomial(\\hat{\\mu_i}, m=1), \\\\ \n",
    "logit(\\hat{\\mu_i}) &= -12.3508 + 0.4972 \\, width_i\n",
    "\\end{align}"
   ]
  },
  {
   "cell_type": "markdown",
   "metadata": {},
   "source": [
    "## Funciones de enlace disponibles\n",
    "\n",
    "Para conocer otras posibles funciones de enlace se puede utilizar la siguiente instrucción:"
   ]
  },
  {
   "cell_type": "code",
   "execution_count": null,
   "metadata": {},
   "outputs": [],
   "source": [
    "sm.families.family.Binomial.links"
   ]
  },
  {
   "cell_type": "markdown",
   "metadata": {},
   "source": [
    "## Ajustando el modelo usando matrices\n",
    "\n",
    "En esta parte vamos a volver a ajustar el modelo de regresión logística pero ingresando las matrices $y$ e $X$."
   ]
  },
  {
   "cell_type": "code",
   "execution_count": null,
   "metadata": {},
   "outputs": [],
   "source": [
    "X = datos[[\"width\"]]    # Para crear una matriz con la variable de interés\n",
    "X = sm.add_constant(X)  # Para adicionar la columna de unos\n",
    "\n",
    "y = datos[[\"y\"]]"
   ]
  },
  {
   "cell_type": "code",
   "execution_count": null,
   "metadata": {},
   "outputs": [],
   "source": [
    "mod2 = sm.GLM(y, X, family=sm.families.Binomial(link=sm.families.links.logit()))\n",
    "mod2 = mod2.fit()\n",
    "mod2.summary()"
   ]
  },
  {
   "cell_type": "markdown",
   "metadata": {},
   "source": [
    "Usando los resultados de la tabla anterior podemos escribir el modelo\n",
    "\n",
    "\\begin{align}\n",
    "Y_i &\\sim Binomial(\\hat{\\mu_i}, m=1), \\\\ \n",
    "logit(\\hat{\\mu_i}) &= -12.3508 + 0.4972 \\, width_i\n",
    "\\end{align}"
   ]
  },
  {
   "cell_type": "markdown",
   "metadata": {},
   "source": [
    "Vamos ahora a crear la matriz de confusión del modelo para ver el desempeño."
   ]
  },
  {
   "cell_type": "code",
   "execution_count": null,
   "metadata": {},
   "outputs": [],
   "source": [
    "prob_hat = mod2.predict(X)\n",
    "\n",
    "import numpy as np\n",
    "y_hat = np.where(prob_hat > 0.5, 1, 0)\n",
    "\n",
    "from sklearn import metrics\n",
    "cm = metrics.confusion_matrix(datos[\"y\"], y_hat)\n",
    "print(\"La matriz de confusión obtenida es: \\n\")\n",
    "print(cm)"
   ]
  },
  {
   "cell_type": "markdown",
   "metadata": {},
   "source": [
    "## Haciendo predicciones con el modelo ajustado\n",
    "\n",
    "Vamos a calcular $P(Y=1 | width)$ para tres cangrejas con anchos de 22, 26 y 28 cm.\n",
    "\n",
    "Primero vamos a crear la nueva matriz $X$ con los datos."
   ]
  },
  {
   "cell_type": "code",
   "execution_count": null,
   "metadata": {},
   "outputs": [],
   "source": [
    "new_width = {\"width\" : [22, 26, 28]}\n",
    "new_X = pd.DataFrame(new_width)\n",
    "new_X = sm.add_constant(new_X)\n",
    "print(new_X)"
   ]
  },
  {
   "cell_type": "markdown",
   "metadata": {},
   "source": [
    "Ahora vamos a calcular las probabilidades"
   ]
  },
  {
   "cell_type": "code",
   "execution_count": null,
   "metadata": {},
   "outputs": [],
   "source": [
    "prob_hat = mod2.predict(new_X)\n",
    "print(prob_hat)"
   ]
  },
  {
   "cell_type": "markdown",
   "metadata": {},
   "source": [
    "Vamos a usar un punto de corte de 0.5 para crear las clasificaciones. Si $P(Y=1) > 0.5$ entonces $Y=1$. "
   ]
  },
  {
   "cell_type": "code",
   "execution_count": null,
   "metadata": {},
   "outputs": [],
   "source": [
    "y_hat = np.where(prob_hat > 0.5, 1, 0)\n",
    "y_hat"
   ]
  }
 ],
 "metadata": {
  "kernelspec": {
   "display_name": "Python 3 (ipykernel)",
   "language": "python",
   "name": "python3"
  },
  "language_info": {
   "codemirror_mode": {
    "name": "ipython",
    "version": 3
   },
   "file_extension": ".py",
   "mimetype": "text/x-python",
   "name": "python",
   "nbconvert_exporter": "python",
   "pygments_lexer": "ipython3",
   "version": "3.8.8"
  }
 },
 "nbformat": 4,
 "nbformat_minor": 2
}
