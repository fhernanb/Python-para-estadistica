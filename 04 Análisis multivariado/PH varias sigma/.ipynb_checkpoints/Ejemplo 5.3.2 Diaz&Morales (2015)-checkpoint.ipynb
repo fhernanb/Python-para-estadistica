{
 "cells": [
  {
   "cell_type": "markdown",
   "metadata": {},
   "source": [
    "# Ejemplo 5.3.2 de Díaz y Morales (2015)\n",
    "<img src=\"https://raw.githubusercontent.com/fhernanb/fhernanb.github.io/master/my_docs/logo_unal_color.png\" alt=\"drawing\" width=\"200\"/>\n",
    "\n",
    "En este ejemplo se desea estudiar el siguiente conjunto de hipótesis usando un nivel de significancia de 0.05.\n",
    "\n",
    "$H_0: \\boldsymbol{\\Sigma}_1 = \\boldsymbol{\\Sigma}_2 = \\boldsymbol{\\Sigma}_3 $\n",
    "\n",
    "$H_A$: al menos una de las matrices es diferente de las otras.\n",
    "\n",
    "Las matrices muestrales son\n",
    "\n",
    "\\begin{equation}\n",
    "\\mathbf{S}_1 = \n",
    "\\begin{pmatrix}\n",
    "12.65  & -16.45 \\\\\n",
    "-16.45 & 73.04\n",
    "\\end{pmatrix}\n",
    "\\end{equation}\n",
    "\n",
    "\\begin{equation}\n",
    "\\mathbf{S}_2 = \n",
    "\\begin{pmatrix}\n",
    "11.44 & -27.77 \\\\\n",
    "-27.77 & 100.64\n",
    "\\end{pmatrix}\n",
    "\\end{equation}\n",
    "\n",
    "\\begin{equation}\n",
    "\\mathbf{S}_3 = \n",
    "\\begin{pmatrix}\n",
    "14.46 & -31.26 \\\\\n",
    "-31.26 & 101.03\n",
    "\\end{pmatrix}\n",
    "\\end{equation}\n",
    "\n",
    "con $n_1=26$, $n_2=23$ y $n_3=25$ sujetos por cada grupo."
   ]
  },
  {
   "cell_type": "code",
   "execution_count": 1,
   "metadata": {},
   "outputs": [],
   "source": [
    "import numpy as np\n",
    "import scipy.stats"
   ]
  },
  {
   "cell_type": "markdown",
   "metadata": {},
   "source": [
    "A continuación los datos del ejemplo"
   ]
  },
  {
   "cell_type": "code",
   "execution_count": 2,
   "metadata": {},
   "outputs": [
    {
     "name": "stdout",
     "output_type": "stream",
     "text": [
      "Esta es la matriz S1\n",
      "[[ 12.65 -16.45]\n",
      " [-16.45  73.04]]\n",
      "\n",
      "\n",
      "Esta es la matriz S2\n",
      "[[ 11.44 -27.77]\n",
      " [-27.77 100.64]]\n",
      "\n",
      "\n",
      "Esta es la matriz S3\n",
      "[[ 14.46 -31.26]\n",
      " [-31.26 101.03]]\n",
      "\n",
      "\n"
     ]
    }
   ],
   "source": [
    "S1 = np.matrix([[12.65, -16.45],\n",
    "                [-16.45, 73.04]])\n",
    "\n",
    "S2 = np.matrix([[11.44, -27.77],\n",
    "                [-27.77, 100.64]])\n",
    "\n",
    "S3 = np.matrix([[14.46, -31.26],\n",
    "                [-31.26, 101.03]])\n",
    "\n",
    "for i in [1, 2, 3]:\n",
    "    print(\"Esta es la matriz S\" + str(i))\n",
    "    print(eval(\"S\" + str(i)))\n",
    "    print(\"\\n\")\n",
    "\n",
    "n1 = 26\n",
    "n2 = 23\n",
    "n3 = 25\n",
    "\n",
    "g = 3   # número de grupos o sigmas\n",
    "p = 2   # número de variables"
   ]
  },
  {
   "cell_type": "markdown",
   "metadata": {},
   "source": [
    "## Prueba de Mardia (1979) página 140\n",
    "\n",
    "El estadístico está dado por\n",
    "\n",
    "$$\n",
    "\\varphi  = - 2 \\rho \\log(\\lambda)\n",
    "$$\n",
    "\n",
    "Cuando $H_0$ es verdadera, $\\varphi \\sim \\chi^2_{p(p+1)(g-1)/2}$.\n",
    "\n",
    "<img src=\"ph_varias_sigma_01.png\" alt=\"drawing\" width=\"300\"/>\n",
    "\n",
    "<img src=\"ph_varias_sigma_02.png\" alt=\"drawing\" width=\"400\"/>"
   ]
  },
  {
   "cell_type": "code",
   "execution_count": 3,
   "metadata": {},
   "outputs": [
    {
     "name": "stdout",
     "output_type": "stream",
     "text": [
      "0.9591811898325983\n"
     ]
    }
   ],
   "source": [
    "v1 = n1 - 1\n",
    "v2 = n2 - 1\n",
    "v3 = n3 - 1\n",
    "v = v1 + v2 + v3\n",
    "\n",
    "rho = 1 - (2*p**2+3*p-1) * (1/v1+1/v2+1/v3-1/v) / (6*(p+1)*(g-1))\n",
    "print(rho)"
   ]
  },
  {
   "cell_type": "code",
   "execution_count": 4,
   "metadata": {},
   "outputs": [
    {
     "name": "stdout",
     "output_type": "stream",
     "text": [
      "La matriz Sp es:\n",
      "[[ 12.88690141 -24.96380282]\n",
      " [-24.96380282  91.05352113]]\n",
      "\n",
      " El valor de log_lambda es:\n",
      "-3.4650131022081894\n"
     ]
    }
   ],
   "source": [
    "Sp = (1/v) * (v1 * S1 + v2 * S2 + v3 * S3)\n",
    "print(\"La matriz Sp es:\")\n",
    "print(Sp)\n",
    "\n",
    "# Elementos auxiliares para calcular log_lambda\n",
    "aux0 =  v * np.log(np.linalg.det(Sp))\n",
    "aux1 = v1 * np.log(np.linalg.det(S1))\n",
    "aux2 = v2 * np.log(np.linalg.det(S2))\n",
    "aux3 = v3 * np.log(np.linalg.det(S3))\n",
    "\n",
    "log_lambda = (aux0 - (aux1 + aux2 + aux3)) / (-2)\n",
    "print(\"\\n El valor de log_lambda es:\")\n",
    "print(log_lambda)"
   ]
  },
  {
   "cell_type": "markdown",
   "metadata": {},
   "source": [
    "El valor del estadístico $\\varphi$ es"
   ]
  },
  {
   "cell_type": "code",
   "execution_count": 5,
   "metadata": {},
   "outputs": [
    {
     "name": "stdout",
     "output_type": "stream",
     "text": [
      "6.647150780323187\n"
     ]
    }
   ],
   "source": [
    "phi = -2 * rho * log_lambda\n",
    "print(phi)"
   ]
  },
  {
   "cell_type": "markdown",
   "metadata": {},
   "source": [
    "Para calcular el valor crítico con un $\\alpha=0.05$ hacemos lo siguiente"
   ]
  },
  {
   "cell_type": "code",
   "execution_count": 6,
   "metadata": {},
   "outputs": [
    {
     "data": {
      "text/plain": [
       "12.591587243743977"
      ]
     },
     "execution_count": 6,
     "metadata": {},
     "output_type": "execute_result"
    }
   ],
   "source": [
    "scipy.stats.chi2.ppf(q=1-0.05, df=p*(p+1)*(g-1)/2)  # Valor crítico"
   ]
  },
  {
   "cell_type": "markdown",
   "metadata": {},
   "source": [
    "<div class=\"alert alert-success\">\n",
    "  <strong>Resultado</strong> Como el estadístico es $\\varphi=6.65$, que es menor que el valor crítico $12.59$, entonces no hay evidencias suficientes para rechazar $H_0: \\boldsymbol{\\Sigma}_1 = \\boldsymbol{\\Sigma}_2 = \\boldsymbol{\\Sigma}_3 $.\n",
    "</div>"
   ]
  }
 ],
 "metadata": {
  "kernelspec": {
   "display_name": "anaconda-2022.05-py39",
   "language": "python",
   "name": "conda-env-anaconda-2022.05-py39-py"
  },
  "language_info": {
   "codemirror_mode": {
    "name": "ipython",
    "version": 3
   },
   "file_extension": ".py",
   "mimetype": "text/x-python",
   "name": "python",
   "nbconvert_exporter": "python",
   "pygments_lexer": "ipython3",
   "version": "3.9.12"
  }
 },
 "nbformat": 4,
 "nbformat_minor": 4
}
