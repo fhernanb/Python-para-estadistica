{
 "cells": [
  {
   "cell_type": "markdown",
   "metadata": {},
   "source": [
    "# Ejemplo 3.4.1 de Díaz y Morales (2015)\n",
    "<img src=\"https://raw.githubusercontent.com/fhernanb/fhernanb.github.io/master/my_docs/logo_unal_color.png\" alt=\"drawing\" width=\"200\"/>\n",
    "\n",
    "En este ejemplo se desea estudiar el siguiente conjunto de hipótesis usando un nivel de significancia de 0.05.\n",
    "\n",
    "$H_0: \\boldsymbol{\\mu} = (70, 170)^\\top$\n",
    "\n",
    "$H_A: \\boldsymbol{\\mu} \\neq (70, 170)^\\top$\n",
    "\n",
    "asumiendo que la matriz de varianzas es conocida así:\n",
    "\n",
    "\\begin{equation}\n",
    "\\boldsymbol{\\Sigma} = \n",
    "\\begin{pmatrix}\n",
    "20 & 100 \\\\\n",
    "100 & 1000\n",
    "\\end{pmatrix}\n",
    "\\end{equation}"
   ]
  },
  {
   "cell_type": "code",
   "execution_count": 1,
   "metadata": {},
   "outputs": [],
   "source": [
    "import numpy as np\n",
    "import pandas as pd\n",
    "import scipy.stats"
   ]
  },
  {
   "cell_type": "markdown",
   "metadata": {},
   "source": [
    "A continuación los datos del ejemplo"
   ]
  },
  {
   "cell_type": "code",
   "execution_count": 2,
   "metadata": {},
   "outputs": [
    {
     "data": {
      "text/html": [
       "<div>\n",
       "<style scoped>\n",
       "    .dataframe tbody tr th:only-of-type {\n",
       "        vertical-align: middle;\n",
       "    }\n",
       "\n",
       "    .dataframe tbody tr th {\n",
       "        vertical-align: top;\n",
       "    }\n",
       "\n",
       "    .dataframe thead th {\n",
       "        text-align: right;\n",
       "    }\n",
       "</style>\n",
       "<table border=\"1\" class=\"dataframe\">\n",
       "  <thead>\n",
       "    <tr style=\"text-align: right;\">\n",
       "      <th></th>\n",
       "      <th>x1</th>\n",
       "      <th>x2</th>\n",
       "    </tr>\n",
       "  </thead>\n",
       "  <tbody>\n",
       "    <tr>\n",
       "      <th>0</th>\n",
       "      <td>69</td>\n",
       "      <td>153</td>\n",
       "    </tr>\n",
       "    <tr>\n",
       "      <th>1</th>\n",
       "      <td>74</td>\n",
       "      <td>175</td>\n",
       "    </tr>\n",
       "    <tr>\n",
       "      <th>2</th>\n",
       "      <td>68</td>\n",
       "      <td>155</td>\n",
       "    </tr>\n",
       "    <tr>\n",
       "      <th>3</th>\n",
       "      <td>70</td>\n",
       "      <td>135</td>\n",
       "    </tr>\n",
       "    <tr>\n",
       "      <th>4</th>\n",
       "      <td>72</td>\n",
       "      <td>172</td>\n",
       "    </tr>\n",
       "    <tr>\n",
       "      <th>5</th>\n",
       "      <td>67</td>\n",
       "      <td>150</td>\n",
       "    </tr>\n",
       "    <tr>\n",
       "      <th>6</th>\n",
       "      <td>66</td>\n",
       "      <td>115</td>\n",
       "    </tr>\n",
       "    <tr>\n",
       "      <th>7</th>\n",
       "      <td>70</td>\n",
       "      <td>137</td>\n",
       "    </tr>\n",
       "    <tr>\n",
       "      <th>8</th>\n",
       "      <td>76</td>\n",
       "      <td>200</td>\n",
       "    </tr>\n",
       "    <tr>\n",
       "      <th>9</th>\n",
       "      <td>68</td>\n",
       "      <td>130</td>\n",
       "    </tr>\n",
       "    <tr>\n",
       "      <th>10</th>\n",
       "      <td>72</td>\n",
       "      <td>140</td>\n",
       "    </tr>\n",
       "    <tr>\n",
       "      <th>11</th>\n",
       "      <td>79</td>\n",
       "      <td>265</td>\n",
       "    </tr>\n",
       "    <tr>\n",
       "      <th>12</th>\n",
       "      <td>74</td>\n",
       "      <td>185</td>\n",
       "    </tr>\n",
       "    <tr>\n",
       "      <th>13</th>\n",
       "      <td>67</td>\n",
       "      <td>112</td>\n",
       "    </tr>\n",
       "    <tr>\n",
       "      <th>14</th>\n",
       "      <td>66</td>\n",
       "      <td>140</td>\n",
       "    </tr>\n",
       "    <tr>\n",
       "      <th>15</th>\n",
       "      <td>71</td>\n",
       "      <td>150</td>\n",
       "    </tr>\n",
       "    <tr>\n",
       "      <th>16</th>\n",
       "      <td>74</td>\n",
       "      <td>165</td>\n",
       "    </tr>\n",
       "    <tr>\n",
       "      <th>17</th>\n",
       "      <td>75</td>\n",
       "      <td>185</td>\n",
       "    </tr>\n",
       "    <tr>\n",
       "      <th>18</th>\n",
       "      <td>75</td>\n",
       "      <td>210</td>\n",
       "    </tr>\n",
       "    <tr>\n",
       "      <th>19</th>\n",
       "      <td>76</td>\n",
       "      <td>220</td>\n",
       "    </tr>\n",
       "  </tbody>\n",
       "</table>\n",
       "</div>"
      ],
      "text/plain": [
       "    x1   x2\n",
       "0   69  153\n",
       "1   74  175\n",
       "2   68  155\n",
       "3   70  135\n",
       "4   72  172\n",
       "5   67  150\n",
       "6   66  115\n",
       "7   70  137\n",
       "8   76  200\n",
       "9   68  130\n",
       "10  72  140\n",
       "11  79  265\n",
       "12  74  185\n",
       "13  67  112\n",
       "14  66  140\n",
       "15  71  150\n",
       "16  74  165\n",
       "17  75  185\n",
       "18  75  210\n",
       "19  76  220"
      ]
     },
     "execution_count": 2,
     "metadata": {},
     "output_type": "execute_result"
    }
   ],
   "source": [
    "dt = {'x1': [69, 74, 68, 70, 72, 67, 66, 70, 76, 68,\n",
    "             72, 79, 74, 67, 66, 71, 74, 75, 75, 76], \n",
    "      'x2': [153, 175, 155, 135, 172, 150, 115, 137, 200, 130,\n",
    "             140, 265, 185, 112, 140, 150, 165, 185, 210, 220]}\n",
    "dt = pd.DataFrame(data=dt)\n",
    "dt"
   ]
  },
  {
   "cell_type": "markdown",
   "metadata": {},
   "source": [
    "<div class=\"alert alert-danger\">\n",
    "  <strong>Cuidado!</strong> Se debe verificar que la muestra aleatoria provenga de una población normal multivariada. Aquí vamos a asumir que este supuesto se cumple.\n",
    "</div>"
   ]
  },
  {
   "cell_type": "markdown",
   "metadata": {},
   "source": [
    "El vector de medias **muestral** se obtiene así:"
   ]
  },
  {
   "cell_type": "code",
   "execution_count": 3,
   "metadata": {},
   "outputs": [
    {
     "name": "stdout",
     "output_type": "stream",
     "text": [
      "[[ 71.45]\n",
      " [164.7 ]]\n"
     ]
    }
   ],
   "source": [
    "x_barra = dt.mean()\n",
    "x_barra = np.matrix(x_barra).transpose()  # Para convertir a matriz columna\n",
    "print(x_barra)                            # Para ver el contenido"
   ]
  },
  {
   "cell_type": "markdown",
   "metadata": {},
   "source": [
    "La matriz de varianzas **poblacional** conocida se construye así:"
   ]
  },
  {
   "cell_type": "code",
   "execution_count": 4,
   "metadata": {},
   "outputs": [
    {
     "data": {
      "text/plain": [
       "matrix([[  20,  100],\n",
       "        [ 100, 1000]])"
      ]
     },
     "execution_count": 4,
     "metadata": {},
     "output_type": "execute_result"
    }
   ],
   "source": [
    "Sigma = np.matrix([[20, 100],\n",
    "                   [100, 1000]])\n",
    "Sigma"
   ]
  },
  {
   "cell_type": "markdown",
   "metadata": {},
   "source": [
    "El vector de referencia es $\\boldsymbol{\\mu}_0=(70, 170)^\\top$."
   ]
  },
  {
   "cell_type": "code",
   "execution_count": 5,
   "metadata": {},
   "outputs": [
    {
     "data": {
      "text/plain": [
       "[[70], [170]]"
      ]
     },
     "execution_count": 5,
     "metadata": {},
     "output_type": "execute_result"
    }
   ],
   "source": [
    "mu0 = [[70], [170]]\n",
    "mu0"
   ]
  },
  {
   "cell_type": "markdown",
   "metadata": {},
   "source": [
    "Ahora calculamos $T^2=n (\\bar{\\boldsymbol{x}}-\\boldsymbol{\\mu}_0)^\\top \\boldsymbol{\\Sigma}^{-1} (\\bar{\\boldsymbol{x}}-\\boldsymbol{\\mu}_0)$, la cantidad $(\\bar{\\boldsymbol{x}}-\\boldsymbol{\\mu}_0)$ se va a llamar `aux` para facilitar las operaciones."
   ]
  },
  {
   "cell_type": "code",
   "execution_count": 6,
   "metadata": {},
   "outputs": [
    {
     "data": {
      "text/plain": [
       "8.402600000000033"
      ]
     },
     "execution_count": 6,
     "metadata": {},
     "output_type": "execute_result"
    }
   ],
   "source": [
    "n = 20 # número de observaciones\n",
    "aux = np.matrix((x_barra - mu0)) # Elemento auxiliar\n",
    "T2 = n * np.matmul(np.matmul(aux.transpose(), Sigma.I), aux)\n",
    "T2.item()  # Para obtener el T2 como un escalar y no como una matriz"
   ]
  },
  {
   "cell_type": "markdown",
   "metadata": {},
   "source": [
    "El valor crítico para realizar la prueba es $\\chi_{p}(\\alpha)$. Para obtener el valor crítico con $\\alpha=0.05$ se procede así:"
   ]
  },
  {
   "cell_type": "code",
   "execution_count": 7,
   "metadata": {},
   "outputs": [
    {
     "data": {
      "text/plain": [
       "5.991464547107979"
      ]
     },
     "execution_count": 7,
     "metadata": {},
     "output_type": "execute_result"
    }
   ],
   "source": [
    "p = 2 # Número de variables en el problema\n",
    "scipy.stats.chi2.ppf(q=1-0.05, df=p)  # Valor crítico"
   ]
  },
  {
   "cell_type": "markdown",
   "metadata": {},
   "source": [
    "<div class=\"alert alert-success\">\n",
    "  <strong>Resultado</strong> Como el estadístico es $T^2=8.40$, que es mayor que el valor crítico $5.99$, entonces hay evidencias suficientes para rechazar $H_0: \\boldsymbol{\\mu} = (70, 170)^\\top$.\n",
    "</div>"
   ]
  },
  {
   "cell_type": "markdown",
   "metadata": {},
   "source": [
    "# Análisis marginal\n",
    "\n",
    "En esta sección vamos a construir intervalos de confianza para ambas medias pero de forma separada."
   ]
  },
  {
   "cell_type": "markdown",
   "metadata": {},
   "source": [
    "Para construir el intervalo de confianza del 95% para $\\mu_1$ se procede así:"
   ]
  },
  {
   "cell_type": "code",
   "execution_count": 8,
   "metadata": {},
   "outputs": [
    {
     "name": "stdout",
     "output_type": "stream",
     "text": [
      "El límite inferior es 69.49003601545995  y el límite superior es 73.40996398454006\n"
     ]
    }
   ],
   "source": [
    "x1_barra = x_barra[0].item()\n",
    "sigma1 = 20 ** 0.5 # Desviación, no varianza\n",
    "n1 = 20\n",
    "z = scipy.stats.norm.ppf(1-0.025, loc=0, scale=1) # Cuantil 0.975 de N(0, 1)\n",
    "\n",
    "linf = x1_barra - z * sigma1 / np.sqrt(n1)\n",
    "lsup = x1_barra + z * sigma1 / np.sqrt(n1)\n",
    "\n",
    "print(\"El límite inferior es\", linf, \" y el límite superior es\", lsup)"
   ]
  },
  {
   "cell_type": "markdown",
   "metadata": {},
   "source": [
    "Como $\\mu_{10}=70$ está entre los límites del intervalo, no hay evidencias para rechazar $H_0: \\mu_1=70$."
   ]
  },
  {
   "cell_type": "markdown",
   "metadata": {},
   "source": [
    "Para construir el intervalo de confianza del 95% para $\\mu_2$ se procede así:"
   ]
  },
  {
   "cell_type": "code",
   "execution_count": 9,
   "metadata": {},
   "outputs": [
    {
     "name": "stdout",
     "output_type": "stream",
     "text": [
      "El límite inferior es 150.84096175650322  y el límite superior es 178.55903824349676\n"
     ]
    }
   ],
   "source": [
    "x2_barra = x_barra[1].item()\n",
    "sigma2 = 1000 ** 0.5 # Desviación, no varianza\n",
    "n2 = 20\n",
    "z = scipy.stats.norm.ppf(1-0.025, loc=0, scale=1) # Cuantil 0.975 de N(0, 1)\n",
    "\n",
    "linf = x2_barra - z * sigma2 / np.sqrt(n2)\n",
    "lsup = x2_barra + z * sigma2 / np.sqrt(n2)\n",
    "\n",
    "print(\"El límite inferior es\", linf, \" y el límite superior es\", lsup)"
   ]
  },
  {
   "cell_type": "markdown",
   "metadata": {},
   "source": [
    "Como $\\mu_{20}=170$ está entre los límites del intervalo, no hay evidencias para rechazar $H_0: \\mu_2=170$."
   ]
  }
 ],
 "metadata": {
  "kernelspec": {
   "display_name": "anaconda-2022.05-py39",
   "language": "python",
   "name": "conda-env-anaconda-2022.05-py39-py"
  },
  "language_info": {
   "codemirror_mode": {
    "name": "ipython",
    "version": 3
   },
   "file_extension": ".py",
   "mimetype": "text/x-python",
   "name": "python",
   "nbconvert_exporter": "python",
   "pygments_lexer": "ipython3",
   "version": "3.9.12"
  }
 },
 "nbformat": 4,
 "nbformat_minor": 4
}
