{
 "cells": [
  {
   "cell_type": "markdown",
   "metadata": {},
   "source": [
    "# Ejemplo 5.2 de Johnson & Wichern (2007) usando LRT\n",
    "<img src=\"https://raw.githubusercontent.com/fhernanb/fhernanb.github.io/master/docs/logo_unal_color.png\" alt=\"drawing\" width=\"200\"/>\n",
    "\n",
    "En este ejemplo se desea estudiar el siguiente conjunto de hipótesis de abajo usando un nivel de significancia de $0.10$ y considerando los datos de la tabla 5.1 del texto.\n",
    "\n",
    "$H_0: \\boldsymbol{\\mu} = (4, 50, 10)^\\top$\n",
    "\n",
    "$H_A: \\boldsymbol{\\mu} \\neq (4, 50, 10)^\\top$"
   ]
  },
  {
   "cell_type": "code",
   "execution_count": 1,
   "metadata": {},
   "outputs": [],
   "source": [
    "import numpy as np\n",
    "import pandas as pd\n",
    "import scipy.stats"
   ]
  },
  {
   "cell_type": "markdown",
   "metadata": {},
   "source": [
    "La tabla 5.1 está en el archivo table5-1.txt y se puede cargar así:"
   ]
  },
  {
   "cell_type": "code",
   "execution_count": 2,
   "metadata": {},
   "outputs": [
    {
     "data": {
      "text/html": [
       "<div>\n",
       "<style scoped>\n",
       "    .dataframe tbody tr th:only-of-type {\n",
       "        vertical-align: middle;\n",
       "    }\n",
       "\n",
       "    .dataframe tbody tr th {\n",
       "        vertical-align: top;\n",
       "    }\n",
       "\n",
       "    .dataframe thead th {\n",
       "        text-align: right;\n",
       "    }\n",
       "</style>\n",
       "<table border=\"1\" class=\"dataframe\">\n",
       "  <thead>\n",
       "    <tr style=\"text-align: right;\">\n",
       "      <th></th>\n",
       "      <th>sweat_rate</th>\n",
       "      <th>sodium</th>\n",
       "      <th>potassium</th>\n",
       "    </tr>\n",
       "  </thead>\n",
       "  <tbody>\n",
       "    <tr>\n",
       "      <th>0</th>\n",
       "      <td>3.7</td>\n",
       "      <td>48.5</td>\n",
       "      <td>9.3</td>\n",
       "    </tr>\n",
       "    <tr>\n",
       "      <th>1</th>\n",
       "      <td>5.7</td>\n",
       "      <td>65.1</td>\n",
       "      <td>8.0</td>\n",
       "    </tr>\n",
       "    <tr>\n",
       "      <th>2</th>\n",
       "      <td>3.8</td>\n",
       "      <td>47.2</td>\n",
       "      <td>10.9</td>\n",
       "    </tr>\n",
       "    <tr>\n",
       "      <th>3</th>\n",
       "      <td>3.2</td>\n",
       "      <td>53.2</td>\n",
       "      <td>12.0</td>\n",
       "    </tr>\n",
       "    <tr>\n",
       "      <th>4</th>\n",
       "      <td>3.1</td>\n",
       "      <td>55.5</td>\n",
       "      <td>9.7</td>\n",
       "    </tr>\n",
       "    <tr>\n",
       "      <th>5</th>\n",
       "      <td>4.6</td>\n",
       "      <td>36.1</td>\n",
       "      <td>7.9</td>\n",
       "    </tr>\n",
       "    <tr>\n",
       "      <th>6</th>\n",
       "      <td>2.4</td>\n",
       "      <td>24.8</td>\n",
       "      <td>14.0</td>\n",
       "    </tr>\n",
       "    <tr>\n",
       "      <th>7</th>\n",
       "      <td>7.2</td>\n",
       "      <td>33.1</td>\n",
       "      <td>7.6</td>\n",
       "    </tr>\n",
       "    <tr>\n",
       "      <th>8</th>\n",
       "      <td>6.7</td>\n",
       "      <td>47.4</td>\n",
       "      <td>8.5</td>\n",
       "    </tr>\n",
       "    <tr>\n",
       "      <th>9</th>\n",
       "      <td>5.4</td>\n",
       "      <td>54.1</td>\n",
       "      <td>11.3</td>\n",
       "    </tr>\n",
       "    <tr>\n",
       "      <th>10</th>\n",
       "      <td>3.9</td>\n",
       "      <td>36.9</td>\n",
       "      <td>12.7</td>\n",
       "    </tr>\n",
       "    <tr>\n",
       "      <th>11</th>\n",
       "      <td>4.5</td>\n",
       "      <td>58.8</td>\n",
       "      <td>12.3</td>\n",
       "    </tr>\n",
       "    <tr>\n",
       "      <th>12</th>\n",
       "      <td>3.5</td>\n",
       "      <td>27.8</td>\n",
       "      <td>9.8</td>\n",
       "    </tr>\n",
       "    <tr>\n",
       "      <th>13</th>\n",
       "      <td>4.5</td>\n",
       "      <td>40.2</td>\n",
       "      <td>8.4</td>\n",
       "    </tr>\n",
       "    <tr>\n",
       "      <th>14</th>\n",
       "      <td>1.5</td>\n",
       "      <td>13.5</td>\n",
       "      <td>10.1</td>\n",
       "    </tr>\n",
       "    <tr>\n",
       "      <th>15</th>\n",
       "      <td>8.5</td>\n",
       "      <td>56.4</td>\n",
       "      <td>7.1</td>\n",
       "    </tr>\n",
       "    <tr>\n",
       "      <th>16</th>\n",
       "      <td>4.5</td>\n",
       "      <td>71.6</td>\n",
       "      <td>8.2</td>\n",
       "    </tr>\n",
       "    <tr>\n",
       "      <th>17</th>\n",
       "      <td>6.5</td>\n",
       "      <td>52.8</td>\n",
       "      <td>10.9</td>\n",
       "    </tr>\n",
       "    <tr>\n",
       "      <th>18</th>\n",
       "      <td>4.1</td>\n",
       "      <td>44.1</td>\n",
       "      <td>11.2</td>\n",
       "    </tr>\n",
       "    <tr>\n",
       "      <th>19</th>\n",
       "      <td>5.5</td>\n",
       "      <td>40.9</td>\n",
       "      <td>9.4</td>\n",
       "    </tr>\n",
       "  </tbody>\n",
       "</table>\n",
       "</div>"
      ],
      "text/plain": [
       "    sweat_rate  sodium  potassium\n",
       "0          3.7    48.5        9.3\n",
       "1          5.7    65.1        8.0\n",
       "2          3.8    47.2       10.9\n",
       "3          3.2    53.2       12.0\n",
       "4          3.1    55.5        9.7\n",
       "5          4.6    36.1        7.9\n",
       "6          2.4    24.8       14.0\n",
       "7          7.2    33.1        7.6\n",
       "8          6.7    47.4        8.5\n",
       "9          5.4    54.1       11.3\n",
       "10         3.9    36.9       12.7\n",
       "11         4.5    58.8       12.3\n",
       "12         3.5    27.8        9.8\n",
       "13         4.5    40.2        8.4\n",
       "14         1.5    13.5       10.1\n",
       "15         8.5    56.4        7.1\n",
       "16         4.5    71.6        8.2\n",
       "17         6.5    52.8       10.9\n",
       "18         4.1    44.1       11.2\n",
       "19         5.5    40.9        9.4"
      ]
     },
     "execution_count": 2,
     "metadata": {},
     "output_type": "execute_result"
    }
   ],
   "source": [
    "dt = pd.read_table(\"table5-1.txt\", sep=\" \")\n",
    "dt"
   ]
  },
  {
   "cell_type": "markdown",
   "metadata": {},
   "source": [
    "<div class=\"alert alert-danger\">\n",
    "  <strong>Cuidado!</strong> Se debe verificar que la muestra aleatoria provenga de una población normal multivariada. Aquí vamos a asumir que este supuesto se cumple.\n",
    "</div>"
   ]
  },
  {
   "cell_type": "markdown",
   "metadata": {},
   "source": [
    "# Forma 1\n",
    "\n",
    "Vamos a realizar la prueba usando la definición de la prueba razón de verosimilitud (Likelihood Ratio Test).\n",
    "\n",
    "Recordemos las hipótesis.\n",
    "\n",
    "$H_0: \\boldsymbol{\\mu} = (4, 50, 10)^\\top$\n",
    "\n",
    "$H_A: \\boldsymbol{\\mu} \\neq (4, 50, 10)^\\top$\n",
    "\n",
    "Vamos a estimar $\\Sigma$ suponiendo como verdadera $H_0$, es decir, asumiendo $\\boldsymbol{\\mu} = (4, 50, 10)^\\top$."
   ]
  },
  {
   "cell_type": "markdown",
   "metadata": {},
   "source": [
    "<div class=\"alert alert-info\">\n",
    "  <strong>Info!</strong> A continuación se muestra la función `mycov` creada para obtener $\\hat{\\boldsymbol{\\Sigma}}$ bajo $H_0$ o bajo $H_A$. El primer argumento `dt` se usa para ingresar el dataframe y el segundo parámetro `mu` se usa para ingresar el vector $\\boldsymbol{\\mu}_0$. El vector que ingrese a `mu` debe ser de la forma `[num1, num2, ..., nump]`.\n",
    "</div>"
   ]
  },
  {
   "cell_type": "code",
   "execution_count": 3,
   "metadata": {},
   "outputs": [],
   "source": [
    "def mycov(dt, mu=None):\n",
    "  n = dt.shape[0]\n",
    "  if mu == None:\n",
    "    x_barra = dt.mean()\n",
    "  else:\n",
    "    x_barra = mu\n",
    "  aux = dt - x_barra\n",
    "  result = np.matmul(aux.transpose(), aux) / n\n",
    "  return(result)"
   ]
  },
  {
   "cell_type": "markdown",
   "metadata": {},
   "source": [
    "A continuación se calcula $\\hat{\\boldsymbol{\\Sigma}}_0$ suponiendo que $H_0$ es verdadera, la matriz se denota como `sH0`."
   ]
  },
  {
   "cell_type": "code",
   "execution_count": 4,
   "metadata": {},
   "outputs": [
    {
     "data": {
      "text/plain": [
       "array([[  3.145 ,   6.5655,  -1.741 ],\n",
       "       [  6.5655, 210.959 ,  -5.197 ],\n",
       "       [ -1.741 ,  -5.197 ,   3.4475]])"
      ]
     },
     "execution_count": 4,
     "metadata": {},
     "output_type": "execute_result"
    }
   ],
   "source": [
    "mu0 = [4, 50, 10]\n",
    "sH0 = mycov(dt=dt, mu=mu0)\n",
    "sH0"
   ]
  },
  {
   "cell_type": "markdown",
   "metadata": {},
   "source": [
    "A continuación se calcula $\\hat{\\boldsymbol{\\Sigma}}$, la matriz se denota como `sH1`."
   ]
  },
  {
   "cell_type": "code",
   "execution_count": 5,
   "metadata": {},
   "outputs": [
    {
     "data": {
      "text/plain": [
       "array([[  2.7354  ,   9.5095  ,  -1.7186  ],\n",
       "       [  9.5095  , 189.799   ,  -5.358   ],\n",
       "       [ -1.7186  ,  -5.358   ,   3.446275]])"
      ]
     },
     "execution_count": 5,
     "metadata": {},
     "output_type": "execute_result"
    }
   ],
   "source": [
    "sH1 = mycov(dt=dt)\n",
    "sH1"
   ]
  },
  {
   "cell_type": "code",
   "execution_count": 6,
   "metadata": {},
   "outputs": [
    {
     "data": {
      "text/plain": [
       "0.01595342045231174"
      ]
     },
     "execution_count": 6,
     "metadata": {},
     "output_type": "execute_result"
    }
   ],
   "source": [
    "lH0 = np.prod(scipy.stats.multivariate_normal.pdf(x=dt, mean=mu0, cov=sH0))\n",
    "lH1 = np.prod(scipy.stats.multivariate_normal.pdf(x=dt, mean=dt.mean(), cov=sH1))\n",
    "Lambda1 = lH0 / lH1\n",
    "Lambda1"
   ]
  },
  {
   "cell_type": "markdown",
   "metadata": {},
   "source": [
    "# Forma 2\n",
    "\n",
    "Vamos a realizar la prueba usando el resultado siguiente:\n",
    "\n",
    "$\\Lambda=\\left( \\frac{\\left|\\hat{\\boldsymbol{\\Sigma}}\\right|}{\\left|\\hat{\\boldsymbol{\\Sigma}}_0\\right|} \\right)^{n/2}$\n"
   ]
  },
  {
   "cell_type": "code",
   "execution_count": 7,
   "metadata": {},
   "outputs": [
    {
     "data": {
      "text/plain": [
       "0.01595342045231193"
      ]
     },
     "execution_count": 7,
     "metadata": {},
     "output_type": "execute_result"
    }
   ],
   "source": [
    "Lambda2 = (np.linalg.det(sH1) / np.linalg.det(sH0)) ** (20/2)\n",
    "Lambda2"
   ]
  },
  {
   "cell_type": "markdown",
   "metadata": {},
   "source": [
    "Usando la forma 1 o la forma 2 el resultado de $\\Lambda$ es el mismo."
   ]
  },
  {
   "cell_type": "markdown",
   "metadata": {},
   "source": [
    "# Conclusión\n",
    "\n",
    "El estadístico en esta prueba es $-2\\log(\\Lambda)$ y se puede obtener así:"
   ]
  },
  {
   "cell_type": "code",
   "execution_count": 8,
   "metadata": {},
   "outputs": [
    {
     "data": {
      "text/plain": [
       "8.276164048642498"
      ]
     },
     "execution_count": 8,
     "metadata": {},
     "output_type": "execute_result"
    }
   ],
   "source": [
    "- 2 * np.log(Lambda2)"
   ]
  },
  {
   "cell_type": "markdown",
   "metadata": {},
   "source": [
    "La distribución del estadístico de prueba es una $\\chi^2_{\\nu-\\nu_0}$, a continuación la forma de obtener el cuantil para tomar la decisión. En este ejemplo $\\nu-\\nu_0=9-6=3$."
   ]
  },
  {
   "cell_type": "code",
   "execution_count": 9,
   "metadata": {},
   "outputs": [
    {
     "data": {
      "text/plain": [
       "6.251388631170327"
      ]
     },
     "execution_count": 9,
     "metadata": {},
     "output_type": "execute_result"
    }
   ],
   "source": [
    "scipy.stats.chi2.ppf(q=1-0.10, df=3)"
   ]
  },
  {
   "cell_type": "markdown",
   "metadata": {},
   "source": [
    "<div class=\"alert alert-success\">\n",
    "  <strong>Resultado</strong> Como el resultado del estadístico es $8.28$ es mayor que el valor crítico $6.25$, entonces hay evidencias suficientes para rechazar $H_0: \\boldsymbol{\\mu} = (4, 50, 10)^\\top$.\n",
    "</div>"
   ]
  },
  {
   "cell_type": "markdown",
   "metadata": {},
   "source": [
    "<div class=\"alert alert-info\">\n",
    "  <strong>Tarea</strong> Replicar este mismo ejemplo con R.\n",
    "</div>\n",
    "\n",
    "<div class=\"alert alert-info\">\n",
    "  <strong>Tarea</strong> Chequear si se cumple el supuesto de normalidad multivariada.\n",
    "</div>"
   ]
  }
 ],
 "metadata": {
  "kernelspec": {
   "display_name": "Python 3",
   "language": "python",
   "name": "python3"
  },
  "language_info": {
   "codemirror_mode": {
    "name": "ipython",
    "version": 3
   },
   "file_extension": ".py",
   "mimetype": "text/x-python",
   "name": "python",
   "nbconvert_exporter": "python",
   "pygments_lexer": "ipython3",
   "version": "3.6.4"
  }
 },
 "nbformat": 4,
 "nbformat_minor": 2
}
