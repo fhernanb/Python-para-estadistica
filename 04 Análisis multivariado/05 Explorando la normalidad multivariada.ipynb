{
 "cells": [
  {
   "cell_type": "markdown",
   "metadata": {},
   "source": [
    "# Explorando la normalidad multivariada\n",
    "<img src=\"https://raw.githubusercontent.com/fhernanb/fhernanb.github.io/master/my_docs/logo_unal_color.png\" alt=\"drawing\" width=\"200\"/>\n",
    "\n",
    "Para explorar la normalidad multivariada se puede realizar lo siguiente:\n",
    "\n",
    "1. Construir una matriz con diagramas de dispersión entre las variables,\n",
    "1. Construir la densidad estimada si $p=2$,\n",
    "1. Dibujar las densidades marginales,\n",
    "1. Chequear si las distancias de Mahalanobis siguen una distribución $\\chi^2_p$,\n",
    "1. Aplicar pruebas de normalidad univariada y multivariada.\n",
    "\n",
    "Las librería a usar aquí son:"
   ]
  },
  {
   "cell_type": "code",
   "execution_count": null,
   "metadata": {},
   "outputs": [],
   "source": [
    "import numpy as np\n",
    "import pandas as pd\n",
    "import seaborn as sns"
   ]
  },
  {
   "cell_type": "markdown",
   "metadata": {},
   "source": [
    "## Ejemplo 1. Usando datos simulados de una $N_2(\\boldsymbol{\\mu}, \\boldsymbol{\\Sigma})$\n",
    "\n",
    "En este ejemplo vamos a crear datos provenientes de una $N_2(\\boldsymbol{\\mu}, \\boldsymbol{\\Sigma})$ y vamos a mostrar cómo las herramientas nos ayudan a chequear la normalidad."
   ]
  },
  {
   "cell_type": "markdown",
   "metadata": {},
   "source": [
    "El vector de medias y la matriz de covarianzas a usar:"
   ]
  },
  {
   "cell_type": "code",
   "execution_count": null,
   "metadata": {},
   "outputs": [],
   "source": [
    "mean = [0, 0]\n",
    "cov = [(1, -0.5),\n",
    "       (-0.5, 1)]"
   ]
  },
  {
   "cell_type": "markdown",
   "metadata": {},
   "source": [
    "Para simular se usa la función `random.multivariate_normal` así:"
   ]
  },
  {
   "cell_type": "code",
   "execution_count": null,
   "metadata": {},
   "outputs": [],
   "source": [
    "x1, x2 = np.random.multivariate_normal(mean, cov, size=500).T"
   ]
  },
  {
   "cell_type": "code",
   "execution_count": null,
   "metadata": {},
   "outputs": [],
   "source": [
    "d = {'x1': x1, 'x2': x2}\n",
    "df = pd.DataFrame(data=d)\n",
    "pd.plotting.scatter_matrix(df, color='tomato');"
   ]
  },
  {
   "cell_type": "markdown",
   "metadata": {},
   "source": [
    "Se puede construir una densidad bivariada para chequear la normalidad."
   ]
  },
  {
   "cell_type": "code",
   "execution_count": null,
   "metadata": {},
   "outputs": [],
   "source": [
    "sns.jointplot(x=x1, y=x2, kind=\"kde\");"
   ]
  },
  {
   "cell_type": "code",
   "execution_count": null,
   "metadata": {},
   "outputs": [],
   "source": []
  }
 ],
 "metadata": {
  "kernelspec": {
   "display_name": "anaconda-2022.05-py39",
   "language": "python",
   "name": "conda-env-anaconda-2022.05-py39-py"
  },
  "language_info": {
   "codemirror_mode": {
    "name": "ipython",
    "version": 3
   },
   "file_extension": ".py",
   "mimetype": "text/x-python",
   "name": "python",
   "nbconvert_exporter": "python",
   "pygments_lexer": "ipython3",
   "version": "3.9.12"
  }
 },
 "nbformat": 4,
 "nbformat_minor": 4
}
