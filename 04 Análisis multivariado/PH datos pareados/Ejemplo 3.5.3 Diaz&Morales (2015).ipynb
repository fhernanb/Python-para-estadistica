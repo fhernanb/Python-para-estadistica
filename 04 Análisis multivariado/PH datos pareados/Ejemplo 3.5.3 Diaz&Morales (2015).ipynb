{
 "cells": [
  {
   "cell_type": "markdown",
   "metadata": {},
   "source": [
    "# Ejemplo 3.5.3 Diaz & Morales (2015)\n",
    "\n",
    "<img src=\"https://raw.githubusercontent.com/fhernanb/fhernanb.github.io/master/my_docs/logo_unal_color.png\" alt=\"drawing\" width=\"200\"/>\n",
    "\n",
    "En este ejemplo se desea estudiar el siguiente conjunto de hipótesis usando un nivel de significancia del 0.05.\n",
    "\n",
    "$H_0: \\boldsymbol{\\delta} = (0, 0)^\\top$\n",
    "\n",
    "$H_A: \\boldsymbol{\\delta} \\neq (0, 0)^\\top$\n",
    "\n",
    "usando los siguientes datos\n",
    "\n",
    "<img src=\"datos_tuberias_pareados.png\" alt=\"\" width=\"800\"/>"
   ]
  },
  {
   "cell_type": "code",
   "execution_count": 1,
   "metadata": {},
   "outputs": [],
   "source": [
    "import numpy as np\n",
    "import scipy.stats"
   ]
  },
  {
   "cell_type": "markdown",
   "metadata": {},
   "source": [
    "A continuación los datos del ejemplo"
   ]
  },
  {
   "cell_type": "code",
   "execution_count": 2,
   "metadata": {},
   "outputs": [
    {
     "name": "stdout",
     "output_type": "stream",
     "text": [
      "[[ 22  -4]\n",
      " [  2   5]\n",
      " [  4   3]\n",
      " [ 12  -3]\n",
      " [ 11   2]\n",
      " [ 15   4]\n",
      " [ 28  10]\n",
      " [ -5  -1]\n",
      " [  8  10]\n",
      " [  4   6]\n",
      " [ -1   5]\n",
      " [-10   0]\n",
      " [ -2  -4]\n",
      " [ 25   8]\n",
      " [  7   5]]\n"
     ]
    }
   ],
   "source": [
    "de1 = np.array((22, 2, 4, 12, 11, 15, 28, -5, 8, 4, -1, -10, -2, 25, 7))\n",
    "de2 = np.array((-4, 5, 3, -3, 2, 4, 10, -1, 10, 6, 5, 0, -4, 8, 5))\n",
    "\n",
    "dt = np.column_stack((de1, de2))\n",
    "print(dt)"
   ]
  },
  {
   "cell_type": "markdown",
   "metadata": {},
   "source": [
    "<div class=\"alert alert-danger\">\n",
    "  <strong>Cuidado!</strong> Se debe verificar que la muestra aleatoria de diferencias $d_{e1}$ y $d_{e2}$ provenga de una población normal multivariada. Aquí vamos a asumir que este supuesto se cumple.\n",
    "</div>"
   ]
  },
  {
   "cell_type": "markdown",
   "metadata": {},
   "source": [
    "El vector de medias se obtiene así:"
   ]
  },
  {
   "cell_type": "code",
   "execution_count": 3,
   "metadata": {},
   "outputs": [
    {
     "name": "stdout",
     "output_type": "stream",
     "text": [
      "[[8.        ]\n",
      " [3.06666667]]\n",
      "(2, 1)\n"
     ]
    }
   ],
   "source": [
    "d_barra = np.mean(dt, axis=0)   # Para obtener el vector de medias\n",
    "d_barra = np.matrix(d_barra).T   # Para convertir a matriz columna\n",
    "print(d_barra)                   # Para ver el contenido\n",
    "print(d_barra.shape)             # Para ver la dimensión (shape)                           # Para ver el contenido"
   ]
  },
  {
   "cell_type": "markdown",
   "metadata": {},
   "source": [
    "La matriz de varianzas se obtiene así:"
   ]
  },
  {
   "cell_type": "code",
   "execution_count": 4,
   "metadata": {},
   "outputs": [
    {
     "name": "stdout",
     "output_type": "stream",
     "text": [
      "[[121.57142857  17.07142857]\n",
      " [ 17.07142857  21.78095238]]\n",
      "(2, 2)\n"
     ]
    }
   ],
   "source": [
    "Sd = np.cov(dt.T) # Para obtener la matriz\n",
    "print(Sd)          # Para ver el contenido\n",
    "print(Sd.shape)    # Para ver la dimensión (shape)"
   ]
  },
  {
   "cell_type": "markdown",
   "metadata": {},
   "source": [
    "Ahora calculamos $T^2=n (\\bar{\\mathbf{D}}-\\boldsymbol{\\delta}_0)^\\top \\boldsymbol{S}_d^{-1} (\\bar{\\mathbf{D}}-\\boldsymbol{\\delta}_0)$."
   ]
  },
  {
   "cell_type": "code",
   "execution_count": 5,
   "metadata": {},
   "outputs": [
    {
     "data": {
      "text/plain": [
       "10.81889854019835"
      ]
     },
     "execution_count": 5,
     "metadata": {},
     "output_type": "execute_result"
    }
   ],
   "source": [
    "n = 15 # número de observaciones\n",
    "p = 2  # dimensión (variables diferencia)\n",
    "\n",
    "Sd_inv = np.linalg.inv(Sd)\n",
    "T2 = n * np.matmul(np.matmul(d_barra.transpose(), Sd_inv), d_barra)\n",
    "T2.item()  # Para obtener el T2 como un escalar y no como una matriz"
   ]
  },
  {
   "cell_type": "markdown",
   "metadata": {},
   "source": [
    "El valor crítico para realizar la prueba es $\\frac{(n-1)p}{(n-p)} F_{p, n-p}(\\alpha)$. Para obtener el valor crítico con $\\alpha=0.05$ se procede así:"
   ]
  },
  {
   "cell_type": "code",
   "execution_count": 6,
   "metadata": {},
   "outputs": [
    {
     "data": {
      "text/plain": [
       "8.196602083337353"
      ]
     },
     "execution_count": 6,
     "metadata": {},
     "output_type": "execute_result"
    }
   ],
   "source": [
    "p * (n-1) * scipy.stats.f.ppf(q=1-0.05, dfn=p, dfd=n-p) / (n-p)   # Valor crítico"
   ]
  },
  {
   "cell_type": "markdown",
   "metadata": {},
   "source": [
    "<div class=\"alert alert-success\">\n",
    "  <strong>Resultado</strong> Como el estadístico es $T^2=10.82$, que es mayor que el valor crítico $8.20$, entonces hay evidencias suficientes para rechazar $H_0: \\boldsymbol{\\delta} = (0, 0)^\\top$.\n",
    "</div>"
   ]
  }
 ],
 "metadata": {
  "kernelspec": {
   "display_name": "anaconda-2022.05-py39",
   "language": "python",
   "name": "conda-env-anaconda-2022.05-py39-py"
  },
  "language_info": {
   "codemirror_mode": {
    "name": "ipython",
    "version": 3
   },
   "file_extension": ".py",
   "mimetype": "text/x-python",
   "name": "python",
   "nbconvert_exporter": "python",
   "pygments_lexer": "ipython3",
   "version": "3.9.12"
  }
 },
 "nbformat": 4,
 "nbformat_minor": 4
}
