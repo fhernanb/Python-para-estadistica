{
 "cells": [
  {
   "cell_type": "markdown",
   "metadata": {},
   "source": [
    "# Ejemplo Mardia (1979) page 127\n",
    "<img src=\"https://raw.githubusercontent.com/fhernanb/fhernanb.github.io/master/my_docs/logo_unal_color.png\" alt=\"drawing\" width=\"200\"/>\n",
    "\n",
    "En este ejemplo se desea estudiar el siguiente conjunto de hipótesis usando un nivel de significancia de 0.05.\n",
    "\n",
    "$H_0: \\boldsymbol{\\Sigma} = \n",
    "\\begin{pmatrix}\n",
    "100 & 0 \\\\\n",
    "0 & 100\n",
    "\\end{pmatrix}\n",
    "$\n",
    "\n",
    "$H_A: \\boldsymbol{\\Sigma} \\neq \n",
    "\\begin{pmatrix}\n",
    "100 & 0 \\\\\n",
    "0 & 100\n",
    "\\end{pmatrix}\n",
    "$\n",
    "\n",
    "Suponiendo que la matriz de covarianzas muestral es\n",
    "\n",
    "\\begin{equation}\n",
    "\\mathbf{S} = \n",
    "\\begin{pmatrix}\n",
    "91.481 & 66.875 \\\\\n",
    "66.875 & 96.775\n",
    "\\end{pmatrix}\n",
    "\\end{equation}\n",
    "\n",
    "con $n=25$ sujetos que fueron los que participaron en el estudio."
   ]
  },
  {
   "cell_type": "code",
   "execution_count": 1,
   "metadata": {},
   "outputs": [],
   "source": [
    "import numpy as np\n",
    "import scipy.stats"
   ]
  },
  {
   "cell_type": "markdown",
   "metadata": {},
   "source": [
    "A continuación los datos del ejemplo"
   ]
  },
  {
   "cell_type": "code",
   "execution_count": 2,
   "metadata": {},
   "outputs": [
    {
     "name": "stdout",
     "output_type": "stream",
     "text": [
      "[[100   0]\n",
      " [  0 100]]\n",
      "\n",
      "\n",
      "[[91.481 66.875]\n",
      " [66.875 96.775]]\n"
     ]
    }
   ],
   "source": [
    "Sigma0 = np.matrix([[100, 0],\n",
    "                    [0, 100]])\n",
    "print(Sigma0)\n",
    "\n",
    "print(\"\\n\")\n",
    "\n",
    "S = np.matrix([[91.481, 66.875],\n",
    "               [66.875, 96.775]])\n",
    "print(S)"
   ]
  },
  {
   "cell_type": "markdown",
   "metadata": {},
   "source": [
    "## Prueba razón de verosimilitud de Mardia (1979) página 126 expresión 5.2.7\n",
    "\n",
    "El estadístico está dado por\n",
    "\n",
    "$$\n",
    "-2\\log(\\lambda) = n \\, trace(\\mathbf{S} \\, \\boldsymbol{\\Sigma}_0^{-1}) - n \\, \\log(|\\mathbf{S} \\, \\boldsymbol{\\Sigma}_0^{-1}|) - n \\, p\n",
    "$$\n",
    "\n",
    "Cuando $H_0$ es verdadera, $-2\\log(\\lambda) \\sim \\chi^2_{p(p+1)/2}$."
   ]
  },
  {
   "cell_type": "code",
   "execution_count": 3,
   "metadata": {},
   "outputs": [
    {
     "name": "stdout",
     "output_type": "stream",
     "text": [
      "[[0.91481 0.66875]\n",
      " [0.66875 0.96775]]\n"
     ]
    }
   ],
   "source": [
    "n = 25\n",
    "p = 2\n",
    "\n",
    "matriz_aux = np.matmul(S, Sigma0.I)\n",
    "print(matriz_aux)"
   ]
  },
  {
   "cell_type": "code",
   "execution_count": 4,
   "metadata": {},
   "outputs": [
    {
     "name": "stdout",
     "output_type": "stream",
     "text": [
      "17.69779691232469\n"
     ]
    }
   ],
   "source": [
    "minus_2_log_lambda = n * np.trace(matriz_aux) - n * np.log(np.linalg.det(matriz_aux)) - n * p\n",
    "print(minus_2_log_lambda)"
   ]
  },
  {
   "cell_type": "markdown",
   "metadata": {},
   "source": [
    "Para calcular el valor crítico con un $\\alpha=0.05$ hacemos lo siguiente"
   ]
  },
  {
   "cell_type": "code",
   "execution_count": 5,
   "metadata": {},
   "outputs": [
    {
     "data": {
      "text/plain": [
       "7.814727903251179"
      ]
     },
     "execution_count": 5,
     "metadata": {},
     "output_type": "execute_result"
    }
   ],
   "source": [
    "scipy.stats.chi2.ppf(q=1-0.05, df=p*(p+1)/2)  # Valor crítico"
   ]
  },
  {
   "cell_type": "markdown",
   "metadata": {},
   "source": [
    "<div class=\"alert alert-success\">\n",
    "  <strong>Resultado</strong> Como el estadístico es $-2\\log(\\lambda)=17.70$, que es mayor que el valor crítico $7.81$, entonces si hay evidencias suficientes para rechazar $H_0: \\boldsymbol{\\Sigma} = \\boldsymbol{\\Sigma}_0$.\n",
    "</div>"
   ]
  }
 ],
 "metadata": {
  "kernelspec": {
   "display_name": "anaconda-2022.05-py39",
   "language": "python",
   "name": "conda-env-anaconda-2022.05-py39-py"
  },
  "language_info": {
   "codemirror_mode": {
    "name": "ipython",
    "version": 3
   },
   "file_extension": ".py",
   "mimetype": "text/x-python",
   "name": "python",
   "nbconvert_exporter": "python",
   "pygments_lexer": "ipython3",
   "version": "3.9.12"
  }
 },
 "nbformat": 4,
 "nbformat_minor": 4
}
