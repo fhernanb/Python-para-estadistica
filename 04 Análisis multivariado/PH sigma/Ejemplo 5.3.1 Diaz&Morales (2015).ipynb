{
 "cells": [
  {
   "cell_type": "markdown",
   "metadata": {},
   "source": [
    "# Ejemplo 5.3.1 de Díaz y Morales (2015)\n",
    "<img src=\"https://raw.githubusercontent.com/fhernanb/fhernanb.github.io/master/my_docs/logo_unal_color.png\" alt=\"drawing\" width=\"200\"/>\n",
    "\n",
    "En este ejemplo se desea estudiar el siguiente conjunto de hipótesis usando un nivel de significancia de 0.05.\n",
    "\n",
    "$H_0: \\boldsymbol{\\Sigma} = \n",
    "\\begin{pmatrix}\n",
    "4 & 3 & 2 \\\\\n",
    "3 & 6 & 5 \\\\\n",
    "2 & 5 & 10\n",
    "\\end{pmatrix}\n",
    "$\n",
    "\n",
    "$H_A: \\boldsymbol{\\Sigma} \\neq \n",
    "\\begin{pmatrix}\n",
    "4 & 3 & 2 \\\\\n",
    "3 & 6 & 5 \\\\\n",
    "2 & 5 & 10\n",
    "\\end{pmatrix}\n",
    "$\n",
    "\n",
    "Suponiendo que la matriz de covarianzas muestral es\n",
    "\n",
    "\\begin{equation}\n",
    "\\mathbf{S} = \n",
    "\\begin{pmatrix}\n",
    "3.42 & 2.60 & 1.89 \\\\\n",
    "2.60 & 8.00 & 6.51 \\\\\n",
    "1.89 & 6.51 & 9.62\n",
    "\\end{pmatrix}\n",
    "\\end{equation}\n",
    "\n",
    "con $n=20$ sujetos que fueron los que participaron en el estudio."
   ]
  },
  {
   "cell_type": "code",
   "execution_count": 1,
   "metadata": {},
   "outputs": [],
   "source": [
    "import numpy as np\n",
    "import scipy.stats"
   ]
  },
  {
   "cell_type": "markdown",
   "metadata": {},
   "source": [
    "A continuación los datos del ejemplo"
   ]
  },
  {
   "cell_type": "code",
   "execution_count": 2,
   "metadata": {},
   "outputs": [
    {
     "name": "stdout",
     "output_type": "stream",
     "text": [
      "[[ 4  3  2]\n",
      " [ 3  6  5]\n",
      " [ 2  5 10]]\n",
      "\n",
      "\n",
      "[[3.42 2.6  1.89]\n",
      " [2.6  8.   6.51]\n",
      " [1.89 6.51 9.62]]\n"
     ]
    }
   ],
   "source": [
    "Sigma0 = np.matrix([[4, 3, 2],\n",
    "                    [3, 6, 5],\n",
    "                    [2, 5, 10]])\n",
    "print(Sigma0)\n",
    "\n",
    "print(\"\\n\")\n",
    "\n",
    "S = np.matrix([[3.42, 2.60, 1.89],\n",
    "               [2.60, 8.00, 6.51],\n",
    "               [1.89, 6.51, 9.62]])\n",
    "print(S)"
   ]
  },
  {
   "cell_type": "markdown",
   "metadata": {},
   "source": [
    "## Prueba razón de verosimilitud de Rencher and Christensen (2012) page 260 expression 7.4\n",
    "\n",
    "Esta prueba se usa para valores grandes de $n$. El estadístico está dado por\n",
    "\n",
    "$$\n",
    "\\lambda^\\star = (n-1) \\left( \\sum_{i=1}^{p} (\\lambda_i - \\log(\\lambda_i)) - p \\right)\n",
    "$$\n",
    "\n",
    "donde $\\lambda_i$ son los valores propios de la matrix $\\mathbf{S} \\boldsymbol{\\Sigma}_0^{-1}$. Cuando $H_0$ es verdadera, $\\lambda^\\star \\sim \\chi^2_{p(p+1)/2}$."
   ]
  },
  {
   "cell_type": "code",
   "execution_count": 3,
   "metadata": {},
   "outputs": [
    {
     "name": "stdout",
     "output_type": "stream",
     "text": [
      "[[ 0.85313953 -0.01465116  0.02569767]\n",
      " [-0.57523256  1.6844186  -0.07616279]\n",
      " [-0.40918605  0.71953488  0.68406977]]\n",
      "[1.62251411 0.86339991 0.73571388]\n"
     ]
    }
   ],
   "source": [
    "n = 20\n",
    "p = 3\n",
    "\n",
    "matriz_aux = np.matmul(S, Sigma0.I)\n",
    "print(matriz_aux)\n",
    "\n",
    "lambdas = np.linalg.eigvals(matriz_aux)\n",
    "print(lambdas)"
   ]
  },
  {
   "cell_type": "code",
   "execution_count": 4,
   "metadata": {},
   "outputs": [
    {
     "name": "stdout",
     "output_type": "stream",
     "text": [
      "3.6374040789731357\n"
     ]
    }
   ],
   "source": [
    "lambda_star = (n-1)  * (sum(lambdas - np.log(lambdas)) - p)\n",
    "print(lambda_star)"
   ]
  },
  {
   "cell_type": "markdown",
   "metadata": {},
   "source": [
    "Para calcular el valor crítico con un $\\alpha=0.05$ hacemos lo siguiente"
   ]
  },
  {
   "cell_type": "code",
   "execution_count": 5,
   "metadata": {},
   "outputs": [
    {
     "data": {
      "text/plain": [
       "12.591587243743977"
      ]
     },
     "execution_count": 5,
     "metadata": {},
     "output_type": "execute_result"
    }
   ],
   "source": [
    "scipy.stats.chi2.ppf(q=1-0.05, df=p*(p+1)/2)  # Valor crítico"
   ]
  },
  {
   "cell_type": "markdown",
   "metadata": {},
   "source": [
    "<div class=\"alert alert-success\">\n",
    "  <strong>Resultado</strong> Como el estadístico es $\\lambda^\\star=3.637$, que es menor que el valor crítico $12.59$, entonces no hay evidencias suficientes para rechazar $H_0: \\boldsymbol{\\Sigma} = \\boldsymbol{\\Sigma}_0$.\n",
    "</div>"
   ]
  },
  {
   "cell_type": "markdown",
   "metadata": {},
   "source": [
    "## Prueba razón de verosimilitud de Rencher and Christensen (2012) page 260 expression 7.2\n",
    "\n",
    "Esta prueba se usa para valores moderados de $n$. El estadístico está dado por\n",
    "\n",
    "$$\n",
    "\\lambda^{\\star}_1 = \\lambda^\\star \\left[ 1 - \\frac{1}{6(n-1)} \\left( 2p + 1 - \\frac{2}{p+1} \\right) \\right]\n",
    "$$\n",
    "\n",
    "donde $\\lambda^\\star$ es el valor del estadístico de la prueba anterior. Cuando $H_0$ es verdadera, $\\lambda^\\star \\sim \\chi^2_{p(p+1)/2}$."
   ]
  },
  {
   "cell_type": "code",
   "execution_count": 6,
   "metadata": {},
   "outputs": [
    {
     "name": "stdout",
     "output_type": "stream",
     "text": [
      "3.4300082323650183\n"
     ]
    }
   ],
   "source": [
    "lambda_star_1 = lambda_star * (1-1/(6*(n-1))*(2*p+1-2/(p+1)))\n",
    "print(lambda_star_1)"
   ]
  },
  {
   "cell_type": "markdown",
   "metadata": {},
   "source": [
    "Para calcular el valor crítico con un $\\alpha=0.05$ hacemos lo siguiente"
   ]
  },
  {
   "cell_type": "code",
   "execution_count": 7,
   "metadata": {},
   "outputs": [
    {
     "data": {
      "text/plain": [
       "12.591587243743977"
      ]
     },
     "execution_count": 7,
     "metadata": {},
     "output_type": "execute_result"
    }
   ],
   "source": [
    "scipy.stats.chi2.ppf(q=1-0.05, df=p*(p+1)/2)  # Valor crítico"
   ]
  },
  {
   "cell_type": "markdown",
   "metadata": {},
   "source": [
    "<div class=\"alert alert-success\">\n",
    "  <strong>Resultado</strong> Como el estadístico es $\\lambda^\\star=3.430$, que es menor que el valor crítico $12.59$, entonces no hay evidencias suficientes para rechazar $H_0: \\boldsymbol{\\Sigma} = \\boldsymbol{\\Sigma}_0$.\n",
    "</div>"
   ]
  }
 ],
 "metadata": {
  "kernelspec": {
   "display_name": "anaconda-2022.05-py39",
   "language": "python",
   "name": "conda-env-anaconda-2022.05-py39-py"
  },
  "language_info": {
   "codemirror_mode": {
    "name": "ipython",
    "version": 3
   },
   "file_extension": ".py",
   "mimetype": "text/x-python",
   "name": "python",
   "nbconvert_exporter": "python",
   "pygments_lexer": "ipython3",
   "version": "3.9.12"
  }
 },
 "nbformat": 4,
 "nbformat_minor": 4
}
