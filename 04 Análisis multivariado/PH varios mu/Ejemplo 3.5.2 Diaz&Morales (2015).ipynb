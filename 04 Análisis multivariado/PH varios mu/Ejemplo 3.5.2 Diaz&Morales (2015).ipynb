{
 "cells": [
  {
   "cell_type": "markdown",
   "metadata": {},
   "source": [
    "# Ejemplo 3.5.2 de Díaz y Morales (2015)\n",
    "\n",
    "<img src=\"https://raw.githubusercontent.com/fhernanb/fhernanb.github.io/master/my_docs/logo_unal_color.png\" alt=\"drawing\" width=\"200\"/>\n",
    "\n",
    "En este ejemplo se desea estudiar el siguiente conjunto de hipótesis usando un nivel de significancia de 0.05.\n",
    "\n",
    "$H_0: \\boldsymbol{\\mu}_1 = \\boldsymbol{\\mu}_2$\n",
    "\n",
    "$H_A: \\boldsymbol{\\mu}_1 \\neq \\boldsymbol{\\mu}_2$\n",
    "\n",
    "Asumiendo que las matrices $\\boldsymbol{\\Sigma}_1$ y $\\boldsymbol{\\Sigma}_2$ son desconocidas pero que se pueden suponer iguales.\n",
    "\n",
    "Las matrices muestrales son\n",
    "\n",
    "\\begin{equation}\n",
    "\\bar{\\mathbf{X}}_1 = \n",
    "\\begin{pmatrix}\n",
    "15.97 \\\\\n",
    "15.91 \\\\\n",
    "27.19 \\\\\n",
    "22.75\n",
    "\\end{pmatrix}\n",
    "\\end{equation}\n",
    "\n",
    "\\begin{equation}\n",
    "\\bar{\\mathbf{X}}_2= \n",
    "\\begin{pmatrix}\n",
    "12.34 \\\\\n",
    "13.91 \\\\\n",
    "16.59 \\\\\n",
    "21.94\n",
    "\\end{pmatrix}\n",
    "\\end{equation}\n",
    "\n",
    "\\begin{equation}\n",
    "\\mathbf{S}_1 = \n",
    "\\begin{pmatrix}\n",
    "5.192 & 4.545 & 6.522 & 5.250 \\\\\n",
    "4.545 & 13.184 & 6.760 & 6.266 \\\\\n",
    "6.522 & 6.760 & 28.67 & 14.468 \\\\\n",
    "5.250 & 6.266 & 14.468 & 16.645\n",
    "\\end{pmatrix}\n",
    "\\end{equation}\n",
    "\n",
    "\\begin{equation}\n",
    "\\mathbf{S}_2 = \n",
    "\\begin{pmatrix}\n",
    "9.136 & 7.549 & 5.531 & 4.151 \\\\\n",
    "7.549 & 18.60 & 5.446 & 5.446 \\\\\n",
    "5.531 & 5.446 & 13.55 & 13.55 \\\\\n",
    "4.151 & 5.446 & 13.55 & 28\n",
    "\\end{pmatrix}\n",
    "\\end{equation}\n",
    "\n",
    "con $n_1=32$ y $n_2=32$ sujetos por cada grupo.\n",
    "\n",
    "<img src=\"ph_dos_mu_con_sigma_desco_pero_iguales.png\" alt=\"\" width=\"600\"/>"
   ]
  },
  {
   "cell_type": "code",
   "execution_count": 1,
   "metadata": {},
   "outputs": [],
   "source": [
    "import numpy as np\n",
    "import scipy.stats"
   ]
  },
  {
   "cell_type": "markdown",
   "metadata": {},
   "source": [
    "A continuación los datos del ejemplo"
   ]
  },
  {
   "cell_type": "code",
   "execution_count": 2,
   "metadata": {},
   "outputs": [],
   "source": [
    "xbarra_1 = np.matrix([[15.97],\n",
    "                      [15.91],\n",
    "                      [27.19],\n",
    "                      [22.75]])\n",
    "\n",
    "xbarra_2 = np.matrix([[12.34],\n",
    "                      [13.91],\n",
    "                      [16.59],\n",
    "                      [21.94]])\n",
    "\n",
    "S1 = np.matrix([[5.192, 4.545, 6.522, 5.250],\n",
    "                [4.545, 13.184, 6.760, 6.266],\n",
    "                [6.522, 6.760, 28.67, 14.468],\n",
    "                [5.250, 6.266, 14.468, 16.645]])\n",
    "\n",
    "S2 = np.matrix([[9.136, 7.549, 5.531, 4.151],\n",
    "                [7.549, 18.60, 5.446, 5.446],\n",
    "                [5.531, 5.446, 13.55, 13.55],\n",
    "                [4.151, 5.446, 13.55, 28]])\n",
    "\n",
    "n1 = 32\n",
    "n2 = 32\n",
    "\n",
    "p = 4   # número de variables"
   ]
  },
  {
   "cell_type": "markdown",
   "metadata": {},
   "source": [
    "Primero vamos a calcular la matriz combinada $\\mathbf{S}_p$."
   ]
  },
  {
   "cell_type": "code",
   "execution_count": 3,
   "metadata": {},
   "outputs": [
    {
     "name": "stdout",
     "output_type": "stream",
     "text": [
      "[[ 7.164   6.047   6.0265  4.7005]\n",
      " [ 6.047  15.892   6.103   5.856 ]\n",
      " [ 6.0265  6.103  21.11   14.009 ]\n",
      " [ 4.7005  5.856  14.009  22.3225]]\n"
     ]
    }
   ],
   "source": [
    "Sp = (n1-1) * S1 / (n1+ n2 - 2) + (n2-1) * S2 / (n1+ n2 - 2)\n",
    "print(Sp)"
   ]
  },
  {
   "cell_type": "markdown",
   "metadata": {},
   "source": [
    "Ahora calcularmos $T^2$."
   ]
  },
  {
   "cell_type": "code",
   "execution_count": 4,
   "metadata": {},
   "outputs": [
    {
     "data": {
      "text/plain": [
       "136.6716140046685"
      ]
     },
     "execution_count": 4,
     "metadata": {},
     "output_type": "execute_result"
    }
   ],
   "source": [
    "aux = xbarra_1 - xbarra_2\n",
    "T2 = np.matmul(np.matmul(aux.T, np.linalg.inv(Sp)), aux)\n",
    "T2 = T2 * (n1*n2) / (n1+n2)\n",
    "T2.item()  # Para obtener el T2 como un escalar y no como una matriz"
   ]
  },
  {
   "cell_type": "markdown",
   "metadata": {},
   "source": [
    "Para calcular el valor crítico con un $\\alpha=0.05$ hacemos lo siguiente"
   ]
  },
  {
   "cell_type": "code",
   "execution_count": 5,
   "metadata": {},
   "outputs": [
    {
     "data": {
      "text/plain": [
       "10.625776750234012"
      ]
     },
     "execution_count": 5,
     "metadata": {},
     "output_type": "execute_result"
    }
   ],
   "source": [
    "scipy.stats.f.ppf(q=1-0.05, dfn=p, dfd=n1+n2-p-1) * (n1+n2-2) * p / (n1+n2-p-1)  # Valor crítico"
   ]
  },
  {
   "cell_type": "markdown",
   "metadata": {},
   "source": [
    "<div class=\"alert alert-success\">\n",
    "  <strong>Resultado</strong> Como el estadístico es $T^2=136.67$, que es mayor que el valor crítico $10.63$, entonces hay evidencias suficientes para rechazar $H_0: \\boldsymbol{\\mu}_1 = \\boldsymbol{\\mu}_2$.\n",
    "</div>"
   ]
  }
 ],
 "metadata": {
  "kernelspec": {
   "display_name": "anaconda-2022.05-py39",
   "language": "python",
   "name": "conda-env-anaconda-2022.05-py39-py"
  },
  "language_info": {
   "codemirror_mode": {
    "name": "ipython",
    "version": 3
   },
   "file_extension": ".py",
   "mimetype": "text/x-python",
   "name": "python",
   "nbconvert_exporter": "python",
   "pygments_lexer": "ipython3",
   "version": "3.9.12"
  }
 },
 "nbformat": 4,
 "nbformat_minor": 4
}
