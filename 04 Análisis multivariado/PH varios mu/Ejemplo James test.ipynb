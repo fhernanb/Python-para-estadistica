{
 "cells": [
  {
   "cell_type": "markdown",
   "metadata": {},
   "source": [
    "# Ejemplo de Seber (1984) usando James test\n",
    "\n",
    "<img src=\"https://raw.githubusercontent.com/fhernanb/fhernanb.github.io/master/my_docs/logo_unal_color.png\" alt=\"drawing\" width=\"200\"/>\n",
    "\n",
    "En este ejemplo se desea estudiar el siguiente conjunto de hipótesis usando un nivel de significancia de 0.07.\n",
    "\n",
    "$H_0: \\boldsymbol{\\mu}_1 = \\boldsymbol{\\mu}_2$\n",
    "\n",
    "$H_A: \\boldsymbol{\\mu}_1 \\neq \\boldsymbol{\\mu}_2$\n",
    "\n",
    "Asumiendo que las matrices $\\boldsymbol{\\Sigma}_1$ y $\\boldsymbol{\\Sigma}_2$ son <font color=\"red\">desconocidas y diferentes</font>.\n",
    "\n",
    "Las matrices muestrales son\n",
    "\n",
    "\\begin{equation}\n",
    "\\bar{\\mathbf{X}}_1 = \n",
    "\\begin{pmatrix}\n",
    "9.82 \\\\\n",
    "15.06\n",
    "\\end{pmatrix}\n",
    "\\end{equation}\n",
    "\n",
    "\\begin{equation}\n",
    "\\bar{\\mathbf{X}}_2= \n",
    "\\begin{pmatrix}\n",
    "13.05 \\\\\n",
    "22.57\n",
    "\\end{pmatrix}\n",
    "\\end{equation}\n",
    "\n",
    "\\begin{equation}\n",
    "\\mathbf{S}_1 = \n",
    "\\begin{pmatrix}\n",
    "120 & -16.3 \\\\\n",
    "-16.3 & 17.8\n",
    "\\end{pmatrix}\n",
    "\\end{equation}\n",
    "\n",
    "\\begin{equation}\n",
    "\\mathbf{S}_2 = \n",
    "\\begin{pmatrix}\n",
    "81.8 & 32.1 \\\\\n",
    "32.1 & 53.8\n",
    "\\end{pmatrix}\n",
    "\\end{equation}\n",
    "\n",
    "con $n_1=16$ y $n_2=11$ sujetos por cada grupo.\n",
    "\n",
    "<img src=\"ph_james.png\" alt=\"\" width=\"600\"/>"
   ]
  },
  {
   "cell_type": "code",
   "execution_count": 1,
   "metadata": {},
   "outputs": [],
   "source": [
    "import numpy as np\n",
    "import scipy.stats"
   ]
  },
  {
   "cell_type": "markdown",
   "metadata": {},
   "source": [
    "A continuación los datos del ejemplo"
   ]
  },
  {
   "cell_type": "code",
   "execution_count": 2,
   "metadata": {},
   "outputs": [],
   "source": [
    "xbarra_1 = np.matrix([[9.82],\n",
    "                      [15.06]])\n",
    "\n",
    "xbarra_2 = np.matrix([[13.05],\n",
    "                      [22.57]])\n",
    "\n",
    "S1 = np.matrix([[120, -16.3],\n",
    "                [-16.3, 17.8]])\n",
    "\n",
    "S2 = np.matrix([[81.8, 32.1],\n",
    "                [32.1, 53.8]])\n",
    "\n",
    "n1 = 16\n",
    "n2 = 11\n",
    "\n",
    "p = 2   # número de variables"
   ]
  },
  {
   "cell_type": "markdown",
   "metadata": {},
   "source": [
    "Primero vamos a calcular la matriz combinada $\\tilde{\\mathbf{S}}$."
   ]
  },
  {
   "cell_type": "code",
   "execution_count": 3,
   "metadata": {},
   "outputs": [
    {
     "name": "stdout",
     "output_type": "stream",
     "text": [
      "[[14.93636364  1.89943182]\n",
      " [ 1.89943182  6.00340909]]\n"
     ]
    }
   ],
   "source": [
    "S1_tilde = S1 / n1\n",
    "S2_tilde = S2 / n2\n",
    "S_tilde = S1_tilde + S2_tilde\n",
    "print(S_tilde)"
   ]
  },
  {
   "cell_type": "markdown",
   "metadata": {},
   "source": [
    "Ahora vamos a calcular $A$."
   ]
  },
  {
   "cell_type": "code",
   "execution_count": 4,
   "metadata": {},
   "outputs": [
    {
     "name": "stdout",
     "output_type": "stream",
     "text": [
      "1.0480216500545976\n"
     ]
    }
   ],
   "source": [
    "mat_aux_1 = np.matmul(np.linalg.inv(S_tilde), S1_tilde)\n",
    "mat_aux_2 = np.matmul(np.linalg.inv(S_tilde), S2_tilde)\n",
    "\n",
    "aux1 = np.trace(mat_aux_1)\n",
    "aux2 = np.trace(mat_aux_2)\n",
    "\n",
    "A = 1 + (aux1 ** 2 / (n1-1) + aux2 ** 2 / (n2-1)) / (2*p)\n",
    "print(A)"
   ]
  },
  {
   "cell_type": "markdown",
   "metadata": {},
   "source": [
    "Ahora vamos a calcular $B$."
   ]
  },
  {
   "cell_type": "code",
   "execution_count": 5,
   "metadata": {},
   "outputs": [
    {
     "name": "stdout",
     "output_type": "stream",
     "text": [
      "0.02650981376101031\n"
     ]
    }
   ],
   "source": [
    "aux1 = np.trace(np.matmul(mat_aux_1, mat_aux_1)) / (n1-1) + np.trace(np.matmul(mat_aux_2, mat_aux_2)) / (n2-1)\n",
    "aux2 =np.trace(mat_aux_1) ** 2 / (n1-1) + np.trace(mat_aux_2) ** 2 / (n2-1)\n",
    "\n",
    "B = (aux1 + aux2 / 2) / (p*(p+2))\n",
    "print(B)"
   ]
  },
  {
   "cell_type": "markdown",
   "metadata": {},
   "source": [
    "Ahora calculamos $\\delta$."
   ]
  },
  {
   "cell_type": "code",
   "execution_count": 6,
   "metadata": {},
   "outputs": [
    {
     "name": "stdout",
     "output_type": "stream",
     "text": [
      "1.1890146266969683\n"
     ]
    }
   ],
   "source": [
    "delta = A + B * scipy.stats.chi2.ppf(q=1-0.07, df=p)\n",
    "print(delta)"
   ]
  },
  {
   "cell_type": "markdown",
   "metadata": {},
   "source": [
    "Ahora calcularmos $T^2$."
   ]
  },
  {
   "cell_type": "code",
   "execution_count": 7,
   "metadata": {},
   "outputs": [
    {
     "data": {
      "text/plain": [
       "9.445541402394888"
      ]
     },
     "execution_count": 7,
     "metadata": {},
     "output_type": "execute_result"
    }
   ],
   "source": [
    "aux = xbarra_1 - xbarra_2\n",
    "T2 = np.matmul(np.matmul(aux.T, np.linalg.inv(S_tilde)), aux)\n",
    "T2.item()  # Para obtener el T2 como un escalar y no como una matriz"
   ]
  },
  {
   "cell_type": "markdown",
   "metadata": {},
   "source": [
    "Para calcular el valor crítico con un $\\alpha=0.07$ hacemos lo siguiente"
   ]
  },
  {
   "cell_type": "code",
   "execution_count": 8,
   "metadata": {},
   "outputs": [
    {
     "data": {
      "text/plain": [
       "6.323798160207584"
      ]
     },
     "execution_count": 8,
     "metadata": {},
     "output_type": "execute_result"
    }
   ],
   "source": [
    "scipy.stats.chi2.ppf(q=1-0.07, df=p) * delta  # Valor crítico"
   ]
  },
  {
   "cell_type": "markdown",
   "metadata": {},
   "source": [
    "<div class=\"alert alert-success\">\n",
    "  <strong>Resultado</strong> Como el estadístico es $T^2=9.45$, que es mayor que el valor crítico $6.32$, entonces hay evidencias suficientes para rechazar $H_0: \\boldsymbol{\\mu}_1 = \\boldsymbol{\\mu}_2$.\n",
    "</div>"
   ]
  }
 ],
 "metadata": {
  "kernelspec": {
   "display_name": "anaconda-2022.05-py39",
   "language": "python",
   "name": "conda-env-anaconda-2022.05-py39-py"
  },
  "language_info": {
   "codemirror_mode": {
    "name": "ipython",
    "version": 3
   },
   "file_extension": ".py",
   "mimetype": "text/x-python",
   "name": "python",
   "nbconvert_exporter": "python",
   "pygments_lexer": "ipython3",
   "version": "3.9.12"
  }
 },
 "nbformat": 4,
 "nbformat_minor": 4
}
