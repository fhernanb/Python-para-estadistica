{
 "cells": [
  {
   "cell_type": "markdown",
   "metadata": {},
   "source": [
    "# Simulando datos de una $N_p$\n",
    "<img src=\"https://raw.githubusercontent.com/fhernanb/fhernanb.github.io/master/my_docs/logo_unal_color.png\" alt=\"drawing\" width=\"200\"/>"
   ]
  },
  {
   "cell_type": "code",
   "execution_count": 1,
   "metadata": {},
   "outputs": [],
   "source": [
    "import numpy as np\n",
    "import matplotlib.pyplot as plt"
   ]
  },
  {
   "cell_type": "markdown",
   "metadata": {},
   "source": [
    "La densidad de una normal $N_p(\\mu,\\Sigma)$ es\n",
    "\n",
    "$$\n",
    "f\\left(x;\\mu,\\Sigma\\right)=\\left(2\\pi\\right)^{-\\left(\\frac{p}{2}\\right)}\\det\\left(\\Sigma\\right)^{-\\frac{1}{2}}\\exp\\left(-0.5\\left(z-\\mu\\right)^{\\prime}\\Sigma^{-1}\\left(z-\\mu\\right)\\right)\n",
    "$$"
   ]
  },
  {
   "cell_type": "markdown",
   "metadata": {},
   "source": [
    "Vamos a definir el vector de medias y la matriz de varianzas"
   ]
  },
  {
   "cell_type": "code",
   "execution_count": 2,
   "metadata": {},
   "outputs": [
    {
     "name": "stdout",
     "output_type": "stream",
     "text": [
      "[70, 170]\n",
      "[[20, 100], [100, 1000]]\n"
     ]
    }
   ],
   "source": [
    "media = [70, 170]             # mean vector\n",
    "sigma = [[20, 100], \n",
    "         [100, 1000]]         # variance matrix\n",
    "\n",
    "print(media)\n",
    "print(sigma)"
   ]
  },
  {
   "cell_type": "markdown",
   "metadata": {},
   "source": [
    "Para simular observaciones de una normal p variada usamos la función `random.multivariate_normal` de numpy."
   ]
  },
  {
   "cell_type": "code",
   "execution_count": 3,
   "metadata": {},
   "outputs": [
    {
     "name": "stdout",
     "output_type": "stream",
     "text": [
      "[72.22271104 66.4030671  69.52410638 69.24733796 76.97059864 63.22179907\n",
      " 73.28287422 71.06032391 67.80008541 70.62315761 72.70071224 67.6497215\n",
      " 67.25933071 73.53066406 67.26969595 70.21424821 63.37999756 67.62372145\n",
      " 70.61220919 59.82700619 71.52989838 76.38029274 72.01716744 70.37963246\n",
      " 66.91350732 71.84014926 74.7934594  72.20367413 68.98052553 63.35449299\n",
      " 73.33166998 69.66913398 74.21293554 67.09179384 67.11717105 71.06199526\n",
      " 66.11203731 66.67265777 72.88354233 67.85792894 79.67244721 65.30292511\n",
      " 70.82095104 64.4659325  64.77740642 70.99709434 75.11314627 67.64854863\n",
      " 69.44728533 75.01651493]\n",
      "\n",
      "\n",
      "[154.71609323 124.5972379  193.06638098 142.61753016 168.79456904\n",
      " 133.94812889 139.21566995 180.56459561 157.27048343 127.73429686\n",
      " 176.20051452 164.05877127 128.17008638 148.06366364 176.12493626\n",
      " 182.68687495 137.20501785 142.64962336 165.95436589 144.14121374\n",
      " 167.41137884 168.20108161 161.88085097 174.3313989  146.18097017\n",
      " 142.94915942 214.30016343 187.29035604 158.7942252  152.59938513\n",
      " 200.78427629 160.19573329 136.55100826 105.42860756 163.52281273\n",
      " 194.9824949  147.89698426 199.92410957 162.45872485 150.02854728\n",
      " 154.18864539 128.27331931 164.66139129 146.04629518 161.87596524\n",
      " 167.34882964 202.31698746 144.15241343 181.068948   203.64085693]\n"
     ]
    }
   ],
   "source": [
    "np.random.seed(1234) # Para fijar la semilla y que los resultados se puedan replicar\n",
    "x1, x2 = np.random.multivariate_normal(mean=media, cov=sigma, size=50).T\n",
    "\n",
    "print(x1)\n",
    "print('\\n')\n",
    "print(x2)"
   ]
  },
  {
   "cell_type": "code",
   "execution_count": 4,
   "metadata": {},
   "outputs": [
    {
     "data": {
      "image/png": "[encoded data removed]",
      "text/plain": [
       "<Figure size 432x288 with 1 Axes>"
      ]
     },
     "metadata": {
      "needs_background": "light"
     },
     "output_type": "display_data"
    }
   ],
   "source": [
    "plt.scatter(x=x1, y=x2, color='purple', alpha=0.65)\n",
    "plt.xlabel('Estatura (pulgadas)')\n",
    "plt.ylabel('Peso (libras)')\n",
    "plt.title('Diagrama de dispersión para las dos variables');"
   ]
  },
  {
   "cell_type": "markdown",
   "metadata": {},
   "source": [
    "Es posible simular varias muestras de un tamaño especial. En el siguiente código vamos a crear simultáneamente 4 muestras cada una con 6 observaciones de la $N_2(\\mu,\\Sigma)$"
   ]
  },
  {
   "cell_type": "code",
   "execution_count": 5,
   "metadata": {},
   "outputs": [
    {
     "name": "stdout",
     "output_type": "stream",
     "text": [
      "Las dimensiones de x son:  (4, 6, 2) \n",
      "\n",
      "El contenido de x es: \n",
      " [[[ 67.29643187 160.97086509]\n",
      "  [ 67.49854147 154.16603122]\n",
      "  [ 64.18492984 155.11733677]\n",
      "  [ 73.95977537 194.5515052 ]\n",
      "  [ 70.09954226 130.87243317]\n",
      "  [ 72.55935793 141.77552302]]\n",
      "\n",
      " [[ 69.09436701 184.4906025 ]\n",
      "  [ 71.22160848 176.39100082]\n",
      "  [ 73.51897723 147.90186951]\n",
      "  [ 68.61360514 168.63638058]\n",
      "  [ 72.72715842 177.66041196]\n",
      "  [ 70.8152472  191.73154471]]\n",
      "\n",
      " [[ 74.20646433 223.9757841 ]\n",
      "  [ 72.46690607 185.06225514]\n",
      "  [ 65.65876497 148.26619333]\n",
      "  [ 68.76150581 162.47276784]\n",
      "  [ 61.46579115 144.79177926]\n",
      "  [ 70.96881353 149.46987249]]\n",
      "\n",
      " [[ 70.61715083 236.54889946]\n",
      "  [ 71.75314092 225.25650625]\n",
      "  [ 68.64219875 144.66404968]\n",
      "  [ 70.41821092 147.51527951]\n",
      "  [ 67.88300479 132.62199821]\n",
      "  [ 64.68048232 148.14764026]]]\n"
     ]
    }
   ],
   "source": [
    "x = np.random.multivariate_normal(mean=media, cov=sigma, size=(4, 6))\n",
    "print(\"Las dimensiones de x son: \", x.shape, \"\\n\")\n",
    "print(\"El contenido de x es: \\n\", x)"
   ]
  }
 ],
 "metadata": {
  "kernelspec": {
   "display_name": "anaconda-2022.05-py39",
   "language": "python",
   "name": "conda-env-anaconda-2022.05-py39-py"
  },
  "language_info": {
   "codemirror_mode": {
    "name": "ipython",
    "version": 3
   },
   "file_extension": ".py",
   "mimetype": "text/x-python",
   "name": "python",
   "nbconvert_exporter": "python",
   "pygments_lexer": "ipython3",
   "version": "3.9.12"
  }
 },
 "nbformat": 4,
 "nbformat_minor": 4
}
