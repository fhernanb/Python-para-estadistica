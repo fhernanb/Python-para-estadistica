{
 "cells": [
  {
   "cell_type": "markdown",
   "metadata": {},
   "source": [
    "# Ejemplo 5.2 de Johnson & Wichern (2007) usando $T^2$\n",
    "<img src=\"https://raw.githubusercontent.com/fhernanb/fhernanb.github.io/master/my_docs/logo_unal_color.png\" alt=\"drawing\" width=\"200\"/>\n",
    "\n",
    "En este ejemplo se desea estudiar el siguiente conjunto de hipótesis de abajo usando un nivel de significancia de $0.10$ y considerando los datos de la tabla 5.1 del texto.\n",
    "\n",
    "$H_0: \\boldsymbol{\\mu} = (4, 50, 10)^\\top$\n",
    "\n",
    "$H_A: \\boldsymbol{\\mu} \\neq (4, 50, 10)^\\top$"
   ]
  },
  {
   "cell_type": "code",
   "execution_count": 1,
   "metadata": {},
   "outputs": [],
   "source": [
    "import numpy as np\n",
    "import pandas as pd\n",
    "import scipy.stats"
   ]
  },
  {
   "cell_type": "markdown",
   "metadata": {},
   "source": [
    "La tabla 5.1 está en el archivo table5-1.txt en la carpeta donde está este notebook. La tabla se puede cargar así:"
   ]
  },
  {
   "cell_type": "code",
   "execution_count": 2,
   "metadata": {},
   "outputs": [
    {
     "name": "stdout",
     "output_type": "stream",
     "text": [
      "    sweat_rate  sodium  potassium\n",
      "0          3.7    48.5        9.3\n",
      "1          5.7    65.1        8.0\n",
      "2          3.8    47.2       10.9\n",
      "3          3.2    53.2       12.0\n",
      "4          3.1    55.5        9.7\n",
      "5          4.6    36.1        7.9\n",
      "6          2.4    24.8       14.0\n",
      "7          7.2    33.1        7.6\n",
      "8          6.7    47.4        8.5\n",
      "9          5.4    54.1       11.3\n",
      "10         3.9    36.9       12.7\n",
      "11         4.5    58.8       12.3\n",
      "12         3.5    27.8        9.8\n",
      "13         4.5    40.2        8.4\n",
      "14         1.5    13.5       10.1\n",
      "15         8.5    56.4        7.1\n",
      "16         4.5    71.6        8.2\n",
      "17         6.5    52.8       10.9\n",
      "18         4.1    44.1       11.2\n",
      "19         5.5    40.9        9.4\n"
     ]
    }
   ],
   "source": [
    "dt = pd.read_table(\"table5-1.txt\", sep=\" \")\n",
    "print(dt)"
   ]
  },
  {
   "cell_type": "markdown",
   "metadata": {},
   "source": [
    "<div class=\"alert alert-danger\">\n",
    "  <strong>Cuidado!</strong> Se debe verificar que la muestra aleatoria provenga de una población normal multivariada. Aquí vamos a asumir que este supuesto se cumple.\n",
    "</div>"
   ]
  },
  {
   "cell_type": "markdown",
   "metadata": {},
   "source": [
    "Vamos a convertir el dt que es de clase pandas dataframe a un array de numpy para poder hacer operaciones matriciales."
   ]
  },
  {
   "cell_type": "code",
   "execution_count": 3,
   "metadata": {},
   "outputs": [
    {
     "name": "stdout",
     "output_type": "stream",
     "text": [
      "[[ 3.7 48.5  9.3]\n",
      " [ 5.7 65.1  8. ]\n",
      " [ 3.8 47.2 10.9]\n",
      " [ 3.2 53.2 12. ]\n",
      " [ 3.1 55.5  9.7]\n",
      " [ 4.6 36.1  7.9]\n",
      " [ 2.4 24.8 14. ]\n",
      " [ 7.2 33.1  7.6]\n",
      " [ 6.7 47.4  8.5]\n",
      " [ 5.4 54.1 11.3]\n",
      " [ 3.9 36.9 12.7]\n",
      " [ 4.5 58.8 12.3]\n",
      " [ 3.5 27.8  9.8]\n",
      " [ 4.5 40.2  8.4]\n",
      " [ 1.5 13.5 10.1]\n",
      " [ 8.5 56.4  7.1]\n",
      " [ 4.5 71.6  8.2]\n",
      " [ 6.5 52.8 10.9]\n",
      " [ 4.1 44.1 11.2]\n",
      " [ 5.5 40.9  9.4]]\n"
     ]
    }
   ],
   "source": [
    "dt = dt.to_numpy()\n",
    "print(dt)"
   ]
  },
  {
   "cell_type": "markdown",
   "metadata": {},
   "source": [
    "El vector de medias **muestral** se obtiene así:"
   ]
  },
  {
   "cell_type": "code",
   "execution_count": 4,
   "metadata": {},
   "outputs": [
    {
     "name": "stdout",
     "output_type": "stream",
     "text": [
      "[[ 4.64 ]\n",
      " [45.4  ]\n",
      " [ 9.965]]\n"
     ]
    }
   ],
   "source": [
    "x_barra = np.mean(dt, axis=0)\n",
    "x_barra = np.matrix(x_barra).T  # Para convertir a matriz columna\n",
    "print(x_barra) "
   ]
  },
  {
   "cell_type": "markdown",
   "metadata": {},
   "source": [
    "La matriz de varianzas **muestral** conocida se construye así:"
   ]
  },
  {
   "cell_type": "code",
   "execution_count": 5,
   "metadata": {},
   "outputs": [
    {
     "name": "stdout",
     "output_type": "stream",
     "text": [
      "[[  2.87936842  10.01        -1.80905263]\n",
      " [ 10.01       199.78842105  -5.64      ]\n",
      " [ -1.80905263  -5.64         3.62765789]]\n"
     ]
    }
   ],
   "source": [
    "S = np.cov(dt.T)\n",
    "print(S)"
   ]
  },
  {
   "cell_type": "markdown",
   "metadata": {},
   "source": [
    "El vector de referencia es $\\boldsymbol{\\mu}_0=(4, 50, 10)^\\top$."
   ]
  },
  {
   "cell_type": "code",
   "execution_count": 6,
   "metadata": {},
   "outputs": [
    {
     "data": {
      "text/plain": [
       "[[4], [50], [10]]"
      ]
     },
     "execution_count": 6,
     "metadata": {},
     "output_type": "execute_result"
    }
   ],
   "source": [
    "mu0 = [[4], [50], [10]]\n",
    "mu0"
   ]
  },
  {
   "cell_type": "markdown",
   "metadata": {},
   "source": [
    "Ahora calculamos $T^2=n (\\bar{\\boldsymbol{x}}-\\boldsymbol{\\mu}_0)^\\top \\textbf{S}^{-1} (\\bar{\\boldsymbol{x}}-\\boldsymbol{\\mu}_0)$, la cantidad $(\\bar{\\boldsymbol{x}}-\\boldsymbol{\\mu}_0)$ se va a llamar `aux` para facilitar las operaciones."
   ]
  },
  {
   "cell_type": "code",
   "execution_count": 7,
   "metadata": {},
   "outputs": [
    {
     "data": {
      "text/plain": [
       "9.738772855435645"
      ]
     },
     "execution_count": 7,
     "metadata": {},
     "output_type": "execute_result"
    }
   ],
   "source": [
    "n = 20 # número de observaciones\n",
    "aux = np.matrix((x_barra - mu0)) # Elemento auxiliar\n",
    "S_inv = np.linalg.inv(S)\n",
    "T2 = n * np.matmul(np.matmul(aux.transpose(), S_inv), aux)\n",
    "T2.item()  # Para obtener el T2 como un escalar y no como una matriz"
   ]
  },
  {
   "cell_type": "markdown",
   "metadata": {},
   "source": [
    "El valor crítico para realizar la prueba es $\\frac{p(n-1)}{n-p}F_{p, n-p}(\\alpha)$. Para obtener el valor crítico con $\\alpha=0.10$ se procede así:"
   ]
  },
  {
   "cell_type": "code",
   "execution_count": 8,
   "metadata": {},
   "outputs": [
    {
     "data": {
      "text/plain": [
       "8.17257253712065"
      ]
     },
     "execution_count": 8,
     "metadata": {},
     "output_type": "execute_result"
    }
   ],
   "source": [
    "p = 3 # Número de variables en el problema\n",
    "n = 20\n",
    "scipy.stats.f.ppf(q=1-0.10, dfn=p, dfd=n-p) * p * (n-1) / (n-p) # Valor crítico"
   ]
  },
  {
   "cell_type": "markdown",
   "metadata": {},
   "source": [
    "<div class=\"alert alert-success\">\n",
    "  <strong>Resultado</strong> Como el estadístico es $T^2=9.74$, que es mayor que el valor crítico $8.17$, entonces hay evidencias suficientes para rechazar $H_0: \\boldsymbol{\\mu} = (4, 50, 10)^\\top$.\n",
    "</div>"
   ]
  }
 ],
 "metadata": {
  "kernelspec": {
   "display_name": "anaconda-2022.05-py39",
   "language": "python",
   "name": "conda-env-anaconda-2022.05-py39-py"
  },
  "language_info": {
   "codemirror_mode": {
    "name": "ipython",
    "version": 3
   },
   "file_extension": ".py",
   "mimetype": "text/x-python",
   "name": "python",
   "nbconvert_exporter": "python",
   "pygments_lexer": "ipython3",
   "version": "3.9.12"
  }
 },
 "nbformat": 4,
 "nbformat_minor": 4
}
