{
 "cells": [
  {
   "cell_type": "markdown",
   "metadata": {},
   "source": [
    "# Distribución de una combinación lineal de una $N_p$\n",
    "<img src=\"https://raw.githubusercontent.com/fhernanb/fhernanb.github.io/master/my_docs/logo_unal_color.png\" alt=\"drawing\" width=\"200\"/>\n",
    "\n",
    "Si $\\boldsymbol{X}$ se distribuye $N_p(\\boldsymbol{\\mu}, \\boldsymbol{\\Sigma})$ y $\\boldsymbol{A}$ es una matriz de $q \\times p$ entonces\n",
    "\n",
    "$$ \\boldsymbol{A} \\boldsymbol{X} \\sim N_q(\\boldsymbol{\\boldsymbol{A} \\mu}, \\boldsymbol{\\boldsymbol{A} \\Sigma \\boldsymbol{A}^\\top})$$\n",
    "\n",
    "En esta lección se muestra como crear una función para obtener el vector de medias y la matriz de covarianzas de las $q$ variables de la combinación lineal definida por la matriz $\\boldsymbol{A}$.\n",
    "\n",
    "A continuación la librería que vamos a usar."
   ]
  },
  {
   "cell_type": "code",
   "execution_count": 1,
   "metadata": {},
   "outputs": [],
   "source": [
    "import numpy as np"
   ]
  },
  {
   "cell_type": "markdown",
   "metadata": {},
   "source": [
    "La función `newnormal` mostrada a continuación recibe el vector de medias, la matriz de varianzas y la matriz que define las combinaciones lineales y entrega el nuevo vector de medias y la nueva matriz de covarianzas."
   ]
  },
  {
   "cell_type": "code",
   "execution_count": 2,
   "metadata": {},
   "outputs": [],
   "source": [
    "def newnormal(media, varianzas, A):\n",
    "    new_mean = np.matmul(A, media)\n",
    "    temp1 = np.matmul(A, varianzas)\n",
    "    new_variance = np.matmul(temp1, np.transpose(A))\n",
    "    print(\"El nuevo vector de medias es:\")\n",
    "    print(new_mean)\n",
    "    print(\"La nueva matriz de varianzas y covarianzas es:\")\n",
    "    print(new_variance)"
   ]
  },
  {
   "cell_type": "markdown",
   "metadata": {},
   "source": [
    "## Ejemplo\n",
    "\n",
    "Suponga que se tiene un vector aleatorio $\\boldsymbol{X} \\sim N_3(\\boldsymbol{\\mu}, \\boldsymbol{\\Sigma})$ con $\\boldsymbol{\\mu}^\\top=(1, 2, 3)$ y la matriz de covarianzas siguiente:\n",
    "$$\n",
    "\\boldsymbol{\\Sigma}=\\begin{pmatrix}\n",
    "1 & 1 & 1 \\\\ \n",
    "1 & 3 & 2 \\\\ \n",
    "1 & 2 & 2\n",
    "\\end{pmatrix}\n",
    "$$\n",
    "\n",
    "Considere el vector $\\boldsymbol{Y}^\\top=(Y_1, Y_2)$ donde $Y_1=2 X_1 - X_2 + 5 X_3$ y $Y_2=- X_1 - 2 X_2 + 3 X_3$. \n",
    "\n",
    "Calcular el vector de medias y la matriz de varianzas y covarianzas de  $\\boldsymbol{Y}$."
   ]
  },
  {
   "cell_type": "code",
   "execution_count": 3,
   "metadata": {},
   "outputs": [
    {
     "name": "stdout",
     "output_type": "stream",
     "text": [
      "El nuevo vector de medias es:\n",
      "[15  4]\n",
      "La nueva matriz de varianzas y covarianzas es:\n",
      "[[53  6]\n",
      " [ 6  5]]\n"
     ]
    }
   ],
   "source": [
    "# Solución\n",
    "media = [1, 2, 3]\n",
    "varianzas = [[1, 1, 1], \n",
    "             [1, 3, 2], \n",
    "             [1, 2, 2]]\n",
    "A = [[2, -1, 5],\n",
    "     [-1, -2, 3]]\n",
    "\n",
    "newnormal(media, varianzas, A)"
   ]
  },
  {
   "cell_type": "markdown",
   "metadata": {},
   "source": [
    "## Tarea\n",
    "\n",
    "En el mismo contexto de esta lección:\n",
    "\n",
    "1. Crear una función para obtener la distribución de $\\boldsymbol{A} \\boldsymbol{X} + \\boldsymbol{d}$.\n",
    "1. Crear una función para obtener la matriz de correlaciones de $\\boldsymbol{A} \\boldsymbol{X}$."
   ]
  },
  {
   "cell_type": "code",
   "execution_count": null,
   "metadata": {},
   "outputs": [],
   "source": []
  }
 ],
 "metadata": {
  "kernelspec": {
   "display_name": "anaconda-2022.05-py39",
   "language": "python",
   "name": "conda-env-anaconda-2022.05-py39-py"
  },
  "language_info": {
   "codemirror_mode": {
    "name": "ipython",
    "version": 3
   },
   "file_extension": ".py",
   "mimetype": "text/x-python",
   "name": "python",
   "nbconvert_exporter": "python",
   "pygments_lexer": "ipython3",
   "version": "3.9.12"
  }
 },
 "nbformat": 4,
 "nbformat_minor": 4
}
