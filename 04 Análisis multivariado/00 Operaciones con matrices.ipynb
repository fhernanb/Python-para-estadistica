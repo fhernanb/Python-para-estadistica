{
 "cells": [
  {
   "cell_type": "markdown",
   "metadata": {},
   "source": [
    "# Operaciones con matrices\n",
    "<img src=\"https://raw.githubusercontent.com/fhernanb/fhernanb.github.io/master/my_docs/logo_unal_color.png\" alt=\"drawing\" width=\"200\"/>"
   ]
  },
  {
   "cell_type": "code",
   "execution_count": 1,
   "metadata": {},
   "outputs": [],
   "source": [
    "import numpy as np"
   ]
  },
  {
   "cell_type": "markdown",
   "metadata": {},
   "source": [
    "## Creación de vectores y matrices"
   ]
  },
  {
   "cell_type": "markdown",
   "metadata": {},
   "source": [
    "Vamos a crear tres vectores, el primero un vector columna con los números 2 y 3; el segundo un vector fila con los números -1 y 5; el tercero un vector columna con los números 6, 4."
   ]
  },
  {
   "cell_type": "code",
   "execution_count": 2,
   "metadata": {},
   "outputs": [
    {
     "name": "stdout",
     "output_type": "stream",
     "text": [
      "El vector v1 es: \n",
      " [[2]\n",
      " [3]]\n",
      "El vector v2 es: \n",
      " [[-1  5]]\n",
      "El vector v3 es: \n",
      " [[6]\n",
      " [4]]\n",
      "Las dimensiones de v1 son: \n",
      " (2, 1)\n",
      "Las dimensiones de v2 son: \n",
      " (1, 2)\n",
      "Las dimensiones de v2 son: \n",
      " (2, 1)\n"
     ]
    }
   ],
   "source": [
    "v1 = np.array([[2],\n",
    "              [3]])\n",
    "\n",
    "v2 = np.array([[-1, 5]])\n",
    "\n",
    "v3 = np.array([[6, 4]])\n",
    "v3 = np.transpose(v3)\n",
    "\n",
    "print(\"El vector v1 es: \\n\", v1)\n",
    "print(\"El vector v2 es: \\n\", v2)\n",
    "print(\"El vector v3 es: \\n\", v3)\n",
    "\n",
    "print(\"Las dimensiones de v1 son: \\n\", v1.shape)\n",
    "print(\"Las dimensiones de v2 son: \\n\", v2.shape)\n",
    "print(\"Las dimensiones de v2 son: \\n\", v3.shape)"
   ]
  },
  {
   "cell_type": "markdown",
   "metadata": {},
   "source": [
    "<div class=\"alert alert-warning\">\n",
    "  <strong>Nota</strong> Para crear el vector columna se puede construirlo primero como vector fila y luego transpornerlo.\n",
    "</div>"
   ]
  },
  {
   "cell_type": "markdown",
   "metadata": {},
   "source": [
    "Vamos a crear las matrices $M$ y $S$.\n",
    "\n",
    "$\n",
    "M = \\begin{pmatrix}\n",
    "1 & 2  \\\\\n",
    "3 & 5  \n",
    "\\end{pmatrix} $\n",
    "\n",
    "$\n",
    "S = \\begin{pmatrix}\n",
    "3 & 2 & 4  \\\\\n",
    "5 & 6 & 1\n",
    "\\end{pmatrix} $"
   ]
  },
  {
   "cell_type": "code",
   "execution_count": 3,
   "metadata": {},
   "outputs": [
    {
     "name": "stdout",
     "output_type": "stream",
     "text": [
      "La matriz M es: \n",
      " [[1 2]\n",
      " [3 5]]\n",
      "Las dimensiones de M son: \n",
      " (2, 2)\n",
      "La matriz M es: \n",
      " [[3 2 4]\n",
      " [5 6 1]]\n",
      "Las dimensiones de M son: \n",
      " (2, 3)\n"
     ]
    }
   ],
   "source": [
    "M = np.array([[1, 2],\n",
    "              [3, 5]])\n",
    "\n",
    "print(\"La matriz M es: \\n\", M)\n",
    "\n",
    "print(\"Las dimensiones de M son: \\n\", M.shape)\n",
    "\n",
    "S = np.array([[3, 2 , 4],\n",
    "              [5, 6, 1]])\n",
    "\n",
    "print(\"La matriz M es: \\n\", S)\n",
    "\n",
    "print(\"Las dimensiones de M son: \\n\", S.shape)"
   ]
  },
  {
   "cell_type": "markdown",
   "metadata": {},
   "source": [
    "## Operaciones con vectores y matrices"
   ]
  },
  {
   "cell_type": "code",
   "execution_count": 4,
   "metadata": {},
   "outputs": [
    {
     "data": {
      "text/plain": [
       "array([[8],\n",
       "       [7]])"
      ]
     },
     "execution_count": 4,
     "metadata": {},
     "output_type": "execute_result"
    }
   ],
   "source": [
    "v1 + v3 # suma de vectores"
   ]
  },
  {
   "cell_type": "code",
   "execution_count": 5,
   "metadata": {},
   "outputs": [
    {
     "data": {
      "text/plain": [
       "array([[22],\n",
       "       [18]])"
      ]
     },
     "execution_count": 5,
     "metadata": {},
     "output_type": "execute_result"
    }
   ],
   "source": [
    "2 * v1 + 3 * v3 # combinacion lineal de vectores"
   ]
  },
  {
   "cell_type": "code",
   "execution_count": 6,
   "metadata": {},
   "outputs": [
    {
     "name": "stdout",
     "output_type": "stream",
     "text": [
      "[[2]\n",
      " [3]]\n",
      "[[6 4]]\n"
     ]
    },
    {
     "data": {
      "text/plain": [
       "array([[12,  8],\n",
       "       [18, 12]])"
      ]
     },
     "execution_count": 6,
     "metadata": {},
     "output_type": "execute_result"
    }
   ],
   "source": [
    "print(v1)\n",
    "print(v3.T)\n",
    "np.dot(v1, v3.T) # producto matricial de vectores"
   ]
  },
  {
   "cell_type": "code",
   "execution_count": 7,
   "metadata": {},
   "outputs": [
    {
     "data": {
      "text/plain": [
       "array([[12],\n",
       "       [12]])"
      ]
     },
     "execution_count": 7,
     "metadata": {},
     "output_type": "execute_result"
    }
   ],
   "source": [
    "v1 * v3 # producto elemento a elemento"
   ]
  },
  {
   "cell_type": "code",
   "execution_count": 8,
   "metadata": {},
   "outputs": [
    {
     "data": {
      "text/plain": [
       "array([[13, 14,  6],\n",
       "       [34, 36, 17]])"
      ]
     },
     "execution_count": 8,
     "metadata": {},
     "output_type": "execute_result"
    }
   ],
   "source": [
    "np.matmul(M, S) # producto matricial"
   ]
  },
  {
   "cell_type": "code",
   "execution_count": 9,
   "metadata": {},
   "outputs": [
    {
     "data": {
      "text/plain": [
       "array([[18, 31],\n",
       "       [20, 34],\n",
       "       [ 7, 13]])"
      ]
     },
     "execution_count": 9,
     "metadata": {},
     "output_type": "execute_result"
    }
   ],
   "source": [
    "np.matmul(S.T, M) # producto matricial"
   ]
  }
 ],
 "metadata": {
  "kernelspec": {
   "display_name": "anaconda-2022.05-py39",
   "language": "python",
   "name": "conda-env-anaconda-2022.05-py39-py"
  },
  "language_info": {
   "codemirror_mode": {
    "name": "ipython",
    "version": 3
   },
   "file_extension": ".py",
   "mimetype": "text/x-python",
   "name": "python",
   "nbconvert_exporter": "python",
   "pygments_lexer": "ipython3",
   "version": "3.9.12"
  }
 },
 "nbformat": 4,
 "nbformat_minor": 4
}
