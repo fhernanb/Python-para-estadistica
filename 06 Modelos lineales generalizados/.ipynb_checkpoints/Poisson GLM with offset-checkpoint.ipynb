{
 "cells": [
  {
   "cell_type": "markdown",
   "metadata": {},
   "source": [
    "# Modelos Lineales Generalizados en Python\n",
    "# Regresión Poisson\n",
    "\n",
    "<img src=\"https://raw.githubusercontent.com/fhernanb/fhernanb.github.io/master/docs/logo_unal_color.png\" alt=\"drawing\" width=\"200\"/>\n",
    "\n",
    "Aquí se muestran varios ejemplos de como usar Python para ajustar un modelo lineal generalizado. "
   ]
  },
  {
   "cell_type": "markdown",
   "metadata": {},
   "source": [
    "Las librerías necesarias son las siguientes:"
   ]
  },
  {
   "cell_type": "code",
   "execution_count": 1,
   "metadata": {},
   "outputs": [],
   "source": [
    "import statsmodels.api as sm\n",
    "import statsmodels.formula.api as smf\n",
    "from statsmodels.formula.api import glm"
   ]
  },
  {
   "cell_type": "markdown",
   "metadata": {},
   "source": [
    "Otras librerías que se usarán en los ejemplos son:"
   ]
  },
  {
   "cell_type": "code",
   "execution_count": 2,
   "metadata": {},
   "outputs": [],
   "source": [
    "import pandas as pd\n",
    "import numpy as np"
   ]
  },
  {
   "cell_type": "markdown",
   "metadata": {},
   "source": [
    "## Ejemplo\n",
    "\n",
    "En esta actividad vamos a utilizar los datos muertes de hombres con cáncer de pulmón, el ejemplo es presentado en el capítulo 7 de Agresti (2015). El objetivo es ajustar el siguiente modelo:\n",
    "\n",
    "\\begin{align}\n",
    "Y_i &\\sim Poisson(\\mu_i), \\\\ \n",
    "\\log(\\mu_i / t_i) &= \\beta_0 + \\beta_1 Stage_2 + \\beta_2 Stage_3 + \\beta_3 Histo_2 + \\beta_4 Histo_3 + \\beta_5 Time_2 + \\ldots + \\beta_{10} Time_7\n",
    "\\end{align}\n",
    "\n",
    "Los datos del ejemplo se refieren al número $Y$ de hombres muertos durante un seguimiento durante $t_i$ meses. La variable Histo corresponde a histología (I, II, III) y Stage corresponde al estado de la enfermedad (1, 2, 3).\n",
    "\n",
    "Abajo una figura ilustrativa.\n",
    "\n",
    "<img src=\"cancer.png\" alt=\"drawing\" width=\"300\"/>"
   ]
  },
  {
   "cell_type": "markdown",
   "metadata": {},
   "source": [
    "Lo primero que usted debe hacer es leer la base de datos."
   ]
  },
  {
   "cell_type": "code",
   "execution_count": 3,
   "metadata": {},
   "outputs": [
    {
     "data": {
      "text/html": [
       "<div>\n",
       "<style scoped>\n",
       "    .dataframe tbody tr th:only-of-type {\n",
       "        vertical-align: middle;\n",
       "    }\n",
       "\n",
       "    .dataframe tbody tr th {\n",
       "        vertical-align: top;\n",
       "    }\n",
       "\n",
       "    .dataframe thead th {\n",
       "        text-align: right;\n",
       "    }\n",
       "</style>\n",
       "<table border=\"1\" class=\"dataframe\">\n",
       "  <thead>\n",
       "    <tr style=\"text-align: right;\">\n",
       "      <th></th>\n",
       "      <th>time</th>\n",
       "      <th>histology</th>\n",
       "      <th>stage</th>\n",
       "      <th>count</th>\n",
       "      <th>risktime</th>\n",
       "    </tr>\n",
       "  </thead>\n",
       "  <tbody>\n",
       "    <tr>\n",
       "      <th>0</th>\n",
       "      <td>1</td>\n",
       "      <td>1</td>\n",
       "      <td>1</td>\n",
       "      <td>9</td>\n",
       "      <td>157</td>\n",
       "    </tr>\n",
       "    <tr>\n",
       "      <th>1</th>\n",
       "      <td>1</td>\n",
       "      <td>2</td>\n",
       "      <td>1</td>\n",
       "      <td>5</td>\n",
       "      <td>77</td>\n",
       "    </tr>\n",
       "    <tr>\n",
       "      <th>2</th>\n",
       "      <td>1</td>\n",
       "      <td>3</td>\n",
       "      <td>1</td>\n",
       "      <td>1</td>\n",
       "      <td>21</td>\n",
       "    </tr>\n",
       "    <tr>\n",
       "      <th>3</th>\n",
       "      <td>2</td>\n",
       "      <td>1</td>\n",
       "      <td>1</td>\n",
       "      <td>2</td>\n",
       "      <td>139</td>\n",
       "    </tr>\n",
       "    <tr>\n",
       "      <th>4</th>\n",
       "      <td>2</td>\n",
       "      <td>2</td>\n",
       "      <td>1</td>\n",
       "      <td>2</td>\n",
       "      <td>68</td>\n",
       "    </tr>\n",
       "  </tbody>\n",
       "</table>\n",
       "</div>"
      ],
      "text/plain": [
       "   time  histology  stage  count  risktime\n",
       "0     1          1      1      9       157\n",
       "1     1          2      1      5        77\n",
       "2     1          3      1      1        21\n",
       "3     2          1      1      2       139\n",
       "4     2          2      1      2        68"
      ]
     },
     "execution_count": 3,
     "metadata": {},
     "output_type": "execute_result"
    }
   ],
   "source": [
    "file = 'http://users.stat.ufl.edu/~aa/glm/data/Cancer.dat'\n",
    "datos = pd.read_csv(file, sep='\\s+', header=0)\n",
    "datos.head()"
   ]
  },
  {
   "cell_type": "markdown",
   "metadata": {},
   "source": [
    "Para ver el tamaño de la base de datos"
   ]
  },
  {
   "cell_type": "code",
   "execution_count": 4,
   "metadata": {},
   "outputs": [
    {
     "data": {
      "text/plain": [
       "(63, 5)"
      ]
     },
     "execution_count": 4,
     "metadata": {},
     "output_type": "execute_result"
    }
   ],
   "source": [
    "datos.shape"
   ]
  },
  {
   "cell_type": "markdown",
   "metadata": {},
   "source": [
    "Para crear la variable logrisktime usamos la siguiente instrucción:"
   ]
  },
  {
   "cell_type": "code",
   "execution_count": 5,
   "metadata": {},
   "outputs": [],
   "source": [
    "datos[\"logrisktime\"] = np.log(datos[\"risktime\"])"
   ]
  },
  {
   "cell_type": "code",
   "execution_count": 6,
   "metadata": {},
   "outputs": [
    {
     "data": {
      "text/html": [
       "<div>\n",
       "<style scoped>\n",
       "    .dataframe tbody tr th:only-of-type {\n",
       "        vertical-align: middle;\n",
       "    }\n",
       "\n",
       "    .dataframe tbody tr th {\n",
       "        vertical-align: top;\n",
       "    }\n",
       "\n",
       "    .dataframe thead th {\n",
       "        text-align: right;\n",
       "    }\n",
       "</style>\n",
       "<table border=\"1\" class=\"dataframe\">\n",
       "  <thead>\n",
       "    <tr style=\"text-align: right;\">\n",
       "      <th></th>\n",
       "      <th>time</th>\n",
       "      <th>histology</th>\n",
       "      <th>stage</th>\n",
       "      <th>count</th>\n",
       "      <th>risktime</th>\n",
       "      <th>logrisktime</th>\n",
       "    </tr>\n",
       "  </thead>\n",
       "  <tbody>\n",
       "    <tr>\n",
       "      <th>0</th>\n",
       "      <td>1</td>\n",
       "      <td>1</td>\n",
       "      <td>1</td>\n",
       "      <td>9</td>\n",
       "      <td>157</td>\n",
       "      <td>5.056246</td>\n",
       "    </tr>\n",
       "    <tr>\n",
       "      <th>1</th>\n",
       "      <td>1</td>\n",
       "      <td>2</td>\n",
       "      <td>1</td>\n",
       "      <td>5</td>\n",
       "      <td>77</td>\n",
       "      <td>4.343805</td>\n",
       "    </tr>\n",
       "    <tr>\n",
       "      <th>2</th>\n",
       "      <td>1</td>\n",
       "      <td>3</td>\n",
       "      <td>1</td>\n",
       "      <td>1</td>\n",
       "      <td>21</td>\n",
       "      <td>3.044522</td>\n",
       "    </tr>\n",
       "    <tr>\n",
       "      <th>3</th>\n",
       "      <td>2</td>\n",
       "      <td>1</td>\n",
       "      <td>1</td>\n",
       "      <td>2</td>\n",
       "      <td>139</td>\n",
       "      <td>4.934474</td>\n",
       "    </tr>\n",
       "    <tr>\n",
       "      <th>4</th>\n",
       "      <td>2</td>\n",
       "      <td>2</td>\n",
       "      <td>1</td>\n",
       "      <td>2</td>\n",
       "      <td>68</td>\n",
       "      <td>4.219508</td>\n",
       "    </tr>\n",
       "  </tbody>\n",
       "</table>\n",
       "</div>"
      ],
      "text/plain": [
       "   time  histology  stage  count  risktime  logrisktime\n",
       "0     1          1      1      9       157     5.056246\n",
       "1     1          2      1      5        77     4.343805\n",
       "2     1          3      1      1        21     3.044522\n",
       "3     2          1      1      2       139     4.934474\n",
       "4     2          2      1      2        68     4.219508"
      ]
     },
     "execution_count": 6,
     "metadata": {},
     "output_type": "execute_result"
    }
   ],
   "source": [
    "datos.head()"
   ]
  },
  {
   "cell_type": "markdown",
   "metadata": {},
   "source": [
    "Para ajustar el modelo:"
   ]
  },
  {
   "cell_type": "code",
   "execution_count": 7,
   "metadata": {},
   "outputs": [
    {
     "data": {
      "text/html": [
       "<table class=\"simpletable\">\n",
       "<caption>Generalized Linear Model Regression Results</caption>\n",
       "<tr>\n",
       "  <th>Dep. Variable:</th>         <td>count</td>      <th>  No. Observations:  </th>  <td>    63</td> \n",
       "</tr>\n",
       "<tr>\n",
       "  <th>Model:</th>                  <td>GLM</td>       <th>  Df Residuals:      </th>  <td>    52</td> \n",
       "</tr>\n",
       "<tr>\n",
       "  <th>Model Family:</th>         <td>Poisson</td>     <th>  Df Model:          </th>  <td>    10</td> \n",
       "</tr>\n",
       "<tr>\n",
       "  <th>Link Function:</th>          <td>log</td>       <th>  Scale:             </th> <td>  1.0000</td>\n",
       "</tr>\n",
       "<tr>\n",
       "  <th>Method:</th>                <td>IRLS</td>       <th>  Log-Likelihood:    </th> <td> -114.87</td>\n",
       "</tr>\n",
       "<tr>\n",
       "  <th>Date:</th>            <td>Tue, 03 May 2022</td> <th>  Deviance:          </th> <td>  43.923</td>\n",
       "</tr>\n",
       "<tr>\n",
       "  <th>Time:</th>                <td>08:18:09</td>     <th>  Pearson chi2:      </th>  <td>  43.1</td> \n",
       "</tr>\n",
       "<tr>\n",
       "  <th>No. Iterations:</th>          <td>5</td>        <th>                     </th>     <td> </td>   \n",
       "</tr>\n",
       "<tr>\n",
       "  <th>Covariance Type:</th>     <td>nonrobust</td>    <th>                     </th>     <td> </td>   \n",
       "</tr>\n",
       "</table>\n",
       "<table class=\"simpletable\">\n",
       "<tr>\n",
       "          <td></td>             <th>coef</th>     <th>std err</th>      <th>z</th>      <th>P>|z|</th>  <th>[0.025</th>    <th>0.975]</th>  \n",
       "</tr>\n",
       "<tr>\n",
       "  <th>Intercept</th>         <td>   -3.0093</td> <td>    0.167</td> <td>  -18.073</td> <td> 0.000</td> <td>   -3.336</td> <td>   -2.683</td>\n",
       "</tr>\n",
       "<tr>\n",
       "  <th>C(stage)[T.2]</th>     <td>    0.4700</td> <td>    0.174</td> <td>    2.694</td> <td> 0.007</td> <td>    0.128</td> <td>    0.812</td>\n",
       "</tr>\n",
       "<tr>\n",
       "  <th>C(stage)[T.3]</th>     <td>    1.3243</td> <td>    0.152</td> <td>    8.709</td> <td> 0.000</td> <td>    1.026</td> <td>    1.622</td>\n",
       "</tr>\n",
       "<tr>\n",
       "  <th>C(histology)[T.2]</th> <td>    0.1624</td> <td>    0.122</td> <td>    1.332</td> <td> 0.183</td> <td>   -0.077</td> <td>    0.401</td>\n",
       "</tr>\n",
       "<tr>\n",
       "  <th>C(histology)[T.3]</th> <td>    0.1075</td> <td>    0.147</td> <td>    0.729</td> <td> 0.466</td> <td>   -0.181</td> <td>    0.397</td>\n",
       "</tr>\n",
       "<tr>\n",
       "  <th>C(time)[T.2]</th>      <td>   -0.1275</td> <td>    0.149</td> <td>   -0.855</td> <td> 0.393</td> <td>   -0.420</td> <td>    0.165</td>\n",
       "</tr>\n",
       "<tr>\n",
       "  <th>C(time)[T.3]</th>      <td>   -0.0797</td> <td>    0.164</td> <td>   -0.488</td> <td> 0.626</td> <td>   -0.400</td> <td>    0.241</td>\n",
       "</tr>\n",
       "<tr>\n",
       "  <th>C(time)[T.4]</th>      <td>    0.1189</td> <td>    0.171</td> <td>    0.695</td> <td> 0.487</td> <td>   -0.216</td> <td>    0.454</td>\n",
       "</tr>\n",
       "<tr>\n",
       "  <th>C(time)[T.5]</th>      <td>   -0.6651</td> <td>    0.261</td> <td>   -2.552</td> <td> 0.011</td> <td>   -1.176</td> <td>   -0.154</td>\n",
       "</tr>\n",
       "<tr>\n",
       "  <th>C(time)[T.6]</th>      <td>   -0.3502</td> <td>    0.243</td> <td>   -1.438</td> <td> 0.150</td> <td>   -0.827</td> <td>    0.127</td>\n",
       "</tr>\n",
       "<tr>\n",
       "  <th>C(time)[T.7]</th>      <td>   -0.1752</td> <td>    0.250</td> <td>   -0.701</td> <td> 0.483</td> <td>   -0.665</td> <td>    0.315</td>\n",
       "</tr>\n",
       "</table>"
      ],
      "text/plain": [
       "<class 'statsmodels.iolib.summary.Summary'>\n",
       "\"\"\"\n",
       "                 Generalized Linear Model Regression Results                  \n",
       "==============================================================================\n",
       "Dep. Variable:                  count   No. Observations:                   63\n",
       "Model:                            GLM   Df Residuals:                       52\n",
       "Model Family:                 Poisson   Df Model:                           10\n",
       "Link Function:                    log   Scale:                          1.0000\n",
       "Method:                          IRLS   Log-Likelihood:                -114.87\n",
       "Date:                Tue, 03 May 2022   Deviance:                       43.923\n",
       "Time:                        08:18:09   Pearson chi2:                     43.1\n",
       "No. Iterations:                     5                                         \n",
       "Covariance Type:            nonrobust                                         \n",
       "=====================================================================================\n",
       "                        coef    std err          z      P>|z|      [0.025      0.975]\n",
       "-------------------------------------------------------------------------------------\n",
       "Intercept            -3.0093      0.167    -18.073      0.000      -3.336      -2.683\n",
       "C(stage)[T.2]         0.4700      0.174      2.694      0.007       0.128       0.812\n",
       "C(stage)[T.3]         1.3243      0.152      8.709      0.000       1.026       1.622\n",
       "C(histology)[T.2]     0.1624      0.122      1.332      0.183      -0.077       0.401\n",
       "C(histology)[T.3]     0.1075      0.147      0.729      0.466      -0.181       0.397\n",
       "C(time)[T.2]         -0.1275      0.149     -0.855      0.393      -0.420       0.165\n",
       "C(time)[T.3]         -0.0797      0.164     -0.488      0.626      -0.400       0.241\n",
       "C(time)[T.4]          0.1189      0.171      0.695      0.487      -0.216       0.454\n",
       "C(time)[T.5]         -0.6651      0.261     -2.552      0.011      -1.176      -0.154\n",
       "C(time)[T.6]         -0.3502      0.243     -1.438      0.150      -0.827       0.127\n",
       "C(time)[T.7]         -0.1752      0.250     -0.701      0.483      -0.665       0.315\n",
       "=====================================================================================\n",
       "\"\"\""
      ]
     },
     "execution_count": 7,
     "metadata": {},
     "output_type": "execute_result"
    }
   ],
   "source": [
    "mod1 = smf.glm(formula='count ~ C(stage) + C(histology) + C(time)', offset=datos[\"logrisktime\"], \n",
    "               data=datos, family=sm.families.Poisson(link=sm.families.links.log()))\n",
    "mod1 = mod1.fit()\n",
    "mod1.summary()"
   ]
  },
  {
   "cell_type": "markdown",
   "metadata": {},
   "source": [
    "Usando los resultados de la tabla anterior podemos escribir el modelo\n",
    "\n",
    "\\begin{align}\n",
    "Y_i &\\sim Poisson(\\hat{\\mu_i}), \\\\ \n",
    "\\log(\\hat{\\mu_i}) &= -3.0093 + 0.4700 Stage_2 + 1.3243 Stage_3 + 0.1624 Histo_2 + 0.1075 Histo_3 - 0.1275 Time_2 + \\ldots - 0.10752 Time_7 + \\log(t_i)\n",
    "\\end{align}\n",
    "\n",
    "Recordemos que los valores de $\\log(t_i)$ están en la última columna de los datos."
   ]
  },
  {
   "cell_type": "code",
   "execution_count": 8,
   "metadata": {},
   "outputs": [
    {
     "data": {
      "text/html": [
       "<div>\n",
       "<style scoped>\n",
       "    .dataframe tbody tr th:only-of-type {\n",
       "        vertical-align: middle;\n",
       "    }\n",
       "\n",
       "    .dataframe tbody tr th {\n",
       "        vertical-align: top;\n",
       "    }\n",
       "\n",
       "    .dataframe thead th {\n",
       "        text-align: right;\n",
       "    }\n",
       "</style>\n",
       "<table border=\"1\" class=\"dataframe\">\n",
       "  <thead>\n",
       "    <tr style=\"text-align: right;\">\n",
       "      <th></th>\n",
       "      <th>time</th>\n",
       "      <th>histology</th>\n",
       "      <th>stage</th>\n",
       "      <th>count</th>\n",
       "      <th>risktime</th>\n",
       "      <th>logrisktime</th>\n",
       "    </tr>\n",
       "  </thead>\n",
       "  <tbody>\n",
       "    <tr>\n",
       "      <th>0</th>\n",
       "      <td>1</td>\n",
       "      <td>1</td>\n",
       "      <td>1</td>\n",
       "      <td>9</td>\n",
       "      <td>157</td>\n",
       "      <td>5.056246</td>\n",
       "    </tr>\n",
       "    <tr>\n",
       "      <th>1</th>\n",
       "      <td>1</td>\n",
       "      <td>2</td>\n",
       "      <td>1</td>\n",
       "      <td>5</td>\n",
       "      <td>77</td>\n",
       "      <td>4.343805</td>\n",
       "    </tr>\n",
       "    <tr>\n",
       "      <th>2</th>\n",
       "      <td>1</td>\n",
       "      <td>3</td>\n",
       "      <td>1</td>\n",
       "      <td>1</td>\n",
       "      <td>21</td>\n",
       "      <td>3.044522</td>\n",
       "    </tr>\n",
       "    <tr>\n",
       "      <th>3</th>\n",
       "      <td>2</td>\n",
       "      <td>1</td>\n",
       "      <td>1</td>\n",
       "      <td>2</td>\n",
       "      <td>139</td>\n",
       "      <td>4.934474</td>\n",
       "    </tr>\n",
       "    <tr>\n",
       "      <th>4</th>\n",
       "      <td>2</td>\n",
       "      <td>2</td>\n",
       "      <td>1</td>\n",
       "      <td>2</td>\n",
       "      <td>68</td>\n",
       "      <td>4.219508</td>\n",
       "    </tr>\n",
       "  </tbody>\n",
       "</table>\n",
       "</div>"
      ],
      "text/plain": [
       "   time  histology  stage  count  risktime  logrisktime\n",
       "0     1          1      1      9       157     5.056246\n",
       "1     1          2      1      5        77     4.343805\n",
       "2     1          3      1      1        21     3.044522\n",
       "3     2          1      1      2       139     4.934474\n",
       "4     2          2      1      2        68     4.219508"
      ]
     },
     "execution_count": 8,
     "metadata": {},
     "output_type": "execute_result"
    }
   ],
   "source": [
    "datos.head()"
   ]
  }
 ],
 "metadata": {
  "kernelspec": {
   "display_name": "Python 3 (ipykernel)",
   "language": "python",
   "name": "python3"
  },
  "language_info": {
   "codemirror_mode": {
    "name": "ipython",
    "version": 3
   },
   "file_extension": ".py",
   "mimetype": "text/x-python",
   "name": "python",
   "nbconvert_exporter": "python",
   "pygments_lexer": "ipython3",
   "version": "3.8.8"
  }
 },
 "nbformat": 4,
 "nbformat_minor": 2
}
