{
 "cells": [
  {
   "cell_type": "markdown",
   "metadata": {},
   "source": [
    "# Modelos Lineales Generalizados en Python\n",
    "# Regresión Poisson\n",
    "\n",
    "<img src=\"https://raw.githubusercontent.com/fhernanb/fhernanb.github.io/master/docs/logo_unal_color.png\" alt=\"drawing\" width=\"200\"/>\n",
    "\n",
    "Aquí se muestran varios ejemplos de como usar Python para ajustar un modelo lineal generalizado. "
   ]
  },
  {
   "cell_type": "markdown",
   "metadata": {},
   "source": [
    "Las explicaciones mostradas aquí están basadas en un video de YouTube https://www.youtube.com/watch?v=__oC5IRCFKI\n",
    "\n",
    "Las librerías necesarias son las siguientes:"
   ]
  },
  {
   "cell_type": "code",
   "execution_count": 1,
   "metadata": {},
   "outputs": [],
   "source": [
    "import statsmodels.api as sm\n",
    "import statsmodels.formula.api as smf\n",
    "from statsmodels.formula.api import glm"
   ]
  },
  {
   "cell_type": "markdown",
   "metadata": {},
   "source": [
    "Otras librerías que se usarán en los ejemplos son:"
   ]
  },
  {
   "cell_type": "code",
   "execution_count": 2,
   "metadata": {},
   "outputs": [],
   "source": [
    "import pandas as pd"
   ]
  },
  {
   "cell_type": "markdown",
   "metadata": {},
   "source": [
    "## Datos\n",
    "\n",
    "En esta actividad vamos a utilizar los datos de los cangrejos presentados en el capítulo 1 de Agresti (2015). Los datos del ejemplo se refieren al número $Y$ de cangrejos machos pegados al caparazón de las cangrejas hembras. Abajo una figura ilustrativa.\n",
    "\n",
    "<img src=\"cangreja.jpg\" alt=\"drawing\" width=\"300\"/>"
   ]
  },
  {
   "cell_type": "markdown",
   "metadata": {},
   "source": [
    "Lo primero que usted debe hacer es leer la base de datos."
   ]
  },
  {
   "cell_type": "code",
   "execution_count": 3,
   "metadata": {},
   "outputs": [
    {
     "data": {
      "text/html": [
       "<div>\n",
       "<style scoped>\n",
       "    .dataframe tbody tr th:only-of-type {\n",
       "        vertical-align: middle;\n",
       "    }\n",
       "\n",
       "    .dataframe tbody tr th {\n",
       "        vertical-align: top;\n",
       "    }\n",
       "\n",
       "    .dataframe thead th {\n",
       "        text-align: right;\n",
       "    }\n",
       "</style>\n",
       "<table border=\"1\" class=\"dataframe\">\n",
       "  <thead>\n",
       "    <tr style=\"text-align: right;\">\n",
       "      <th></th>\n",
       "      <th>crab</th>\n",
       "      <th>y</th>\n",
       "      <th>weight</th>\n",
       "      <th>width</th>\n",
       "      <th>color</th>\n",
       "      <th>spine</th>\n",
       "    </tr>\n",
       "  </thead>\n",
       "  <tbody>\n",
       "    <tr>\n",
       "      <th>0</th>\n",
       "      <td>1</td>\n",
       "      <td>8</td>\n",
       "      <td>3.05</td>\n",
       "      <td>28.3</td>\n",
       "      <td>2</td>\n",
       "      <td>3</td>\n",
       "    </tr>\n",
       "    <tr>\n",
       "      <th>1</th>\n",
       "      <td>2</td>\n",
       "      <td>0</td>\n",
       "      <td>1.55</td>\n",
       "      <td>22.5</td>\n",
       "      <td>3</td>\n",
       "      <td>3</td>\n",
       "    </tr>\n",
       "    <tr>\n",
       "      <th>2</th>\n",
       "      <td>3</td>\n",
       "      <td>9</td>\n",
       "      <td>2.30</td>\n",
       "      <td>26.0</td>\n",
       "      <td>1</td>\n",
       "      <td>1</td>\n",
       "    </tr>\n",
       "    <tr>\n",
       "      <th>3</th>\n",
       "      <td>4</td>\n",
       "      <td>0</td>\n",
       "      <td>2.10</td>\n",
       "      <td>24.8</td>\n",
       "      <td>3</td>\n",
       "      <td>3</td>\n",
       "    </tr>\n",
       "    <tr>\n",
       "      <th>4</th>\n",
       "      <td>5</td>\n",
       "      <td>4</td>\n",
       "      <td>2.60</td>\n",
       "      <td>26.0</td>\n",
       "      <td>3</td>\n",
       "      <td>3</td>\n",
       "    </tr>\n",
       "  </tbody>\n",
       "</table>\n",
       "</div>"
      ],
      "text/plain": [
       "   crab  y  weight  width  color  spine\n",
       "0     1  8    3.05   28.3      2      3\n",
       "1     2  0    1.55   22.5      3      3\n",
       "2     3  9    2.30   26.0      1      1\n",
       "3     4  0    2.10   24.8      3      3\n",
       "4     5  4    2.60   26.0      3      3"
      ]
     },
     "execution_count": 3,
     "metadata": {},
     "output_type": "execute_result"
    }
   ],
   "source": [
    "file = 'http://users.stat.ufl.edu/~aa/glm/data/Crabs.dat'\n",
    "datos = pd.read_csv(file, sep='\\s+', header=0)\n",
    "datos.head()"
   ]
  },
  {
   "cell_type": "markdown",
   "metadata": {},
   "source": [
    "Para ver el tamaño de la base de datos"
   ]
  },
  {
   "cell_type": "code",
   "execution_count": 4,
   "metadata": {},
   "outputs": [
    {
     "data": {
      "text/plain": [
       "(173, 6)"
      ]
     },
     "execution_count": 4,
     "metadata": {},
     "output_type": "execute_result"
    }
   ],
   "source": [
    "datos.shape"
   ]
  },
  {
   "cell_type": "markdown",
   "metadata": {},
   "source": [
    "Vamos a convertir las variables cualitativas que tienen números en verdaderas variables cualitativas usando pandas."
   ]
  },
  {
   "cell_type": "code",
   "execution_count": 5,
   "metadata": {},
   "outputs": [
    {
     "data": {
      "text/html": [
       "<div>\n",
       "<style scoped>\n",
       "    .dataframe tbody tr th:only-of-type {\n",
       "        vertical-align: middle;\n",
       "    }\n",
       "\n",
       "    .dataframe tbody tr th {\n",
       "        vertical-align: top;\n",
       "    }\n",
       "\n",
       "    .dataframe thead th {\n",
       "        text-align: right;\n",
       "    }\n",
       "</style>\n",
       "<table border=\"1\" class=\"dataframe\">\n",
       "  <thead>\n",
       "    <tr style=\"text-align: right;\">\n",
       "      <th></th>\n",
       "      <th>crab</th>\n",
       "      <th>y</th>\n",
       "      <th>weight</th>\n",
       "      <th>width</th>\n",
       "      <th>color</th>\n",
       "      <th>spine</th>\n",
       "    </tr>\n",
       "  </thead>\n",
       "  <tbody>\n",
       "    <tr>\n",
       "      <th>0</th>\n",
       "      <td>1</td>\n",
       "      <td>8</td>\n",
       "      <td>3.05</td>\n",
       "      <td>28.3</td>\n",
       "      <td>medium</td>\n",
       "      <td>both worn or broken</td>\n",
       "    </tr>\n",
       "    <tr>\n",
       "      <th>1</th>\n",
       "      <td>2</td>\n",
       "      <td>0</td>\n",
       "      <td>1.55</td>\n",
       "      <td>22.5</td>\n",
       "      <td>medium dark</td>\n",
       "      <td>both worn or broken</td>\n",
       "    </tr>\n",
       "    <tr>\n",
       "      <th>2</th>\n",
       "      <td>3</td>\n",
       "      <td>9</td>\n",
       "      <td>2.30</td>\n",
       "      <td>26.0</td>\n",
       "      <td>medium light</td>\n",
       "      <td>both good</td>\n",
       "    </tr>\n",
       "    <tr>\n",
       "      <th>3</th>\n",
       "      <td>4</td>\n",
       "      <td>0</td>\n",
       "      <td>2.10</td>\n",
       "      <td>24.8</td>\n",
       "      <td>medium dark</td>\n",
       "      <td>both worn or broken</td>\n",
       "    </tr>\n",
       "    <tr>\n",
       "      <th>4</th>\n",
       "      <td>5</td>\n",
       "      <td>4</td>\n",
       "      <td>2.60</td>\n",
       "      <td>26.0</td>\n",
       "      <td>medium dark</td>\n",
       "      <td>both worn or broken</td>\n",
       "    </tr>\n",
       "  </tbody>\n",
       "</table>\n",
       "</div>"
      ],
      "text/plain": [
       "   crab  y  weight  width         color                spine\n",
       "0     1  8    3.05   28.3        medium  both worn or broken\n",
       "1     2  0    1.55   22.5   medium dark  both worn or broken\n",
       "2     3  9    2.30   26.0  medium light            both good\n",
       "3     4  0    2.10   24.8   medium dark  both worn or broken\n",
       "4     5  4    2.60   26.0   medium dark  both worn or broken"
      ]
     },
     "execution_count": 5,
     "metadata": {},
     "output_type": "execute_result"
    }
   ],
   "source": [
    "# Para convertir color\n",
    "scale_mapper = {1:'medium light', 2:'medium', 3:'medium dark', 4:'dark'}\n",
    "datos['color'] = datos['color'].replace(scale_mapper)\n",
    "datos['color'] = pd.Categorical(datos['color'], categories=['medium light', 'medium', 'medium dark', 'dark'])\n",
    "\n",
    "# Para convertir spine\n",
    "scale_mapper = {1:'both good', 2:'one worn or broken', 3:'both worn or broken'}\n",
    "datos['spine'] = datos['spine'].replace(scale_mapper)\n",
    "datos['spine'] = pd.Categorical(datos['spine'], ordered = True)\n",
    "\n",
    "datos.head()"
   ]
  },
  {
   "cell_type": "markdown",
   "metadata": {},
   "source": [
    "## Ejemplo 1\n",
    "\n",
    "El objetivo de este ejemplo es ajustar el siguiente modelo:\n",
    "\n",
    "\\begin{align}\n",
    "Y_i &\\sim Poisson(\\mu_i), \\\\ \n",
    "\\log(\\mu_i) &= \\beta_0 + \\beta_1 Weight_i\n",
    "\\end{align}"
   ]
  },
  {
   "cell_type": "markdown",
   "metadata": {},
   "source": [
    "Para ajustar el modelo:"
   ]
  },
  {
   "cell_type": "code",
   "execution_count": 6,
   "metadata": {},
   "outputs": [
    {
     "data": {
      "text/html": [
       "<table class=\"simpletable\">\n",
       "<caption>Generalized Linear Model Regression Results</caption>\n",
       "<tr>\n",
       "  <th>Dep. Variable:</th>           <td>y</td>        <th>  No. Observations:  </th>  <td>   173</td> \n",
       "</tr>\n",
       "<tr>\n",
       "  <th>Model:</th>                  <td>GLM</td>       <th>  Df Residuals:      </th>  <td>   171</td> \n",
       "</tr>\n",
       "<tr>\n",
       "  <th>Model Family:</th>         <td>Poisson</td>     <th>  Df Model:          </th>  <td>     1</td> \n",
       "</tr>\n",
       "<tr>\n",
       "  <th>Link Function:</th>          <td>log</td>       <th>  Scale:             </th> <td>  1.0000</td>\n",
       "</tr>\n",
       "<tr>\n",
       "  <th>Method:</th>                <td>IRLS</td>       <th>  Log-Likelihood:    </th> <td> -458.08</td>\n",
       "</tr>\n",
       "<tr>\n",
       "  <th>Date:</th>            <td>Mon, 02 May 2022</td> <th>  Deviance:          </th> <td>  560.87</td>\n",
       "</tr>\n",
       "<tr>\n",
       "  <th>Time:</th>                <td>15:02:09</td>     <th>  Pearson chi2:      </th>  <td>  536.</td> \n",
       "</tr>\n",
       "<tr>\n",
       "  <th>No. Iterations:</th>          <td>5</td>        <th>                     </th>     <td> </td>   \n",
       "</tr>\n",
       "<tr>\n",
       "  <th>Covariance Type:</th>     <td>nonrobust</td>    <th>                     </th>     <td> </td>   \n",
       "</tr>\n",
       "</table>\n",
       "<table class=\"simpletable\">\n",
       "<tr>\n",
       "      <td></td>         <th>coef</th>     <th>std err</th>      <th>z</th>      <th>P>|z|</th>  <th>[0.025</th>    <th>0.975]</th>  \n",
       "</tr>\n",
       "<tr>\n",
       "  <th>Intercept</th> <td>   -0.4284</td> <td>    0.179</td> <td>   -2.394</td> <td> 0.017</td> <td>   -0.779</td> <td>   -0.078</td>\n",
       "</tr>\n",
       "<tr>\n",
       "  <th>weight</th>    <td>    0.5893</td> <td>    0.065</td> <td>    9.064</td> <td> 0.000</td> <td>    0.462</td> <td>    0.717</td>\n",
       "</tr>\n",
       "</table>"
      ],
      "text/plain": [
       "<class 'statsmodels.iolib.summary.Summary'>\n",
       "\"\"\"\n",
       "                 Generalized Linear Model Regression Results                  \n",
       "==============================================================================\n",
       "Dep. Variable:                      y   No. Observations:                  173\n",
       "Model:                            GLM   Df Residuals:                      171\n",
       "Model Family:                 Poisson   Df Model:                            1\n",
       "Link Function:                    log   Scale:                          1.0000\n",
       "Method:                          IRLS   Log-Likelihood:                -458.08\n",
       "Date:                Mon, 02 May 2022   Deviance:                       560.87\n",
       "Time:                        15:02:09   Pearson chi2:                     536.\n",
       "No. Iterations:                     5                                         \n",
       "Covariance Type:            nonrobust                                         \n",
       "==============================================================================\n",
       "                 coef    std err          z      P>|z|      [0.025      0.975]\n",
       "------------------------------------------------------------------------------\n",
       "Intercept     -0.4284      0.179     -2.394      0.017      -0.779      -0.078\n",
       "weight         0.5893      0.065      9.064      0.000       0.462       0.717\n",
       "==============================================================================\n",
       "\"\"\""
      ]
     },
     "execution_count": 6,
     "metadata": {},
     "output_type": "execute_result"
    }
   ],
   "source": [
    "mod1 = smf.glm(formula='y ~ weight', data=datos, \n",
    "               family=sm.families.Poisson(link=sm.families.links.log()))\n",
    "mod1 = mod1.fit()\n",
    "mod1.summary()"
   ]
  },
  {
   "cell_type": "markdown",
   "metadata": {},
   "source": [
    "Usando los resultados de la tabla anterior podemos escribir el modelo\n",
    "\n",
    "\\begin{align}\n",
    "Y_i &\\sim Poisson(\\hat{\\mu}_i), \\\\ \n",
    "\\log(\\hat{\\mu}_i) &= -0.4284 + 0.5893 Weight_i\n",
    "\\end{align}"
   ]
  },
  {
   "cell_type": "markdown",
   "metadata": {},
   "source": [
    "## Ejemplo 2\n",
    "\n",
    "El objetivo es ahora es ajustar el siguiente modelo:\n",
    "\n",
    "\\begin{align}\n",
    "Y_i &\\sim Poisson(\\mu_i), \\\\ \n",
    "\\log(\\mu_i) &= \\beta_0 + \\beta_1 Weight_i + \\beta_2 colorMedium_i + \\beta_3 colorMediumDark_i + \\beta_4 colorDark_i\n",
    "\\end{align}\n",
    "\n"
   ]
  },
  {
   "cell_type": "code",
   "execution_count": 8,
   "metadata": {},
   "outputs": [
    {
     "data": {
      "text/html": [
       "<table class=\"simpletable\">\n",
       "<caption>Generalized Linear Model Regression Results</caption>\n",
       "<tr>\n",
       "  <th>Dep. Variable:</th>           <td>y</td>        <th>  No. Observations:  </th>  <td>   173</td> \n",
       "</tr>\n",
       "<tr>\n",
       "  <th>Model:</th>                  <td>GLM</td>       <th>  Df Residuals:      </th>  <td>   168</td> \n",
       "</tr>\n",
       "<tr>\n",
       "  <th>Model Family:</th>         <td>Poisson</td>     <th>  Df Model:          </th>  <td>     4</td> \n",
       "</tr>\n",
       "<tr>\n",
       "  <th>Link Function:</th>          <td>log</td>       <th>  Scale:             </th> <td>  1.0000</td>\n",
       "</tr>\n",
       "<tr>\n",
       "  <th>Method:</th>                <td>IRLS</td>       <th>  Log-Likelihood:    </th> <td> -453.55</td>\n",
       "</tr>\n",
       "<tr>\n",
       "  <th>Date:</th>            <td>Mon, 02 May 2022</td> <th>  Deviance:          </th> <td>  551.80</td>\n",
       "</tr>\n",
       "<tr>\n",
       "  <th>Time:</th>                <td>15:02:09</td>     <th>  Pearson chi2:      </th>  <td>  535.</td> \n",
       "</tr>\n",
       "<tr>\n",
       "  <th>No. Iterations:</th>          <td>5</td>        <th>                     </th>     <td> </td>   \n",
       "</tr>\n",
       "<tr>\n",
       "  <th>Covariance Type:</th>     <td>nonrobust</td>    <th>                     </th>     <td> </td>   \n",
       "</tr>\n",
       "</table>\n",
       "<table class=\"simpletable\">\n",
       "<tr>\n",
       "            <td></td>              <th>coef</th>     <th>std err</th>      <th>z</th>      <th>P>|z|</th>  <th>[0.025</th>    <th>0.975]</th>  \n",
       "</tr>\n",
       "<tr>\n",
       "  <th>Intercept</th>            <td>   -0.0498</td> <td>    0.233</td> <td>   -0.214</td> <td> 0.831</td> <td>   -0.507</td> <td>    0.407</td>\n",
       "</tr>\n",
       "<tr>\n",
       "  <th>color[T.medium]</th>      <td>   -0.2051</td> <td>    0.154</td> <td>   -1.334</td> <td> 0.182</td> <td>   -0.506</td> <td>    0.096</td>\n",
       "</tr>\n",
       "<tr>\n",
       "  <th>color[T.medium dark]</th> <td>   -0.4498</td> <td>    0.176</td> <td>   -2.560</td> <td> 0.010</td> <td>   -0.794</td> <td>   -0.105</td>\n",
       "</tr>\n",
       "<tr>\n",
       "  <th>color[T.dark]</th>        <td>   -0.4520</td> <td>    0.208</td> <td>   -2.169</td> <td> 0.030</td> <td>   -0.861</td> <td>   -0.044</td>\n",
       "</tr>\n",
       "<tr>\n",
       "  <th>weight</th>               <td>    0.5462</td> <td>    0.068</td> <td>    8.019</td> <td> 0.000</td> <td>    0.413</td> <td>    0.680</td>\n",
       "</tr>\n",
       "</table>"
      ],
      "text/plain": [
       "<class 'statsmodels.iolib.summary.Summary'>\n",
       "\"\"\"\n",
       "                 Generalized Linear Model Regression Results                  \n",
       "==============================================================================\n",
       "Dep. Variable:                      y   No. Observations:                  173\n",
       "Model:                            GLM   Df Residuals:                      168\n",
       "Model Family:                 Poisson   Df Model:                            4\n",
       "Link Function:                    log   Scale:                          1.0000\n",
       "Method:                          IRLS   Log-Likelihood:                -453.55\n",
       "Date:                Mon, 02 May 2022   Deviance:                       551.80\n",
       "Time:                        15:02:09   Pearson chi2:                     535.\n",
       "No. Iterations:                     5                                         \n",
       "Covariance Type:            nonrobust                                         \n",
       "========================================================================================\n",
       "                           coef    std err          z      P>|z|      [0.025      0.975]\n",
       "----------------------------------------------------------------------------------------\n",
       "Intercept               -0.0498      0.233     -0.214      0.831      -0.507       0.407\n",
       "color[T.medium]         -0.2051      0.154     -1.334      0.182      -0.506       0.096\n",
       "color[T.medium dark]    -0.4498      0.176     -2.560      0.010      -0.794      -0.105\n",
       "color[T.dark]           -0.4520      0.208     -2.169      0.030      -0.861      -0.044\n",
       "weight                   0.5462      0.068      8.019      0.000       0.413       0.680\n",
       "========================================================================================\n",
       "\"\"\""
      ]
     },
     "execution_count": 8,
     "metadata": {},
     "output_type": "execute_result"
    }
   ],
   "source": [
    "mod2 = smf.glm(formula='y ~ weight + color', data=datos, \n",
    "               family=sm.families.Poisson(link=sm.families.links.log()))\n",
    "mod2 = mod2.fit()\n",
    "mod2.summary()"
   ]
  },
  {
   "cell_type": "markdown",
   "metadata": {},
   "source": [
    "Usando los resultados de la tabla anterior podemos escribir el modelo\n",
    "\n",
    "\\begin{align}\n",
    "Y_i &\\sim Poisson(\\hat{\\mu}_i), \\\\ \n",
    "\\log(\\hat{\\mu}_i) &= -0.0498 + 0.5462 Weight_i - 0.2051 colorMedium_i - 0.4498 colorMediumDark_i - 0.4520 colorDark_i\n",
    "\\end{align}"
   ]
  },
  {
   "cell_type": "markdown",
   "metadata": {},
   "source": [
    "## Haciendo predicciones\n",
    "\n",
    "¿Cuál será el número promedio estimado $\\hat{\\mu}$ de satélites para tres hembras con las siguientes características?\n",
    "\n",
    "- Peso de 1.75 kg y color de caparazón obscuro.\n",
    "- Peso de 2.15 kg y color de caparazón medio.\n",
    "- Peso de 1.46 kg y color de caparazón medio obscuro."
   ]
  },
  {
   "cell_type": "code",
   "execution_count": 9,
   "metadata": {},
   "outputs": [
    {
     "name": "stdout",
     "output_type": "stream",
     "text": [
      "   weight        color\n",
      "0    1.75         dark\n",
      "1    2.15       medium\n",
      "2    1.46  medium dark\n",
      "0    1.574573\n",
      "1    2.507769\n",
      "2    1.346954\n",
      "dtype: float64\n"
     ]
    }
   ],
   "source": [
    "df = pd.DataFrame({'weight' : [1.75, 2.15, 1.46],\n",
    "                   'color'  : ['dark', 'medium', 'medium dark']})\n",
    "\n",
    "print(df)\n",
    "\n",
    "yhat = mod2.predict(df)\n",
    "print(yhat)"
   ]
  },
  {
   "cell_type": "markdown",
   "metadata": {},
   "source": [
    "## Ejemplo 3\n",
    "\n",
    "El objetivo es ahora es agregar la variable spine al predictor lineal $\\eta$ del modelo anterior."
   ]
  },
  {
   "cell_type": "code",
   "execution_count": 10,
   "metadata": {},
   "outputs": [
    {
     "data": {
      "text/html": [
       "<table class=\"simpletable\">\n",
       "<caption>Generalized Linear Model Regression Results</caption>\n",
       "<tr>\n",
       "  <th>Dep. Variable:</th>           <td>y</td>        <th>  No. Observations:  </th>  <td>   173</td> \n",
       "</tr>\n",
       "<tr>\n",
       "  <th>Model:</th>                  <td>GLM</td>       <th>  Df Residuals:      </th>  <td>   166</td> \n",
       "</tr>\n",
       "<tr>\n",
       "  <th>Model Family:</th>         <td>Poisson</td>     <th>  Df Model:          </th>  <td>     6</td> \n",
       "</tr>\n",
       "<tr>\n",
       "  <th>Link Function:</th>          <td>log</td>       <th>  Scale:             </th> <td>  1.0000</td>\n",
       "</tr>\n",
       "<tr>\n",
       "  <th>Method:</th>                <td>IRLS</td>       <th>  Log-Likelihood:    </th> <td> -452.50</td>\n",
       "</tr>\n",
       "<tr>\n",
       "  <th>Date:</th>            <td>Mon, 02 May 2022</td> <th>  Deviance:          </th> <td>  549.70</td>\n",
       "</tr>\n",
       "<tr>\n",
       "  <th>Time:</th>                <td>15:02:09</td>     <th>  Pearson chi2:      </th>  <td>  533.</td> \n",
       "</tr>\n",
       "<tr>\n",
       "  <th>No. Iterations:</th>          <td>5</td>        <th>                     </th>     <td> </td>   \n",
       "</tr>\n",
       "<tr>\n",
       "  <th>Covariance Type:</th>     <td>nonrobust</td>    <th>                     </th>     <td> </td>   \n",
       "</tr>\n",
       "</table>\n",
       "<table class=\"simpletable\">\n",
       "<tr>\n",
       "                <td></td>                  <th>coef</th>     <th>std err</th>      <th>z</th>      <th>P>|z|</th>  <th>[0.025</th>    <th>0.975]</th>  \n",
       "</tr>\n",
       "<tr>\n",
       "  <th>Intercept</th>                    <td>   -0.0426</td> <td>    0.254</td> <td>   -0.168</td> <td> 0.866</td> <td>   -0.540</td> <td>    0.454</td>\n",
       "</tr>\n",
       "<tr>\n",
       "  <th>color[T.medium]</th>              <td>   -0.2677</td> <td>    0.168</td> <td>   -1.595</td> <td> 0.111</td> <td>   -0.597</td> <td>    0.061</td>\n",
       "</tr>\n",
       "<tr>\n",
       "  <th>color[T.medium dark]</th>         <td>   -0.5209</td> <td>    0.194</td> <td>   -2.683</td> <td> 0.007</td> <td>   -0.901</td> <td>   -0.140</td>\n",
       "</tr>\n",
       "<tr>\n",
       "  <th>color[T.dark]</th>                <td>   -0.5397</td> <td>    0.225</td> <td>   -2.396</td> <td> 0.017</td> <td>   -0.981</td> <td>   -0.098</td>\n",
       "</tr>\n",
       "<tr>\n",
       "  <th>spine[T.both worn or broken]</th> <td>    0.0909</td> <td>    0.119</td> <td>    0.760</td> <td> 0.447</td> <td>   -0.143</td> <td>    0.325</td>\n",
       "</tr>\n",
       "<tr>\n",
       "  <th>spine[T.one worn or broken]</th>  <td>   -0.1607</td> <td>    0.211</td> <td>   -0.760</td> <td> 0.447</td> <td>   -0.575</td> <td>    0.254</td>\n",
       "</tr>\n",
       "<tr>\n",
       "  <th>weight</th>                       <td>    0.5476</td> <td>    0.073</td> <td>    7.482</td> <td> 0.000</td> <td>    0.404</td> <td>    0.691</td>\n",
       "</tr>\n",
       "</table>"
      ],
      "text/plain": [
       "<class 'statsmodels.iolib.summary.Summary'>\n",
       "\"\"\"\n",
       "                 Generalized Linear Model Regression Results                  \n",
       "==============================================================================\n",
       "Dep. Variable:                      y   No. Observations:                  173\n",
       "Model:                            GLM   Df Residuals:                      166\n",
       "Model Family:                 Poisson   Df Model:                            6\n",
       "Link Function:                    log   Scale:                          1.0000\n",
       "Method:                          IRLS   Log-Likelihood:                -452.50\n",
       "Date:                Mon, 02 May 2022   Deviance:                       549.70\n",
       "Time:                        15:02:09   Pearson chi2:                     533.\n",
       "No. Iterations:                     5                                         \n",
       "Covariance Type:            nonrobust                                         \n",
       "================================================================================================\n",
       "                                   coef    std err          z      P>|z|      [0.025      0.975]\n",
       "------------------------------------------------------------------------------------------------\n",
       "Intercept                       -0.0426      0.254     -0.168      0.866      -0.540       0.454\n",
       "color[T.medium]                 -0.2677      0.168     -1.595      0.111      -0.597       0.061\n",
       "color[T.medium dark]            -0.5209      0.194     -2.683      0.007      -0.901      -0.140\n",
       "color[T.dark]                   -0.5397      0.225     -2.396      0.017      -0.981      -0.098\n",
       "spine[T.both worn or broken]     0.0909      0.119      0.760      0.447      -0.143       0.325\n",
       "spine[T.one worn or broken]     -0.1607      0.211     -0.760      0.447      -0.575       0.254\n",
       "weight                           0.5476      0.073      7.482      0.000       0.404       0.691\n",
       "================================================================================================\n",
       "\"\"\""
      ]
     },
     "execution_count": 10,
     "metadata": {},
     "output_type": "execute_result"
    }
   ],
   "source": [
    "mod3 = smf.glm(formula='y ~ weight + color + spine', data=datos, \n",
    "               family=sm.families.Poisson(link=sm.families.links.log()))\n",
    "mod3 = mod3.fit()\n",
    "mod3.summary()"
   ]
  },
  {
   "cell_type": "markdown",
   "metadata": {},
   "source": [
    "Reto: ¿cree usted que la variable spine mejoró o no el modelo?"
   ]
  },
  {
   "cell_type": "markdown",
   "metadata": {},
   "source": [
    "## Funciones de enlace disponibles\n",
    "\n",
    "Para conocer otras posibles funciones de enlace se puede utilizar la siguiente instrucción:"
   ]
  },
  {
   "cell_type": "code",
   "execution_count": 7,
   "metadata": {},
   "outputs": [
    {
     "data": {
      "text/plain": [
       "[statsmodels.genmod.families.links.log,\n",
       " statsmodels.genmod.families.links.identity,\n",
       " statsmodels.genmod.families.links.sqrt]"
      ]
     },
     "execution_count": 7,
     "metadata": {},
     "output_type": "execute_result"
    }
   ],
   "source": [
    "sm.families.family.Poisson.links"
   ]
  }
 ],
 "metadata": {
  "kernelspec": {
   "display_name": "Python 3 (ipykernel)",
   "language": "python",
   "name": "python3"
  },
  "language_info": {
   "codemirror_mode": {
    "name": "ipython",
    "version": 3
   },
   "file_extension": ".py",
   "mimetype": "text/x-python",
   "name": "python",
   "nbconvert_exporter": "python",
   "pygments_lexer": "ipython3",
   "version": "3.8.8"
  }
 },
 "nbformat": 4,
 "nbformat_minor": 2
}
