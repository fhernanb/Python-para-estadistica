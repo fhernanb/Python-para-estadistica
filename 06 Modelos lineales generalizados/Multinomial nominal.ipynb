{
 "cells": [
  {
   "cell_type": "markdown",
   "metadata": {},
   "source": [
    "# Modelos Lineales Generalizados en Python\n",
    "# Regresión multinomial - nominal\n",
    "\n",
    "<img src=\"https://raw.githubusercontent.com/fhernanb/fhernanb.github.io/master/docs/logo_unal_color.png\" alt=\"drawing\" width=\"200\"/>\n",
    "\n",
    "Aquí se muestran varios ejemplos de como usar Python para ajustar un modelo lineal generalizado. "
   ]
  },
  {
   "cell_type": "markdown",
   "metadata": {},
   "source": [
    "Las librerías necesarias son las siguientes:"
   ]
  },
  {
   "cell_type": "code",
   "execution_count": 1,
   "metadata": {},
   "outputs": [],
   "source": [
    "from sklearn.linear_model import LogisticRegression"
   ]
  },
  {
   "cell_type": "markdown",
   "metadata": {},
   "source": [
    "Otras librerías que se usarán en los ejemplos son:"
   ]
  },
  {
   "cell_type": "code",
   "execution_count": 2,
   "metadata": {},
   "outputs": [],
   "source": [
    "import pandas as pd"
   ]
  },
  {
   "cell_type": "markdown",
   "metadata": {},
   "source": [
    "## Ejemplo\n",
    "\n",
    "En esta actividad vamos a utilizar los datos presentados la sección 6.1.2 del libro \"An Introduction to Categorical Data Analysis\" de Agresti (2019). El objetivo es ajustar el siguiente modelo:\n",
    "\n",
    "$$\n",
    "logit \\left( \\frac{\\pi_j}{\\pi_c} \\right) = \\alpha_j + \\beta_j \\, length, \\, \\text{para} \\, j=1, 2.\n",
    "$$\n",
    "\n",
    "El objetivo es modelar ajustar un modelo de regresión multinomial para explicar lo que come principalmente ($Y$) un cocodrilo en función de su longitud. \n",
    "\n",
    "Abajo una figura ilustrativa.\n",
    "\n",
    "<img src=\"cocodrilo.jpg\" alt=\"drawing\" width=\"1000\"/>"
   ]
  },
  {
   "cell_type": "markdown",
   "metadata": {},
   "source": [
    "Lo primero que usted debe hacer es leer la base de datos."
   ]
  },
  {
   "cell_type": "code",
   "execution_count": 3,
   "metadata": {},
   "outputs": [
    {
     "data": {
      "text/html": [
       "<div>\n",
       "<style scoped>\n",
       "    .dataframe tbody tr th:only-of-type {\n",
       "        vertical-align: middle;\n",
       "    }\n",
       "\n",
       "    .dataframe tbody tr th {\n",
       "        vertical-align: top;\n",
       "    }\n",
       "\n",
       "    .dataframe thead th {\n",
       "        text-align: right;\n",
       "    }\n",
       "</style>\n",
       "<table border=\"1\" class=\"dataframe\">\n",
       "  <thead>\n",
       "    <tr style=\"text-align: right;\">\n",
       "      <th></th>\n",
       "      <th>x</th>\n",
       "      <th>y</th>\n",
       "    </tr>\n",
       "  </thead>\n",
       "  <tbody>\n",
       "    <tr>\n",
       "      <th>0</th>\n",
       "      <td>1.24</td>\n",
       "      <td>I</td>\n",
       "    </tr>\n",
       "    <tr>\n",
       "      <th>1</th>\n",
       "      <td>1.30</td>\n",
       "      <td>I</td>\n",
       "    </tr>\n",
       "    <tr>\n",
       "      <th>2</th>\n",
       "      <td>1.30</td>\n",
       "      <td>I</td>\n",
       "    </tr>\n",
       "    <tr>\n",
       "      <th>3</th>\n",
       "      <td>1.32</td>\n",
       "      <td>F</td>\n",
       "    </tr>\n",
       "    <tr>\n",
       "      <th>4</th>\n",
       "      <td>1.32</td>\n",
       "      <td>F</td>\n",
       "    </tr>\n",
       "  </tbody>\n",
       "</table>\n",
       "</div>"
      ],
      "text/plain": [
       "      x  y\n",
       "0  1.24  I\n",
       "1  1.30  I\n",
       "2  1.30  I\n",
       "3  1.32  F\n",
       "4  1.32  F"
      ]
     },
     "execution_count": 3,
     "metadata": {},
     "output_type": "execute_result"
    }
   ],
   "source": [
    "url = \"http://www.stat.ufl.edu/~aa/cat/data/Alligators.dat\"\n",
    "datos = pd.read_csv(url, sep='\\s+', header=0)\n",
    "datos.head()"
   ]
  },
  {
   "cell_type": "markdown",
   "metadata": {},
   "source": [
    "Para ver el tamaño de la base de datos"
   ]
  },
  {
   "cell_type": "code",
   "execution_count": 4,
   "metadata": {},
   "outputs": [
    {
     "data": {
      "text/plain": [
       "(59, 2)"
      ]
     },
     "execution_count": 4,
     "metadata": {},
     "output_type": "execute_result"
    }
   ],
   "source": [
    "datos.shape"
   ]
  },
  {
   "cell_type": "markdown",
   "metadata": {},
   "source": [
    "Vamos a crear la matriz $X$ para entrenar el modelo."
   ]
  },
  {
   "cell_type": "code",
   "execution_count": 5,
   "metadata": {},
   "outputs": [],
   "source": [
    "X = datos[[\"x\"]]"
   ]
  },
  {
   "cell_type": "markdown",
   "metadata": {},
   "source": [
    "Vamos a codificar la variable ideología para crear el vector $y$."
   ]
  },
  {
   "cell_type": "code",
   "execution_count": 6,
   "metadata": {},
   "outputs": [],
   "source": [
    "scale_mapper = {\"I\":1, \"O\":2, \"F\":3}\n",
    "datos[\"y\"] = datos[\"y\"].replace(scale_mapper)\n",
    "\n",
    "y = datos[\"y\"]"
   ]
  },
  {
   "cell_type": "markdown",
   "metadata": {},
   "source": [
    "## Ajustando el modelo\n",
    "\n",
    "Para más detalles de la función revisar este enlace: https://scikit-learn.org/stable/modules/generated/sklearn.linear_model.LogisticRegression.html?highlight=logisticregression#sklearn.linear_model.LogisticRegression"
   ]
  },
  {
   "cell_type": "code",
   "execution_count": 7,
   "metadata": {},
   "outputs": [
    {
     "data": {
      "text/plain": [
       "LogisticRegression(multi_class='multinomial')"
      ]
     },
     "execution_count": 7,
     "metadata": {},
     "output_type": "execute_result"
    }
   ],
   "source": [
    "# define the multinomial logistic regression model\n",
    "model = LogisticRegression(multi_class='multinomial', solver='lbfgs', fit_intercept=True)\n",
    "\n",
    "# fit the model on the whole dataset\n",
    "model.fit(X, y)"
   ]
  },
  {
   "cell_type": "markdown",
   "metadata": {},
   "source": [
    "## Haciendo predicciones con el modelo ajustado\n",
    "\n",
    "¿Cuál podría ser el tipo de comida primario de dos cocodrilos de 3.89 metros y 2.15 metros?"
   ]
  },
  {
   "cell_type": "code",
   "execution_count": 8,
   "metadata": {},
   "outputs": [
    {
     "name": "stdout",
     "output_type": "stream",
     "text": [
      "The newdata\n",
      "      x\n",
      "0  3.89\n",
      "1  1.15\n",
      "\t\n",
      "Predicted Probabilities:\n",
      "[[0.0167821  0.20515485 0.77806306]\n",
      " [0.68442176 0.06388416 0.25169409]]\n",
      "\t\n",
      "Predicted Class:\n",
      "[3 1]\n"
     ]
    }
   ],
   "source": [
    "# Definiendo el nuevo marco de datos\n",
    "new_data = pd.DataFrame([3.89, 1.15])\n",
    "new_data.columns = [\"x\"]\n",
    "print('The newdata')\n",
    "print(new_data)\n",
    "print('\\t')\n",
    "\n",
    "# Calculando la probabilidad\n",
    "probhat = model.predict_proba(new_data)\n",
    "\n",
    "# Obteniendo la membresía\n",
    "yhat = model.predict(new_data)\n",
    "\n",
    "print('Predicted Probabilities:')\n",
    "print(probhat)\n",
    "print('\\t')\n",
    "print('Predicted Class:')\n",
    "print(yhat)"
   ]
  },
  {
   "cell_type": "code",
   "execution_count": 9,
   "metadata": {},
   "outputs": [
    {
     "name": "stdout",
     "output_type": "stream",
     "text": [
      "[ 2.48266255 -1.93489832 -0.54776423]\n",
      "\t\n",
      "[[-1.18148545]\n",
      " [ 0.59769537]\n",
      " [ 0.58379008]]\n"
     ]
    }
   ],
   "source": [
    "# Para conocer los coeficientes del modelo ???\n",
    "print(model.intercept_)\n",
    "print('\\t')\n",
    "print(model.coef_)"
   ]
  },
  {
   "cell_type": "code",
   "execution_count": 10,
   "metadata": {
    "scrolled": true
   },
   "outputs": [
    {
     "name": "stdout",
     "output_type": "stream",
     "text": [
      "Membresia    1  2   3\n",
      "Prediccion           \n",
      "1           13  2   8\n",
      "3            7  6  23\n"
     ]
    }
   ],
   "source": [
    "# Para crear la matriz de confusión\n",
    "mat_conf = pd.crosstab(index=model.predict(X), columns=y, rownames=['Prediccion'], colnames=['Membresia'])\n",
    "print(mat_conf)"
   ]
  },
  {
   "cell_type": "code",
   "execution_count": 11,
   "metadata": {},
   "outputs": [
    {
     "data": {
      "text/plain": [
       "0.6101694915254238"
      ]
     },
     "execution_count": 11,
     "metadata": {},
     "output_type": "execute_result"
    }
   ],
   "source": [
    "# Para obtener el accuracy manualmente\n",
    "(13 + 23) / 59"
   ]
  },
  {
   "cell_type": "code",
   "execution_count": 12,
   "metadata": {},
   "outputs": [
    {
     "data": {
      "text/plain": [
       "0.6101694915254238"
      ]
     },
     "execution_count": 12,
     "metadata": {},
     "output_type": "execute_result"
    }
   ],
   "source": [
    "# Para obtener el accuracy automáticamente\n",
    "model.score(X, y)"
   ]
  },
  {
   "cell_type": "code",
   "execution_count": 13,
   "metadata": {},
   "outputs": [
    {
     "data": {
      "text/plain": [
       "{'C': 1.0,\n",
       " 'class_weight': None,\n",
       " 'dual': False,\n",
       " 'fit_intercept': True,\n",
       " 'intercept_scaling': 1,\n",
       " 'l1_ratio': None,\n",
       " 'max_iter': 100,\n",
       " 'multi_class': 'multinomial',\n",
       " 'n_jobs': None,\n",
       " 'penalty': 'l2',\n",
       " 'random_state': None,\n",
       " 'solver': 'lbfgs',\n",
       " 'tol': 0.0001,\n",
       " 'verbose': 0,\n",
       " 'warm_start': False}"
      ]
     },
     "execution_count": 13,
     "metadata": {},
     "output_type": "execute_result"
    }
   ],
   "source": [
    "# Para obtener los parámetros del modelo\n",
    "model.get_params()"
   ]
  }
 ],
 "metadata": {
  "kernelspec": {
   "display_name": "Python 3 (ipykernel)",
   "language": "python",
   "name": "python3"
  },
  "language_info": {
   "codemirror_mode": {
    "name": "ipython",
    "version": 3
   },
   "file_extension": ".py",
   "mimetype": "text/x-python",
   "name": "python",
   "nbconvert_exporter": "python",
   "pygments_lexer": "ipython3",
   "version": "3.8.8"
  }
 },
 "nbformat": 4,
 "nbformat_minor": 2
}
