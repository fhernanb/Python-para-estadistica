{
 "cells": [
  {
   "cell_type": "markdown",
   "metadata": {},
   "source": [
    "# Introducción a\n",
    "<img src=\"https://raw.githubusercontent.com/fhernanb/fhernanb.github.io/master/docs/logo_tensor_flow.png\" alt=\"drawing\" width=\"200\"/>"
   ]
  },
  {
   "cell_type": "code",
   "execution_count": 1,
   "metadata": {},
   "outputs": [],
   "source": [
    "import tensorflow as tf"
   ]
  },
  {
   "cell_type": "markdown",
   "metadata": {},
   "source": [
    "## Creación de constantes"
   ]
  },
  {
   "cell_type": "code",
   "execution_count": 2,
   "metadata": {},
   "outputs": [
    {
     "name": "stdout",
     "output_type": "stream",
     "text": [
      "Para explorar las constantes\n",
      "Tensor(\"mi_constante1:0\", shape=(), dtype=float32)\n",
      "Tensor(\"mi_constante2:0\", shape=(), dtype=float32)\n",
      "\n",
      "\n",
      "Para evaluar y ver lo que hay dentro de las constantes\n",
      "3.0\n",
      "5.0\n"
     ]
    }
   ],
   "source": [
    "c1 = tf.constant(value=3.0, dtype=tf.float32, name=\"mi_constante1\")\n",
    "c2 = tf.constant(value=5, dtype=tf.float32, name=\"mi_constante2\")\n",
    "\n",
    "print(\"Para explorar las constantes\")\n",
    "print(c1)\n",
    "print(c2)\n",
    "print(\"\\n\")\n",
    "\n",
    "# Creando la sesión\n",
    "sess = tf.Session()\n",
    "\n",
    "print(\"Para evaluar y ver lo que hay dentro de las constantes\")\n",
    "print(sess.run(c1))\n",
    "print(sess.run(c2))"
   ]
  },
  {
   "cell_type": "markdown",
   "metadata": {},
   "source": [
    "## Creación de tensores"
   ]
  },
  {
   "cell_type": "code",
   "execution_count": 3,
   "metadata": {},
   "outputs": [
    {
     "name": "stdout",
     "output_type": "stream",
     "text": [
      "Para explorar los tensores\n",
      "Tensor(\"mi_tensor1:0\", shape=(6,), dtype=int32)\n",
      "Tensor(\"mi_tensor2:0\", shape=(2, 3), dtype=int32)\n",
      "Tensor(\"mi_tensor3:0\", shape=(2, 3), dtype=float32)\n",
      "\n",
      "\n",
      "Para evaluar y ver lo que hay dentro de los tensores\n",
      "[1 2 3 4 5 6] \n",
      "\n",
      "[[1 2 3]\n",
      " [4 5 6]] \n",
      "\n",
      "[[-1. -1. -1.]\n",
      " [-1. -1. -1.]] \n",
      "\n"
     ]
    }
   ],
   "source": [
    "# Constant 1-D Tensor populated with value list.\n",
    "tensor1 = tf.constant([1, 2, 3, 4, 5, 6], name=\"mi_tensor1\")\n",
    "\n",
    "# Constant 1-D Tensor populated with value list.\n",
    "tensor2 = tf.constant([1, 2, 3, 4, 5, 6], shape=(2,3), name=\"mi_tensor2\")\n",
    "\n",
    "# Constant 2-D tensor populated with scalar value -1.\n",
    "tensor3 = tf.constant(-1.0, shape=[2, 3], name=\"mi_tensor3\") \n",
    "\n",
    "print(\"Para explorar los tensores\")\n",
    "print(tensor1)\n",
    "print(tensor2)\n",
    "print(tensor3)\n",
    "print(\"\\n\")\n",
    "\n",
    "print(\"Para evaluar y ver lo que hay dentro de los tensores\")\n",
    "print(sess.run(tensor1), \"\\n\")\n",
    "print(sess.run(tensor2), \"\\n\")\n",
    "print(sess.run(tensor3), \"\\n\")"
   ]
  },
  {
   "cell_type": "markdown",
   "metadata": {},
   "source": [
    "# Operaciones básicas\n",
    "\n",
    "## Suma\n",
    "Para sumar tensores se usa el método `.add`, más detalles [aquí](https://www.tensorflow.org/api_docs/python/tf/math/add)."
   ]
  },
  {
   "cell_type": "code",
   "execution_count": 5,
   "metadata": {},
   "outputs": [
    {
     "name": "stdout",
     "output_type": "stream",
     "text": [
      "Tensor(\"mi_constate3_1:0\", shape=(), dtype=float32)\n",
      "8.0\n"
     ]
    }
   ],
   "source": [
    "c3 = tf.add(x=c1, y=c2, name=\"mi_constate3\")\n",
    "print(c3)\n",
    "print(sess.run(c3))"
   ]
  },
  {
   "cell_type": "code",
   "execution_count": 6,
   "metadata": {},
   "outputs": [
    {
     "name": "stdout",
     "output_type": "stream",
     "text": [
      "Tensor(\"Add:0\", shape=(), dtype=int32)\n",
      "Tensor(\"Add_1:0\", shape=(2,), dtype=int32)\n",
      "Tensor(\"Square:0\", shape=(), dtype=int32)\n",
      "Tensor(\"Sum:0\", shape=(), dtype=int32)\n",
      "Tensor(\"add_2:0\", shape=(), dtype=int32)\n"
     ]
    }
   ],
   "source": [
    "print(tf.add(1, 2))\n",
    "print(tf.add([1, 2], [3, 4]))\n",
    "print(tf.square(5))\n",
    "print(tf.reduce_sum([1, 2, 3]))\n",
    "\n",
    "# Operator overloading is also supported\n",
    "print(tf.square(2) + tf.square(3))"
   ]
  }
 ],
 "metadata": {
  "kernelspec": {
   "display_name": "Python 3",
   "language": "python",
   "name": "python3"
  },
  "language_info": {
   "codemirror_mode": {
    "name": "ipython",
    "version": 3
   },
   "file_extension": ".py",
   "mimetype": "text/x-python",
   "name": "python",
   "nbconvert_exporter": "python",
   "pygments_lexer": "ipython3",
   "version": "3.7.3"
  }
 },
 "nbformat": 4,
 "nbformat_minor": 4
}
