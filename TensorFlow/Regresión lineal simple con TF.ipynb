{
 "cells": [
  {
   "cell_type": "markdown",
   "metadata": {},
   "source": [
    "# Simple Linear Regression with TensorFlow\n",
    "\n",
    "El ejemplo mostrado abajo fue inspirado en este [video](https://www.youtube.com/watch?v=4ZWi8roTieQ&list=PLx7tvyG--lcVRj4e_k0efFibMgeOpt7bS&index=2)"
   ]
  },
  {
   "cell_type": "code",
   "execution_count": 1,
   "metadata": {},
   "outputs": [],
   "source": [
    "import tensorflow as tf\n",
    "import matplotlib.pyplot as plt\n",
    "import numpy as np"
   ]
  },
  {
   "cell_type": "markdown",
   "metadata": {},
   "source": [
    "# Model\n",
    "\n",
    "Here we are going to simulate data from the next model.\n",
    "\n",
    "\\begin{align*}\n",
    "y_i &\\sim N(\\mu_i, \\sigma^2), \\\\\n",
    "\\mu_i &= -2 + 3 x, \\\\\n",
    "\\sigma &= 2.5, \\\\\n",
    "x &\\sim U(-2, 2).\n",
    "\\end{align*}\n",
    "\n",
    "The parameter vector is $\\boldsymbol{\\theta}=(-2, 3, \\sigma^2=2.5^2)^\\top$.\n",
    "\n",
    "To generate the data we can use the next code:"
   ]
  },
  {
   "cell_type": "code",
   "execution_count": 2,
   "metadata": {},
   "outputs": [],
   "source": [
    "n = 100\n",
    "x_data = -2 + 4 * np.random.random(size=n)\n",
    "media = -2 + 3 * x_data\n",
    "sigma = 2.5\n",
    "y_data = sigma * np.random.randn(n) + media"
   ]
  },
  {
   "cell_type": "code",
   "execution_count": 3,
   "metadata": {},
   "outputs": [
    {
     "data": {
      "image/png": "[encoded data removed]",
      "text/plain": [
       "<Figure size 432x288 with 1 Axes>"
      ]
     },
     "metadata": {
      "needs_background": "light"
     },
     "output_type": "display_data"
    }
   ],
   "source": [
    "plt.plot(x_data, y_data, 'o', color='black');"
   ]
  },
  {
   "cell_type": "code",
   "execution_count": 4,
   "metadata": {},
   "outputs": [],
   "source": [
    "# Los parámetros\n",
    "W = tf.Variable([0.01], dtype=tf.float32)\n",
    "b = tf.Variable([0.01], dtype=tf.float32)\n",
    "\n",
    "# Placeholders\n",
    "x = tf.placeholder(tf.float32)\n",
    "y = tf.placeholder(tf.float32)\n",
    "\n",
    "# El modelo\n",
    "mu_hat = W * x + b\n",
    "\n",
    "# Función a minimizar\n",
    "loss = tf.reduce_sum(tf.square(mu_hat - y))\n",
    "\n",
    "# Informacion para el entrenamiento\n",
    "op = tf.train.GradientDescentOptimizer(learning_rate=0.005)\n",
    "train = op.minimize(loss)\n",
    "\n",
    "# Inicializar las variables\n",
    "init = tf.global_variables_initializer()\n",
    "sess = tf.Session()\n",
    "sess.run(init)\n",
    "\n",
    "feed_dict = {x: x_data, y: y_data}"
   ]
  },
  {
   "cell_type": "code",
   "execution_count": 5,
   "metadata": {},
   "outputs": [],
   "source": [
    "# Entrenamiento\n",
    "for i in range(1000):\n",
    "    loss_ = sess.run([train, loss], feed_dict=feed_dict)"
   ]
  },
  {
   "cell_type": "code",
   "execution_count": 8,
   "metadata": {},
   "outputs": [
    {
     "name": "stdout",
     "output_type": "stream",
     "text": [
      "\n",
      " Valores actuales:\n",
      "\t b: [-2.068555] W: [3.2311034] loss: 533.2573\n"
     ]
    }
   ],
   "source": [
    "W_, b_, loss_ = sess.run([W, b, loss], {x: x_data, y: y_data})\n",
    "print(\"\\n Valores actuales:\")\n",
    "print(\"\\t b: %s W: %s loss: %s\"%(b_, W_, loss_))"
   ]
  },
  {
   "cell_type": "code",
   "execution_count": 7,
   "metadata": {},
   "outputs": [
    {
     "data": {
      "image/png": "[encoded data removed]",
      "text/plain": [
       "<Figure size 432x288 with 1 Axes>"
      ]
     },
     "metadata": {
      "needs_background": "light"
     },
     "output_type": "display_data"
    }
   ],
   "source": [
    "plt.plot(x_data, y_data, 'o', color='black', label='Train data');\n",
    "plt.plot(x_data, [W_*Xi + b_ for Xi in x_data], 'r', label='Fitted line')\n",
    "plt.legend()\n",
    "plt.show()"
   ]
  }
 ],
 "metadata": {
  "kernelspec": {
   "display_name": "Python 3",
   "language": "python",
   "name": "python3"
  },
  "language_info": {
   "codemirror_mode": {
    "name": "ipython",
    "version": 3
   },
   "file_extension": ".py",
   "mimetype": "text/x-python",
   "name": "python",
   "nbconvert_exporter": "python",
   "pygments_lexer": "ipython3",
   "version": "3.7.3"
  }
 },
 "nbformat": 4,
 "nbformat_minor": 4
}
