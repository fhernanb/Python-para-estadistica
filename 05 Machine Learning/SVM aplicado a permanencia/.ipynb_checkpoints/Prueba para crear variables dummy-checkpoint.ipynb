{
 "cells": [
  {
   "cell_type": "code",
   "execution_count": 38,
   "metadata": {},
   "outputs": [],
   "source": [
    "import pandas as pd\n",
    "\n",
    "data = pd.DataFrame()\n",
    "data['x1'] = ['a','a','b','a']\n",
    "data['x2'] = ['b','b','a','b']\n",
    "data['x3'] = [0, 0, 1, 0]\n",
    "data['Class'] = ['n','n','y','n']\n"
   ]
  },
  {
   "cell_type": "code",
   "execution_count": 37,
   "metadata": {},
   "outputs": [
    {
     "name": "stdout",
     "output_type": "stream",
     "text": [
      "  x1 x2  x3 Class\n",
      "0  a  b   0     n\n",
      "1  a  b   0     n\n",
      "2  b  a   1     y\n",
      "3  a  b   0     n\n",
      "\n",
      "\n",
      "   x3  x1_b  x2_b\n",
      "0   0     0     1\n",
      "1   0     0     1\n",
      "2   1     1     0\n",
      "3   0     0     1\n"
     ]
    }
   ],
   "source": [
    "print(data)\n",
    "print('\\n')\n",
    "print(one_hot_data)"
   ]
  }
 ],
 "metadata": {
  "kernelspec": {
   "display_name": "Python 3",
   "language": "python",
   "name": "python3"
  },
  "language_info": {
   "codemirror_mode": {
    "name": "ipython",
    "version": 3
   },
   "file_extension": ".py",
   "mimetype": "text/x-python",
   "name": "python",
   "nbconvert_exporter": "python",
   "pygments_lexer": "ipython3",
   "version": "3.7.3"
  }
 },
 "nbformat": 4,
 "nbformat_minor": 2
}
