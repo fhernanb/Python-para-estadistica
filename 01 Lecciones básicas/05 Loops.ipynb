{
 "cells": [
  {
   "cell_type": "markdown",
   "id": "facbf7a0-c298-411e-afeb-8434b2a2429b",
   "metadata": {},
   "source": [
    "# Loops\n",
    "\n",
    "<img src=\"https://raw.githubusercontent.com/fhernanb/fhernanb.github.io/master/my_docs/logo_unal_color.png\" alt=\"drawing\" width=\"200\"/>\n",
    "\n",
    "<img src=\"real_python_loops.jpg\" alt=\"drawing\" width=\"400\"/>"
   ]
  },
  {
   "cell_type": "markdown",
   "id": "be731e29-8b59-4862-90fb-6c208861f159",
   "metadata": {},
   "source": [
    "### Función range\n",
    "\n",
    "La función `range(start=0, stop, step=1)` sirve para crear secuencias de números.\n",
    "\n",
    "A continuación se muestran varios ejemplos de cómo crear una lista de números a partir de la función `range`."
   ]
  },
  {
   "cell_type": "code",
   "execution_count": 1,
   "id": "843c0301-b6d4-4d01-bd98-272faab2df9c",
   "metadata": {},
   "outputs": [
    {
     "name": "stdout",
     "output_type": "stream",
     "text": [
      "[1, 3, 5, 7, 9]\n"
     ]
    }
   ],
   "source": [
    "x = list(range(1, 10, 2))\n",
    "print(x)"
   ]
  },
  {
   "cell_type": "code",
   "execution_count": 2,
   "id": "1c8b8838-88cb-4e28-955d-73fe57b214cc",
   "metadata": {},
   "outputs": [
    {
     "name": "stdout",
     "output_type": "stream",
     "text": [
      "[1, 2, 3, 4, 5, 6, 7, 8, 9]\n"
     ]
    }
   ],
   "source": [
    "w = list(range(1, 10))\n",
    "print(w)"
   ]
  },
  {
   "cell_type": "code",
   "execution_count": 3,
   "id": "8c79f41b-3e85-48d7-b4ac-a7f1701a7d64",
   "metadata": {},
   "outputs": [
    {
     "name": "stdout",
     "output_type": "stream",
     "text": [
      "[0, 1, 2, 3, 4, 5, 6, 7, 8, 9]\n"
     ]
    }
   ],
   "source": [
    "z = list(range(10))\n",
    "print(z)"
   ]
  },
  {
   "cell_type": "code",
   "execution_count": 4,
   "id": "31b1abfb-fe19-4920-99f8-33785385f11a",
   "metadata": {},
   "outputs": [
    {
     "name": "stdout",
     "output_type": "stream",
     "text": [
      "[]\n"
     ]
    }
   ],
   "source": [
    "y = list(range(-5))\n",
    "print(y)"
   ]
  },
  {
   "cell_type": "markdown",
   "id": "59112dea-6737-450d-b4bb-b271c4d9d322",
   "metadata": {},
   "source": [
    "### Tarea\n",
    "\n",
    "1. Escribe un programa que imprima todos los números pares entre 1 y 50 utilizando la función range.\n",
    "2. Escribe un programa que calcule la suma de los primeros 100 números naturales (del 1 al 100) utilizando la función range.\n",
    "3. Escribe un programa que genere una lista con los múltiplos de 5 entre 5 y 50 utilizando la función range."
   ]
  },
  {
   "cell_type": "markdown",
   "id": "c8c58467-9ce8-4365-bba4-cacad815122e",
   "metadata": {},
   "source": [
    "### Bucle for\n",
    "\n",
    "El bucle for en Python es una herramienta fundamental que permite repetir un bloque de código para cada elemento de una secuencia, como listas, cadenas de texto, tuplas, conjuntos o rangos numéricos. A continuación, se explica su funcionamiento y características principales.\n",
    "\n",
    "Un bucle for recorre los elementos de un objeto iterable (es decir, algo que puede ser recorrido elemento por elemento). En cada iteración:\n",
    "\n",
    "- Se asigna el valor del elemento actual a una variable.\n",
    "- Se ejecuta el bloque de código dentro del bucle.\n"
   ]
  },
  {
   "cell_type": "markdown",
   "id": "ce3acac0-3646-4297-a2b2-5dc839d12838",
   "metadata": {},
   "source": [
    "#### Ejemplo:\n",
    "\n",
    "Crear una lista con tres frutas y luego un for que recorra la lista e imprima cada elemento de la lista."
   ]
  },
  {
   "cell_type": "code",
   "execution_count": 5,
   "id": "4450af6f-9729-4149-8976-b8a33fab14aa",
   "metadata": {},
   "outputs": [
    {
     "name": "stdout",
     "output_type": "stream",
     "text": [
      "manzana\n",
      "banana\n",
      "cereza\n"
     ]
    }
   ],
   "source": [
    "frutas = [\"manzana\", \"banana\", \"cereza\"]\n",
    "for fruta in frutas:\n",
    "    print(fruta)"
   ]
  },
  {
   "cell_type": "markdown",
   "id": "2810fd6e-43bb-479c-b5c2-8e21f41ffa0f",
   "metadata": {},
   "source": [
    "#### Ejemplo:\n",
    "\n",
    "Crear una variable tipo string y luego un for que recorra las letras e imprima cada elemento."
   ]
  },
  {
   "cell_type": "code",
   "execution_count": 6,
   "id": "c89bb851-c0e1-4a4e-800a-adf59a6cb608",
   "metadata": {},
   "outputs": [
    {
     "name": "stdout",
     "output_type": "stream",
     "text": [
      "P\n",
      "y\n",
      "t\n",
      "h\n",
      "o\n",
      "n\n"
     ]
    }
   ],
   "source": [
    "texto = \"Python\"\n",
    "for letra in texto:\n",
    "    print(letra)"
   ]
  },
  {
   "cell_type": "markdown",
   "id": "25b79b61-2132-4039-bbc4-5df3d3810879",
   "metadata": {},
   "source": [
    "#### Ejemplo:\n",
    "\n",
    "Crear una secuencia con los números del 2 al 7, luego por medio de un for recorrer la lista e imprimir por pantalla el cuadrado de cada uno de los números de la secuencia."
   ]
  },
  {
   "cell_type": "code",
   "execution_count": 7,
   "id": "41c302dc-7908-4552-8650-6ba6c756a32b",
   "metadata": {},
   "outputs": [
    {
     "name": "stdout",
     "output_type": "stream",
     "text": [
      "4\n",
      "9\n",
      "16\n",
      "25\n",
      "36\n",
      "49\n"
     ]
    }
   ],
   "source": [
    "secuencia = range(2, 8)\n",
    "for i in secuencia:\n",
    "    print(i ** 2)"
   ]
  },
  {
   "cell_type": "markdown",
   "id": "ea2c40b2-af12-4e2d-96fd-6800c60278a8",
   "metadata": {},
   "source": [
    "Ventajas del bucle for\n",
    "\n",
    "- Es más simple y legible en comparación con otros lenguajes.\n",
    "- Permite recorrer cualquier tipo de iterable (listas, cadenas, diccionarios).\n",
    "- Se puede combinar con funciones como range para trabajar con secuencias numéricas."
   ]
  },
  {
   "cell_type": "markdown",
   "id": "cda7a979-9c3f-4797-964d-d0698c245681",
   "metadata": {},
   "source": [
    "## Tarea\n",
    "\n",
    "1. Imprimir números del 1 al 10.\n",
    "\n",
    "Usa un bucle for junto con range() para imprimir los números del 1 al 10 (incluyendo el 10).\n",
    "\n",
    "2. Sumar elementos de una lista.\n",
    "\n",
    "Dada la lista [10, 20, 30, 40, 50] utiliza un bucle for para calcular la suma de todos sus elementos.\n",
    "\n",
    "3. Contar vocales en una palabra.\n",
    "\n",
    "Escribe un programa que cuente cuántas vocales (a, e, i, o, u) hay en la palabra \"paralelepípedo\". Considera mayúsculas, minúsculas y tildes.\n",
    "\n",
    "4. Generar tabla de multiplicar del 5.\n",
    "\n",
    "Muestra la tabla de multiplicar del 5 desde 5x1 hasta 5x10 usando un bucle for.\n",
    "\n",
    "5. Crear un triángulo de asteriscos.\n",
    "\n",
    "Imprime un triángulo con asteriscos con 5 filas, donde cada fila tenga un asterisco más que la anterior. Ejemplo de salida:\n",
    "\n",
    "<img src=\"triangulo_asteriscos.png\" alt=\"drawing\" width=\"100\"/>"
   ]
  },
  {
   "cell_type": "markdown",
   "id": "804432ba-a46e-446e-8aca-64dd8e439fda",
   "metadata": {},
   "source": [
    "### Bucle while"
   ]
  }
 ],
 "metadata": {
  "kernelspec": {
   "display_name": "Python 3 (ipykernel)",
   "language": "python",
   "name": "python3"
  },
  "language_info": {
   "codemirror_mode": {
    "name": "ipython",
    "version": 3
   },
   "file_extension": ".py",
   "mimetype": "text/x-python",
   "name": "python",
   "nbconvert_exporter": "python",
   "pygments_lexer": "ipython3",
   "version": "3.12.7"
  }
 },
 "nbformat": 4,
 "nbformat_minor": 5
}
