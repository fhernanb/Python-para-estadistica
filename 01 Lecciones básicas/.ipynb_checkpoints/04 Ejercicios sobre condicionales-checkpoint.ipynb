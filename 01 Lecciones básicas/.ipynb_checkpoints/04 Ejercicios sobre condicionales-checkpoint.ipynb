{
 "cells": [
  {
   "cell_type": "markdown",
   "metadata": {},
   "source": [
    "# Ejercicios sobre condicionales\n",
    "\n",
    "<img src=\"https://raw.githubusercontent.com/fhernanb/fhernanb.github.io/master/my_docs/logo_unal_color.png\" alt=\"drawing\" width=\"200\"/>\n",
    "\n",
    "<img src=\"real_python_conditionals.png\" alt=\"drawing\" width=\"400\"/>"
   ]
  },
  {
   "cell_type": "markdown",
   "metadata": {},
   "source": [
    "En Python se tienen tres formas para crear condicionales:\n",
    "\n",
    "- `if`.\n",
    "- `if` con `else`.\n",
    "- `if`, `elif` con `else`.\n",
    "\n",
    "La sintaxis para usar los condicionales es la siguiente:\n",
    "\n",
    "### Para usar `if`\n",
    "\n",
    "<img src=\"python_if.png\" alt=\"drawing\" width=\"600\"/>\n",
    "\n",
    "</br>\n",
    "</br>\n",
    "</br>\n",
    "\n",
    "### Para usar `if` con `else`\n",
    "\n",
    "<img src=\"python_if_else.png\" alt=\"drawing\" width=\"600\"/>\n",
    "\n",
    "</br>\n",
    "</br>\n",
    "</br>\n",
    "\n",
    "### Para usar `if`, `elif` con `else`\n",
    "\n",
    "<img src=\"python_elif.png\" alt=\"drawing\" width=\"600\"/>\n",
    "\n",
    "<div class=\"alert alert-block alert-danger\"> No se le olvide los dos puntos : . </div>"
   ]
  },
  {
   "cell_type": "markdown",
   "metadata": {},
   "source": [
    "Los ejercicios de abajo fueron tomados de https://aprendeconalf.es/docencia/python/ejercicios/condicionales/"
   ]
  },
  {
   "cell_type": "markdown",
   "metadata": {},
   "source": [
    "### Ejercicio sobre `if`\n",
    "Escribir un programa que pregunte al usuario su edad, en caso de ser menor de 10 años, pregunte si el acudiente lo acompaña."
   ]
  },
  {
   "cell_type": "code",
   "execution_count": 1,
   "metadata": {},
   "outputs": [
    {
     "name": "stdin",
     "output_type": "stream",
     "text": [
      "Por favor ingrese su edad:  16\n",
      "¿Está usted con su acudiente? si\n"
     ]
    }
   ],
   "source": [
    "edad = input('Por favor ingrese su edad: ')\n",
    "edad = float(edad)\n",
    "\n",
    "if (edad < 18):\n",
    "    acudiente = input('¿Está usted con su acudiente?')"
   ]
  },
  {
   "cell_type": "markdown",
   "metadata": {},
   "source": [
    "### Ejercicio sobre `if` con `else`\n",
    "Escribir un programa que pregunte al usuario su edad y muestre por pantalla si es mayor de edad o no."
   ]
  },
  {
   "cell_type": "code",
   "execution_count": 2,
   "metadata": {},
   "outputs": [
    {
     "name": "stdin",
     "output_type": "stream",
     "text": [
      "Por favor ingrese su edad:  23\n"
     ]
    },
    {
     "name": "stdout",
     "output_type": "stream",
     "text": [
      "Usted es mayor de edad.\n"
     ]
    }
   ],
   "source": [
    "edad = input('Por favor ingrese su edad: ')\n",
    "edad = float(edad)\n",
    "\n",
    "if edad >= 18:\n",
    "    print('Usted es mayor de edad.')\n",
    "else:\n",
    "    print('Usted es menor de edad.')"
   ]
  },
  {
   "cell_type": "markdown",
   "metadata": {},
   "source": [
    "### Ejercicio sobre `elif`\n",
    "Escribir un programa que pregunte al usuario la temperatura y que el programa le haga una recomendación del tipo de ropa a usar."
   ]
  },
  {
   "cell_type": "code",
   "execution_count": 3,
   "metadata": {},
   "outputs": [
    {
     "name": "stdin",
     "output_type": "stream",
     "text": [
      "Por favor, ingresa la temperatura actual en grados Celsius:  25\n"
     ]
    },
    {
     "name": "stdout",
     "output_type": "stream",
     "text": [
      "El clima está agradable. Puedes salir a disfrutar del día.\n"
     ]
    }
   ],
   "source": [
    "# Pedimos al usuario que ingrese la temperatura\n",
    "temperatura = int(input(\"Por favor, ingresa la temperatura actual en grados Celsius: \"))\n",
    "\n",
    "# Usamos if, elif y else para evaluar la temperatura\n",
    "if temperatura > 30:\n",
    "    print(\"Hace mucho calor. ¡Usa ropa ligera y mantente hidratado!\")\n",
    "elif temperatura > 20:\n",
    "    print(\"El clima está agradable. Puedes salir a disfrutar del día.\")\n",
    "elif temperatura > 10:\n",
    "    print(\"Hace un poco de frío. Considera usar una chaqueta.\")\n",
    "elif temperatura >= 0:\n",
    "    print(\"Hace mucho frío. Abrígate bien si sales.\")\n",
    "else:\n",
    "    print(\"La temperatura está bajo cero. ¡Es extremadamente frío, ten cuidado!\")"
   ]
  },
  {
   "cell_type": "markdown",
   "metadata": {},
   "source": [
    "### Ejercicio\n",
    "Escribir un programa que pida al usuario dos números y muestre por pantalla su división. Si el divisor es cero el programa debe mostrar un error."
   ]
  },
  {
   "cell_type": "code",
   "execution_count": 4,
   "metadata": {},
   "outputs": [
    {
     "name": "stdin",
     "output_type": "stream",
     "text": [
      "Ingrese el numerador:  4\n",
      "Ingrese el denominador:  7\n"
     ]
    },
    {
     "name": "stdout",
     "output_type": "stream",
     "text": [
      "0.5714285714285714\n"
     ]
    }
   ],
   "source": [
    "num = float(input('Ingrese el numerador: '))\n",
    "den = float(input('Ingrese el denominador: '))\n",
    "\n",
    "if den == 0:\n",
    "    print('Upps, hay un error')\n",
    "else:\n",
    "    print(num/den)"
   ]
  },
  {
   "cell_type": "markdown",
   "metadata": {},
   "source": [
    "### Ejercicio\n",
    "Para tributar un determinado impuesto se debe ser mayor de 16 años y tener unos ingresos iguales o superiores a 1000 € mensuales. Escribir un programa que pregunte al usuario su edad y sus ingresos mensuales y muestre por pantalla si el usuario tiene que tributar o no."
   ]
  },
  {
   "cell_type": "code",
   "execution_count": 5,
   "metadata": {},
   "outputs": [
    {
     "name": "stdin",
     "output_type": "stream",
     "text": [
      "Por favor ingrese su edad:  25\n",
      "Por favor ingrese sus ingresos:  250\n"
     ]
    },
    {
     "name": "stdout",
     "output_type": "stream",
     "text": [
      "Tranquilo, usted NO debe tributar.\n"
     ]
    }
   ],
   "source": [
    "edad = float(input('Por favor ingrese su edad: '))\n",
    "ing = float(input('Por favor ingrese sus ingresos: '))\n",
    "\n",
    "if edad > 16 and ing >= 1000:\n",
    "    print('Usted SI debe tributar.')\n",
    "else:\n",
    "    print('Tranquilo, usted NO debe tributar.')"
   ]
  },
  {
   "cell_type": "markdown",
   "metadata": {},
   "source": [
    "### Ejercicio\n",
    "Los alumnos de un curso se han dividido en dos grupos A y B de acuerdo al sexo y el nombre. El grupo A esta formado por las mujeres con un nombre anterior a la M y los hombres con un nombre posterior a la N, el grupo B por el resto. Escribir un programa que pregunte al usuario su nombre y sexo, y muestre por pantalla el grupo que le corresponde."
   ]
  },
  {
   "cell_type": "code",
   "execution_count": 6,
   "metadata": {},
   "outputs": [
    {
     "name": "stdin",
     "output_type": "stream",
     "text": [
      "Por favor ingrese la letra <h> si es hombre y la letra <m> si es mujer: h\n",
      "Por favor ingrese su nombre:  Carlos\n"
     ]
    },
    {
     "name": "stdout",
     "output_type": "stream",
     "text": [
      "Usted pertenece al grupo A\n"
     ]
    }
   ],
   "source": [
    "sexo = input('Por favor ingrese la letra <h> si es hombre y la letra <m> si es mujer:')\n",
    "nombre = input('Por favor ingrese su nombre: ')\n",
    "nombre = nombre.lower()\n",
    "\n",
    "cond1 = sexo == 'm' and ord(nombre[0]) < 109\n",
    "cond2 = sexo == 'h' and ord(nombre[0]) < 110\n",
    "if cond1 or cond2:\n",
    "    print('Usted pertenece al grupo A')\n",
    "else:\n",
    "    print('Usted pertenece al grupo B')"
   ]
  },
  {
   "cell_type": "markdown",
   "metadata": {},
   "source": [
    "### Ejercicio - if en una sola línea\n",
    "\n",
    "Escriba un programa en el cual se tengan dos variables x e y con valores numéricos. Si x es mayor que y, el programa debe escribir el mensaje \"x is greater\". Use una sola línea para el programa."
   ]
  },
  {
   "cell_type": "code",
   "execution_count": 7,
   "metadata": {},
   "outputs": [
    {
     "name": "stdout",
     "output_type": "stream",
     "text": [
      "x is greater\n"
     ]
    }
   ],
   "source": [
    "x, y = 7, 5\n",
    "if x > y: print('x is greater')"
   ]
  },
  {
   "cell_type": "markdown",
   "metadata": {},
   "source": [
    "## Tarea \n",
    "\n",
    "\n",
    "\n",
    "1. Edad y permiso de conducir.\n",
    "\n",
    "Escribe un programa que pregunte al usuario su edad y determine si tiene permiso para conducir. En tu país, se requiere tener al menos 18 años para conducir.\n",
    "\n",
    "2. Clasificación de números\n",
    "\n",
    "Crea un programa que pida al usuario un número y clasifique si es positivo, negativo o cero.\n",
    "\n",
    "3. Evaluación de calificaciones\n",
    "\n",
    "Desarrolla un programa que solicite una calificación (entre 0 y 100) y determine si el estudiante aprobó (60 o más) o reprobó.\n",
    "\n",
    "4. Clima según temperatura\n",
    "\n",
    "Escribe un programa que evalúe la temperatura (en grados Celsius) y proporcione recomendaciones sobre el clima:\n",
    "- Mayor a 25: calor\n",
    "- Entre 15 y 25: agradable\n",
    "- Menor a 15: frío\n",
    "\n",
    "5. Día de la semana\n",
    "\n",
    "Crea un programa que pida al usuario el número del día de la semana (1 = lunes, 2 = martes, ..., 7 = domingo) y muestre el nombre del día correspondiente.\n",
    "\n",
    "6. Mayor o menor de edad\n",
    "\n",
    "Desarrolla un programa que pregunte al usuario su edad y determine si es mayor o menor de edad (18 años).\n",
    "\n",
    "7. Clasificación de triángulos\n",
    "\n",
    "Escribe un programa que pida las longitudes de los lados de un triángulo y clasifique si es equilátero, isósceles o escaleno.\n",
    "\n",
    "8. Pago de impuestos\n",
    "\n",
    "Crea un programa que solicite el ingreso anual de una persona y calcule el impuesto a pagar según las siguientes tarifas:\n",
    "\n",
    "- Menos de 10000 pesos: 0%. \n",
    "- Entre 10000 y 20000 pesos: 10%. \n",
    "- Más de 20000 pesos: 20%. \n",
    "\n",
    "9. Número par o impar\n",
    "\n",
    "Desarrolla un programa que pida un número al usuario y determine si es par o impar.\n",
    "\n",
    "10. Clasificación de estaciones del año\n",
    "\n",
    "Escribe un programa que pida el mes del año (1 = enero, 2 = febrero, ..., 12 = diciembre) y clasifique la estación del año:\n",
    "- Invierno: diciembre, enero, febrero\n",
    "- Primavera: marzo, abril, mayo\n",
    "- Verano: junio, julio, agosto\n",
    "- Otoño: septiembre, octubre, noviembre"
   ]
  },
  {
   "cell_type": "code",
   "execution_count": null,
   "metadata": {},
   "outputs": [],
   "source": []
  }
 ],
 "metadata": {
  "kernelspec": {
   "display_name": "Python 3 (ipykernel)",
   "language": "python",
   "name": "python3"
  },
  "language_info": {
   "codemirror_mode": {
    "name": "ipython",
    "version": 3
   },
   "file_extension": ".py",
   "mimetype": "text/x-python",
   "name": "python",
   "nbconvert_exporter": "python",
   "pygments_lexer": "ipython3",
   "version": "3.12.7"
  }
 },
 "nbformat": 4,
 "nbformat_minor": 4
}
