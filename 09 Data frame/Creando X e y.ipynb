{
 "cells": [
  {
   "cell_type": "markdown",
   "metadata": {},
   "source": [
    "# Creando la matriz $\\boldsymbol{X}$ y el vector $\\boldsymbol{y}$ \n",
    "\n",
    "<img src=\"https://raw.githubusercontent.com/fhernanb/fhernanb.github.io/master/my_docs/logo_unal_color.png\" alt=\"drawing\" width=\"200\"/>\n",
    "\n",
    "Las explicaciones mostradas aquí están basadas en los ejemplos de:\n",
    "\n",
    "https://machinelearningmastery.com/one-hot-encoding-for-categorical-data/"
   ]
  },
  {
   "cell_type": "code",
   "execution_count": 1,
   "metadata": {},
   "outputs": [],
   "source": [
    "import pandas as pd\n",
    "\n",
    "from sklearn.preprocessing import OrdinalEncoder\n",
    "from sklearn.preprocessing import LabelEncoder\n",
    "from sklearn.preprocessing import OneHotEncoder"
   ]
  },
  {
   "cell_type": "markdown",
   "metadata": {},
   "source": [
    "# Datos\n",
    "\n",
    "Vamos a crear un dataframe con unas pocas filas para obtener la matriz $\\boldsymbol{X}$ y el vector $\\boldsymbol{y}$ "
   ]
  },
  {
   "cell_type": "code",
   "execution_count": 2,
   "metadata": {},
   "outputs": [
    {
     "data": {
      "text/html": [
       "<div>\n",
       "<style scoped>\n",
       "    .dataframe tbody tr th:only-of-type {\n",
       "        vertical-align: middle;\n",
       "    }\n",
       "\n",
       "    .dataframe tbody tr th {\n",
       "        vertical-align: top;\n",
       "    }\n",
       "\n",
       "    .dataframe thead th {\n",
       "        text-align: right;\n",
       "    }\n",
       "</style>\n",
       "<table border=\"1\" class=\"dataframe\">\n",
       "  <thead>\n",
       "    <tr style=\"text-align: right;\">\n",
       "      <th></th>\n",
       "      <th>nombre</th>\n",
       "      <th>sexo</th>\n",
       "      <th>edad</th>\n",
       "      <th>barrio</th>\n",
       "      <th>grupo</th>\n",
       "      <th>estatura</th>\n",
       "      <th>peso</th>\n",
       "      <th>deporte</th>\n",
       "    </tr>\n",
       "  </thead>\n",
       "  <tbody>\n",
       "    <tr>\n",
       "      <th>0</th>\n",
       "      <td>tom</td>\n",
       "      <td>hombre</td>\n",
       "      <td>10</td>\n",
       "      <td>Alcala</td>\n",
       "      <td>g2</td>\n",
       "      <td>156</td>\n",
       "      <td>67</td>\n",
       "      <td>nunca</td>\n",
       "    </tr>\n",
       "    <tr>\n",
       "      <th>1</th>\n",
       "      <td>nick</td>\n",
       "      <td>hombre</td>\n",
       "      <td>15</td>\n",
       "      <td>Villas</td>\n",
       "      <td>g3</td>\n",
       "      <td>174</td>\n",
       "      <td>76</td>\n",
       "      <td>a veces</td>\n",
       "    </tr>\n",
       "    <tr>\n",
       "      <th>2</th>\n",
       "      <td>julia</td>\n",
       "      <td>mujer</td>\n",
       "      <td>14</td>\n",
       "      <td>Alcala</td>\n",
       "      <td>g1</td>\n",
       "      <td>169</td>\n",
       "      <td>75</td>\n",
       "      <td>a veces</td>\n",
       "    </tr>\n",
       "    <tr>\n",
       "      <th>3</th>\n",
       "      <td>marta</td>\n",
       "      <td>mujer</td>\n",
       "      <td>20</td>\n",
       "      <td>Provenza</td>\n",
       "      <td>g1</td>\n",
       "      <td>180</td>\n",
       "      <td>79</td>\n",
       "      <td>siempre</td>\n",
       "    </tr>\n",
       "  </tbody>\n",
       "</table>\n",
       "</div>"
      ],
      "text/plain": [
       "  nombre    sexo  edad    barrio grupo  estatura  peso  deporte\n",
       "0    tom  hombre    10    Alcala    g2       156    67    nunca\n",
       "1   nick  hombre    15    Villas    g3       174    76  a veces\n",
       "2  julia   mujer    14    Alcala    g1       169    75  a veces\n",
       "3  marta   mujer    20  Provenza    g1       180    79  siempre"
      ]
     },
     "execution_count": 2,
     "metadata": {},
     "output_type": "execute_result"
    }
   ],
   "source": [
    "# Creando el diccionario\n",
    "data = {'nombre'   : ['tom', 'nick', 'julia', 'marta'],\n",
    "        'sexo'     : ['hombre', 'hombre', 'mujer', 'mujer'],\n",
    "        'edad'     : [10, 15, 14, 20],\n",
    "        'barrio'   : ['Alcala', 'Villas', 'Alcala', 'Provenza'],\n",
    "        'grupo'    : ['g2', 'g3', 'g1', 'g1'],\n",
    "        'estatura' : [156, 174, 169, 180],\n",
    "        'peso'     : [67, 76, 75, 79],\n",
    "        'deporte'  : ['nunca', 'a veces', 'a veces', 'siempre']}\n",
    "  \n",
    "# Creando el df\n",
    "df = pd.DataFrame(data)\n",
    "\n",
    "# Para mostrar el df\n",
    "df"
   ]
  },
  {
   "cell_type": "markdown",
   "metadata": {},
   "source": [
    "# Ejemplo 1 con Ordinal Encoder\n",
    "\n",
    "Crear la matriz $\\boldsymbol{X}$ usando como variables explicativas `sexo` y `grupo`.\n",
    "\n",
    "https://scikit-learn.org/stable/modules/generated/sklearn.preprocessing.OrdinalEncoder.html"
   ]
  },
  {
   "cell_type": "code",
   "execution_count": 3,
   "metadata": {},
   "outputs": [
    {
     "name": "stdout",
     "output_type": "stream",
     "text": [
      "La matriz X es:\n",
      "[[0. 1.]\n",
      " [0. 2.]\n",
      " [1. 0.]\n",
      " [1. 0.]]\n",
      "\n",
      "\n",
      "Los datos originales son:\n",
      "     sexo grupo\n",
      "0  hombre    g2\n",
      "1  hombre    g3\n",
      "2   mujer    g1\n",
      "3   mujer    g1\n"
     ]
    }
   ],
   "source": [
    "X = df[[\"sexo\", \"grupo\"]]\n",
    "\n",
    "enc = OrdinalEncoder()\n",
    "enc = enc.fit(X)\n",
    "X = enc.transform(X)\n",
    "\n",
    "print(\"La matriz X es:\")\n",
    "print(X)\n",
    "print(\"\\n\")\n",
    "print(\"Los datos originales son:\")\n",
    "print(df[[\"sexo\", \"grupo\"]])"
   ]
  },
  {
   "cell_type": "markdown",
   "metadata": {},
   "source": [
    "Vamos ahora a realizar el proceso inverso. Vamos a convertir el arreglo `[[1, 0], [0, 2], [0, 1]]` en las etiquetas originales."
   ]
  },
  {
   "cell_type": "code",
   "execution_count": 4,
   "metadata": {},
   "outputs": [
    {
     "data": {
      "text/plain": [
       "array([['mujer', 'g1'],\n",
       "       ['hombre', 'g3'],\n",
       "       ['hombre', 'g2']], dtype=object)"
      ]
     },
     "execution_count": 4,
     "metadata": {},
     "output_type": "execute_result"
    }
   ],
   "source": [
    "enc.inverse_transform([[1, 0],\n",
    "                       [0, 2],\n",
    "                       [0, 1]])"
   ]
  },
  {
   "cell_type": "markdown",
   "metadata": {},
   "source": [
    "# Ejemplo 2 con One Hot Encoding\n",
    "\n",
    "Crear la matriz $\\boldsymbol{X}$ usando como variables explicativas `sexo` y `grupo`.\n",
    "\n",
    "https://scikit-learn.org/stable/modules/generated/sklearn.preprocessing.OneHotEncoder.html"
   ]
  },
  {
   "cell_type": "code",
   "execution_count": 5,
   "metadata": {},
   "outputs": [
    {
     "name": "stdout",
     "output_type": "stream",
     "text": [
      "La matriz X es:\n",
      "  (0, 0)\t1.0\n",
      "  (0, 3)\t1.0\n",
      "  (1, 0)\t1.0\n",
      "  (1, 4)\t1.0\n",
      "  (2, 1)\t1.0\n",
      "  (2, 2)\t1.0\n",
      "  (3, 1)\t1.0\n",
      "  (3, 2)\t1.0\n",
      "\n",
      "\n",
      "Los datos originales son:\n",
      "     sexo grupo\n",
      "0  hombre    g2\n",
      "1  hombre    g3\n",
      "2   mujer    g1\n",
      "3   mujer    g1\n"
     ]
    }
   ],
   "source": [
    "X = df[[\"sexo\", \"grupo\"]]\n",
    "\n",
    "enc = OneHotEncoder()\n",
    "enc = enc.fit(X)\n",
    "X = enc.transform(X)\n",
    "\n",
    "print(\"La matriz X es:\")\n",
    "print(X)\n",
    "print(\"\\n\")\n",
    "print(\"Los datos originales son:\")\n",
    "print(df[[\"sexo\", \"grupo\"]])"
   ]
  },
  {
   "cell_type": "markdown",
   "metadata": {},
   "source": [
    "# Ejemplo 3 Dummy Variable Encoding\n",
    "\n",
    "Crear la matriz $\\boldsymbol{X}$ usando como variables explicativas `sexo` y `grupo`.\n",
    "\n",
    "https://scikit-learn.org/stable/modules/generated/sklearn.preprocessing.OrdinalEncoder.html"
   ]
  },
  {
   "cell_type": "code",
   "execution_count": 6,
   "metadata": {},
   "outputs": [
    {
     "name": "stdout",
     "output_type": "stream",
     "text": [
      "La matriz X es:\n",
      "  (0, 1)\t1.0\n",
      "  (1, 2)\t1.0\n",
      "  (2, 0)\t1.0\n",
      "  (3, 0)\t1.0\n",
      "\n",
      "\n",
      "Los datos originales son:\n",
      "     sexo grupo\n",
      "0  hombre    g2\n",
      "1  hombre    g3\n",
      "2   mujer    g1\n",
      "3   mujer    g1\n"
     ]
    }
   ],
   "source": [
    "X = df[[\"sexo\", \"grupo\"]]\n",
    "\n",
    "enc = OneHotEncoder(drop=\"first\")\n",
    "enc = enc.fit(X)\n",
    "X = enc.transform(X)\n",
    "\n",
    "print(\"La matriz X es:\")\n",
    "print(X)\n",
    "print(\"\\n\")\n",
    "print(\"Los datos originales son:\")\n",
    "print(df[[\"sexo\", \"grupo\"]])"
   ]
  },
  {
   "cell_type": "markdown",
   "metadata": {},
   "source": [
    "# Ejemplo 4\n",
    "\n",
    "Crear el vector $\\boldsymbol{y}$ suponiendo como variable respuesta `deporte`.\n",
    "\n",
    "https://scikit-learn.org/stable/modules/generated/sklearn.preprocessing.LabelEncoder.html"
   ]
  },
  {
   "cell_type": "code",
   "execution_count": 7,
   "metadata": {},
   "outputs": [
    {
     "name": "stdout",
     "output_type": "stream",
     "text": [
      "El vector y es:\n",
      "[1 0 0 2]\n",
      "\n",
      "\n",
      "Los datos originales son:\n",
      "0      nunca\n",
      "1    a veces\n",
      "2    a veces\n",
      "3    siempre\n",
      "Name: deporte, dtype: object\n"
     ]
    }
   ],
   "source": [
    "y = df[\"deporte\"]\n",
    "\n",
    "le = LabelEncoder()\n",
    "le = le.fit(y)\n",
    "y = le.transform(y)\n",
    "\n",
    "print(\"El vector y es:\")\n",
    "print(y)\n",
    "print(\"\\n\")\n",
    "print(\"Los datos originales son:\")\n",
    "print(df[\"deporte\"])"
   ]
  },
  {
   "cell_type": "markdown",
   "metadata": {},
   "source": [
    "# Ejemplo de Jason Brownlee\n",
    "\n",
    "https://machinelearningmastery.com/one-hot-encoding-for-categorical-data/"
   ]
  },
  {
   "cell_type": "code",
   "execution_count": 8,
   "metadata": {},
   "outputs": [
    {
     "name": "stdout",
     "output_type": "stream",
     "text": [
      "Accuracy: 75.79\n"
     ]
    }
   ],
   "source": [
    "# evaluate logistic regression on the breast cancer dataset with an ordinal encoding\n",
    "from numpy import mean\n",
    "from numpy import std\n",
    "from pandas import read_csv\n",
    "from sklearn.model_selection import train_test_split\n",
    "from sklearn.linear_model import LogisticRegression\n",
    "from sklearn.preprocessing import LabelEncoder\n",
    "from sklearn.preprocessing import OrdinalEncoder\n",
    "from sklearn.metrics import accuracy_score\n",
    "# define the location of the dataset\n",
    "url = \"https://raw.githubusercontent.com/jbrownlee/Datasets/master/breast-cancer.csv\"\n",
    "# load the dataset\n",
    "dataset = read_csv(url, header=None)\n",
    "# retrieve the array of data\n",
    "data = dataset.values\n",
    "# separate into input and output columns\n",
    "X = data[:, :-1].astype(str)\n",
    "y = data[:, -1].astype(str)\n",
    "# split the dataset into train and test sets\n",
    "X_train, X_test, y_train, y_test = train_test_split(X, y, test_size=0.33, random_state=1)\n",
    "# ordinal encode input variables\n",
    "ordinal_encoder = OrdinalEncoder()\n",
    "ordinal_encoder.fit(X_train)\n",
    "X_train = ordinal_encoder.transform(X_train)\n",
    "X_test = ordinal_encoder.transform(X_test)\n",
    "# ordinal encode target variable\n",
    "label_encoder = LabelEncoder()\n",
    "label_encoder.fit(y_train)\n",
    "y_train = label_encoder.transform(y_train)\n",
    "y_test = label_encoder.transform(y_test)\n",
    "# define the model\n",
    "model = LogisticRegression()\n",
    "# fit on the training set\n",
    "model.fit(X_train, y_train)\n",
    "# predict on test set\n",
    "yhat = model.predict(X_test)\n",
    "# evaluate predictions\n",
    "accuracy = accuracy_score(y_test, yhat)\n",
    "print('Accuracy: %.2f' % (accuracy*100))"
   ]
  },
  {
   "cell_type": "code",
   "execution_count": 9,
   "metadata": {},
   "outputs": [
    {
     "name": "stdout",
     "output_type": "stream",
     "text": [
      "Accuracy: 70.53\n"
     ]
    }
   ],
   "source": [
    "# evaluate logistic regression on the breast cancer dataset with an one-hot encoding\n",
    "from numpy import mean\n",
    "from numpy import std\n",
    "from pandas import read_csv\n",
    "from sklearn.model_selection import train_test_split\n",
    "from sklearn.linear_model import LogisticRegression\n",
    "from sklearn.preprocessing import LabelEncoder\n",
    "from sklearn.preprocessing import OneHotEncoder\n",
    "from sklearn.metrics import accuracy_score\n",
    "# define the location of the dataset\n",
    "url = \"https://raw.githubusercontent.com/jbrownlee/Datasets/master/breast-cancer.csv\"\n",
    "# load the dataset\n",
    "dataset = read_csv(url, header=None)\n",
    "# retrieve the array of data\n",
    "data = dataset.values\n",
    "# separate into input and output columns\n",
    "X = data[:, :-1].astype(str)\n",
    "y = data[:, -1].astype(str)\n",
    "# split the dataset into train and test sets\n",
    "X_train, X_test, y_train, y_test = train_test_split(X, y, test_size=0.33, random_state=1)\n",
    "# one-hot encode input variables\n",
    "onehot_encoder = OneHotEncoder()\n",
    "onehot_encoder.fit(X_train)\n",
    "X_train = onehot_encoder.transform(X_train)\n",
    "X_test = onehot_encoder.transform(X_test)\n",
    "# ordinal encode target variable\n",
    "label_encoder = LabelEncoder()\n",
    "label_encoder.fit(y_train)\n",
    "y_train = label_encoder.transform(y_train)\n",
    "y_test = label_encoder.transform(y_test)\n",
    "# define the model\n",
    "model = LogisticRegression()\n",
    "# fit on the training set\n",
    "model.fit(X_train, y_train)\n",
    "# predict on test set\n",
    "yhat = model.predict(X_test)\n",
    "# evaluate predictions\n",
    "accuracy = accuracy_score(y_test, yhat)\n",
    "print('Accuracy: %.2f' % (accuracy*100))"
   ]
  }
 ],
 "metadata": {
  "kernelspec": {
   "display_name": "Python 3 (ipykernel)",
   "language": "python",
   "name": "python3"
  },
  "language_info": {
   "codemirror_mode": {
    "name": "ipython",
    "version": 3
   },
   "file_extension": ".py",
   "mimetype": "text/x-python",
   "name": "python",
   "nbconvert_exporter": "python",
   "pygments_lexer": "ipython3",
   "version": "3.12.7"
  }
 },
 "nbformat": 4,
 "nbformat_minor": 4
}
