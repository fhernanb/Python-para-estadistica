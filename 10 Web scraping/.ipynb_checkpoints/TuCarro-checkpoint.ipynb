{
 "cells": [
  {
   "cell_type": "markdown",
   "metadata": {
    "id": "Z292DppCdwnz"
   },
   "source": [
    "# Ejemplo con tucarro.com.co\n",
    "\n",
    "<img src=\"https://raw.githubusercontent.com/fhernanb/fhernanb.github.io/master/my_docs/logo_unal_color.png\" alt=\"drawing\" width=\"200\"/>\n",
    "\n",
    "En este notebook vamos a mostrar cómo hacer web scraping con la página https://carros.tucarro.com.co/\n",
    "\n",
    "<img src=\"Figs/tucarro.jpg\" alt=\"drawing\" width=\"200\"/>\n",
    "\n",
    "La librería que vamos a usar es [BeautifulSoup](https://pypi.org/project/beautifulsoup4/).\n",
    "\n",
    "Lo primero es cargar la librería."
   ]
  },
  {
   "cell_type": "code",
   "execution_count": 1,
   "metadata": {
    "id": "5dMqWBzw_hFx"
   },
   "outputs": [],
   "source": [
    "from bs4 import BeautifulSoup"
   ]
  },
  {
   "cell_type": "markdown",
   "metadata": {
    "id": "NMy9rlYPd2r1"
   },
   "source": [
    "# Prueba sencilla\n",
    "\n",
    "Vamos a realizar una prueba sencilla, vamos a explorar la primera página que tiene 48 anuncios."
   ]
  },
  {
   "cell_type": "code",
   "execution_count": 2,
   "metadata": {},
   "outputs": [],
   "source": [
    "from bs4 import BeautifulSoup\n",
    "import requests as rq\n",
    "import re"
   ]
  },
  {
   "cell_type": "code",
   "execution_count": 3,
   "metadata": {
    "colab": {
     "base_uri": "https://localhost:8080/"
    },
    "executionInfo": {
     "elapsed": 3466,
     "status": "ok",
     "timestamp": 1744379906862,
     "user": {
      "displayName": "OLGA CECILIA USUGA MANCO",
      "userId": "18255825952910028859"
     },
     "user_tz": 300
    },
    "id": "4yXAeyjHAAQU",
    "outputId": "860440eb-46e5-481f-ab6e-ccc85612f1bd"
   },
   "outputs": [
    {
     "name": "stdout",
     "output_type": "stream",
     "text": [
      "[<li class=\"ui-search-layout__item\"><div style=\"display:contents\"><div class=\"ui-search-result__wrapper\"><div class=\"andes-card poly-card poly-card--grid-card poly-card--large poly-card--MOT andes-card--flat andes-card--padding-0 andes-card--animated\" id=\":R2o2l5ie:\"><div class=\"poly-card__portada\"><img alt=\"Mazda 6 2.5 L5na1\" aria-hidden=\"true\" class=\"poly-component__picture poly-component__picture--contain lazy-loadable\" data-src=\"https://http2.mlstatic.com/D_Q_NP_2X_995263-MCO83682188625_042025-E.webp\" decoding=\"async\" height=\"150\" src=\"data:image/gif;base64,R0lGODlhAQABAIAAAAAAAP///yH5BAEAAAAALAAAAAABAAEAAAIBRAA7\" title=\"Mazda 6 2.5 L5na1\" width=\"150\"/></div><div class=\"poly-card__content\"><h3 class=\"poly-component__title-wrapper\"><a class=\"poly-component__title\" href=\"https://articulo.tucarro.com.co/MCO-2846826502-mazda-6-l5na1-25-_JM#polycard_client=search-nordic&amp;position=3&amp;search_layout=grid&amp;type=item&amp;tracking_id=547f77ce-e5b4-4464-bac8-2df4ad42bcc6\" target=\"_blank\">Mazda 6 2.5 L5na1</a></h3><div class=\"poly-component__price\"><div class=\"poly-price__current\"><span aria-label=\"41000000 pesos colombianos\" aria-roledescription=\"Monto\" class=\"andes-money-amount andes-money-amount--cents-superscript\" role=\"img\" style=\"font-size:24px\"><span aria-hidden=\"true\" class=\"andes-money-amount__currency-symbol\">$</span><span aria-hidden=\"true\" class=\"andes-money-amount__fraction\">41.000.000</span></span></div></div><div class=\"poly-component__attributes-list\"><ul class=\"poly-attributes-list\" style='--separator-content:\"|\";gap:4px'><li class=\"poly-attributes-list__item poly-attributes-list__separator\">2011</li><li class=\"poly-attributes-list__item poly-attributes-list__separator\">98.802 Km</li></ul></div><span class=\"poly-component__location\">Usaquén - Bogotá D.C.</span></div><div class=\"poly-component__bookmark\"><button aria-checked=\"false\" aria-label=\"Favorito\" class=\"poly-bookmark__btn\" role=\"switch\" type=\"button\"><svg class=\"poly-bookmark__icon-full\" height=\"20\" viewbox=\"0 0 20 20\" width=\"20\"><use href=\"#poly_bookmark\"></use></svg><svg class=\"poly-bookmark__icon-empty\" height=\"20\" viewbox=\"0 0 20 20\" width=\"20\"><use href=\"#poly_bookmark\"></use></svg></button></div></div></div></div></li>, <li class=\"ui-search-layout__item\"><div style=\"display:contents\"><div class=\"ui-search-result__wrapper\"><div class=\"andes-card poly-card poly-card--grid-card poly-card--large poly-card--MOT andes-card--flat andes-card--padding-0 andes-card--animated\" id=\":R2o4l5ie:\"><div class=\"poly-card__portada\"><img alt=\"Dfm/dfsk Glory 580 1,8\" aria-hidden=\"true\" class=\"poly-component__picture poly-component__picture--contain\" decoding=\"sync\" fetchpriority=\"high\" height=\"150\" src=\"https://http2.mlstatic.com/D_Q_NP_2X_675257-MCO83389976340_042025-E.webp\" title=\"Dfm/dfsk Glory 580 1,8\" width=\"150\"/></div><div class=\"poly-card__content\"><h3 class=\"poly-component__title-wrapper\"><a class=\"poly-component__title\" href=\"https://articulo.tucarro.com.co/MCO-2846851938-dfsk-dxk6470sf-18-_JM#polycard_client=search-nordic&amp;position=4&amp;search_layout=grid&amp;type=item&amp;tracking_id=547f77ce-e5b4-4464-bac8-2df4ad42bcc6\" target=\"_blank\">Dfm/dfsk Glory 580 1,8</a></h3><div class=\"poly-component__price\"><div class=\"poly-price__current\"><span aria-label=\"87000000 pesos colombianos\" aria-roledescription=\"Monto\" class=\"andes-money-amount andes-money-amount--cents-superscript\" role=\"img\" style=\"font-size:24px\"><span aria-hidden=\"true\" class=\"andes-money-amount__currency-symbol\">$</span><span aria-hidden=\"true\" class=\"andes-money-amount__fraction\">87.000.000</span></span></div></div><div class=\"poly-component__attributes-list\"><ul class=\"poly-attributes-list\" style='--separator-content:\"|\";gap:4px'><li class=\"poly-attributes-list__item poly-attributes-list__separator\">2024</li><li class=\"poly-attributes-list__item poly-attributes-list__separator\">64.000 Km</li></ul></div><span class=\"poly-component__location\">Fontibón - Bogotá D.C.</span></div><div class=\"poly-component__bookmark\"><button aria-checked=\"false\" aria-label=\"Favorito\" class=\"poly-bookmark__btn\" role=\"switch\" type=\"button\"><svg class=\"poly-bookmark__icon-full\" height=\"20\" viewbox=\"0 0 20 20\" width=\"20\"><use href=\"#poly_bookmark\"></use></svg><svg class=\"poly-bookmark__icon-empty\" height=\"20\" viewbox=\"0 0 20 20\" width=\"20\"><use href=\"#poly_bookmark\"></use></svg></button></div></div></div></div></li>, <li class=\"ui-search-layout__item\"><div style=\"display:contents\"><div class=\"ui-search-result__wrapper\"><div class=\"andes-card poly-card poly-card--grid-card poly-card--large poly-card--MOT andes-card--flat andes-card--padding-0 andes-card--animated\" id=\":R2o6l5ie:\"><div class=\"poly-card__portada\"><img alt=\"Toyota Corolla 1.8 Hev Seg\" aria-hidden=\"true\" class=\"poly-component__picture poly-component__picture--contain\" decoding=\"sync\" fetchpriority=\"high\" height=\"150\" src=\"https://http2.mlstatic.com/D_Q_NP_2X_678711-MCO83681902761_042025-E.webp\" title=\"Toyota Corolla 1.8 Hev Seg\" width=\"150\"/></div><div class=\"poly-card__content\"><h3 class=\"poly-component__title-wrapper\"><a class=\"poly-component__title\" href=\"https://articulo.tucarro.com.co/MCO-2846787550-toyota-corolla-18-seg-hybrido-_JM#polycard_client=search-nordic&amp;position=5&amp;search_layout=grid&amp;type=item&amp;tracking_id=547f77ce-e5b4-4464-bac8-2df4ad42bcc6\" target=\"_blank\">Toyota Corolla 1.8 Hev Seg</a></h3><div class=\"poly-component__price\"><div class=\"poly-price__current\"><span aria-label=\"124000000 pesos colombianos\" aria-roledescription=\"Monto\" class=\"andes-money-amount andes-money-amount--cents-superscript\" role=\"img\" style=\"font-size:24px\"><span aria-hidden=\"true\" class=\"andes-money-amount__currency-symbol\">$</span><span aria-hidden=\"true\" class=\"andes-money-amount__fraction\">124.000.000</span></span></div></div><div class=\"poly-component__attributes-list\"><ul class=\"poly-attributes-list\" style='--separator-content:\"|\";gap:4px'><li class=\"poly-attributes-list__item poly-attributes-list__separator\">2024</li><li class=\"poly-attributes-list__item poly-attributes-list__separator\">5.400 Km</li></ul></div><span class=\"poly-component__location\">Usaquén - Bogotá D.C.</span></div><div class=\"poly-component__bookmark\"><button aria-checked=\"false\" aria-label=\"Favorito\" class=\"poly-bookmark__btn\" role=\"switch\" type=\"button\"><svg class=\"poly-bookmark__icon-full\" height=\"20\" viewbox=\"0 0 20 20\" width=\"20\"><use href=\"#poly_bookmark\"></use></svg><svg class=\"poly-bookmark__icon-empty\" height=\"20\" viewbox=\"0 0 20 20\" width=\"20\"><use href=\"#poly_bookmark\"></use></svg></button></div></div></div></div></li>, <li class=\"ui-search-layout__item\"><div style=\"display:contents\"><div class=\"ui-search-result__wrapper\"><div class=\"andes-card poly-card poly-card--grid-card poly-card--large poly-card--MOT andes-card--flat andes-card--padding-0 andes-card--animated\" id=\":R2o8l5ie:\"><div class=\"poly-card__portada\"><img alt=\"Mg 5 1.5 Comfort\" aria-hidden=\"true\" class=\"poly-component__picture poly-component__picture--contain\" decoding=\"sync\" fetchpriority=\"high\" height=\"150\" src=\"https://http2.mlstatic.com/D_Q_NP_2X_611814-MCO83389802030_042025-E.webp\" title=\"Mg 5 1.5 Comfort\" width=\"150\"/></div><div class=\"poly-card__content\"><h3 class=\"poly-component__title-wrapper\"><a class=\"poly-component__title\" href=\"https://articulo.tucarro.com.co/MCO-1567375801-mg-mg5-15-comfort-at-_JM#polycard_client=search-nordic&amp;position=6&amp;search_layout=grid&amp;type=item&amp;tracking_id=547f77ce-e5b4-4464-bac8-2df4ad42bcc6\" target=\"_blank\">Mg 5 1.5 Comfort</a></h3><div class=\"poly-component__price\"><div class=\"poly-price__current\"><span aria-label=\"27000000 pesos colombianos\" aria-roledescription=\"Monto\" class=\"andes-money-amount andes-money-amount--cents-superscript\" role=\"img\" style=\"font-size:24px\"><span aria-hidden=\"true\" class=\"andes-money-amount__currency-symbol\">$</span><span aria-hidden=\"true\" class=\"andes-money-amount__fraction\">27.000.000</span></span></div></div><div class=\"poly-component__attributes-list\"><ul class=\"poly-attributes-list\" style='--separator-content:\"|\";gap:4px'><li class=\"poly-attributes-list__item poly-attributes-list__separator\">2014</li><li class=\"poly-attributes-list__item poly-attributes-list__separator\">146.344 Km</li></ul></div><span class=\"poly-component__location\">Tunjuelito - Bogotá D.C.</span></div><div class=\"poly-component__bookmark\"><button aria-checked=\"false\" aria-label=\"Favorito\" class=\"poly-bookmark__btn\" role=\"switch\" type=\"button\"><svg class=\"poly-bookmark__icon-full\" height=\"20\" viewbox=\"0 0 20 20\" width=\"20\"><use href=\"#poly_bookmark\"></use></svg><svg class=\"poly-bookmark__icon-empty\" height=\"20\" viewbox=\"0 0 20 20\" width=\"20\"><use href=\"#poly_bookmark\"></use></svg></button></div></div></div></div></li>, <li class=\"ui-search-layout__item\"><div style=\"display:contents\"><div class=\"ui-search-result__wrapper\"><div class=\"andes-card poly-card poly-card--grid-card poly-card--large poly-card--MOT andes-card--flat andes-card--padding-0 andes-card--animated\" id=\":R2oal5ie:\"><div class=\"poly-card__portada\"><img alt=\"Hyundai Creta 1.6 Premium\" aria-hidden=\"true\" class=\"poly-component__picture poly-component__picture--contain lazy-loadable\" data-src=\"https://http2.mlstatic.com/D_Q_NP_2X_627400-MCO83681796357_042025-E.webp\" decoding=\"async\" height=\"150\" src=\"data:image/gif;base64,R0lGODlhAQABAIAAAAAAAP///yH5BAEAAAAALAAAAAABAAEAAAIBRAA7\" title=\"Hyundai Creta 1.6 Premium\" width=\"150\"/></div><div class=\"poly-card__content\"><h3 class=\"poly-component__title-wrapper\"><a class=\"poly-component__title\" href=\"https://articulo.tucarro.com.co/MCO-2846787150-hyundai-creta-premium-at-16-_JM#polycard_client=search-nordic&amp;position=7&amp;search_layout=grid&amp;type=item&amp;tracking_id=547f77ce-e5b4-4464-bac8-2df4ad42bcc6\" target=\"_blank\">Hyundai Creta 1.6 Premium</a></h3><div class=\"poly-component__price\"><div class=\"poly-price__current\"><span aria-label=\"70000000 pesos colombianos\" aria-roledescription=\"Monto\" class=\"andes-money-amount andes-money-amount--cents-superscript\" role=\"img\" style=\"font-size:24px\"><span aria-hidden=\"true\" class=\"andes-money-amount__currency-symbol\">$</span><span aria-hidden=\"true\" class=\"andes-money-amount__fraction\">70.000.000</span></span></div></div><div class=\"poly-component__attributes-list\"><ul class=\"poly-attributes-list\" style='--separator-content:\"|\";gap:4px'><li class=\"poly-attributes-list__item poly-attributes-list__separator\">2019</li><li class=\"poly-attributes-list__item poly-attributes-list__separator\">55.000 Km</li></ul></div><span class=\"poly-component__location\">Fontibón - Bogotá D.C.</span></div><div class=\"poly-component__bookmark\"><button aria-checked=\"false\" aria-label=\"Favorito\" class=\"poly-bookmark__btn\" role=\"switch\" type=\"button\"><svg class=\"poly-bookmark__icon-full\" height=\"20\" viewbox=\"0 0 20 20\" width=\"20\"><use href=\"#poly_bookmark\"></use></svg><svg class=\"poly-bookmark__icon-empty\" height=\"20\" viewbox=\"0 0 20 20\" width=\"20\"><use href=\"#poly_bookmark\"></use></svg></button></div></div></div></div></li>, <li class=\"ui-search-layout__item\"><div style=\"display:contents\"><div class=\"ui-search-result__wrapper\"><div class=\"andes-card poly-card poly-card--grid-card poly-card--large poly-card--MOT andes-card--flat andes-card--padding-0 andes-card--animated\" id=\":R2ocl5ie:\"><div class=\"poly-card__portada\"><img alt=\"Toyota Hilux 2.7 Diesel 4x4 At\" aria-hidden=\"true\" class=\"poly-component__picture poly-component__picture--contain lazy-loadable\" data-src=\"https://http2.mlstatic.com/D_Q_NP_2X_878748-MCO83389429824_042025-E.webp\" decoding=\"async\" height=\"150\" src=\"data:image/gif;base64,R0lGODlhAQABAIAAAAAAAP///yH5BAEAAAAALAAAAAABAAEAAAIBRAA7\" title=\"Toyota Hilux 2.7 Diesel 4x4 At\" width=\"150\"/></div><div class=\"poly-card__content\"><h3 class=\"poly-component__title-wrapper\"><a class=\"poly-component__title\" href=\"https://articulo.tucarro.com.co/MCO-2846799872-toyota-hilux-27-diesel-4x4-at-_JM#polycard_client=search-nordic&amp;position=8&amp;search_layout=grid&amp;type=item&amp;tracking_id=547f77ce-e5b4-4464-bac8-2df4ad42bcc6\" target=\"_blank\">Toyota Hilux 2.7 Diesel 4x4 At</a></h3><div class=\"poly-component__price\"><div class=\"poly-price__current\"><span aria-label=\"254000000 pesos colombianos\" aria-roledescription=\"Monto\" class=\"andes-money-amount andes-money-amount--cents-superscript\" role=\"img\" style=\"font-size:24px\"><span aria-hidden=\"true\" class=\"andes-money-amount__currency-symbol\">$</span><span aria-hidden=\"true\" class=\"andes-money-amount__fraction\">254.000.000</span></span></div></div><div class=\"poly-component__attributes-list\"><ul class=\"poly-attributes-list\" style='--separator-content:\"|\";gap:4px'><li class=\"poly-attributes-list__item poly-attributes-list__separator\">2022</li><li class=\"poly-attributes-list__item poly-attributes-list__separator\">49.600 Km</li></ul></div><span class=\"poly-component__location\">Kennedy - Bogotá D.C.</span></div><div class=\"poly-component__bookmark\"><button aria-checked=\"false\" aria-label=\"Favorito\" class=\"poly-bookmark__btn\" role=\"switch\" type=\"button\"><svg class=\"poly-bookmark__icon-full\" height=\"20\" viewbox=\"0 0 20 20\" width=\"20\"><use href=\"#poly_bookmark\"></use></svg><svg class=\"poly-bookmark__icon-empty\" height=\"20\" viewbox=\"0 0 20 20\" width=\"20\"><use href=\"#poly_bookmark\"></use></svg></button></div></div></div></div></li>, <li class=\"ui-search-layout__item\"><div style=\"display:contents\"><div class=\"ui-search-result__wrapper\"><div class=\"andes-card poly-card poly-card--grid-card poly-card--large poly-card--MOT andes-card--flat andes-card--padding-0 andes-card--animated\" id=\":R2oel5ie:\"><div class=\"poly-card__portada\"><img alt=\"Ssangyong Rexton 2.7 Luxury Turbo Diesel\" aria-hidden=\"true\" class=\"poly-component__picture poly-component__picture--contain lazy-loadable\" data-src=\"https://http2.mlstatic.com/D_Q_NP_2X_942446-MCO83681637915_042025-E.webp\" decoding=\"async\" height=\"150\" src=\"data:image/gif;base64,R0lGODlhAQABAIAAAAAAAP///yH5BAEAAAAALAAAAAABAAEAAAIBRAA7\" title=\"Ssangyong Rexton 2.7 Luxury Turbo Diesel\" width=\"150\"/></div><div class=\"poly-card__content\"><h3 class=\"poly-component__title-wrapper\"><a class=\"poly-component__title\" href=\"https://articulo.tucarro.com.co/MCO-2846786868-ssangyong-rexton-27-luxury-2014-_JM#polycard_client=search-nordic&amp;position=9&amp;search_layout=grid&amp;type=item&amp;tracking_id=547f77ce-e5b4-4464-bac8-2df4ad42bcc6\" target=\"_blank\">Ssangyong Rexton 2.7 Luxury Turbo Diesel</a></h3><div class=\"poly-component__price\"><div class=\"poly-price__current\"><span aria-label=\"68800000 pesos colombianos\" aria-roledescription=\"Monto\" class=\"andes-money-amount andes-money-amount--cents-superscript\" role=\"img\" style=\"font-size:24px\"><span aria-hidden=\"true\" class=\"andes-money-amount__currency-symbol\">$</span><span aria-hidden=\"true\" class=\"andes-money-amount__fraction\">68.800.000</span></span></div></div><div class=\"poly-component__attributes-list\"><ul class=\"poly-attributes-list\" style='--separator-content:\"|\";gap:4px'><li class=\"poly-attributes-list__item poly-attributes-list__separator\">2014</li><li class=\"poly-attributes-list__item poly-attributes-list__separator\">102.000 Km</li></ul></div><span class=\"poly-component__location\">Medellín - Antioquia</span></div><div class=\"poly-component__bookmark\"><button aria-checked=\"false\" aria-label=\"Favorito\" class=\"poly-bookmark__btn\" role=\"switch\" type=\"button\"><svg class=\"poly-bookmark__icon-full\" height=\"20\" viewbox=\"0 0 20 20\" width=\"20\"><use href=\"#poly_bookmark\"></use></svg><svg class=\"poly-bookmark__icon-empty\" height=\"20\" viewbox=\"0 0 20 20\" width=\"20\"><use href=\"#poly_bookmark\"></use></svg></button></div></div></div></div></li>, <li class=\"ui-search-layout__item\"><div style=\"display:contents\"><div class=\"ui-search-result__wrapper\"><div class=\"andes-card poly-card poly-card--grid-card poly-card--large poly-card--MOT andes-card--flat andes-card--padding-0 andes-card--animated\" id=\":R2ogl5ie:\"><div class=\"poly-card__portada\"><img alt=\"Ford Ecosport 2.0 Titanium At\" aria-hidden=\"true\" class=\"poly-component__picture poly-component__picture--contain lazy-loadable\" data-src=\"https://http2.mlstatic.com/D_Q_NP_2X_993432-MCO83681133723_042025-E.webp\" decoding=\"async\" height=\"150\" src=\"data:image/gif;base64,R0lGODlhAQABAIAAAAAAAP///yH5BAEAAAAALAAAAAABAAEAAAIBRAA7\" title=\"Ford Ecosport 2.0 Titanium At\" width=\"150\"/></div><div class=\"poly-card__content\"><h3 class=\"poly-component__title-wrapper\"><a class=\"poly-component__title\" href=\"https://articulo.tucarro.com.co/MCO-2846786706-ford-ecosport-20-titanium-_JM#polycard_client=search-nordic&amp;position=10&amp;search_layout=grid&amp;type=item&amp;tracking_id=547f77ce-e5b4-4464-bac8-2df4ad42bcc6\" target=\"_blank\">Ford Ecosport 2.0 Titanium At</a></h3><div class=\"poly-component__price\"><div class=\"poly-price__current\"><span aria-label=\"72500000 pesos colombianos\" aria-roledescription=\"Monto\" class=\"andes-money-amount andes-money-amount--cents-superscript\" role=\"img\" style=\"font-size:24px\"><span aria-hidden=\"true\" class=\"andes-money-amount__currency-symbol\">$</span><span aria-hidden=\"true\" class=\"andes-money-amount__fraction\">72.500.000</span></span></div></div><div class=\"poly-component__attributes-list\"><ul class=\"poly-attributes-list\" style='--separator-content:\"|\";gap:4px'><li class=\"poly-attributes-list__item poly-attributes-list__separator\">2021</li><li class=\"poly-attributes-list__item poly-attributes-list__separator\">52.200 Km</li></ul></div><span class=\"poly-component__location\">Kennedy - Bogotá D.C.</span></div><div class=\"poly-component__bookmark\"><button aria-checked=\"false\" aria-label=\"Favorito\" class=\"poly-bookmark__btn\" role=\"switch\" type=\"button\"><svg class=\"poly-bookmark__icon-full\" height=\"20\" viewbox=\"0 0 20 20\" width=\"20\"><use href=\"#poly_bookmark\"></use></svg><svg class=\"poly-bookmark__icon-empty\" height=\"20\" viewbox=\"0 0 20 20\" width=\"20\"><use href=\"#poly_bookmark\"></use></svg></button></div></div></div></div></li>, <li class=\"ui-search-layout__item\"><div style=\"display:contents\"><div class=\"ui-search-result__wrapper\"><div class=\"andes-card poly-card poly-card--grid-card poly-card--large poly-card--MOT andes-card--flat andes-card--padding-0 andes-card--animated\" id=\":R2oil5ie:\"><div class=\"poly-card__portada\"><img alt=\"Dfsk Van Cargo C35 1.5 Van Cargo\" aria-hidden=\"true\" class=\"poly-component__picture poly-component__picture--contain lazy-loadable\" data-src=\"https://http2.mlstatic.com/D_Q_NP_2X_718749-MCO83383313038_042025-E.webp\" decoding=\"async\" height=\"150\" src=\"data:image/gif;base64,R0lGODlhAQABAIAAAAAAAP///yH5BAEAAAAALAAAAAABAAEAAAIBRAA7\" title=\"Dfsk Van Cargo C35 1.5 Van Cargo\" width=\"150\"/></div><div class=\"poly-card__content\"><h3 class=\"poly-component__title-wrapper\"><a class=\"poly-component__title\" href=\"https://articulo.tucarro.com.co/MCO-1567387541-dfsk-c35-15-van-carga-mt-_JM#polycard_client=search-nordic&amp;position=11&amp;search_layout=grid&amp;type=item&amp;tracking_id=547f77ce-e5b4-4464-bac8-2df4ad42bcc6\" target=\"_blank\">Dfsk Van Cargo C35 1.5 Van Cargo</a></h3><div class=\"poly-component__price\"><div class=\"poly-price__current\"><span aria-label=\"62500000 pesos colombianos\" aria-roledescription=\"Monto\" class=\"andes-money-amount andes-money-amount--cents-superscript\" role=\"img\" style=\"font-size:24px\"><span aria-hidden=\"true\" class=\"andes-money-amount__currency-symbol\">$</span><span aria-hidden=\"true\" class=\"andes-money-amount__fraction\">62.500.000</span></span></div></div><div class=\"poly-component__attributes-list\"><ul class=\"poly-attributes-list\" style='--separator-content:\"|\";gap:4px'><li class=\"poly-attributes-list__item poly-attributes-list__separator\">2022</li><li class=\"poly-attributes-list__item poly-attributes-list__separator\">43.500 Km</li></ul></div><span class=\"poly-component__location\">Puente Aranda - Bogotá D.C.</span></div><div class=\"poly-component__bookmark\"><button aria-checked=\"false\" aria-label=\"Favorito\" class=\"poly-bookmark__btn\" role=\"switch\" type=\"button\"><svg class=\"poly-bookmark__icon-full\" height=\"20\" viewbox=\"0 0 20 20\" width=\"20\"><use href=\"#poly_bookmark\"></use></svg><svg class=\"poly-bookmark__icon-empty\" height=\"20\" viewbox=\"0 0 20 20\" width=\"20\"><use href=\"#poly_bookmark\"></use></svg></button></div></div></div></div></li>, <li class=\"ui-search-layout__item\"><div style=\"display:contents\"><div class=\"ui-search-result__wrapper\"><div class=\"andes-card poly-card poly-card--grid-card poly-card--large poly-card--MOT andes-card--flat andes-card--padding-0 andes-card--animated\" id=\":R2okl5ie:\"><div class=\"poly-card__portada\"><img alt=\"Volkswagen Escarabajo 1.6 Escarabajo\" aria-hidden=\"true\" class=\"poly-component__picture poly-component__picture--contain lazy-loadable\" data-src=\"https://http2.mlstatic.com/D_Q_NP_2X_914625-MCO83388355734_042025-E.webp\" decoding=\"async\" height=\"150\" src=\"data:image/gif;base64,R0lGODlhAQABAIAAAAAAAP///yH5BAEAAAAALAAAAAABAAEAAAIBRAA7\" title=\"Volkswagen Escarabajo 1.6 Escarabajo\" width=\"150\"/></div><div class=\"poly-card__content\"><h3 class=\"poly-component__title-wrapper\"><a class=\"poly-component__title\" href=\"https://articulo.tucarro.com.co/MCO-2846760110-volkswagen-escarabajo-1978-_JM#polycard_client=search-nordic&amp;position=12&amp;search_layout=grid&amp;type=item&amp;tracking_id=547f77ce-e5b4-4464-bac8-2df4ad42bcc6\" target=\"_blank\">Volkswagen Escarabajo 1.6 Escarabajo</a></h3><div class=\"poly-component__price\"><div class=\"poly-price__current\"><span aria-label=\"18500000 pesos colombianos\" aria-roledescription=\"Monto\" class=\"andes-money-amount andes-money-amount--cents-superscript\" role=\"img\" style=\"font-size:24px\"><span aria-hidden=\"true\" class=\"andes-money-amount__currency-symbol\">$</span><span aria-hidden=\"true\" class=\"andes-money-amount__fraction\">18.500.000</span></span></div></div><div class=\"poly-component__attributes-list\"><ul class=\"poly-attributes-list\" style='--separator-content:\"|\";gap:4px'><li class=\"poly-attributes-list__item poly-attributes-list__separator\">1978</li><li class=\"poly-attributes-list__item poly-attributes-list__separator\">150.000 Km</li></ul></div><span class=\"poly-component__location\">Suba - Bogotá D.C.</span></div><div class=\"poly-component__bookmark\"><button aria-checked=\"false\" aria-label=\"Favorito\" class=\"poly-bookmark__btn\" role=\"switch\" type=\"button\"><svg class=\"poly-bookmark__icon-full\" height=\"20\" viewbox=\"0 0 20 20\" width=\"20\"><use href=\"#poly_bookmark\"></use></svg><svg class=\"poly-bookmark__icon-empty\" height=\"20\" viewbox=\"0 0 20 20\" width=\"20\"><use href=\"#poly_bookmark\"></use></svg></button></div></div></div></div></li>, <li class=\"ui-search-layout__item\"><div style=\"display:contents\"><div class=\"ui-search-result__wrapper\"><div class=\"andes-card poly-card poly-card--grid-card poly-card--large poly-card--MOT andes-card--flat andes-card--padding-0 andes-card--animated\" id=\":R2oml5ie:\"><div class=\"poly-card__portada\"><img alt=\"Ford Ecosport 1.5 Se Mt\" aria-hidden=\"true\" class=\"poly-component__picture poly-component__picture--contain lazy-loadable\" data-src=\"https://http2.mlstatic.com/D_Q_NP_2X_685960-MCO83388651144_042025-E.webp\" decoding=\"async\" height=\"150\" src=\"data:image/gif;base64,R0lGODlhAQABAIAAAAAAAP///yH5BAEAAAAALAAAAAABAAEAAAIBRAA7\" title=\"Ford Ecosport 1.5 Se Mt\" width=\"150\"/></div><div class=\"poly-card__content\"><h3 class=\"poly-component__title-wrapper\"><a class=\"poly-component__title\" href=\"https://articulo.tucarro.com.co/MCO-2846824906-ford-ecosport-15-se-mt-_JM#polycard_client=search-nordic&amp;position=13&amp;search_layout=grid&amp;type=item&amp;tracking_id=547f77ce-e5b4-4464-bac8-2df4ad42bcc6\" target=\"_blank\">Ford Ecosport 1.5 Se Mt</a></h3><div class=\"poly-component__price\"><div class=\"poly-price__current\"><span aria-label=\"59000000 pesos colombianos\" aria-roledescription=\"Monto\" class=\"andes-money-amount andes-money-amount--cents-superscript\" role=\"img\" style=\"font-size:24px\"><span aria-hidden=\"true\" class=\"andes-money-amount__currency-symbol\">$</span><span aria-hidden=\"true\" class=\"andes-money-amount__fraction\">59.000.000</span></span></div></div><div class=\"poly-component__attributes-list\"><ul class=\"poly-attributes-list\" style='--separator-content:\"|\";gap:4px'><li class=\"poly-attributes-list__item poly-attributes-list__separator\">2020</li><li class=\"poly-attributes-list__item poly-attributes-list__separator\">104.539 Km</li></ul></div><span class=\"poly-component__location\">Suba - Bogotá D.C.</span></div><div class=\"poly-component__bookmark\"><button aria-checked=\"false\" aria-label=\"Favorito\" class=\"poly-bookmark__btn\" role=\"switch\" type=\"button\"><svg class=\"poly-bookmark__icon-full\" height=\"20\" viewbox=\"0 0 20 20\" width=\"20\"><use href=\"#poly_bookmark\"></use></svg><svg class=\"poly-bookmark__icon-empty\" height=\"20\" viewbox=\"0 0 20 20\" width=\"20\"><use href=\"#poly_bookmark\"></use></svg></button></div></div></div></div></li>, <li class=\"ui-search-layout__item\"><div style=\"display:contents\"><div class=\"ui-search-result__wrapper\"><div class=\"andes-card poly-card poly-card--grid-card poly-card--large poly-card--MOT andes-card--flat andes-card--padding-0 andes-card--animated\" id=\":R2ool5ie:\"><div class=\"poly-card__portada\"><img alt=\"Volkswagen Tiguan 1.4 Allspace Comfortline\" aria-hidden=\"true\" class=\"poly-component__picture poly-component__picture--contain lazy-loadable\" data-src=\"https://http2.mlstatic.com/D_Q_NP_2X_616771-MCO83680300037_042025-E.webp\" decoding=\"async\" height=\"150\" src=\"data:image/gif;base64,R0lGODlhAQABAIAAAAAAAP///yH5BAEAAAAALAAAAAABAAEAAAIBRAA7\" title=\"Volkswagen Tiguan 1.4 Allspace Comfortline\" width=\"150\"/></div><div class=\"poly-card__content\"><h3 class=\"poly-component__title-wrapper\"><a class=\"poly-component__title\" href=\"https://articulo.tucarro.com.co/MCO-2846798532-volkswagen-tiguan-14-allspace-comfortline-2020-_JM#polycard_client=search-nordic&amp;position=14&amp;search_layout=grid&amp;type=item&amp;tracking_id=547f77ce-e5b4-4464-bac8-2df4ad42bcc6\" target=\"_blank\">Volkswagen Tiguan 1.4 Allspace Comfortline</a></h3><div class=\"poly-component__price\"><div class=\"poly-price__current\"><span aria-label=\"97000000 pesos colombianos\" aria-roledescription=\"Monto\" class=\"andes-money-amount andes-money-amount--cents-superscript\" role=\"img\" style=\"font-size:24px\"><span aria-hidden=\"true\" class=\"andes-money-amount__currency-symbol\">$</span><span aria-hidden=\"true\" class=\"andes-money-amount__fraction\">97.000.000</span></span></div></div><div class=\"poly-component__attributes-list\"><ul class=\"poly-attributes-list\" style='--separator-content:\"|\";gap:4px'><li class=\"poly-attributes-list__item poly-attributes-list__separator\">2020</li><li class=\"poly-attributes-list__item poly-attributes-list__separator\">44.500 Km</li></ul></div><span class=\"poly-component__location\">Medellín - Antioquia</span></div><div class=\"poly-component__bookmark\"><button aria-checked=\"false\" aria-label=\"Favorito\" class=\"poly-bookmark__btn\" role=\"switch\" type=\"button\"><svg class=\"poly-bookmark__icon-full\" height=\"20\" viewbox=\"0 0 20 20\" width=\"20\"><use href=\"#poly_bookmark\"></use></svg><svg class=\"poly-bookmark__icon-empty\" height=\"20\" viewbox=\"0 0 20 20\" width=\"20\"><use href=\"#poly_bookmark\"></use></svg></button></div></div></div></div></li>, <li class=\"ui-search-layout__item\"><div style=\"display:contents\"><div class=\"ui-search-result__wrapper\"><div class=\"andes-card poly-card poly-card--grid-card poly-card--large poly-card--MOT andes-card--flat andes-card--padding-0 andes-card--animated\" id=\":R2oql5ie:\"><div class=\"poly-card__portada\"><img alt=\"Mazda 2 1.5 Grand Touring\" aria-hidden=\"true\" class=\"poly-component__picture poly-component__picture--contain lazy-loadable\" data-src=\"https://http2.mlstatic.com/D_Q_NP_2X_964908-MCO83679913335_042025-E.webp\" decoding=\"async\" height=\"150\" src=\"data:image/gif;base64,R0lGODlhAQABAIAAAAAAAP///yH5BAEAAAAALAAAAAABAAEAAAIBRAA7\" title=\"Mazda 2 1.5 Grand Touring\" width=\"150\"/></div><div class=\"poly-card__content\"><h3 class=\"poly-component__title-wrapper\"><a class=\"poly-component__title\" href=\"https://articulo.tucarro.com.co/MCO-2846785478-mazda-2-grand-touring-15-hatchback-_JM#polycard_client=search-nordic&amp;position=15&amp;search_layout=grid&amp;type=item&amp;tracking_id=547f77ce-e5b4-4464-bac8-2df4ad42bcc6\" target=\"_blank\">Mazda 2 1.5 Grand Touring</a></h3><div class=\"poly-component__price\"><div class=\"poly-price__current\"><span aria-label=\"67000000 pesos colombianos\" aria-roledescription=\"Monto\" class=\"andes-money-amount andes-money-amount--cents-superscript\" role=\"img\" style=\"font-size:24px\"><span aria-hidden=\"true\" class=\"andes-money-amount__currency-symbol\">$</span><span aria-hidden=\"true\" class=\"andes-money-amount__fraction\">67.000.000</span></span></div></div><div class=\"poly-component__attributes-list\"><ul class=\"poly-attributes-list\" style='--separator-content:\"|\";gap:4px'><li class=\"poly-attributes-list__item poly-attributes-list__separator\">2021</li><li class=\"poly-attributes-list__item poly-attributes-list__separator\">30.000 Km</li></ul></div><span class=\"poly-component__location\">Kennedy - Bogotá D.C.</span></div><div class=\"poly-component__bookmark\"><button aria-checked=\"false\" aria-label=\"Favorito\" class=\"poly-bookmark__btn\" role=\"switch\" type=\"button\"><svg class=\"poly-bookmark__icon-full\" height=\"20\" viewbox=\"0 0 20 20\" width=\"20\"><use href=\"#poly_bookmark\"></use></svg><svg class=\"poly-bookmark__icon-empty\" height=\"20\" viewbox=\"0 0 20 20\" width=\"20\"><use href=\"#poly_bookmark\"></use></svg></button></div></div></div></div></li>, <li class=\"ui-search-layout__item\"><div style=\"display:contents\"><div class=\"ui-search-result__wrapper\"><div class=\"andes-card poly-card poly-card--grid-card poly-card--large poly-card--MOT andes-card--flat andes-card--padding-0 andes-card--animated\" id=\":R2osl5ie:\"><div class=\"poly-card__portada\"><img alt=\"Mercedes-benz Clase Cla 2.0 Amg 4matic\" aria-hidden=\"true\" class=\"poly-component__picture poly-component__picture--contain lazy-loadable\" data-src=\"https://http2.mlstatic.com/D_Q_NP_2X_941669-MCO83679460207_042025-E.webp\" decoding=\"async\" height=\"150\" src=\"data:image/gif;base64,R0lGODlhAQABAIAAAAAAAP///yH5BAEAAAAALAAAAAABAAEAAAIBRAA7\" title=\"Mercedes-benz Clase Cla 2.0 Amg 4matic\" width=\"150\"/></div><div class=\"poly-card__content\"><h3 class=\"poly-component__title-wrapper\"><a class=\"poly-component__title\" href=\"https://articulo.tucarro.com.co/MCO-2846720948-mercdes-benz-clase-cla-45-amg-_JM#polycard_client=search-nordic&amp;position=16&amp;search_layout=grid&amp;type=item&amp;tracking_id=547f77ce-e5b4-4464-bac8-2df4ad42bcc6\" target=\"_blank\">Mercedes-benz Clase Cla 2.0 Amg 4matic</a></h3><div class=\"poly-component__price\"><div class=\"poly-price__current\"><span aria-label=\"84000000 pesos colombianos\" aria-roledescription=\"Monto\" class=\"andes-money-amount andes-money-amount--cents-superscript\" role=\"img\" style=\"font-size:24px\"><span aria-hidden=\"true\" class=\"andes-money-amount__currency-symbol\">$</span><span aria-hidden=\"true\" class=\"andes-money-amount__fraction\">84.000.000</span></span></div></div><div class=\"poly-component__attributes-list\"><ul class=\"poly-attributes-list\" style='--separator-content:\"|\";gap:4px'><li class=\"poly-attributes-list__item poly-attributes-list__separator\">2015</li><li class=\"poly-attributes-list__item poly-attributes-list__separator\">85.000 Km</li></ul></div><span class=\"poly-component__location\">Usaquén - Bogotá D.C.</span></div><div class=\"poly-component__bookmark\"><button aria-checked=\"false\" aria-label=\"Favorito\" class=\"poly-bookmark__btn\" role=\"switch\" type=\"button\"><svg class=\"poly-bookmark__icon-full\" height=\"20\" viewbox=\"0 0 20 20\" width=\"20\"><use href=\"#poly_bookmark\"></use></svg><svg class=\"poly-bookmark__icon-empty\" height=\"20\" viewbox=\"0 0 20 20\" width=\"20\"><use href=\"#poly_bookmark\"></use></svg></button></div></div></div></div></li>, <li class=\"ui-search-layout__item\"><div style=\"display:contents\"><div class=\"ui-search-result__wrapper\"><div class=\"andes-card poly-card poly-card--grid-card poly-card--large poly-card--MOT andes-card--flat andes-card--padding-0 andes-card--animated\" id=\":R2oul5ie:\"><div class=\"poly-card__portada\"><img alt=\"Toyota Prado 4.0 Txl\" aria-hidden=\"true\" class=\"poly-component__picture poly-component__picture--contain lazy-loadable\" data-src=\"https://http2.mlstatic.com/D_Q_NP_2X_751164-MCO83678934403_042025-E.webp\" decoding=\"async\" height=\"150\" src=\"data:image/gif;base64,R0lGODlhAQABAIAAAAAAAP///yH5BAEAAAAALAAAAAABAAEAAAIBRAA7\" title=\"Toyota Prado 4.0 Txl\" width=\"150\"/></div><div class=\"poly-card__content\"><h3 class=\"poly-component__title-wrapper\"><a class=\"poly-component__title\" href=\"https://articulo.tucarro.com.co/MCO-2846873082-toyota-prado-40-txl-4x4-2022-_JM#polycard_client=search-nordic&amp;position=17&amp;search_layout=grid&amp;type=item&amp;tracking_id=547f77ce-e5b4-4464-bac8-2df4ad42bcc6\" target=\"_blank\">Toyota Prado 4.0 Txl</a></h3><div class=\"poly-component__price\"><div class=\"poly-price__current\"><span aria-label=\"280000000 pesos colombianos\" aria-roledescription=\"Monto\" class=\"andes-money-amount andes-money-amount--cents-superscript\" role=\"img\" style=\"font-size:24px\"><span aria-hidden=\"true\" class=\"andes-money-amount__currency-symbol\">$</span><span aria-hidden=\"true\" class=\"andes-money-amount__fraction\">280.000.000</span></span></div></div><div class=\"poly-component__attributes-list\"><ul class=\"poly-attributes-list\" style='--separator-content:\"|\";gap:4px'><li class=\"poly-attributes-list__item poly-attributes-list__separator\">2022</li><li class=\"poly-attributes-list__item poly-attributes-list__separator\">29.208 Km</li></ul></div><span class=\"poly-component__location\">Usaquén - Bogotá D.C.</span></div><div class=\"poly-component__bookmark\"><button aria-checked=\"false\" aria-label=\"Favorito\" class=\"poly-bookmark__btn\" role=\"switch\" type=\"button\"><svg class=\"poly-bookmark__icon-full\" height=\"20\" viewbox=\"0 0 20 20\" width=\"20\"><use href=\"#poly_bookmark\"></use></svg><svg class=\"poly-bookmark__icon-empty\" height=\"20\" viewbox=\"0 0 20 20\" width=\"20\"><use href=\"#poly_bookmark\"></use></svg></button></div></div></div></div></li>, <li class=\"ui-search-layout__item\"><div style=\"display:contents\"><div class=\"ui-search-result__wrapper\"><div class=\"andes-card poly-card poly-card--grid-card poly-card--large poly-card--MOT andes-card--flat andes-card--padding-0 andes-card--animated\" id=\":R2pl5ie:\"><div class=\"poly-card__portada\"><img alt=\"Mitsubishi Montero 3.8 V97 Wagon\" aria-hidden=\"true\" class=\"poly-component__picture poly-component__picture--contain lazy-loadable\" data-src=\"https://http2.mlstatic.com/D_Q_NP_2X_745273-MCO83679037959_042025-E.webp\" decoding=\"async\" height=\"150\" src=\"data:image/gif;base64,R0lGODlhAQABAIAAAAAAAP///yH5BAEAAAAALAAAAAABAAEAAAIBRAA7\" title=\"Mitsubishi Montero 3.8 V97 Wagon\" width=\"150\"/></div><div class=\"poly-card__content\"><h3 class=\"poly-component__title-wrapper\"><a class=\"poly-component__title\" href=\"https://articulo.tucarro.com.co/MCO-2846810788-mitsubishi-montero-38-l-at-2016-_JM#polycard_client=search-nordic&amp;position=18&amp;search_layout=grid&amp;type=item&amp;tracking_id=547f77ce-e5b4-4464-bac8-2df4ad42bcc6\" target=\"_blank\">Mitsubishi Montero 3.8 V97 Wagon</a></h3><div class=\"poly-component__price\"><div class=\"poly-price__current\"><span aria-label=\"107000000 pesos colombianos\" aria-roledescription=\"Monto\" class=\"andes-money-amount andes-money-amount--cents-superscript\" role=\"img\" style=\"font-size:24px\"><span aria-hidden=\"true\" class=\"andes-money-amount__currency-symbol\">$</span><span aria-hidden=\"true\" class=\"andes-money-amount__fraction\">107.000.000</span></span></div></div><div class=\"poly-component__attributes-list\"><ul class=\"poly-attributes-list\" style='--separator-content:\"|\";gap:4px'><li class=\"poly-attributes-list__item poly-attributes-list__separator\">2016</li><li class=\"poly-attributes-list__item poly-attributes-list__separator\">77.000 Km</li></ul></div><span class=\"poly-component__location\">Suba - Bogotá D.C.</span></div><div class=\"poly-component__bookmark\"><button aria-checked=\"false\" aria-label=\"Favorito\" class=\"poly-bookmark__btn\" role=\"switch\" type=\"button\"><svg class=\"poly-bookmark__icon-full\" height=\"20\" viewbox=\"0 0 20 20\" width=\"20\"><use href=\"#poly_bookmark\"></use></svg><svg class=\"poly-bookmark__icon-empty\" height=\"20\" viewbox=\"0 0 20 20\" width=\"20\"><use href=\"#poly_bookmark\"></use></svg></button></div></div></div></div></li>, <li class=\"ui-search-layout__item\"><div style=\"display:contents\"><div class=\"ui-search-result__wrapper\"><div class=\"andes-card poly-card poly-card--grid-card poly-card--large poly-card--MOT andes-card--flat andes-card--padding-0 andes-card--animated\" id=\":R2p2l5ie:\"><div class=\"poly-card__portada\"><img alt=\"Chevrolet Grand Vitara 2.7 Xl7\" aria-hidden=\"true\" class=\"poly-component__picture poly-component__picture--contain lazy-loadable\" data-src=\"https://http2.mlstatic.com/D_Q_NP_2X_872376-MCO83678749173_042025-E.webp\" decoding=\"async\" height=\"150\" src=\"data:image/gif;base64,R0lGODlhAQABAIAAAAAAAP///yH5BAEAAAAALAAAAAABAAEAAAIBRAA7\" title=\"Chevrolet Grand Vitara 2.7 Xl7\" width=\"150\"/></div><div class=\"poly-card__content\"><h3 class=\"poly-component__title-wrapper\"><a class=\"poly-component__title\" href=\"https://articulo.tucarro.com.co/MCO-2846707102-chevrolet-grand-vitara-27-xl7-at-_JM#polycard_client=search-nordic&amp;position=19&amp;search_layout=grid&amp;type=item&amp;tracking_id=547f77ce-e5b4-4464-bac8-2df4ad42bcc6\" target=\"_blank\">Chevrolet Grand Vitara 2.7 Xl7</a></h3><div class=\"poly-component__price\"><div class=\"poly-price__current\"><span aria-label=\"30000000 pesos colombianos\" aria-roledescription=\"Monto\" class=\"andes-money-amount andes-money-amount--cents-superscript\" role=\"img\" style=\"font-size:24px\"><span aria-hidden=\"true\" class=\"andes-money-amount__currency-symbol\">$</span><span aria-hidden=\"true\" class=\"andes-money-amount__fraction\">30.000.000</span></span></div></div><div class=\"poly-component__attributes-list\"><ul class=\"poly-attributes-list\" style='--separator-content:\"|\";gap:4px'><li class=\"poly-attributes-list__item poly-attributes-list__separator\">2004</li><li class=\"poly-attributes-list__item poly-attributes-list__separator\">212.975 Km</li></ul></div><span class=\"poly-component__location\">Kennedy - Bogotá D.C.</span></div><div class=\"poly-component__bookmark\"><button aria-checked=\"false\" aria-label=\"Favorito\" class=\"poly-bookmark__btn\" role=\"switch\" type=\"button\"><svg class=\"poly-bookmark__icon-full\" height=\"20\" viewbox=\"0 0 20 20\" width=\"20\"><use href=\"#poly_bookmark\"></use></svg><svg class=\"poly-bookmark__icon-empty\" height=\"20\" viewbox=\"0 0 20 20\" width=\"20\"><use href=\"#poly_bookmark\"></use></svg></button></div></div></div></div></li>, <li class=\"ui-search-layout__item\"><div style=\"display:contents\"><div class=\"ui-search-result__wrapper\"><div class=\"andes-card poly-card poly-card--grid-card poly-card--large poly-card--MOT andes-card--flat andes-card--padding-0 andes-card--animated\" id=\":R2p4l5ie:\"><div class=\"poly-card__portada\"><img alt=\"Toyota Hilux 2.4 Diesel 4x4\" aria-hidden=\"true\" class=\"poly-component__picture poly-component__picture--contain lazy-loadable\" data-src=\"https://http2.mlstatic.com/D_Q_NP_2X_687228-MCO83676309777_042025-E.webp\" decoding=\"async\" height=\"150\" src=\"data:image/gif;base64,R0lGODlhAQABAIAAAAAAAP///yH5BAEAAAAALAAAAAABAAEAAAIBRAA7\" title=\"Toyota Hilux 2.4 Diesel 4x4\" width=\"150\"/></div><div class=\"poly-card__content\"><h3 class=\"poly-component__title-wrapper\"><a class=\"poly-component__title\" href=\"https://articulo.tucarro.com.co/MCO-2846756540-toyota-hilux-24-diesel-2023-_JM#polycard_client=search-nordic&amp;position=20&amp;search_layout=grid&amp;type=item&amp;tracking_id=547f77ce-e5b4-4464-bac8-2df4ad42bcc6\" target=\"_blank\">Toyota Hilux 2.4 Diesel 4x4</a></h3><div class=\"poly-component__price\"><div class=\"poly-price__current\"><span aria-label=\"220000000 pesos colombianos\" aria-roledescription=\"Monto\" class=\"andes-money-amount andes-money-amount--cents-superscript\" role=\"img\" style=\"font-size:24px\"><span aria-hidden=\"true\" class=\"andes-money-amount__currency-symbol\">$</span><span aria-hidden=\"true\" class=\"andes-money-amount__fraction\">220.000.000</span></span></div></div><div class=\"poly-component__attributes-list\"><ul class=\"poly-attributes-list\" style='--separator-content:\"|\";gap:4px'><li class=\"poly-attributes-list__item poly-attributes-list__separator\">2023</li><li class=\"poly-attributes-list__item poly-attributes-list__separator\">25.572 Km</li></ul></div><span class=\"poly-component__location\">Medellín - Antioquia</span></div><div class=\"poly-component__bookmark\"><button aria-checked=\"false\" aria-label=\"Favorito\" class=\"poly-bookmark__btn\" role=\"switch\" type=\"button\"><svg class=\"poly-bookmark__icon-full\" height=\"20\" viewbox=\"0 0 20 20\" width=\"20\"><use href=\"#poly_bookmark\"></use></svg><svg class=\"poly-bookmark__icon-empty\" height=\"20\" viewbox=\"0 0 20 20\" width=\"20\"><use href=\"#poly_bookmark\"></use></svg></button></div></div></div></div></li>, <li class=\"ui-search-layout__item\"><div style=\"display:contents\"><div class=\"ui-search-result__wrapper\"><div class=\"andes-card poly-card poly-card--grid-card poly-card--large poly-card--MOT andes-card--flat andes-card--padding-0 andes-card--animated\" id=\":R2p6l5ie:\"><div class=\"poly-card__portada\"><img alt=\"Renault Logan 1.6 Dynamique\" aria-hidden=\"true\" class=\"poly-component__picture poly-component__picture--contain lazy-loadable\" data-src=\"https://http2.mlstatic.com/D_Q_NP_2X_790906-MCO83675690965_042025-E.webp\" decoding=\"async\" height=\"150\" src=\"data:image/gif;base64,R0lGODlhAQABAIAAAAAAAP///yH5BAEAAAAALAAAAAABAAEAAAIBRAA7\" title=\"Renault Logan 1.6 Dynamique\" width=\"150\"/></div><div class=\"poly-card__content\"><h3 class=\"poly-component__title-wrapper\"><a class=\"poly-component__title\" href=\"https://articulo.tucarro.com.co/MCO-2846627316-renault-logan-_JM#polycard_client=search-nordic&amp;position=21&amp;search_layout=grid&amp;type=item&amp;tracking_id=547f77ce-e5b4-4464-bac8-2df4ad42bcc6\" target=\"_blank\">Renault Logan 1.6 Dynamique</a></h3><div class=\"poly-component__price\"><div class=\"poly-price__current\"><span aria-label=\"30900000 pesos colombianos\" aria-roledescription=\"Monto\" class=\"andes-money-amount andes-money-amount--cents-superscript\" role=\"img\" style=\"font-size:24px\"><span aria-hidden=\"true\" class=\"andes-money-amount__currency-symbol\">$</span><span aria-hidden=\"true\" class=\"andes-money-amount__fraction\">30.900.000</span></span></div></div><div class=\"poly-component__attributes-list\"><ul class=\"poly-attributes-list\" style='--separator-content:\"|\";gap:4px'><li class=\"poly-attributes-list__item poly-attributes-list__separator\">2013</li><li class=\"poly-attributes-list__item poly-attributes-list__separator\">104.000 Km</li></ul></div><span class=\"poly-component__location\">Suba - Bogotá D.C.</span></div><div class=\"poly-component__bookmark\"><button aria-checked=\"false\" aria-label=\"Favorito\" class=\"poly-bookmark__btn\" role=\"switch\" type=\"button\"><svg class=\"poly-bookmark__icon-full\" height=\"20\" viewbox=\"0 0 20 20\" width=\"20\"><use href=\"#poly_bookmark\"></use></svg><svg class=\"poly-bookmark__icon-empty\" height=\"20\" viewbox=\"0 0 20 20\" width=\"20\"><use href=\"#poly_bookmark\"></use></svg></button></div></div></div></div></li>, <li class=\"ui-search-layout__item\"><div style=\"display:contents\"><div class=\"ui-search-result__wrapper\"><div class=\"andes-card poly-card poly-card--grid-card poly-card--large poly-card--MOT andes-card--flat andes-card--padding-0 andes-card--animated\" id=\":R2p8l5ie:\"><div class=\"poly-card__portada\"><img alt=\"Kia Cerato Pro 1.6 Ex At 4x2 2015\" aria-hidden=\"true\" class=\"poly-component__picture poly-component__picture--contain lazy-loadable\" data-src=\"https://http2.mlstatic.com/D_Q_NP_2X_884575-MCO83674882561_042025-E.webp\" decoding=\"async\" height=\"150\" src=\"data:image/gif;base64,R0lGODlhAQABAIAAAAAAAP///yH5BAEAAAAALAAAAAABAAEAAAIBRAA7\" title=\"Kia Cerato Pro 1.6 Ex At 4x2 2015\" width=\"150\"/></div><div class=\"poly-card__content\"><h3 class=\"poly-component__title-wrapper\"><a class=\"poly-component__title\" href=\"https://articulo.tucarro.com.co/MCO-2846592914-kia-cerato-pro-16-ex-at-4x2-2015-_JM#polycard_client=search-nordic&amp;position=22&amp;search_layout=grid&amp;type=item&amp;tracking_id=547f77ce-e5b4-4464-bac8-2df4ad42bcc6\" target=\"_blank\">Kia Cerato Pro 1.6 Ex At 4x2 2015</a></h3><div class=\"poly-component__price\"><div class=\"poly-price__current\"><span aria-label=\"51500000 pesos colombianos\" aria-roledescription=\"Monto\" class=\"andes-money-amount andes-money-amount--cents-superscript\" role=\"img\" style=\"font-size:24px\"><span aria-hidden=\"true\" class=\"andes-money-amount__currency-symbol\">$</span><span aria-hidden=\"true\" class=\"andes-money-amount__fraction\">51.500.000</span></span></div></div><div class=\"poly-component__attributes-list\"><ul class=\"poly-attributes-list\" style='--separator-content:\"|\";gap:4px'><li class=\"poly-attributes-list__item poly-attributes-list__separator\">2015</li><li class=\"poly-attributes-list__item poly-attributes-list__separator\">66.000 Km</li></ul></div><span class=\"poly-component__location\">Envigado - Antioquia</span></div><div class=\"poly-component__bookmark\"><button aria-checked=\"false\" aria-label=\"Favorito\" class=\"poly-bookmark__btn\" role=\"switch\" type=\"button\"><svg class=\"poly-bookmark__icon-full\" height=\"20\" viewbox=\"0 0 20 20\" width=\"20\"><use href=\"#poly_bookmark\"></use></svg><svg class=\"poly-bookmark__icon-empty\" height=\"20\" viewbox=\"0 0 20 20\" width=\"20\"><use href=\"#poly_bookmark\"></use></svg></button></div></div></div></div></li>, <li class=\"ui-search-layout__item\"><div style=\"display:contents\"><div class=\"ui-search-result__wrapper\"><div class=\"andes-card poly-card poly-card--grid-card poly-card--large poly-card--MOT andes-card--flat andes-card--padding-0 andes-card--animated\" id=\":R2pal5ie:\"><div class=\"poly-card__portada\"><img alt=\"Mazda 3 2.0 Grand Touring At 4x2 2017\" aria-hidden=\"true\" class=\"poly-component__picture poly-component__picture--contain lazy-loadable\" data-src=\"https://http2.mlstatic.com/D_Q_NP_2X_787725-MCO83382413356_042025-E.webp\" decoding=\"async\" height=\"150\" src=\"data:image/gif;base64,R0lGODlhAQABAIAAAAAAAP///yH5BAEAAAAALAAAAAABAAEAAAIBRAA7\" title=\"Mazda 3 2.0 Grand Touring At 4x2 2017\" width=\"150\"/></div><div class=\"poly-card__content\"><h3 class=\"poly-component__title-wrapper\"><a class=\"poly-component__title\" href=\"https://articulo.tucarro.com.co/MCO-1567240213-mazda-3-20-grand-touring-at-4x2-2017-_JM#polycard_client=search-nordic&amp;position=23&amp;search_layout=grid&amp;type=item&amp;tracking_id=547f77ce-e5b4-4464-bac8-2df4ad42bcc6\" target=\"_blank\">Mazda 3 2.0 Grand Touring At 4x2 2017</a></h3><div class=\"poly-component__price\"><div class=\"poly-price__current\"><span aria-label=\"62500000 pesos colombianos\" aria-roledescription=\"Monto\" class=\"andes-money-amount andes-money-amount--cents-superscript\" role=\"img\" style=\"font-size:24px\"><span aria-hidden=\"true\" class=\"andes-money-amount__currency-symbol\">$</span><span aria-hidden=\"true\" class=\"andes-money-amount__fraction\">62.500.000</span></span></div></div><div class=\"poly-component__attributes-list\"><ul class=\"poly-attributes-list\" style='--separator-content:\"|\";gap:4px'><li class=\"poly-attributes-list__item poly-attributes-list__separator\">2017</li><li class=\"poly-attributes-list__item poly-attributes-list__separator\">53.600 Km</li></ul></div><span class=\"poly-component__location\">Envigado - Antioquia</span></div><div class=\"poly-component__bookmark\"><button aria-checked=\"false\" aria-label=\"Favorito\" class=\"poly-bookmark__btn\" role=\"switch\" type=\"button\"><svg class=\"poly-bookmark__icon-full\" height=\"20\" viewbox=\"0 0 20 20\" width=\"20\"><use href=\"#poly_bookmark\"></use></svg><svg class=\"poly-bookmark__icon-empty\" height=\"20\" viewbox=\"0 0 20 20\" width=\"20\"><use href=\"#poly_bookmark\"></use></svg></button></div></div></div></div></li>, <li class=\"ui-search-layout__item\"><div style=\"display:contents\"><div class=\"ui-search-result__wrapper\"><div class=\"andes-card poly-card poly-card--grid-card poly-card--large poly-card--MOT andes-card--flat andes-card--padding-0 andes-card--animated\" id=\":R2pcl5ie:\"><div class=\"poly-card__portada\"><img alt=\"Renault Koleos 2.5 Dynamique Bose\" aria-hidden=\"true\" class=\"poly-component__picture poly-component__picture--contain lazy-loadable\" data-src=\"https://http2.mlstatic.com/D_Q_NP_2X_964146-MCO83381851308_042025-E.webp\" decoding=\"async\" height=\"150\" src=\"data:image/gif;base64,R0lGODlhAQABAIAAAAAAAP///yH5BAEAAAAALAAAAAABAAEAAAIBRAA7\" title=\"Renault Koleos 2.5 Dynamique Bose\" width=\"150\"/></div><div class=\"poly-card__content\"><h3 class=\"poly-component__title-wrapper\"><a class=\"poly-component__title\" href=\"https://articulo.tucarro.com.co/MCO-1567252499-renault-koleos-25-dynamique-bose-2015-_JM#polycard_client=search-nordic&amp;position=24&amp;search_layout=grid&amp;type=item&amp;tracking_id=547f77ce-e5b4-4464-bac8-2df4ad42bcc6\" target=\"_blank\">Renault Koleos 2.5 Dynamique Bose</a></h3><div class=\"poly-component__price\"><div class=\"poly-price__current\"><span aria-label=\"50400000 pesos colombianos\" aria-roledescription=\"Monto\" class=\"andes-money-amount andes-money-amount--cents-superscript\" role=\"img\" style=\"font-size:24px\"><span aria-hidden=\"true\" class=\"andes-money-amount__currency-symbol\">$</span><span aria-hidden=\"true\" class=\"andes-money-amount__fraction\">50.400.000</span></span></div></div><div class=\"poly-component__attributes-list\"><ul class=\"poly-attributes-list\" style='--separator-content:\"|\";gap:4px'><li class=\"poly-attributes-list__item poly-attributes-list__separator\">2015</li><li class=\"poly-attributes-list__item poly-attributes-list__separator\">119.000 Km</li></ul></div><span class=\"poly-component__location\">Medellín - Antioquia</span></div><div class=\"poly-component__bookmark\"><button aria-checked=\"false\" aria-label=\"Favorito\" class=\"poly-bookmark__btn\" role=\"switch\" type=\"button\"><svg class=\"poly-bookmark__icon-full\" height=\"20\" viewbox=\"0 0 20 20\" width=\"20\"><use href=\"#poly_bookmark\"></use></svg><svg class=\"poly-bookmark__icon-empty\" height=\"20\" viewbox=\"0 0 20 20\" width=\"20\"><use href=\"#poly_bookmark\"></use></svg></button></div></div></div></div></li>, <li class=\"ui-search-layout__item\"><div style=\"display:contents\"><div class=\"ui-search-result__wrapper\"><div class=\"andes-card poly-card poly-card--grid-card poly-card--large poly-card--MOT andes-card--flat andes-card--padding-0 andes-card--animated\" id=\":R2pel5ie:\"><div class=\"poly-card__portada\"><img alt=\"Renault Koleos 2.5 Dynamique Bose\" aria-hidden=\"true\" class=\"poly-component__picture poly-component__picture--contain lazy-loadable\" data-src=\"https://http2.mlstatic.com/D_Q_NP_2X_916588-MCO83673920539_042025-E.webp\" decoding=\"async\" height=\"150\" src=\"data:image/gif;base64,R0lGODlhAQABAIAAAAAAAP///yH5BAEAAAAALAAAAAABAAEAAAIBRAA7\" title=\"Renault Koleos 2.5 Dynamique Bose\" width=\"150\"/></div><div class=\"poly-card__content\"><h3 class=\"poly-component__title-wrapper\"><a class=\"poly-component__title\" href=\"https://articulo.tucarro.com.co/MCO-1567165115-renault-koleos-25-dynamique-bose-2015-_JM#polycard_client=search-nordic&amp;position=25&amp;search_layout=grid&amp;type=item&amp;tracking_id=547f77ce-e5b4-4464-bac8-2df4ad42bcc6\" target=\"_blank\">Renault Koleos 2.5 Dynamique Bose</a></h3><div class=\"poly-component__price\"><div class=\"poly-price__current\"><span aria-label=\"50400000 pesos colombianos\" aria-roledescription=\"Monto\" class=\"andes-money-amount andes-money-amount--cents-superscript\" role=\"img\" style=\"font-size:24px\"><span aria-hidden=\"true\" class=\"andes-money-amount__currency-symbol\">$</span><span aria-hidden=\"true\" class=\"andes-money-amount__fraction\">50.400.000</span></span></div></div><div class=\"poly-component__attributes-list\"><ul class=\"poly-attributes-list\" style='--separator-content:\"|\";gap:4px'><li class=\"poly-attributes-list__item poly-attributes-list__separator\">2015</li><li class=\"poly-attributes-list__item poly-attributes-list__separator\">119.000 Km</li></ul></div><span class=\"poly-component__location\">Medellín - Antioquia</span></div><div class=\"poly-component__bookmark\"><button aria-checked=\"false\" aria-label=\"Favorito\" class=\"poly-bookmark__btn\" role=\"switch\" type=\"button\"><svg class=\"poly-bookmark__icon-full\" height=\"20\" viewbox=\"0 0 20 20\" width=\"20\"><use href=\"#poly_bookmark\"></use></svg><svg class=\"poly-bookmark__icon-empty\" height=\"20\" viewbox=\"0 0 20 20\" width=\"20\"><use href=\"#poly_bookmark\"></use></svg></button></div></div></div></div></li>, <li class=\"ui-search-layout__item\"><div style=\"display:contents\"><div class=\"ui-search-result__wrapper\"><div class=\"andes-card poly-card poly-card--grid-card poly-card--large poly-card--MOT andes-card--flat andes-card--padding-0 andes-card--animated\" id=\":R2pgl5ie:\"><div class=\"poly-card__portada\"><img alt=\"Renault Sandero 1.6 Dynamique\" aria-hidden=\"true\" class=\"poly-component__picture poly-component__picture--contain lazy-loadable\" data-src=\"https://http2.mlstatic.com/D_Q_NP_2X_681208-MCO83380451226_042025-E.webp\" decoding=\"async\" height=\"150\" src=\"data:image/gif;base64,R0lGODlhAQABAIAAAAAAAP///yH5BAEAAAAALAAAAAABAAEAAAIBRAA7\" title=\"Renault Sandero 1.6 Dynamique\" width=\"150\"/></div><div class=\"poly-card__content\"><h3 class=\"poly-component__title-wrapper\"><a class=\"poly-component__title\" href=\"https://articulo.tucarro.com.co/MCO-1567260387-renault-sandero-16-dynamique-_JM#polycard_client=search-nordic&amp;position=26&amp;search_layout=grid&amp;type=item&amp;tracking_id=547f77ce-e5b4-4464-bac8-2df4ad42bcc6\" target=\"_blank\">Renault Sandero 1.6 Dynamique</a></h3><div class=\"poly-component__price\"><div class=\"poly-price__current\"><span aria-label=\"47500000 pesos colombianos\" aria-roledescription=\"Monto\" class=\"andes-money-amount andes-money-amount--cents-superscript\" role=\"img\" style=\"font-size:24px\"><span aria-hidden=\"true\" class=\"andes-money-amount__currency-symbol\">$</span><span aria-hidden=\"true\" class=\"andes-money-amount__fraction\">47.500.000</span></span></div></div><div class=\"poly-component__attributes-list\"><ul class=\"poly-attributes-list\" style='--separator-content:\"|\";gap:4px'><li class=\"poly-attributes-list__item poly-attributes-list__separator\">2021</li><li class=\"poly-attributes-list__item poly-attributes-list__separator\">27.600 Km</li></ul></div><span class=\"poly-component__location\">Suba - Bogotá D.C.</span></div><div class=\"poly-component__bookmark\"><button aria-checked=\"false\" aria-label=\"Favorito\" class=\"poly-bookmark__btn\" role=\"switch\" type=\"button\"><svg class=\"poly-bookmark__icon-full\" height=\"20\" viewbox=\"0 0 20 20\" width=\"20\"><use href=\"#poly_bookmark\"></use></svg><svg class=\"poly-bookmark__icon-empty\" height=\"20\" viewbox=\"0 0 20 20\" width=\"20\"><use href=\"#poly_bookmark\"></use></svg></button></div></div></div></div></li>, <li class=\"ui-search-layout__item\"><div style=\"display:contents\"><div class=\"ui-search-result__wrapper\"><div class=\"andes-card poly-card poly-card--grid-card poly-card--large poly-card--MOT andes-card--flat andes-card--padding-0 andes-card--animated\" id=\":R2pil5ie:\"><div class=\"poly-card__portada\"><img alt=\"Ford Fusion 2.0 Titanium Plus At\" aria-hidden=\"true\" class=\"poly-component__picture poly-component__picture--contain lazy-loadable\" data-src=\"https://http2.mlstatic.com/D_Q_NP_2X_883172-MCO83670972133_042025-E.webp\" decoding=\"async\" height=\"150\" src=\"data:image/gif;base64,R0lGODlhAQABAIAAAAAAAP///yH5BAEAAAAALAAAAAABAAEAAAIBRAA7\" title=\"Ford Fusion 2.0 Titanium Plus At\" width=\"150\"/></div><div class=\"poly-card__content\"><h3 class=\"poly-component__title-wrapper\"><a class=\"poly-component__title\" href=\"https://articulo.tucarro.com.co/MCO-1567183051-ford-fusion-titanium-plus-2019-_JM#polycard_client=search-nordic&amp;position=27&amp;search_layout=grid&amp;type=item&amp;tracking_id=547f77ce-e5b4-4464-bac8-2df4ad42bcc6\" target=\"_blank\">Ford Fusion 2.0 Titanium Plus At</a></h3><div class=\"poly-component__price\"><div class=\"poly-price__current\"><span aria-label=\"90000000 pesos colombianos\" aria-roledescription=\"Monto\" class=\"andes-money-amount andes-money-amount--cents-superscript\" role=\"img\" style=\"font-size:24px\"><span aria-hidden=\"true\" class=\"andes-money-amount__currency-symbol\">$</span><span aria-hidden=\"true\" class=\"andes-money-amount__fraction\">90.000.000</span></span></div></div><div class=\"poly-component__attributes-list\"><ul class=\"poly-attributes-list\" style='--separator-content:\"|\";gap:4px'><li class=\"poly-attributes-list__item poly-attributes-list__separator\">2019</li><li class=\"poly-attributes-list__item poly-attributes-list__separator\">26.700 Km</li></ul></div><span class=\"poly-component__location\">Suba - Bogotá D.C.</span></div><div class=\"poly-component__bookmark\"><button aria-checked=\"false\" aria-label=\"Favorito\" class=\"poly-bookmark__btn\" role=\"switch\" type=\"button\"><svg class=\"poly-bookmark__icon-full\" height=\"20\" viewbox=\"0 0 20 20\" width=\"20\"><use href=\"#poly_bookmark\"></use></svg><svg class=\"poly-bookmark__icon-empty\" height=\"20\" viewbox=\"0 0 20 20\" width=\"20\"><use href=\"#poly_bookmark\"></use></svg></button></div></div></div></div></li>, <li class=\"ui-search-layout__item\"><div style=\"display:contents\"><div class=\"ui-search-result__wrapper\"><div class=\"andes-card poly-card poly-card--grid-card poly-card--large poly-card--MOT andes-card--flat andes-card--padding-0 andes-card--animated\" id=\":R2pkl5ie:\"><div class=\"poly-card__portada\"><img alt=\"Renault Duster 2.0 Dynamique 4x4\" aria-hidden=\"true\" class=\"poly-component__picture poly-component__picture--contain lazy-loadable\" data-src=\"https://http2.mlstatic.com/D_Q_NP_2X_805362-MCO83361430260_042025-E.webp\" decoding=\"async\" height=\"150\" src=\"data:image/gif;base64,R0lGODlhAQABAIAAAAAAAP///yH5BAEAAAAALAAAAAABAAEAAAIBRAA7\" title=\"Renault Duster 2.0 Dynamique 4x4\" width=\"150\"/></div><div class=\"poly-card__content\"><h3 class=\"poly-component__title-wrapper\"><a class=\"poly-component__title\" href=\"https://articulo.tucarro.com.co/MCO-2845922600-renault-duster-dynamique-20-4x4-_JM#polycard_client=search-nordic&amp;position=28&amp;search_layout=grid&amp;type=item&amp;tracking_id=547f77ce-e5b4-4464-bac8-2df4ad42bcc6\" target=\"_blank\">Renault Duster 2.0 Dynamique 4x4</a></h3><div class=\"poly-component__price\"><div class=\"poly-price__current\"><span aria-label=\"59000000 pesos colombianos\" aria-roledescription=\"Monto\" class=\"andes-money-amount andes-money-amount--cents-superscript\" role=\"img\" style=\"font-size:24px\"><span aria-hidden=\"true\" class=\"andes-money-amount__currency-symbol\">$</span><span aria-hidden=\"true\" class=\"andes-money-amount__fraction\">59.000.000</span></span></div></div><div class=\"poly-component__attributes-list\"><ul class=\"poly-attributes-list\" style='--separator-content:\"|\";gap:4px'><li class=\"poly-attributes-list__item poly-attributes-list__separator\">2019</li><li class=\"poly-attributes-list__item poly-attributes-list__separator\">60.000 Km</li></ul></div><span class=\"poly-component__location\">Barrios Unidos - Bogotá D.C.</span></div><div class=\"poly-component__bookmark\"><button aria-checked=\"false\" aria-label=\"Favorito\" class=\"poly-bookmark__btn\" role=\"switch\" type=\"button\"><svg class=\"poly-bookmark__icon-full\" height=\"20\" viewbox=\"0 0 20 20\" width=\"20\"><use href=\"#poly_bookmark\"></use></svg><svg class=\"poly-bookmark__icon-empty\" height=\"20\" viewbox=\"0 0 20 20\" width=\"20\"><use href=\"#poly_bookmark\"></use></svg></button></div></div></div></div></li>, <li class=\"ui-search-layout__item\"><div style=\"display:contents\"><div class=\"ui-search-result__wrapper\"><div class=\"andes-card poly-card poly-card--grid-card poly-card--large poly-card--MOT andes-card--flat andes-card--padding-0 andes-card--animated\" id=\":R2pml5ie:\"><div class=\"poly-card__portada\"><img alt=\"Ford Ecosport 2.0 Titanium At\" aria-hidden=\"true\" class=\"poly-component__picture poly-component__picture--contain lazy-loadable\" data-src=\"https://http2.mlstatic.com/D_Q_NP_2X_900406-MCO83361405366_042025-E.webp\" decoding=\"async\" height=\"150\" src=\"data:image/gif;base64,R0lGODlhAQABAIAAAAAAAP///yH5BAEAAAAALAAAAAABAAEAAAIBRAA7\" title=\"Ford Ecosport 2.0 Titanium At\" width=\"150\"/></div><div class=\"poly-card__content\"><h3 class=\"poly-component__title-wrapper\"><a class=\"poly-component__title\" href=\"https://articulo.tucarro.com.co/MCO-2846056550-ford-ecosport-titanium-20-_JM#polycard_client=search-nordic&amp;position=29&amp;search_layout=grid&amp;type=item&amp;tracking_id=547f77ce-e5b4-4464-bac8-2df4ad42bcc6\" target=\"_blank\">Ford Ecosport 2.0 Titanium At</a></h3><div class=\"poly-component__price\"><div class=\"poly-price__current\"><span aria-label=\"60000000 pesos colombianos\" aria-roledescription=\"Monto\" class=\"andes-money-amount andes-money-amount--cents-superscript\" role=\"img\" style=\"font-size:24px\"><span aria-hidden=\"true\" class=\"andes-money-amount__currency-symbol\">$</span><span aria-hidden=\"true\" class=\"andes-money-amount__fraction\">60.000.000</span></span></div></div><div class=\"poly-component__attributes-list\"><ul class=\"poly-attributes-list\" style='--separator-content:\"|\";gap:4px'><li class=\"poly-attributes-list__item poly-attributes-list__separator\">2020</li><li class=\"poly-attributes-list__item poly-attributes-list__separator\">38.000 Km</li></ul></div><span class=\"poly-component__location\">Suba - Bogotá D.C.</span></div><div class=\"poly-component__bookmark\"><button aria-checked=\"false\" aria-label=\"Favorito\" class=\"poly-bookmark__btn\" role=\"switch\" type=\"button\"><svg class=\"poly-bookmark__icon-full\" height=\"20\" viewbox=\"0 0 20 20\" width=\"20\"><use href=\"#poly_bookmark\"></use></svg><svg class=\"poly-bookmark__icon-empty\" height=\"20\" viewbox=\"0 0 20 20\" width=\"20\"><use href=\"#poly_bookmark\"></use></svg></button></div></div></div></div></li>, <li class=\"ui-search-layout__item\"><div style=\"display:contents\"><div class=\"ui-search-result__wrapper\"><div class=\"andes-card poly-card poly-card--grid-card poly-card--large poly-card--MOT andes-card--flat andes-card--padding-0 andes-card--animated\" id=\":R2pol5ie:\"><div class=\"poly-card__portada\"><img alt=\"Bmw Serie 2 1.5 218i F45 Active Tourer\" aria-hidden=\"true\" class=\"poly-component__picture poly-component__picture--contain lazy-loadable\" data-src=\"https://http2.mlstatic.com/D_Q_NP_2X_779391-MCO83652369703_042025-E.webp\" decoding=\"async\" height=\"150\" src=\"data:image/gif;base64,R0lGODlhAQABAIAAAAAAAP///yH5BAEAAAAALAAAAAABAAEAAAIBRAA7\" title=\"Bmw Serie 2 1.5 218i F45 Active Tourer\" width=\"150\"/></div><div class=\"poly-card__content\"><h3 class=\"poly-component__title-wrapper\"><a class=\"poly-component__title\" href=\"https://articulo.tucarro.com.co/MCO-2845906102-bmw-218i-active-tourer-15-_JM#polycard_client=search-nordic&amp;position=30&amp;search_layout=grid&amp;type=item&amp;tracking_id=547f77ce-e5b4-4464-bac8-2df4ad42bcc6\" target=\"_blank\">Bmw Serie 2 1.5 218i F45 Active Tourer</a></h3><div class=\"poly-component__price\"><div class=\"poly-price__current\"><span aria-label=\"87000000 pesos colombianos\" aria-roledescription=\"Monto\" class=\"andes-money-amount andes-money-amount--cents-superscript\" role=\"img\" style=\"font-size:24px\"><span aria-hidden=\"true\" class=\"andes-money-amount__currency-symbol\">$</span><span aria-hidden=\"true\" class=\"andes-money-amount__fraction\">87.000.000</span></span></div></div><div class=\"poly-component__attributes-list\"><ul class=\"poly-attributes-list\" style='--separator-content:\"|\";gap:4px'><li class=\"poly-attributes-list__item poly-attributes-list__separator\">2019</li><li class=\"poly-attributes-list__item poly-attributes-list__separator\">41.367 Km</li></ul></div><span class=\"poly-component__location\">Usaquén - Bogotá D.C.</span></div><div class=\"poly-component__bookmark\"><button aria-checked=\"false\" aria-label=\"Favorito\" class=\"poly-bookmark__btn\" role=\"switch\" type=\"button\"><svg class=\"poly-bookmark__icon-full\" height=\"20\" viewbox=\"0 0 20 20\" width=\"20\"><use href=\"#poly_bookmark\"></use></svg><svg class=\"poly-bookmark__icon-empty\" height=\"20\" viewbox=\"0 0 20 20\" width=\"20\"><use href=\"#poly_bookmark\"></use></svg></button></div></div></div></div></li>, <li class=\"ui-search-layout__item\"><div style=\"display:contents\"><div class=\"ui-search-result__wrapper\"><div class=\"andes-card poly-card poly-card--grid-card poly-card--large poly-card--MOT andes-card--flat andes-card--padding-0 andes-card--animated\" id=\":R2pql5ie:\"><div class=\"poly-card__portada\"><img alt=\"Mercedes-benz Clase A 1.6 Turbo A200 Amg\" aria-hidden=\"true\" class=\"poly-component__picture poly-component__picture--contain lazy-loadable\" data-src=\"https://http2.mlstatic.com/D_Q_NP_2X_740595-MCO83652408089_042025-E.webp\" decoding=\"async\" height=\"150\" src=\"data:image/gif;base64,R0lGODlhAQABAIAAAAAAAP///yH5BAEAAAAALAAAAAABAAEAAAIBRAA7\" title=\"Mercedes-benz Clase A 1.6 Turbo A200 Amg\" width=\"150\"/></div><div class=\"poly-card__content\"><h3 class=\"poly-component__title-wrapper\"><a class=\"poly-component__title\" href=\"https://articulo.tucarro.com.co/MCO-2845906060-mercedes-benz-clase-a-200-amg-_JM#polycard_client=search-nordic&amp;position=31&amp;search_layout=grid&amp;type=item&amp;tracking_id=547f77ce-e5b4-4464-bac8-2df4ad42bcc6\" target=\"_blank\">Mercedes-benz Clase A 1.6 Turbo A200 Amg</a></h3><div class=\"poly-component__price\"><div class=\"poly-price__current\"><span aria-label=\"70000000 pesos colombianos\" aria-roledescription=\"Monto\" class=\"andes-money-amount andes-money-amount--cents-superscript\" role=\"img\" style=\"font-size:24px\"><span aria-hidden=\"true\" class=\"andes-money-amount__currency-symbol\">$</span><span aria-hidden=\"true\" class=\"andes-money-amount__fraction\">70.000.000</span></span></div></div><div class=\"poly-component__attributes-list\"><ul class=\"poly-attributes-list\" style='--separator-content:\"|\";gap:4px'><li class=\"poly-attributes-list__item poly-attributes-list__separator\">2016</li><li class=\"poly-attributes-list__item poly-attributes-list__separator\">64.913 Km</li></ul></div><span class=\"poly-component__location\">Puente Aranda - Bogotá D.C.</span></div><div class=\"poly-component__bookmark\"><button aria-checked=\"false\" aria-label=\"Favorito\" class=\"poly-bookmark__btn\" role=\"switch\" type=\"button\"><svg class=\"poly-bookmark__icon-full\" height=\"20\" viewbox=\"0 0 20 20\" width=\"20\"><use href=\"#poly_bookmark\"></use></svg><svg class=\"poly-bookmark__icon-empty\" height=\"20\" viewbox=\"0 0 20 20\" width=\"20\"><use href=\"#poly_bookmark\"></use></svg></button></div></div></div></div></li>, <li class=\"ui-search-layout__item\"><div style=\"display:contents\"><div class=\"ui-search-result__wrapper\"><div class=\"andes-card poly-card poly-card--grid-card poly-card--large poly-card--MOT andes-card--flat andes-card--padding-0 andes-card--animated\" id=\":R2psl5ie:\"><div class=\"poly-card__portada\"><img alt=\"Chevrolet Aveo Emotion 1.6 Gti Mt\" aria-hidden=\"true\" class=\"poly-component__picture poly-component__picture--contain lazy-loadable\" data-src=\"https://http2.mlstatic.com/D_Q_NP_2X_715699-MCO83360139368_042025-E.webp\" decoding=\"async\" height=\"150\" src=\"data:image/gif;base64,R0lGODlhAQABAIAAAAAAAP///yH5BAEAAAAALAAAAAABAAEAAAIBRAA7\" title=\"Chevrolet Aveo Emotion 1.6 Gti Mt\" width=\"150\"/></div><div class=\"poly-card__content\"><h3 class=\"poly-component__title-wrapper\"><a class=\"poly-component__title\" href=\"https://articulo.tucarro.com.co/MCO-2846040682-chevrolet-aveo-16-emotion-_JM#polycard_client=search-nordic&amp;position=32&amp;search_layout=grid&amp;type=item&amp;tracking_id=547f77ce-e5b4-4464-bac8-2df4ad42bcc6\" target=\"_blank\">Chevrolet Aveo Emotion 1.6 Gti Mt</a></h3><div class=\"poly-component__price\"><div class=\"poly-price__current\"><span aria-label=\"24000000 pesos colombianos\" aria-roledescription=\"Monto\" class=\"andes-money-amount andes-money-amount--cents-superscript\" role=\"img\" style=\"font-size:24px\"><span aria-hidden=\"true\" class=\"andes-money-amount__currency-symbol\">$</span><span aria-hidden=\"true\" class=\"andes-money-amount__fraction\">24.000.000</span></span></div></div><div class=\"poly-component__attributes-list\"><ul class=\"poly-attributes-list\" style='--separator-content:\"|\";gap:4px'><li class=\"poly-attributes-list__item poly-attributes-list__separator\">2011</li><li class=\"poly-attributes-list__item poly-attributes-list__separator\">136.899 Km</li></ul></div><span class=\"poly-component__location\">Puente Aranda - Bogotá D.C.</span></div><div class=\"poly-component__bookmark\"><button aria-checked=\"false\" aria-label=\"Favorito\" class=\"poly-bookmark__btn\" role=\"switch\" type=\"button\"><svg class=\"poly-bookmark__icon-full\" height=\"20\" viewbox=\"0 0 20 20\" width=\"20\"><use href=\"#poly_bookmark\"></use></svg><svg class=\"poly-bookmark__icon-empty\" height=\"20\" viewbox=\"0 0 20 20\" width=\"20\"><use href=\"#poly_bookmark\"></use></svg></button></div></div></div></div></li>, <li class=\"ui-search-layout__item\"><div style=\"display:contents\"><div class=\"ui-search-result__wrapper\"><div class=\"andes-card poly-card poly-card--grid-card poly-card--large poly-card--MOT andes-card--flat andes-card--padding-0 andes-card--animated\" id=\":R2pul5ie:\"><div class=\"poly-card__portada\"><img alt=\"Volkswagen Gol 1.6 Comfortline Mt\" aria-hidden=\"true\" class=\"poly-component__picture poly-component__picture--contain lazy-loadable\" data-src=\"https://http2.mlstatic.com/D_Q_NP_2X_889997-MCO83651776399_042025-E.webp\" decoding=\"async\" height=\"150\" src=\"data:image/gif;base64,R0lGODlhAQABAIAAAAAAAP///yH5BAEAAAAALAAAAAABAAEAAAIBRAA7\" title=\"Volkswagen Gol 1.6 Comfortline Mt\" width=\"150\"/></div><div class=\"poly-card__content\"><h3 class=\"poly-component__title-wrapper\"><a class=\"poly-component__title\" href=\"https://articulo.tucarro.com.co/MCO-2845869702-volkswagen-gol-comfortline-_JM#polycard_client=search-nordic&amp;position=33&amp;search_layout=grid&amp;type=item&amp;tracking_id=547f77ce-e5b4-4464-bac8-2df4ad42bcc6\" target=\"_blank\">Volkswagen Gol 1.6 Comfortline Mt</a></h3><div class=\"poly-component__price\"><div class=\"poly-price__current\"><span aria-label=\"45500000 pesos colombianos\" aria-roledescription=\"Monto\" class=\"andes-money-amount andes-money-amount--cents-superscript\" role=\"img\" style=\"font-size:24px\"><span aria-hidden=\"true\" class=\"andes-money-amount__currency-symbol\">$</span><span aria-hidden=\"true\" class=\"andes-money-amount__fraction\">45.500.000</span></span></div></div><div class=\"poly-component__attributes-list\"><ul class=\"poly-attributes-list\" style='--separator-content:\"|\";gap:4px'><li class=\"poly-attributes-list__item poly-attributes-list__separator\">2020</li><li class=\"poly-attributes-list__item poly-attributes-list__separator\">51.000 Km</li></ul></div><span class=\"poly-component__location\">Usaquén - Bogotá D.C.</span></div><div class=\"poly-component__bookmark\"><button aria-checked=\"false\" aria-label=\"Favorito\" class=\"poly-bookmark__btn\" role=\"switch\" type=\"button\"><svg class=\"poly-bookmark__icon-full\" height=\"20\" viewbox=\"0 0 20 20\" width=\"20\"><use href=\"#poly_bookmark\"></use></svg><svg class=\"poly-bookmark__icon-empty\" height=\"20\" viewbox=\"0 0 20 20\" width=\"20\"><use href=\"#poly_bookmark\"></use></svg></button></div></div></div></div></li>, <li class=\"ui-search-layout__item\"><div style=\"display:contents\"><div class=\"ui-search-result__wrapper\"><div class=\"andes-card poly-card poly-card--grid-card poly-card--large poly-card--MOT andes-card--flat andes-card--padding-0 andes-card--animated\" id=\":R2ql5ie:\"><div class=\"poly-card__portada\"><img alt=\"Audi Q8 E-tron Sportback 0.0 55 Quattro Prestige\" aria-hidden=\"true\" class=\"poly-component__picture poly-component__picture--contain lazy-loadable\" data-src=\"https://http2.mlstatic.com/D_Q_NP_2X_698010-MCO83359433644_042025-E.webp\" decoding=\"async\" height=\"150\" src=\"data:image/gif;base64,R0lGODlhAQABAIAAAAAAAP///yH5BAEAAAAALAAAAAABAAEAAAIBRAA7\" title=\"Audi Q8 E-tron Sportback 0.0 55 Quattro Prestige\" width=\"150\"/></div><div class=\"poly-card__content\"><h3 class=\"poly-component__title-wrapper\"><a class=\"poly-component__title\" href=\"https://articulo.tucarro.com.co/MCO-1566850711-audi-q8-e-tron-sportback-_JM#polycard_client=search-nordic&amp;position=34&amp;search_layout=grid&amp;type=item&amp;tracking_id=547f77ce-e5b4-4464-bac8-2df4ad42bcc6\" target=\"_blank\">Audi Q8 E-tron Sportback 0.0 55 Quattro Prestige</a></h3><div class=\"poly-component__price\"><div class=\"poly-price__current\"><span aria-label=\"349000000 pesos colombianos\" aria-roledescription=\"Monto\" class=\"andes-money-amount andes-money-amount--cents-superscript\" role=\"img\" style=\"font-size:24px\"><span aria-hidden=\"true\" class=\"andes-money-amount__currency-symbol\">$</span><span aria-hidden=\"true\" class=\"andes-money-amount__fraction\">349.000.000</span></span></div></div><div class=\"poly-component__attributes-list\"><ul class=\"poly-attributes-list\" style='--separator-content:\"|\";gap:4px'><li class=\"poly-attributes-list__item poly-attributes-list__separator\">2024</li><li class=\"poly-attributes-list__item poly-attributes-list__separator\">15.160 Km</li></ul></div><span class=\"poly-component__location\">Usaquén - Bogotá D.C.</span></div><div class=\"poly-component__bookmark\"><button aria-checked=\"false\" aria-label=\"Favorito\" class=\"poly-bookmark__btn\" role=\"switch\" type=\"button\"><svg class=\"poly-bookmark__icon-full\" height=\"20\" viewbox=\"0 0 20 20\" width=\"20\"><use href=\"#poly_bookmark\"></use></svg><svg class=\"poly-bookmark__icon-empty\" height=\"20\" viewbox=\"0 0 20 20\" width=\"20\"><use href=\"#poly_bookmark\"></use></svg></button></div></div></div></div></li>, <li class=\"ui-search-layout__item\"><div style=\"display:contents\"><div class=\"ui-search-result__wrapper\"><div class=\"andes-card poly-card poly-card--grid-card poly-card--large poly-card--MOT andes-card--flat andes-card--padding-0 andes-card--animated\" id=\":R2q2l5ie:\"><div class=\"poly-card__portada\"><img alt=\"Kia Picanto 1.2 X-line At\" aria-hidden=\"true\" class=\"poly-component__picture poly-component__picture--contain lazy-loadable\" data-src=\"https://http2.mlstatic.com/D_Q_NP_2X_785389-MCO83359470450_042025-E.webp\" decoding=\"async\" height=\"150\" src=\"data:image/gif;base64,R0lGODlhAQABAIAAAAAAAP///yH5BAEAAAAALAAAAAABAAEAAAIBRAA7\" title=\"Kia Picanto 1.2 X-line At\" width=\"150\"/></div><div class=\"poly-card__content\"><h3 class=\"poly-component__title-wrapper\"><a class=\"poly-component__title\" href=\"https://articulo.tucarro.com.co/MCO-2846017478-kia-picanto-_JM#polycard_client=search-nordic&amp;position=35&amp;search_layout=grid&amp;type=item&amp;tracking_id=547f77ce-e5b4-4464-bac8-2df4ad42bcc6\" target=\"_blank\">Kia Picanto 1.2 X-line At</a></h3><div class=\"poly-component__price\"><div class=\"poly-price__current\"><span aria-label=\"48000000 pesos colombianos\" aria-roledescription=\"Monto\" class=\"andes-money-amount andes-money-amount--cents-superscript\" role=\"img\" style=\"font-size:24px\"><span aria-hidden=\"true\" class=\"andes-money-amount__currency-symbol\">$</span><span aria-hidden=\"true\" class=\"andes-money-amount__fraction\">48.000.000</span></span></div></div><div class=\"poly-component__attributes-list\"><ul class=\"poly-attributes-list\" style='--separator-content:\"|\";gap:4px'><li class=\"poly-attributes-list__item poly-attributes-list__separator\">2018</li><li class=\"poly-attributes-list__item poly-attributes-list__separator\">57.930 Km</li></ul></div><span class=\"poly-component__location\">Usaquén - Bogotá D.C.</span></div><div class=\"poly-component__bookmark\"><button aria-checked=\"false\" aria-label=\"Favorito\" class=\"poly-bookmark__btn\" role=\"switch\" type=\"button\"><svg class=\"poly-bookmark__icon-full\" height=\"20\" viewbox=\"0 0 20 20\" width=\"20\"><use href=\"#poly_bookmark\"></use></svg><svg class=\"poly-bookmark__icon-empty\" height=\"20\" viewbox=\"0 0 20 20\" width=\"20\"><use href=\"#poly_bookmark\"></use></svg></button></div></div></div></div></li>, <li class=\"ui-search-layout__item\"><div style=\"display:contents\"><div class=\"ui-search-result__wrapper\"><div class=\"andes-card poly-card poly-card--grid-card poly-card--large poly-card--MOT andes-card--flat andes-card--padding-0 andes-card--animated\" id=\":R2q4l5ie:\"><div class=\"poly-card__portada\"><img alt=\"Renault Logan 1.6 Expression Mt 2017\" aria-hidden=\"true\" class=\"poly-component__picture poly-component__picture--contain lazy-loadable\" data-src=\"https://http2.mlstatic.com/D_Q_NP_2X_923904-MCO83359431230_042025-E.webp\" decoding=\"async\" height=\"150\" src=\"data:image/gif;base64,R0lGODlhAQABAIAAAAAAAP///yH5BAEAAAAALAAAAAABAAEAAAIBRAA7\" title=\"Renault Logan 1.6 Expression Mt 2017\" width=\"150\"/></div><div class=\"poly-card__content\"><h3 class=\"poly-component__title-wrapper\"><a class=\"poly-component__title\" href=\"https://articulo.tucarro.com.co/MCO-2845978894-renault-logan-16-expression-mt-2017-_JM#polycard_client=search-nordic&amp;position=36&amp;search_layout=grid&amp;type=item&amp;tracking_id=547f77ce-e5b4-4464-bac8-2df4ad42bcc6\" target=\"_blank\">Renault Logan 1.6 Expression Mt 2017</a></h3><div class=\"poly-component__price\"><div class=\"poly-price__current\"><span aria-label=\"35000000 pesos colombianos\" aria-roledescription=\"Monto\" class=\"andes-money-amount andes-money-amount--cents-superscript\" role=\"img\" style=\"font-size:24px\"><span aria-hidden=\"true\" class=\"andes-money-amount__currency-symbol\">$</span><span aria-hidden=\"true\" class=\"andes-money-amount__fraction\">35.000.000</span></span></div></div><div class=\"poly-component__attributes-list\"><ul class=\"poly-attributes-list\" style='--separator-content:\"|\";gap:4px'><li class=\"poly-attributes-list__item poly-attributes-list__separator\">2017</li><li class=\"poly-attributes-list__item poly-attributes-list__separator\">77.204 Km</li></ul></div><span class=\"poly-component__location\">Medellín - Antioquia</span></div><div class=\"poly-component__bookmark\"><button aria-checked=\"false\" aria-label=\"Favorito\" class=\"poly-bookmark__btn\" role=\"switch\" type=\"button\"><svg class=\"poly-bookmark__icon-full\" height=\"20\" viewbox=\"0 0 20 20\" width=\"20\"><use href=\"#poly_bookmark\"></use></svg><svg class=\"poly-bookmark__icon-empty\" height=\"20\" viewbox=\"0 0 20 20\" width=\"20\"><use href=\"#poly_bookmark\"></use></svg></button></div></div></div></div></li>, <li class=\"ui-search-layout__item\"><div style=\"display:contents\"><div class=\"ui-search-result__wrapper\"><div class=\"andes-card poly-card poly-card--grid-card poly-card--large poly-card--MOT andes-card--flat andes-card--padding-0 andes-card--animated\" id=\":R2q6l5ie:\"><div class=\"poly-card__portada\"><img alt=\"Peugeot 206 1.4 Xr\" aria-hidden=\"true\" class=\"poly-component__picture poly-component__picture--contain lazy-loadable\" data-src=\"https://http2.mlstatic.com/D_Q_NP_2X_880959-MCO83359475216_042025-E.webp\" decoding=\"async\" height=\"150\" src=\"data:image/gif;base64,R0lGODlhAQABAIAAAAAAAP///yH5BAEAAAAALAAAAAABAAEAAAIBRAA7\" title=\"Peugeot 206 1.4 Xr\" width=\"150\"/></div><div class=\"poly-card__content\"><h3 class=\"poly-component__title-wrapper\"><a class=\"poly-component__title\" href=\"https://articulo.tucarro.com.co/MCO-2846029484-peugeot-206-sw-xr-_JM#polycard_client=search-nordic&amp;position=37&amp;search_layout=grid&amp;type=item&amp;tracking_id=547f77ce-e5b4-4464-bac8-2df4ad42bcc6\" target=\"_blank\">Peugeot 206 1.4 Xr</a></h3><div class=\"poly-component__price\"><div class=\"poly-price__current\"><span aria-label=\"17000000 pesos colombianos\" aria-roledescription=\"Monto\" class=\"andes-money-amount andes-money-amount--cents-superscript\" role=\"img\" style=\"font-size:24px\"><span aria-hidden=\"true\" class=\"andes-money-amount__currency-symbol\">$</span><span aria-hidden=\"true\" class=\"andes-money-amount__fraction\">17.000.000</span></span></div></div><div class=\"poly-component__attributes-list\"><ul class=\"poly-attributes-list\" style='--separator-content:\"|\";gap:4px'><li class=\"poly-attributes-list__item poly-attributes-list__separator\">2005</li><li class=\"poly-attributes-list__item poly-attributes-list__separator\">225.000 Km</li></ul></div><span class=\"poly-component__location\">Usaquén - Bogotá D.C.</span></div><div class=\"poly-component__bookmark\"><button aria-checked=\"false\" aria-label=\"Favorito\" class=\"poly-bookmark__btn\" role=\"switch\" type=\"button\"><svg class=\"poly-bookmark__icon-full\" height=\"20\" viewbox=\"0 0 20 20\" width=\"20\"><use href=\"#poly_bookmark\"></use></svg><svg class=\"poly-bookmark__icon-empty\" height=\"20\" viewbox=\"0 0 20 20\" width=\"20\"><use href=\"#poly_bookmark\"></use></svg></button></div></div></div></div></li>, <li class=\"ui-search-layout__item\"><div style=\"display:contents\"><div class=\"ui-search-result__wrapper\"><div class=\"andes-card poly-card poly-card--grid-card poly-card--large poly-card--MOT andes-card--flat andes-card--padding-0 andes-card--animated\" id=\":R2q8l5ie:\"><div class=\"poly-card__portada\"><img alt=\"Renault Kwid 1.0 Outsider\" aria-hidden=\"true\" class=\"poly-component__picture poly-component__picture--contain lazy-loadable\" data-src=\"https://http2.mlstatic.com/D_Q_NP_2X_897969-MCO83651084769_042025-E.webp\" decoding=\"async\" height=\"150\" src=\"data:image/gif;base64,R0lGODlhAQABAIAAAAAAAP///yH5BAEAAAAALAAAAAABAAEAAAIBRAA7\" title=\"Renault Kwid 1.0 Outsider\" width=\"150\"/></div><div class=\"poly-card__content\"><h3 class=\"poly-component__title-wrapper\"><a class=\"poly-component__title\" href=\"https://articulo.tucarro.com.co/MCO-2846029238-renault-kwid-10-outsider-20244000km-_JM#polycard_client=search-nordic&amp;position=38&amp;search_layout=grid&amp;type=item&amp;tracking_id=547f77ce-e5b4-4464-bac8-2df4ad42bcc6\" target=\"_blank\">Renault Kwid 1.0 Outsider</a></h3><div class=\"poly-component__price\"><div class=\"poly-price__current\"><span aria-label=\"47000000 pesos colombianos\" aria-roledescription=\"Monto\" class=\"andes-money-amount andes-money-amount--cents-superscript\" role=\"img\" style=\"font-size:24px\"><span aria-hidden=\"true\" class=\"andes-money-amount__currency-symbol\">$</span><span aria-hidden=\"true\" class=\"andes-money-amount__fraction\">47.000.000</span></span></div></div><div class=\"poly-component__attributes-list\"><ul class=\"poly-attributes-list\" style='--separator-content:\"|\";gap:4px'><li class=\"poly-attributes-list__item poly-attributes-list__separator\">2024</li><li class=\"poly-attributes-list__item poly-attributes-list__separator\">4.000 Km</li></ul></div><span class=\"poly-component__location\">Usaquén - Bogotá D.C.</span></div><div class=\"poly-component__bookmark\"><button aria-checked=\"false\" aria-label=\"Favorito\" class=\"poly-bookmark__btn\" role=\"switch\" type=\"button\"><svg class=\"poly-bookmark__icon-full\" height=\"20\" viewbox=\"0 0 20 20\" width=\"20\"><use href=\"#poly_bookmark\"></use></svg><svg class=\"poly-bookmark__icon-empty\" height=\"20\" viewbox=\"0 0 20 20\" width=\"20\"><use href=\"#poly_bookmark\"></use></svg></button></div></div></div></div></li>, <li class=\"ui-search-layout__item\"><div style=\"display:contents\"><div class=\"ui-search-result__wrapper\"><div class=\"andes-card poly-card poly-card--grid-card poly-card--large poly-card--MOT andes-card--flat andes-card--padding-0 andes-card--animated\" id=\":R2qal5ie:\"><div class=\"poly-card__portada\"><img alt=\"Toyota Fortuner 3.0 Sr5\" aria-hidden=\"true\" class=\"poly-component__picture poly-component__picture--contain lazy-loadable\" data-src=\"https://http2.mlstatic.com/D_Q_NP_2X_785945-MCO83651049259_042025-E.webp\" decoding=\"async\" height=\"150\" src=\"data:image/gif;base64,R0lGODlhAQABAIAAAAAAAP///yH5BAEAAAAALAAAAAABAAEAAAIBRAA7\" title=\"Toyota Fortuner 3.0 Sr5\" width=\"150\"/></div><div class=\"poly-card__content\"><h3 class=\"poly-component__title-wrapper\"><a class=\"poly-component__title\" href=\"https://articulo.tucarro.com.co/MCO-2845940520-toyota-fortuner-sr5-30-_JM#polycard_client=search-nordic&amp;position=39&amp;search_layout=grid&amp;type=item&amp;tracking_id=547f77ce-e5b4-4464-bac8-2df4ad42bcc6\" target=\"_blank\">Toyota Fortuner 3.0 Sr5</a></h3><div class=\"poly-component__price\"><div class=\"poly-price__current\"><span aria-label=\"102000000 pesos colombianos\" aria-roledescription=\"Monto\" class=\"andes-money-amount andes-money-amount--cents-superscript\" role=\"img\" style=\"font-size:24px\"><span aria-hidden=\"true\" class=\"andes-money-amount__currency-symbol\">$</span><span aria-hidden=\"true\" class=\"andes-money-amount__fraction\">102.000.000</span></span></div></div><div class=\"poly-component__attributes-list\"><ul class=\"poly-attributes-list\" style='--separator-content:\"|\";gap:4px'><li class=\"poly-attributes-list__item poly-attributes-list__separator\">2008</li><li class=\"poly-attributes-list__item poly-attributes-list__separator\">163.000 Km</li></ul></div><span class=\"poly-component__location\">Puente Aranda - Bogotá D.C.</span></div><div class=\"poly-component__bookmark\"><button aria-checked=\"false\" aria-label=\"Favorito\" class=\"poly-bookmark__btn\" role=\"switch\" type=\"button\"><svg class=\"poly-bookmark__icon-full\" height=\"20\" viewbox=\"0 0 20 20\" width=\"20\"><use href=\"#poly_bookmark\"></use></svg><svg class=\"poly-bookmark__icon-empty\" height=\"20\" viewbox=\"0 0 20 20\" width=\"20\"><use href=\"#poly_bookmark\"></use></svg></button></div></div></div></div></li>, <li class=\"ui-search-layout__item\"><div style=\"display:contents\"><div class=\"ui-search-result__wrapper\"><div class=\"andes-card poly-card poly-card--grid-card poly-card--large poly-card--MOT andes-card--flat andes-card--padding-0 andes-card--animated\" id=\":R2qcl5ie:\"><div class=\"poly-card__portada\"><img alt=\"Kia Rio 1.4 Vibrant Mt\" aria-hidden=\"true\" class=\"poly-component__picture poly-component__picture--contain lazy-loadable\" data-src=\"https://http2.mlstatic.com/D_Q_NP_2X_665420-MCO83651074739_042025-E.webp\" decoding=\"async\" height=\"150\" src=\"data:image/gif;base64,R0lGODlhAQABAIAAAAAAAP///yH5BAEAAAAALAAAAAABAAEAAAIBRAA7\" title=\"Kia Rio 1.4 Vibrant Mt\" width=\"150\"/></div><div class=\"poly-card__content\"><h3 class=\"poly-component__title-wrapper\"><a class=\"poly-component__title\" href=\"https://articulo.tucarro.com.co/MCO-2845875854-kia-rio-vibrant-14-_JM#polycard_client=search-nordic&amp;position=40&amp;search_layout=grid&amp;type=item&amp;tracking_id=547f77ce-e5b4-4464-bac8-2df4ad42bcc6\" target=\"_blank\">Kia Rio 1.4 Vibrant Mt</a></h3><div class=\"poly-component__price\"><div class=\"poly-price__current\"><span aria-label=\"52000000 pesos colombianos\" aria-roledescription=\"Monto\" class=\"andes-money-amount andes-money-amount--cents-superscript\" role=\"img\" style=\"font-size:24px\"><span aria-hidden=\"true\" class=\"andes-money-amount__currency-symbol\">$</span><span aria-hidden=\"true\" class=\"andes-money-amount__fraction\">52.000.000</span></span></div></div><div class=\"poly-component__attributes-list\"><ul class=\"poly-attributes-list\" style='--separator-content:\"|\";gap:4px'><li class=\"poly-attributes-list__item poly-attributes-list__separator\">2019</li><li class=\"poly-attributes-list__item poly-attributes-list__separator\">66.500 Km</li></ul></div><span class=\"poly-component__location\">Kennedy - Bogotá D.C.</span></div><div class=\"poly-component__bookmark\"><button aria-checked=\"false\" aria-label=\"Favorito\" class=\"poly-bookmark__btn\" role=\"switch\" type=\"button\"><svg class=\"poly-bookmark__icon-full\" height=\"20\" viewbox=\"0 0 20 20\" width=\"20\"><use href=\"#poly_bookmark\"></use></svg><svg class=\"poly-bookmark__icon-empty\" height=\"20\" viewbox=\"0 0 20 20\" width=\"20\"><use href=\"#poly_bookmark\"></use></svg></button></div></div></div></div></li>, <li class=\"ui-search-layout__item\"><div style=\"display:contents\"><div class=\"ui-search-result__wrapper\"><div class=\"andes-card poly-card poly-card--grid-card poly-card--large poly-card--MOT andes-card--flat andes-card--padding-0 andes-card--animated\" id=\":R2qel5ie:\"><div class=\"poly-card__portada\"><img alt=\"Ford Escape 2.0 Titanium\" aria-hidden=\"true\" class=\"poly-component__picture poly-component__picture--contain lazy-loadable\" data-src=\"https://http2.mlstatic.com/D_Q_NP_2X_885038-MCO83358839774_042025-E.webp\" decoding=\"async\" height=\"150\" src=\"data:image/gif;base64,R0lGODlhAQABAIAAAAAAAP///yH5BAEAAAAALAAAAAABAAEAAAIBRAA7\" title=\"Ford Escape 2.0 Titanium\" width=\"150\"/></div><div class=\"poly-card__content\"><h3 class=\"poly-component__title-wrapper\"><a class=\"poly-component__title\" href=\"https://articulo.tucarro.com.co/MCO-1566881161-ford-escape-20-titanium-_JM#polycard_client=search-nordic&amp;position=41&amp;search_layout=grid&amp;type=item&amp;tracking_id=547f77ce-e5b4-4464-bac8-2df4ad42bcc6\" target=\"_blank\">Ford Escape 2.0 Titanium</a></h3><div class=\"poly-component__price\"><div class=\"poly-price__current\"><span aria-label=\"122800000 pesos colombianos\" aria-roledescription=\"Monto\" class=\"andes-money-amount andes-money-amount--cents-superscript\" role=\"img\" style=\"font-size:24px\"><span aria-hidden=\"true\" class=\"andes-money-amount__currency-symbol\">$</span><span aria-hidden=\"true\" class=\"andes-money-amount__fraction\">122.800.000</span></span></div></div><div class=\"poly-component__attributes-list\"><ul class=\"poly-attributes-list\" style='--separator-content:\"|\";gap:4px'><li class=\"poly-attributes-list__item poly-attributes-list__separator\">2023</li><li class=\"poly-attributes-list__item poly-attributes-list__separator\">20.000 Km</li></ul></div><span class=\"poly-component__location\">Suba - Bogotá D.C.</span></div><div class=\"poly-component__bookmark\"><button aria-checked=\"false\" aria-label=\"Favorito\" class=\"poly-bookmark__btn\" role=\"switch\" type=\"button\"><svg class=\"poly-bookmark__icon-full\" height=\"20\" viewbox=\"0 0 20 20\" width=\"20\"><use href=\"#poly_bookmark\"></use></svg><svg class=\"poly-bookmark__icon-empty\" height=\"20\" viewbox=\"0 0 20 20\" width=\"20\"><use href=\"#poly_bookmark\"></use></svg></button></div></div></div></div></li>, <li class=\"ui-search-layout__item\"><div style=\"display:contents\"><div class=\"ui-search-result__wrapper\"><div class=\"andes-card poly-card poly-card--grid-card poly-card--large poly-card--MOT andes-card--flat andes-card--padding-0 andes-card--animated\" id=\":R2qgl5ie:\"><div class=\"poly-card__portada\"><img alt=\"Mercedes-benz Vito 2.1 115 Cdi Kombi Euro Iv\" aria-hidden=\"true\" class=\"poly-component__picture poly-component__picture--contain lazy-loadable\" data-src=\"https://http2.mlstatic.com/D_Q_NP_2X_742878-MCO83650444811_042025-E.webp\" decoding=\"async\" height=\"150\" src=\"data:image/gif;base64,R0lGODlhAQABAIAAAAAAAP///yH5BAEAAAAALAAAAAABAAEAAAIBRAA7\" title=\"Mercedes-benz Vito 2.1 115 Cdi Kombi Euro Iv\" width=\"150\"/></div><div class=\"poly-card__content\"><h3 class=\"poly-component__title-wrapper\"><a class=\"poly-component__title\" href=\"https://articulo.tucarro.com.co/MCO-2845867686-mercedes-benz-vito-115-cdi-_JM#polycard_client=search-nordic&amp;position=42&amp;search_layout=grid&amp;type=item&amp;tracking_id=547f77ce-e5b4-4464-bac8-2df4ad42bcc6\" target=\"_blank\">Mercedes-benz Vito 2.1 115 Cdi Kombi Euro Iv</a></h3><div class=\"poly-component__price\"><div class=\"poly-price__current\"><span aria-label=\"98000000 pesos colombianos\" aria-roledescription=\"Monto\" class=\"andes-money-amount andes-money-amount--cents-superscript\" role=\"img\" style=\"font-size:24px\"><span aria-hidden=\"true\" class=\"andes-money-amount__currency-symbol\">$</span><span aria-hidden=\"true\" class=\"andes-money-amount__fraction\">98.000.000</span></span></div></div><div class=\"poly-component__attributes-list\"><ul class=\"poly-attributes-list\" style='--separator-content:\"|\";gap:4px'><li class=\"poly-attributes-list__item poly-attributes-list__separator\">2015</li><li class=\"poly-attributes-list__item poly-attributes-list__separator\">249.400 Km</li></ul></div><span class=\"poly-component__location\">Barrios Unidos - Bogotá D.C.</span></div><div class=\"poly-component__bookmark\"><button aria-checked=\"false\" aria-label=\"Favorito\" class=\"poly-bookmark__btn\" role=\"switch\" type=\"button\"><svg class=\"poly-bookmark__icon-full\" height=\"20\" viewbox=\"0 0 20 20\" width=\"20\"><use href=\"#poly_bookmark\"></use></svg><svg class=\"poly-bookmark__icon-empty\" height=\"20\" viewbox=\"0 0 20 20\" width=\"20\"><use href=\"#poly_bookmark\"></use></svg></button></div></div></div></div></li>, <li class=\"ui-search-layout__item\"><div style=\"display:contents\"><div class=\"ui-search-result__wrapper\"><div class=\"andes-card poly-card poly-card--grid-card poly-card--large poly-card--MOT andes-card--flat andes-card--padding-0 andes-card--animated\" id=\":R2qil5ie:\"><div class=\"poly-card__portada\"><img alt=\"Renault Sandero 1.6 Dynamique\" aria-hidden=\"true\" class=\"poly-component__picture poly-component__picture--contain lazy-loadable\" data-src=\"https://http2.mlstatic.com/D_Q_NP_2X_996697-MCO83358771788_042025-E.webp\" decoding=\"async\" height=\"150\" src=\"data:image/gif;base64,R0lGODlhAQABAIAAAAAAAP///yH5BAEAAAAALAAAAAABAAEAAAIBRAA7\" title=\"Renault Sandero 1.6 Dynamique\" width=\"150\"/></div><div class=\"poly-card__content\"><h3 class=\"poly-component__title-wrapper\"><a class=\"poly-component__title\" href=\"https://articulo.tucarro.com.co/MCO-1566870075-renault-sandero-dynamique-16-_JM#polycard_client=search-nordic&amp;position=43&amp;search_layout=grid&amp;type=item&amp;tracking_id=547f77ce-e5b4-4464-bac8-2df4ad42bcc6\" target=\"_blank\">Renault Sandero 1.6 Dynamique</a></h3><div class=\"poly-component__price\"><div class=\"poly-price__current\"><span aria-label=\"28000000 pesos colombianos\" aria-roledescription=\"Monto\" class=\"andes-money-amount andes-money-amount--cents-superscript\" role=\"img\" style=\"font-size:24px\"><span aria-hidden=\"true\" class=\"andes-money-amount__currency-symbol\">$</span><span aria-hidden=\"true\" class=\"andes-money-amount__fraction\">28.000.000</span></span></div></div><div class=\"poly-component__attributes-list\"><ul class=\"poly-attributes-list\" style='--separator-content:\"|\";gap:4px'><li class=\"poly-attributes-list__item poly-attributes-list__separator\">2011</li><li class=\"poly-attributes-list__item poly-attributes-list__separator\">38.855 Km</li></ul></div><span class=\"poly-component__location\">Kennedy - Bogotá D.C.</span></div><div class=\"poly-component__bookmark\"><button aria-checked=\"false\" aria-label=\"Favorito\" class=\"poly-bookmark__btn\" role=\"switch\" type=\"button\"><svg class=\"poly-bookmark__icon-full\" height=\"20\" viewbox=\"0 0 20 20\" width=\"20\"><use href=\"#poly_bookmark\"></use></svg><svg class=\"poly-bookmark__icon-empty\" height=\"20\" viewbox=\"0 0 20 20\" width=\"20\"><use href=\"#poly_bookmark\"></use></svg></button></div></div></div></div></li>, <li class=\"ui-search-layout__item\"><div style=\"display:contents\"><div class=\"ui-search-result__wrapper\"><div class=\"andes-card poly-card poly-card--grid-card poly-card--large poly-card--MOT andes-card--flat andes-card--padding-0 andes-card--animated\" id=\":R2qkl5ie:\"><div class=\"poly-card__portada\"><img alt=\"Volkswagen Gol 1.6 Trendline\" aria-hidden=\"true\" class=\"poly-component__picture poly-component__picture--contain lazy-loadable\" data-src=\"https://http2.mlstatic.com/D_Q_NP_2X_879722-MCO83358524458_042025-E.webp\" decoding=\"async\" height=\"150\" src=\"data:image/gif;base64,R0lGODlhAQABAIAAAAAAAP///yH5BAEAAAAALAAAAAABAAEAAAIBRAA7\" title=\"Volkswagen Gol 1.6 Trendline\" width=\"150\"/></div><div class=\"poly-card__content\"><h3 class=\"poly-component__title-wrapper\"><a class=\"poly-component__title\" href=\"https://articulo.tucarro.com.co/MCO-2845939758-volkswagen-gol-trendline-16-mt-2019-_JM#polycard_client=search-nordic&amp;position=44&amp;search_layout=grid&amp;type=item&amp;tracking_id=547f77ce-e5b4-4464-bac8-2df4ad42bcc6\" target=\"_blank\">Volkswagen Gol 1.6 Trendline</a></h3><div class=\"poly-component__price\"><div class=\"poly-price__current\"><span aria-label=\"38000000 pesos colombianos\" aria-roledescription=\"Monto\" class=\"andes-money-amount andes-money-amount--cents-superscript\" role=\"img\" style=\"font-size:24px\"><span aria-hidden=\"true\" class=\"andes-money-amount__currency-symbol\">$</span><span aria-hidden=\"true\" class=\"andes-money-amount__fraction\">38.000.000</span></span></div></div><div class=\"poly-component__attributes-list\"><ul class=\"poly-attributes-list\" style='--separator-content:\"|\";gap:4px'><li class=\"poly-attributes-list__item poly-attributes-list__separator\">2019</li><li class=\"poly-attributes-list__item poly-attributes-list__separator\">71.500 Km</li></ul></div><span class=\"poly-component__location\">Suba - Bogotá D.C.</span></div><div class=\"poly-component__bookmark\"><button aria-checked=\"false\" aria-label=\"Favorito\" class=\"poly-bookmark__btn\" role=\"switch\" type=\"button\"><svg class=\"poly-bookmark__icon-full\" height=\"20\" viewbox=\"0 0 20 20\" width=\"20\"><use href=\"#poly_bookmark\"></use></svg><svg class=\"poly-bookmark__icon-empty\" height=\"20\" viewbox=\"0 0 20 20\" width=\"20\"><use href=\"#poly_bookmark\"></use></svg></button></div></div></div></div></li>, <li class=\"ui-search-layout__item\"><div style=\"display:contents\"><div class=\"ui-search-result__wrapper\"><div class=\"andes-card poly-card poly-card--grid-card poly-card--large poly-card--MOT andes-card--flat andes-card--padding-0 andes-card--animated\" id=\":R2qml5ie:\"><div class=\"poly-card__portada\"><img alt=\"Toyota Hilux 2.4 4x4 Turbo Diesel\" aria-hidden=\"true\" class=\"poly-component__picture poly-component__picture--contain lazy-loadable\" data-src=\"https://http2.mlstatic.com/D_Q_NP_2X_626151-MCO83358767860_042025-E.webp\" decoding=\"async\" height=\"150\" src=\"data:image/gif;base64,R0lGODlhAQABAIAAAAAAAP///yH5BAEAAAAALAAAAAABAAEAAAIBRAA7\" title=\"Toyota Hilux 2.4 4x4 Turbo Diesel\" width=\"150\"/></div><div class=\"poly-card__content\"><h3 class=\"poly-component__title-wrapper\"><a class=\"poly-component__title\" href=\"https://articulo.tucarro.com.co/MCO-2846028062-toyota-hilux-24-4x4-turbo-_JM#polycard_client=search-nordic&amp;position=45&amp;search_layout=grid&amp;type=item&amp;tracking_id=547f77ce-e5b4-4464-bac8-2df4ad42bcc6\" target=\"_blank\">Toyota Hilux 2.4 4x4 Turbo Diesel</a></h3><div class=\"poly-component__price\"><div class=\"poly-price__current\"><span aria-label=\"153000000 pesos colombianos\" aria-roledescription=\"Monto\" class=\"andes-money-amount andes-money-amount--cents-superscript\" role=\"img\" style=\"font-size:24px\"><span aria-hidden=\"true\" class=\"andes-money-amount__currency-symbol\">$</span><span aria-hidden=\"true\" class=\"andes-money-amount__fraction\">153.000.000</span></span></div></div><div class=\"poly-component__attributes-list\"><ul class=\"poly-attributes-list\" style='--separator-content:\"|\";gap:4px'><li class=\"poly-attributes-list__item poly-attributes-list__separator\">2019</li><li class=\"poly-attributes-list__item poly-attributes-list__separator\">93.150 Km</li></ul></div><span class=\"poly-component__location\">Kennedy - Bogotá D.C.</span></div><div class=\"poly-component__bookmark\"><button aria-checked=\"false\" aria-label=\"Favorito\" class=\"poly-bookmark__btn\" role=\"switch\" type=\"button\"><svg class=\"poly-bookmark__icon-full\" height=\"20\" viewbox=\"0 0 20 20\" width=\"20\"><use href=\"#poly_bookmark\"></use></svg><svg class=\"poly-bookmark__icon-empty\" height=\"20\" viewbox=\"0 0 20 20\" width=\"20\"><use href=\"#poly_bookmark\"></use></svg></button></div></div></div></div></li>, <li class=\"ui-search-layout__item\"><div style=\"display:contents\"><div class=\"ui-search-result__wrapper\"><div class=\"andes-card poly-card poly-card--grid-card poly-card--large poly-card--MOT andes-card--flat andes-card--padding-0 andes-card--animated\" id=\":R2qol5ie:\"><div class=\"poly-card__portada\"><img alt=\"Bmw M340i 3.0 Xdrive At 4x4 2022\" aria-hidden=\"true\" class=\"poly-component__picture poly-component__picture--contain lazy-loadable\" data-src=\"https://http2.mlstatic.com/D_Q_NP_2X_848232-MCO83357987104_042025-E.webp\" decoding=\"async\" height=\"150\" src=\"data:image/gif;base64,R0lGODlhAQABAIAAAAAAAP///yH5BAEAAAAALAAAAAABAAEAAAIBRAA7\" title=\"Bmw M340i 3.0 Xdrive At 4x4 2022\" width=\"150\"/></div><div class=\"poly-card__content\"><h3 class=\"poly-component__title-wrapper\"><a class=\"poly-component__title\" href=\"https://articulo.tucarro.com.co/MCO-2846002502-bmw-m340i-30-xdrive-at-4x4-2022-_JM#polycard_client=search-nordic&amp;position=46&amp;search_layout=grid&amp;type=item&amp;tracking_id=547f77ce-e5b4-4464-bac8-2df4ad42bcc6\" target=\"_blank\">Bmw M340i 3.0 Xdrive At 4x4 2022</a></h3><div class=\"poly-component__price\"><div class=\"poly-price__current\"><span aria-label=\"182000000 pesos colombianos\" aria-roledescription=\"Monto\" class=\"andes-money-amount andes-money-amount--cents-superscript\" role=\"img\" style=\"font-size:24px\"><span aria-hidden=\"true\" class=\"andes-money-amount__currency-symbol\">$</span><span aria-hidden=\"true\" class=\"andes-money-amount__fraction\">182.000.000</span></span></div></div><div class=\"poly-component__attributes-list\"><ul class=\"poly-attributes-list\" style='--separator-content:\"|\";gap:4px'><li class=\"poly-attributes-list__item poly-attributes-list__separator\">2022</li><li class=\"poly-attributes-list__item poly-attributes-list__separator\">31.000 Km</li></ul></div><span class=\"poly-component__location\">Medellín - Antioquia</span></div><div class=\"poly-component__bookmark\"><button aria-checked=\"false\" aria-label=\"Favorito\" class=\"poly-bookmark__btn\" role=\"switch\" type=\"button\"><svg class=\"poly-bookmark__icon-full\" height=\"20\" viewbox=\"0 0 20 20\" width=\"20\"><use href=\"#poly_bookmark\"></use></svg><svg class=\"poly-bookmark__icon-empty\" height=\"20\" viewbox=\"0 0 20 20\" width=\"20\"><use href=\"#poly_bookmark\"></use></svg></button></div></div></div></div></li>, <li class=\"ui-search-layout__item\"><div style=\"display:contents\"><div class=\"ui-search-result__wrapper\"><div class=\"andes-card poly-card poly-card--grid-card poly-card--large poly-card--MOT andes-card--flat andes-card--padding-0 andes-card--animated\" id=\":R2qql5ie:\"><div class=\"poly-card__portada\"><img alt=\"Renault Kwid 1.0 Outsider\" aria-hidden=\"true\" class=\"poly-component__picture poly-component__picture--contain lazy-loadable\" data-src=\"https://http2.mlstatic.com/D_Q_NP_2X_694543-MCO83358381894_042025-E.webp\" decoding=\"async\" height=\"150\" src=\"data:image/gif;base64,R0lGODlhAQABAIAAAAAAAP///yH5BAEAAAAALAAAAAABAAEAAAIBRAA7\" title=\"Renault Kwid 1.0 Outsider\" width=\"150\"/></div><div class=\"poly-card__content\"><h3 class=\"poly-component__title-wrapper\"><a class=\"poly-component__title\" href=\"https://articulo.tucarro.com.co/MCO-2845951446-renault-kwid-outsider-2025-_JM#polycard_client=search-nordic&amp;position=47&amp;search_layout=grid&amp;type=item&amp;tracking_id=547f77ce-e5b4-4464-bac8-2df4ad42bcc6\" target=\"_blank\">Renault Kwid 1.0 Outsider</a></h3><div class=\"poly-component__price\"><div class=\"poly-price__current\"><span aria-label=\"50000000 pesos colombianos\" aria-roledescription=\"Monto\" class=\"andes-money-amount andes-money-amount--cents-superscript\" role=\"img\" style=\"font-size:24px\"><span aria-hidden=\"true\" class=\"andes-money-amount__currency-symbol\">$</span><span aria-hidden=\"true\" class=\"andes-money-amount__fraction\">50.000.000</span></span></div></div><div class=\"poly-component__attributes-list\"><ul class=\"poly-attributes-list\" style='--separator-content:\"|\";gap:4px'><li class=\"poly-attributes-list__item poly-attributes-list__separator\">2025</li><li class=\"poly-attributes-list__item poly-attributes-list__separator\">1.200 Km</li></ul></div><span class=\"poly-component__location\">Kennedy - Bogotá D.C.</span></div><div class=\"poly-component__bookmark\"><button aria-checked=\"false\" aria-label=\"Favorito\" class=\"poly-bookmark__btn\" role=\"switch\" type=\"button\"><svg class=\"poly-bookmark__icon-full\" height=\"20\" viewbox=\"0 0 20 20\" width=\"20\"><use href=\"#poly_bookmark\"></use></svg><svg class=\"poly-bookmark__icon-empty\" height=\"20\" viewbox=\"0 0 20 20\" width=\"20\"><use href=\"#poly_bookmark\"></use></svg></button></div></div></div></div></li>, <li class=\"ui-search-layout__item\"><div style=\"display:contents\"><div class=\"ui-search-result__wrapper\"><div class=\"andes-card poly-card poly-card--grid-card poly-card--large poly-card--MOT andes-card--flat andes-card--padding-0 andes-card--animated\" id=\":R2qsl5ie:\"><div class=\"poly-card__portada\"><img alt=\"Renault Stepway 1.6 Full Equipo Mt\" aria-hidden=\"true\" class=\"poly-component__picture poly-component__picture--contain lazy-loadable\" data-src=\"https://http2.mlstatic.com/D_Q_NP_2X_745803-MCO83358047232_042025-E.webp\" decoding=\"async\" height=\"150\" src=\"data:image/gif;base64,R0lGODlhAQABAIAAAAAAAP///yH5BAEAAAAALAAAAAABAAEAAAIBRAA7\" title=\"Renault Stepway 1.6 Full Equipo Mt\" width=\"150\"/></div><div class=\"poly-card__content\"><h3 class=\"poly-component__title-wrapper\"><a class=\"poly-component__title\" href=\"https://articulo.tucarro.com.co/MCO-1566836387-renault-stepway-full-equipo-mt-2015-_JM#polycard_client=search-nordic&amp;position=48&amp;search_layout=grid&amp;type=item&amp;tracking_id=547f77ce-e5b4-4464-bac8-2df4ad42bcc6\" target=\"_blank\">Renault Stepway 1.6 Full Equipo Mt</a></h3><div class=\"poly-component__price\"><div class=\"poly-price__current\"><span aria-label=\"36800000 pesos colombianos\" aria-roledescription=\"Monto\" class=\"andes-money-amount andes-money-amount--cents-superscript\" role=\"img\" style=\"font-size:24px\"><span aria-hidden=\"true\" class=\"andes-money-amount__currency-symbol\">$</span><span aria-hidden=\"true\" class=\"andes-money-amount__fraction\">36.800.000</span></span></div></div><div class=\"poly-component__attributes-list\"><ul class=\"poly-attributes-list\" style='--separator-content:\"|\";gap:4px'><li class=\"poly-attributes-list__item poly-attributes-list__separator\">2015</li><li class=\"poly-attributes-list__item poly-attributes-list__separator\">117.000 Km</li></ul></div><span class=\"poly-component__location\">Usaquén - Bogotá D.C.</span></div><div class=\"poly-component__bookmark\"><button aria-checked=\"false\" aria-label=\"Favorito\" class=\"poly-bookmark__btn\" role=\"switch\" type=\"button\"><svg class=\"poly-bookmark__icon-full\" height=\"20\" viewbox=\"0 0 20 20\" width=\"20\"><use href=\"#poly_bookmark\"></use></svg><svg class=\"poly-bookmark__icon-empty\" height=\"20\" viewbox=\"0 0 20 20\" width=\"20\"><use href=\"#poly_bookmark\"></use></svg></button></div></div></div></div></li>, <li class=\"ui-search-layout__item\"><div style=\"display:contents\"><div class=\"ui-search-result__wrapper\"><div class=\"andes-card poly-card poly-card--grid-card poly-card--large poly-card--MOT andes-card--flat andes-card--padding-0 andes-card--animated\" id=\":R2qul5ie:\"><div class=\"poly-card__portada\"><img alt=\"Ford Fiesta 1.6 Sportback Titanium\" aria-hidden=\"true\" class=\"poly-component__picture poly-component__picture--contain lazy-loadable\" data-src=\"https://http2.mlstatic.com/D_Q_NP_2X_868505-MCO83358746774_042025-E.webp\" decoding=\"async\" height=\"150\" src=\"data:image/gif;base64,R0lGODlhAQABAIAAAAAAAP///yH5BAEAAAAALAAAAAABAAEAAAIBRAA7\" title=\"Ford Fiesta 1.6 Sportback Titanium\" width=\"150\"/></div><div class=\"poly-card__content\"><h3 class=\"poly-component__title-wrapper\"><a class=\"poly-component__title\" href=\"https://articulo.tucarro.com.co/MCO-2845951360-ford-fiesta-16-sportback-titanium-2015-_JM#polycard_client=search-nordic&amp;position=49&amp;search_layout=grid&amp;type=item&amp;tracking_id=547f77ce-e5b4-4464-bac8-2df4ad42bcc6\" target=\"_blank\">Ford Fiesta 1.6 Sportback Titanium</a></h3><div class=\"poly-component__price\"><div class=\"poly-price__current\"><span aria-label=\"42000000 pesos colombianos\" aria-roledescription=\"Monto\" class=\"andes-money-amount andes-money-amount--cents-superscript\" role=\"img\" style=\"font-size:24px\"><span aria-hidden=\"true\" class=\"andes-money-amount__currency-symbol\">$</span><span aria-hidden=\"true\" class=\"andes-money-amount__fraction\">42.000.000</span></span></div></div><div class=\"poly-component__attributes-list\"><ul class=\"poly-attributes-list\" style='--separator-content:\"|\";gap:4px'><li class=\"poly-attributes-list__item poly-attributes-list__separator\">2015</li><li class=\"poly-attributes-list__item poly-attributes-list__separator\">45.000 Km</li></ul></div><span class=\"poly-component__location\">Medellín - Antioquia</span></div><div class=\"poly-component__bookmark\"><button aria-checked=\"false\" aria-label=\"Favorito\" class=\"poly-bookmark__btn\" role=\"switch\" type=\"button\"><svg class=\"poly-bookmark__icon-full\" height=\"20\" viewbox=\"0 0 20 20\" width=\"20\"><use href=\"#poly_bookmark\"></use></svg><svg class=\"poly-bookmark__icon-empty\" height=\"20\" viewbox=\"0 0 20 20\" width=\"20\"><use href=\"#poly_bookmark\"></use></svg></button></div></div></div></div></li>, <li class=\"ui-search-layout__item\"><div style=\"display:contents\"><div class=\"ui-search-result__wrapper\"><div class=\"andes-card poly-card poly-card--grid-card poly-card--large poly-card--MOT andes-card--flat andes-card--padding-0 andes-card--animated\" id=\":R2rl5ie:\"><div class=\"poly-card__portada\"><img alt=\"Mazda Cx-30 2.0 Touring At\" aria-hidden=\"true\" class=\"poly-component__picture poly-component__picture--contain lazy-loadable\" data-src=\"https://http2.mlstatic.com/D_Q_NP_2X_673201-MCO83648326663_042025-E.webp\" decoding=\"async\" height=\"150\" src=\"data:image/gif;base64,R0lGODlhAQABAIAAAAAAAP///yH5BAEAAAAALAAAAAABAAEAAAIBRAA7\" title=\"Mazda Cx-30 2.0 Touring At\" width=\"150\"/></div><div class=\"poly-card__content\"><h3 class=\"poly-component__title-wrapper\"><a class=\"poly-component__title\" href=\"https://articulo.tucarro.com.co/MCO-2845976880-mazda-cx-30-touring-at-2021-_JM#polycard_client=search-nordic&amp;position=50&amp;search_layout=grid&amp;type=item&amp;tracking_id=547f77ce-e5b4-4464-bac8-2df4ad42bcc6\" target=\"_blank\">Mazda Cx-30 2.0 Touring At</a></h3><div class=\"poly-component__price\"><div class=\"poly-price__current\"><span aria-label=\"98000000 pesos colombianos\" aria-roledescription=\"Monto\" class=\"andes-money-amount andes-money-amount--cents-superscript\" role=\"img\" style=\"font-size:24px\"><span aria-hidden=\"true\" class=\"andes-money-amount__currency-symbol\">$</span><span aria-hidden=\"true\" class=\"andes-money-amount__fraction\">98.000.000</span></span></div></div><div class=\"poly-component__attributes-list\"><ul class=\"poly-attributes-list\" style='--separator-content:\"|\";gap:4px'><li class=\"poly-attributes-list__item poly-attributes-list__separator\">2021</li><li class=\"poly-attributes-list__item poly-attributes-list__separator\">50.000 Km</li></ul></div><span class=\"poly-component__location\">Suba - Bogotá D.C.</span></div><div class=\"poly-component__bookmark\"><button aria-checked=\"false\" aria-label=\"Favorito\" class=\"poly-bookmark__btn\" role=\"switch\" type=\"button\"><svg class=\"poly-bookmark__icon-full\" height=\"20\" viewbox=\"0 0 20 20\" width=\"20\"><use href=\"#poly_bookmark\"></use></svg><svg class=\"poly-bookmark__icon-empty\" height=\"20\" viewbox=\"0 0 20 20\" width=\"20\"><use href=\"#poly_bookmark\"></use></svg></button></div></div></div></div></li>]\n",
      "\n",
      " La cantidad de anuncios es:  48\n"
     ]
    }
   ],
   "source": [
    "# Url 1 con los datos de prueba\n",
    "url = 'https://carros.tucarro.com.co/_Desde_1_NoIndex_True'\n",
    "\n",
    "# Hacemos un request para obtener todo el contenido de la pagina\n",
    "page = rq.get(url)\n",
    "\n",
    "# convertimos el contenido en un objeto soup\n",
    "soup = BeautifulSoup(page.content, 'html.parser')\n",
    "\n",
    "# Obtenemos un listado de todos los bloques de información de los vehículos\n",
    "all_cards = soup.find_all('li', {'class': 'ui-search-layout__item'})\n",
    "\n",
    "# Para ver todos los anuncios\n",
    "print(all_cards)\n",
    "\n",
    "# Para ver cuantos anuncios se leyeron usamos\n",
    "print(\"\\n La cantidad de anuncios es: \", len(all_cards))"
   ]
  },
  {
   "cell_type": "code",
   "execution_count": 4,
   "metadata": {
    "colab": {
     "base_uri": "https://localhost:8080/",
     "height": 154
    },
    "executionInfo": {
     "elapsed": 37,
     "status": "ok",
     "timestamp": 1744379955108,
     "user": {
      "displayName": "OLGA CECILIA USUGA MANCO",
      "userId": "18255825952910028859"
     },
     "user_tz": 300
    },
    "id": "xZRxFOLcAJt7",
    "outputId": "4bcaf085-a250-412e-8615-a2aee7d82c92"
   },
   "outputs": [
    {
     "data": {
      "text/plain": [
       "bs4.element.ResultSet"
      ]
     },
     "execution_count": 4,
     "metadata": {},
     "output_type": "execute_result"
    }
   ],
   "source": [
    "type(all_cards)"
   ]
  },
  {
   "cell_type": "markdown",
   "metadata": {
    "id": "jEbkE9jMeNW9"
   },
   "source": [
    "Vamos a explorar el anuncio 1 de la página 1"
   ]
  },
  {
   "cell_type": "code",
   "execution_count": 5,
   "metadata": {
    "colab": {
     "base_uri": "https://localhost:8080/"
    },
    "executionInfo": {
     "elapsed": 4,
     "status": "ok",
     "timestamp": 1744379983359,
     "user": {
      "displayName": "OLGA CECILIA USUGA MANCO",
      "userId": "18255825952910028859"
     },
     "user_tz": 300
    },
    "id": "Y6Yn7TdhATBJ",
    "outputId": "9497fad6-911f-4f55-cef4-4d74a0b14d7a"
   },
   "outputs": [
    {
     "data": {
      "text/plain": [
       "<li class=\"ui-search-layout__item\"><div style=\"display:contents\"><div class=\"ui-search-result__wrapper\"><div class=\"andes-card poly-card poly-card--grid-card poly-card--large poly-card--MOT andes-card--flat andes-card--padding-0 andes-card--animated\" id=\":R2o2l5ie:\"><div class=\"poly-card__portada\"><img alt=\"Mazda 6 2.5 L5na1\" aria-hidden=\"true\" class=\"poly-component__picture poly-component__picture--contain lazy-loadable\" data-src=\"https://http2.mlstatic.com/D_Q_NP_2X_995263-MCO83682188625_042025-E.webp\" decoding=\"async\" height=\"150\" src=\"data:image/gif;base64,R0lGODlhAQABAIAAAAAAAP///yH5BAEAAAAALAAAAAABAAEAAAIBRAA7\" title=\"Mazda 6 2.5 L5na1\" width=\"150\"/></div><div class=\"poly-card__content\"><h3 class=\"poly-component__title-wrapper\"><a class=\"poly-component__title\" href=\"https://articulo.tucarro.com.co/MCO-2846826502-mazda-6-l5na1-25-_JM#polycard_client=search-nordic&amp;position=3&amp;search_layout=grid&amp;type=item&amp;tracking_id=547f77ce-e5b4-4464-bac8-2df4ad42bcc6\" target=\"_blank\">Mazda 6 2.5 L5na1</a></h3><div class=\"poly-component__price\"><div class=\"poly-price__current\"><span aria-label=\"41000000 pesos colombianos\" aria-roledescription=\"Monto\" class=\"andes-money-amount andes-money-amount--cents-superscript\" role=\"img\" style=\"font-size:24px\"><span aria-hidden=\"true\" class=\"andes-money-amount__currency-symbol\">$</span><span aria-hidden=\"true\" class=\"andes-money-amount__fraction\">41.000.000</span></span></div></div><div class=\"poly-component__attributes-list\"><ul class=\"poly-attributes-list\" style='--separator-content:\"|\";gap:4px'><li class=\"poly-attributes-list__item poly-attributes-list__separator\">2011</li><li class=\"poly-attributes-list__item poly-attributes-list__separator\">98.802 Km</li></ul></div><span class=\"poly-component__location\">Usaquén - Bogotá D.C.</span></div><div class=\"poly-component__bookmark\"><button aria-checked=\"false\" aria-label=\"Favorito\" class=\"poly-bookmark__btn\" role=\"switch\" type=\"button\"><svg class=\"poly-bookmark__icon-full\" height=\"20\" viewbox=\"0 0 20 20\" width=\"20\"><use href=\"#poly_bookmark\"></use></svg><svg class=\"poly-bookmark__icon-empty\" height=\"20\" viewbox=\"0 0 20 20\" width=\"20\"><use href=\"#poly_bookmark\"></use></svg></button></div></div></div></div></li>"
      ]
     },
     "execution_count": 5,
     "metadata": {},
     "output_type": "execute_result"
    }
   ],
   "source": [
    "first_card = all_cards[0]\n",
    "first_card"
   ]
  },
  {
   "cell_type": "markdown",
   "metadata": {
    "id": "7aPDlHWYeXoB"
   },
   "source": [
    "Vamos a explorar el anuncio 2 de la página 1"
   ]
  },
  {
   "cell_type": "code",
   "execution_count": 6,
   "metadata": {
    "colab": {
     "base_uri": "https://localhost:8080/"
    },
    "executionInfo": {
     "elapsed": 4,
     "status": "ok",
     "timestamp": 1744338944447,
     "user": {
      "displayName": "OLGA CECILIA USUGA MANCO",
      "userId": "18255825952910028859"
     },
     "user_tz": 300
    },
    "id": "QgOcd2MIFcRa",
    "outputId": "9576f23d-c578-408f-85dd-63b06d8c09cf"
   },
   "outputs": [
    {
     "data": {
      "text/plain": [
       "<li class=\"ui-search-layout__item\"><div style=\"display:contents\"><div class=\"ui-search-result__wrapper\"><div class=\"andes-card poly-card poly-card--grid-card poly-card--large poly-card--MOT andes-card--flat andes-card--padding-0 andes-card--animated\" id=\":R2o4l5ie:\"><div class=\"poly-card__portada\"><img alt=\"Dfm/dfsk Glory 580 1,8\" aria-hidden=\"true\" class=\"poly-component__picture poly-component__picture--contain\" decoding=\"sync\" fetchpriority=\"high\" height=\"150\" src=\"https://http2.mlstatic.com/D_Q_NP_2X_675257-MCO83389976340_042025-E.webp\" title=\"Dfm/dfsk Glory 580 1,8\" width=\"150\"/></div><div class=\"poly-card__content\"><h3 class=\"poly-component__title-wrapper\"><a class=\"poly-component__title\" href=\"https://articulo.tucarro.com.co/MCO-2846851938-dfsk-dxk6470sf-18-_JM#polycard_client=search-nordic&amp;position=4&amp;search_layout=grid&amp;type=item&amp;tracking_id=547f77ce-e5b4-4464-bac8-2df4ad42bcc6\" target=\"_blank\">Dfm/dfsk Glory 580 1,8</a></h3><div class=\"poly-component__price\"><div class=\"poly-price__current\"><span aria-label=\"87000000 pesos colombianos\" aria-roledescription=\"Monto\" class=\"andes-money-amount andes-money-amount--cents-superscript\" role=\"img\" style=\"font-size:24px\"><span aria-hidden=\"true\" class=\"andes-money-amount__currency-symbol\">$</span><span aria-hidden=\"true\" class=\"andes-money-amount__fraction\">87.000.000</span></span></div></div><div class=\"poly-component__attributes-list\"><ul class=\"poly-attributes-list\" style='--separator-content:\"|\";gap:4px'><li class=\"poly-attributes-list__item poly-attributes-list__separator\">2024</li><li class=\"poly-attributes-list__item poly-attributes-list__separator\">64.000 Km</li></ul></div><span class=\"poly-component__location\">Fontibón - Bogotá D.C.</span></div><div class=\"poly-component__bookmark\"><button aria-checked=\"false\" aria-label=\"Favorito\" class=\"poly-bookmark__btn\" role=\"switch\" type=\"button\"><svg class=\"poly-bookmark__icon-full\" height=\"20\" viewbox=\"0 0 20 20\" width=\"20\"><use href=\"#poly_bookmark\"></use></svg><svg class=\"poly-bookmark__icon-empty\" height=\"20\" viewbox=\"0 0 20 20\" width=\"20\"><use href=\"#poly_bookmark\"></use></svg></button></div></div></div></div></li>"
      ]
     },
     "execution_count": 6,
     "metadata": {},
     "output_type": "execute_result"
    }
   ],
   "source": [
    "second_card = all_cards[1]\n",
    "second_card"
   ]
  },
  {
   "cell_type": "markdown",
   "metadata": {
    "id": "4S-v_eXoea3s"
   },
   "source": [
    "Vamos a practicar la forma de extraer el precio, marca, modelo, kilometraje, ubicación y url del primer anuncio.\n",
    "\n",
    "Para extraer el precio:"
   ]
  },
  {
   "cell_type": "code",
   "execution_count": 7,
   "metadata": {
    "colab": {
     "base_uri": "https://localhost:8080/"
    },
    "executionInfo": {
     "elapsed": 5,
     "status": "ok",
     "timestamp": 1744380348497,
     "user": {
      "displayName": "OLGA CECILIA USUGA MANCO",
      "userId": "18255825952910028859"
     },
     "user_tz": 300
    },
    "id": "bjlVg8y4BQv0",
    "outputId": "c21ddde2-1822-4caf-bcce-1baa9d8c04b7"
   },
   "outputs": [
    {
     "data": {
      "text/plain": [
       "[<span aria-hidden=\"true\" class=\"andes-money-amount__fraction\">41.000.000</span>]"
      ]
     },
     "execution_count": 7,
     "metadata": {},
     "output_type": "execute_result"
    }
   ],
   "source": [
    "tag_price = first_card.select('.andes-money-amount__fraction')\n",
    "tag_price"
   ]
  },
  {
   "cell_type": "code",
   "execution_count": 8,
   "metadata": {
    "colab": {
     "base_uri": "https://localhost:8080/",
     "height": 35
    },
    "executionInfo": {
     "elapsed": 4,
     "status": "ok",
     "timestamp": 1744380364935,
     "user": {
      "displayName": "OLGA CECILIA USUGA MANCO",
      "userId": "18255825952910028859"
     },
     "user_tz": 300
    },
    "id": "X5mHebNZBYwm",
    "outputId": "c40e350b-96d1-405e-c783-4c5ccf2a436a"
   },
   "outputs": [
    {
     "data": {
      "text/plain": [
       "'41.000.000'"
      ]
     },
     "execution_count": 8,
     "metadata": {},
     "output_type": "execute_result"
    }
   ],
   "source": [
    "tag_price[0].text"
   ]
  },
  {
   "cell_type": "markdown",
   "metadata": {
    "id": "saPj3ThSmbCK"
   },
   "source": [
    "Para extraer la marca:"
   ]
  },
  {
   "cell_type": "code",
   "execution_count": 9,
   "metadata": {
    "colab": {
     "base_uri": "https://localhost:8080/",
     "height": 35
    },
    "executionInfo": {
     "elapsed": 4,
     "status": "ok",
     "timestamp": 1744380433180,
     "user": {
      "displayName": "OLGA CECILIA USUGA MANCO",
      "userId": "18255825952910028859"
     },
     "user_tz": 300
    },
    "id": "GJ2uZLIRXBUd",
    "outputId": "8095e493-60cb-48e9-ea78-0187525a5e4f"
   },
   "outputs": [
    {
     "data": {
      "text/plain": [
       "'Mazda 6 2.5 L5na1'"
      ]
     },
     "execution_count": 9,
     "metadata": {},
     "output_type": "execute_result"
    }
   ],
   "source": [
    "first_card.find(\"a\", class_=\"poly-component__title\").text"
   ]
  },
  {
   "cell_type": "markdown",
   "metadata": {
    "id": "3couQJSxkJUI"
   },
   "source": [
    "Para extraer modelo y kilometraje"
   ]
  },
  {
   "cell_type": "code",
   "execution_count": 10,
   "metadata": {
    "colab": {
     "base_uri": "https://localhost:8080/"
    },
    "executionInfo": {
     "elapsed": 4,
     "status": "ok",
     "timestamp": 1744380510870,
     "user": {
      "displayName": "OLGA CECILIA USUGA MANCO",
      "userId": "18255825952910028859"
     },
     "user_tz": 300
    },
    "id": "_73BwcGuI92I",
    "outputId": "9b1dcbd6-a9f2-4cb0-84c3-a848442f2430"
   },
   "outputs": [
    {
     "data": {
      "text/plain": [
       "[<li class=\"poly-attributes-list__item poly-attributes-list__separator\">2011</li>,\n",
       " <li class=\"poly-attributes-list__item poly-attributes-list__separator\">98.802 Km</li>]"
      ]
     },
     "execution_count": 10,
     "metadata": {},
     "output_type": "execute_result"
    }
   ],
   "source": [
    "attributes = first_card.find_all('li', {'class': 'poly-attributes-list__item'})\n",
    "attributes"
   ]
  },
  {
   "cell_type": "code",
   "execution_count": 11,
   "metadata": {
    "colab": {
     "base_uri": "https://localhost:8080/"
    },
    "executionInfo": {
     "elapsed": 3,
     "status": "ok",
     "timestamp": 1744380541413,
     "user": {
      "displayName": "OLGA CECILIA USUGA MANCO",
      "userId": "18255825952910028859"
     },
     "user_tz": 300
    },
    "id": "N3ur23B3JHPp",
    "outputId": "aae3462d-ba0f-48d5-ded8-6b501677841d"
   },
   "outputs": [
    {
     "name": "stdout",
     "output_type": "stream",
     "text": [
      "modelo:  2011\n",
      "kilometraje:  98.802 Km\n"
     ]
    }
   ],
   "source": [
    "print('modelo: ', attributes[0].text)\n",
    "print('kilometraje: ', attributes[1].text)"
   ]
  },
  {
   "cell_type": "markdown",
   "metadata": {
    "id": "ujV_3-XDl5gg"
   },
   "source": [
    "Para obtener la url del anuncio:"
   ]
  },
  {
   "cell_type": "code",
   "execution_count": 12,
   "metadata": {
    "colab": {
     "base_uri": "https://localhost:8080/",
     "height": 52
    },
    "executionInfo": {
     "elapsed": 42,
     "status": "ok",
     "timestamp": 1744380621940,
     "user": {
      "displayName": "OLGA CECILIA USUGA MANCO",
      "userId": "18255825952910028859"
     },
     "user_tz": 300
    },
    "id": "VqiBJKAqVVla",
    "outputId": "6ec53de4-7f4b-4e03-b6a9-6f9e004c8d28"
   },
   "outputs": [
    {
     "data": {
      "text/plain": [
       "'https://articulo.tucarro.com.co/MCO-2846826502-mazda-6-l5na1-25-_JM#polycard_client=search-nordic&position=3&search_layout=grid&type=item&tracking_id=547f77ce-e5b4-4464-bac8-2df4ad42bcc6'"
      ]
     },
     "execution_count": 12,
     "metadata": {},
     "output_type": "execute_result"
    }
   ],
   "source": [
    "first_card.find('a').get('href')"
   ]
  },
  {
   "cell_type": "markdown",
   "metadata": {
    "id": "WRzOjytmmEv_"
   },
   "source": [
    "Para obtener la ubicación del vehículo:"
   ]
  },
  {
   "cell_type": "code",
   "execution_count": 13,
   "metadata": {
    "colab": {
     "base_uri": "https://localhost:8080/",
     "height": 35
    },
    "executionInfo": {
     "elapsed": 44,
     "status": "ok",
     "timestamp": 1744380664564,
     "user": {
      "displayName": "OLGA CECILIA USUGA MANCO",
      "userId": "18255825952910028859"
     },
     "user_tz": 300
    },
    "id": "oiSadbEEJaYY",
    "outputId": "42aa43b1-93b1-416e-dc89-1b57dd94af0d"
   },
   "outputs": [
    {
     "data": {
      "text/plain": [
       "'Usaquén - Bogotá D.C.'"
      ]
     },
     "execution_count": 13,
     "metadata": {},
     "output_type": "execute_result"
    }
   ],
   "source": [
    "first_card.find(\"span\", class_=\"poly-component__location\").text"
   ]
  },
  {
   "cell_type": "markdown",
   "metadata": {
    "id": "5tD_4edWRoBB"
   },
   "source": [
    "# Creando la base de datos\n",
    "\n",
    "Ahora vamos a leer todos los anuncios de las primeras 21 páginas de tucarro.com.co. Recordemos que cada página tiene 48 anuncios, y como son 21 páginas, en total leeremos 1008 anuncios.\n",
    "\n",
    "https://carros.tucarro.com.co/_NoIndex_True"
   ]
  },
  {
   "cell_type": "code",
   "execution_count": 14,
   "metadata": {
    "colab": {
     "base_uri": "https://localhost:8080/"
    },
    "executionInfo": {
     "elapsed": 21947,
     "status": "ok",
     "timestamp": 1744338966486,
     "user": {
      "displayName": "OLGA CECILIA USUGA MANCO",
      "userId": "18255825952910028859"
     },
     "user_tz": 300
    },
    "id": "fiuuIOngYA6i",
    "outputId": "2a6fa684-6eb7-461c-bb56-64e6e51228a7"
   },
   "outputs": [
    {
     "name": "stdout",
     "output_type": "stream",
     "text": [
      "La página leida es: https://carros.tucarro.com.co/_Desde_1_NoIndex_True\n",
      "La página leida es: https://carros.tucarro.com.co/_Desde_49_NoIndex_True\n",
      "La página leida es: https://carros.tucarro.com.co/_Desde_97_NoIndex_True\n",
      "La página leida es: https://carros.tucarro.com.co/_Desde_145_NoIndex_True\n",
      "La página leida es: https://carros.tucarro.com.co/_Desde_193_NoIndex_True\n",
      "La página leida es: https://carros.tucarro.com.co/_Desde_241_NoIndex_True\n",
      "La página leida es: https://carros.tucarro.com.co/_Desde_289_NoIndex_True\n",
      "La página leida es: https://carros.tucarro.com.co/_Desde_337_NoIndex_True\n",
      "La página leida es: https://carros.tucarro.com.co/_Desde_385_NoIndex_True\n",
      "La página leida es: https://carros.tucarro.com.co/_Desde_433_NoIndex_True\n",
      "La página leida es: https://carros.tucarro.com.co/_Desde_481_NoIndex_True\n",
      "La página leida es: https://carros.tucarro.com.co/_Desde_529_NoIndex_True\n",
      "La página leida es: https://carros.tucarro.com.co/_Desde_577_NoIndex_True\n",
      "La página leida es: https://carros.tucarro.com.co/_Desde_625_NoIndex_True\n",
      "La página leida es: https://carros.tucarro.com.co/_Desde_673_NoIndex_True\n",
      "La página leida es: https://carros.tucarro.com.co/_Desde_721_NoIndex_True\n",
      "La página leida es: https://carros.tucarro.com.co/_Desde_769_NoIndex_True\n",
      "La página leida es: https://carros.tucarro.com.co/_Desde_817_NoIndex_True\n",
      "La página leida es: https://carros.tucarro.com.co/_Desde_865_NoIndex_True\n",
      "La página leida es: https://carros.tucarro.com.co/_Desde_913_NoIndex_True\n",
      "La página leida es: https://carros.tucarro.com.co/_Desde_961_NoIndex_True\n"
     ]
    }
   ],
   "source": [
    "# create empty lists for each of the columns:\n",
    "links = []\n",
    "prices = []\n",
    "models = []\n",
    "kms = []\n",
    "locations = []\n",
    "brands = []\n",
    "\n",
    "# Note: n_add means number of advertisement or page\n",
    "\n",
    "for n_add in range(1, 1000, 48):\n",
    "\n",
    "  # create the url iteratively\n",
    "  url = f'https://carros.tucarro.com.co/_Desde_{n_add}_NoIndex_True'\n",
    "\n",
    "  print(f\"La página leida es: {url}\")\n",
    "\n",
    "  # do a request to the page\n",
    "  page = rq.get(url)\n",
    "\n",
    "  # convert the content into a soup\n",
    "  soup = BeautifulSoup(page.content, 'html.parser')\n",
    "\n",
    "  # Get the list of the all the blocks of info for the cars in a page\n",
    "  all_cards = soup.find_all('li', {'class': 'ui-search-layout__item'})\n",
    "\n",
    "  # iterate over the information of each car\n",
    "  for anuncio in all_cards:\n",
    "\n",
    "    # Get id of the add\n",
    "    link_element = anuncio.find(\"a\", class_=\"poly-component__title\")\n",
    "    url = anuncio.find('a').get('href')\n",
    "    links.append(url)\n",
    "\n",
    "    # Get the price\n",
    "    tag_price = anuncio.select('.andes-money-amount__fraction')\n",
    "    price = tag_price[0].text\n",
    "    prices.append(price)\n",
    "\n",
    "    # Get model and km\n",
    "    attributes = anuncio.find_all('li', {'class': 'poly-attributes-list__item'})\n",
    "    model = attributes[0].text\n",
    "    models.append(model)\n",
    "    km = attributes[1].text\n",
    "    kms.append(km)\n",
    "\n",
    "    # get location\n",
    "    location_span = anuncio.find(\"span\", class_=\"poly-component__location\")\n",
    "    location = location_span.text\n",
    "    locations.append(location)\n",
    "\n",
    "    # Find the model\n",
    "    brand = link_element.text\n",
    "    brands.append(brand)"
   ]
  },
  {
   "cell_type": "markdown",
   "metadata": {
    "id": "mqNX2KwbqZuV"
   },
   "source": [
    "Chequeando el número de observaciones en cada lista"
   ]
  },
  {
   "cell_type": "code",
   "execution_count": 15,
   "metadata": {
    "colab": {
     "base_uri": "https://localhost:8080/"
    },
    "executionInfo": {
     "elapsed": 6,
     "status": "ok",
     "timestamp": 1744338966493,
     "user": {
      "displayName": "OLGA CECILIA USUGA MANCO",
      "userId": "18255825952910028859"
     },
     "user_tz": 300
    },
    "id": "9RvuuTgAb78S",
    "outputId": "a89d4b86-017c-4077-de53-171b3d99ed23"
   },
   "outputs": [
    {
     "name": "stdout",
     "output_type": "stream",
     "text": [
      "1008\n",
      "1008\n",
      "1008\n",
      "1008\n",
      "1008\n",
      "1008\n"
     ]
    }
   ],
   "source": [
    "print(len(links))\n",
    "print(len(prices))\n",
    "print(len(models))\n",
    "print(len(kms))\n",
    "print(len(locations))\n",
    "print(len(brands))"
   ]
  },
  {
   "cell_type": "markdown",
   "metadata": {
    "id": "_uDoDg5hqwqq"
   },
   "source": [
    "Vamos a explorar la información de los primeros tres anuncios:"
   ]
  },
  {
   "cell_type": "code",
   "execution_count": 16,
   "metadata": {
    "colab": {
     "base_uri": "https://localhost:8080/"
    },
    "executionInfo": {
     "elapsed": 10,
     "status": "ok",
     "timestamp": 1744338966506,
     "user": {
      "displayName": "OLGA CECILIA USUGA MANCO",
      "userId": "18255825952910028859"
     },
     "user_tz": 300
    },
    "id": "GrqSA3Ssq1Hr",
    "outputId": "c7d55941-ec6e-4f69-c2c7-6bda4dd36fdd"
   },
   "outputs": [
    {
     "name": "stdout",
     "output_type": "stream",
     "text": [
      "['41.000.000', '87.000.000', '124.000.000']\n",
      "['2011', '2024', '2024']\n",
      "['98.802 Km', '64.000 Km', '5.400 Km']\n"
     ]
    }
   ],
   "source": [
    "print(prices[:3])\n",
    "print(models[:3])\n",
    "print(kms[:3])"
   ]
  },
  {
   "cell_type": "markdown",
   "metadata": {
    "id": "W9q7Jwzyqfd9"
   },
   "source": [
    "Vamos a crear la base de datos usando pandas"
   ]
  },
  {
   "cell_type": "code",
   "execution_count": 17,
   "metadata": {
    "colab": {
     "base_uri": "https://localhost:8080/",
     "height": 419
    },
    "executionInfo": {
     "elapsed": 394,
     "status": "ok",
     "timestamp": 1744338966901,
     "user": {
      "displayName": "OLGA CECILIA USUGA MANCO",
      "userId": "18255825952910028859"
     },
     "user_tz": 300
    },
    "id": "n0-XlqOua0yx",
    "outputId": "9fbea488-4fb7-4830-ae7b-f6b1ed1a3057"
   },
   "outputs": [
    {
     "data": {
      "text/html": [
       "<div>\n",
       "<style scoped>\n",
       "    .dataframe tbody tr th:only-of-type {\n",
       "        vertical-align: middle;\n",
       "    }\n",
       "\n",
       "    .dataframe tbody tr th {\n",
       "        vertical-align: top;\n",
       "    }\n",
       "\n",
       "    .dataframe thead th {\n",
       "        text-align: right;\n",
       "    }\n",
       "</style>\n",
       "<table border=\"1\" class=\"dataframe\">\n",
       "  <thead>\n",
       "    <tr style=\"text-align: right;\">\n",
       "      <th></th>\n",
       "      <th>price</th>\n",
       "      <th>model</th>\n",
       "      <th>km</th>\n",
       "      <th>location</th>\n",
       "      <th>brand</th>\n",
       "    </tr>\n",
       "  </thead>\n",
       "  <tbody>\n",
       "    <tr>\n",
       "      <th>0</th>\n",
       "      <td>41.000.000</td>\n",
       "      <td>2011</td>\n",
       "      <td>98.802 Km</td>\n",
       "      <td>Usaquén - Bogotá D.C.</td>\n",
       "      <td>Mazda 6 2.5 L5na1</td>\n",
       "    </tr>\n",
       "    <tr>\n",
       "      <th>1</th>\n",
       "      <td>87.000.000</td>\n",
       "      <td>2024</td>\n",
       "      <td>64.000 Km</td>\n",
       "      <td>Fontibón - Bogotá D.C.</td>\n",
       "      <td>Dfm/dfsk Glory 580 1,8</td>\n",
       "    </tr>\n",
       "    <tr>\n",
       "      <th>2</th>\n",
       "      <td>124.000.000</td>\n",
       "      <td>2024</td>\n",
       "      <td>5.400 Km</td>\n",
       "      <td>Usaquén - Bogotá D.C.</td>\n",
       "      <td>Toyota Corolla 1.8 Hev Seg</td>\n",
       "    </tr>\n",
       "    <tr>\n",
       "      <th>3</th>\n",
       "      <td>27.000.000</td>\n",
       "      <td>2014</td>\n",
       "      <td>146.344 Km</td>\n",
       "      <td>Tunjuelito - Bogotá D.C.</td>\n",
       "      <td>Mg 5 1.5 Comfort</td>\n",
       "    </tr>\n",
       "    <tr>\n",
       "      <th>4</th>\n",
       "      <td>70.000.000</td>\n",
       "      <td>2019</td>\n",
       "      <td>55.000 Km</td>\n",
       "      <td>Fontibón - Bogotá D.C.</td>\n",
       "      <td>Hyundai Creta 1.6 Premium</td>\n",
       "    </tr>\n",
       "    <tr>\n",
       "      <th>...</th>\n",
       "      <td>...</td>\n",
       "      <td>...</td>\n",
       "      <td>...</td>\n",
       "      <td>...</td>\n",
       "      <td>...</td>\n",
       "    </tr>\n",
       "    <tr>\n",
       "      <th>1003</th>\n",
       "      <td>195.000.000</td>\n",
       "      <td>2022</td>\n",
       "      <td>34.420 Km</td>\n",
       "      <td>Suba - Bogotá D.C.</td>\n",
       "      <td>Bmw X3 2.0 Xdrive30i</td>\n",
       "    </tr>\n",
       "    <tr>\n",
       "      <th>1004</th>\n",
       "      <td>140.000.000</td>\n",
       "      <td>2024</td>\n",
       "      <td>3.300 Km</td>\n",
       "      <td>Kennedy - Bogotá D.C.</td>\n",
       "      <td>Mitsubishi Xpander Cross 1.5 Cross At</td>\n",
       "    </tr>\n",
       "    <tr>\n",
       "      <th>1005</th>\n",
       "      <td>32.000.000</td>\n",
       "      <td>2009</td>\n",
       "      <td>118.884 Km</td>\n",
       "      <td>Fontibón - Bogotá D.C.</td>\n",
       "      <td>Volkswagen Jetta 1.8 Comfortline Turbo</td>\n",
       "    </tr>\n",
       "    <tr>\n",
       "      <th>1006</th>\n",
       "      <td>138.000.000</td>\n",
       "      <td>2018</td>\n",
       "      <td>40.000 Km</td>\n",
       "      <td>Suba - Bogotá D.C.</td>\n",
       "      <td>Ford Explorer 2.3 Limited 4x4</td>\n",
       "    </tr>\n",
       "    <tr>\n",
       "      <th>1007</th>\n",
       "      <td>152.000.000</td>\n",
       "      <td>2006</td>\n",
       "      <td>223.000 Km</td>\n",
       "      <td>Fontibón - Bogotá D.C.</td>\n",
       "      <td>Toyota Burbuja 4.5 Vx</td>\n",
       "    </tr>\n",
       "  </tbody>\n",
       "</table>\n",
       "<p>1008 rows × 5 columns</p>\n",
       "</div>"
      ],
      "text/plain": [
       "            price model          km                  location  \\\n",
       "0      41.000.000  2011   98.802 Km     Usaquén - Bogotá D.C.   \n",
       "1      87.000.000  2024   64.000 Km    Fontibón - Bogotá D.C.   \n",
       "2     124.000.000  2024    5.400 Km     Usaquén - Bogotá D.C.   \n",
       "3      27.000.000  2014  146.344 Km  Tunjuelito - Bogotá D.C.   \n",
       "4      70.000.000  2019   55.000 Km    Fontibón - Bogotá D.C.   \n",
       "...           ...   ...         ...                       ...   \n",
       "1003  195.000.000  2022   34.420 Km        Suba - Bogotá D.C.   \n",
       "1004  140.000.000  2024    3.300 Km     Kennedy - Bogotá D.C.   \n",
       "1005   32.000.000  2009  118.884 Km    Fontibón - Bogotá D.C.   \n",
       "1006  138.000.000  2018   40.000 Km        Suba - Bogotá D.C.   \n",
       "1007  152.000.000  2006  223.000 Km    Fontibón - Bogotá D.C.   \n",
       "\n",
       "                                       brand  \n",
       "0                          Mazda 6 2.5 L5na1  \n",
       "1                     Dfm/dfsk Glory 580 1,8  \n",
       "2                 Toyota Corolla 1.8 Hev Seg  \n",
       "3                           Mg 5 1.5 Comfort  \n",
       "4                  Hyundai Creta 1.6 Premium  \n",
       "...                                      ...  \n",
       "1003                    Bmw X3 2.0 Xdrive30i  \n",
       "1004   Mitsubishi Xpander Cross 1.5 Cross At  \n",
       "1005  Volkswagen Jetta 1.8 Comfortline Turbo  \n",
       "1006           Ford Explorer 2.3 Limited 4x4  \n",
       "1007                   Toyota Burbuja 4.5 Vx  \n",
       "\n",
       "[1008 rows x 5 columns]"
      ]
     },
     "execution_count": 17,
     "metadata": {},
     "output_type": "execute_result"
    }
   ],
   "source": [
    "import pandas as pd\n",
    "\n",
    "# Creating the dictionary\n",
    "datos = {\"price\": prices,\n",
    "         \"model\": models,\n",
    "         \"km\": kms,\n",
    "         \"location\": locations,\n",
    "         \"brand\": brands}\n",
    "\n",
    "# Create DataFrame\n",
    "df = pd.DataFrame(datos)\n",
    "\n",
    "# Print the dataframe\n",
    "df"
   ]
  }
 ],
 "metadata": {
  "colab": {
   "provenance": []
  },
  "kernelspec": {
   "display_name": "Python 3 (ipykernel)",
   "language": "python",
   "name": "python3"
  },
  "language_info": {
   "codemirror_mode": {
    "name": "ipython",
    "version": 3
   },
   "file_extension": ".py",
   "mimetype": "text/x-python",
   "name": "python",
   "nbconvert_exporter": "python",
   "pygments_lexer": "ipython3",
   "version": "3.12.7"
  }
 },
 "nbformat": 4,
 "nbformat_minor": 4
}
