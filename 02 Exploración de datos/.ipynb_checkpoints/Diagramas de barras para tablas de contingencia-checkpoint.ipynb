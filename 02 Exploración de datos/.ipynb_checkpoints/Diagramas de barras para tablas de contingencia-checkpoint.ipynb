{
 "cells": [
  {
   "cell_type": "markdown",
   "metadata": {},
   "source": [
    "# Diagramas de barras para tablas de contingencia\n",
    "<img src=\"https://raw.githubusercontent.com/fhernanb/fhernanb.github.io/master/docs/logo_unal_color.png\" alt=\"drawing\" width=\"200\"/>\n",
    "<br>\n",
    "En esta lección se mostrará como dibujar diagramas de barras a partir de tablas de contingencia.\n",
    "\n",
    "A continuación las librerías necesarias para realizar los ejemplos."
   ]
  },
  {
   "cell_type": "code",
   "execution_count": 1,
   "metadata": {},
   "outputs": [],
   "source": [
    "import pandas as pd\n",
    "import matplotlib.pyplot as plt"
   ]
  },
  {
   "cell_type": "markdown",
   "metadata": {},
   "source": [
    "## Leyendo los datos del ejemplo\n",
    "\n",
    "Para el ejemplo vamos a usar la base de datos sobre apartamentos usados en la ciudad de Medellín, la base de datos está disponible en [este enlace](https://raw.githubusercontent.com/fhernanb/datos/master/aptos2015). Para leer la base de datos usamos las siguientes instrucciones."
   ]
  },
  {
   "cell_type": "code",
   "execution_count": 2,
   "metadata": {},
   "outputs": [
    {
     "data": {
      "text/html": [
       "<div>\n",
       "<style scoped>\n",
       "    .dataframe tbody tr th:only-of-type {\n",
       "        vertical-align: middle;\n",
       "    }\n",
       "\n",
       "    .dataframe tbody tr th {\n",
       "        vertical-align: top;\n",
       "    }\n",
       "\n",
       "    .dataframe thead th {\n",
       "        text-align: right;\n",
       "    }\n",
       "</style>\n",
       "<table border=\"1\" class=\"dataframe\">\n",
       "  <thead>\n",
       "    <tr style=\"text-align: right;\">\n",
       "      <th></th>\n",
       "      <th>precio</th>\n",
       "      <th>mt2</th>\n",
       "      <th>ubicacion</th>\n",
       "      <th>estrato</th>\n",
       "      <th>alcobas</th>\n",
       "      <th>banos</th>\n",
       "      <th>balcon</th>\n",
       "      <th>parqueadero</th>\n",
       "      <th>administracion</th>\n",
       "      <th>avaluo</th>\n",
       "      <th>terminado</th>\n",
       "    </tr>\n",
       "  </thead>\n",
       "  <tbody>\n",
       "    <tr>\n",
       "      <th>1</th>\n",
       "      <td>79.0</td>\n",
       "      <td>43.16</td>\n",
       "      <td>norte</td>\n",
       "      <td>3</td>\n",
       "      <td>3</td>\n",
       "      <td>1</td>\n",
       "      <td>si</td>\n",
       "      <td>si</td>\n",
       "      <td>0.050</td>\n",
       "      <td>14.923002</td>\n",
       "      <td>no</td>\n",
       "    </tr>\n",
       "    <tr>\n",
       "      <th>2</th>\n",
       "      <td>93.0</td>\n",
       "      <td>56.92</td>\n",
       "      <td>norte</td>\n",
       "      <td>2</td>\n",
       "      <td>2</td>\n",
       "      <td>1</td>\n",
       "      <td>si</td>\n",
       "      <td>si</td>\n",
       "      <td>0.069</td>\n",
       "      <td>27.000000</td>\n",
       "      <td>si</td>\n",
       "    </tr>\n",
       "    <tr>\n",
       "      <th>3</th>\n",
       "      <td>100.0</td>\n",
       "      <td>66.40</td>\n",
       "      <td>norte</td>\n",
       "      <td>3</td>\n",
       "      <td>2</td>\n",
       "      <td>2</td>\n",
       "      <td>no</td>\n",
       "      <td>no</td>\n",
       "      <td>0.000</td>\n",
       "      <td>15.738427</td>\n",
       "      <td>no</td>\n",
       "    </tr>\n",
       "    <tr>\n",
       "      <th>4</th>\n",
       "      <td>123.0</td>\n",
       "      <td>61.85</td>\n",
       "      <td>norte</td>\n",
       "      <td>2</td>\n",
       "      <td>3</td>\n",
       "      <td>2</td>\n",
       "      <td>si</td>\n",
       "      <td>si</td>\n",
       "      <td>0.130</td>\n",
       "      <td>27.000000</td>\n",
       "      <td>no</td>\n",
       "    </tr>\n",
       "    <tr>\n",
       "      <th>5</th>\n",
       "      <td>135.0</td>\n",
       "      <td>89.80</td>\n",
       "      <td>norte</td>\n",
       "      <td>4</td>\n",
       "      <td>3</td>\n",
       "      <td>2</td>\n",
       "      <td>si</td>\n",
       "      <td>no</td>\n",
       "      <td>0.000</td>\n",
       "      <td>39.567000</td>\n",
       "      <td>si</td>\n",
       "    </tr>\n",
       "  </tbody>\n",
       "</table>\n",
       "</div>"
      ],
      "text/plain": [
       "   precio    mt2 ubicacion  estrato  alcobas  banos balcon parqueadero  \\\n",
       "1    79.0  43.16     norte        3        3      1     si          si   \n",
       "2    93.0  56.92     norte        2        2      1     si          si   \n",
       "3   100.0  66.40     norte        3        2      2     no          no   \n",
       "4   123.0  61.85     norte        2        3      2     si          si   \n",
       "5   135.0  89.80     norte        4        3      2     si          no   \n",
       "\n",
       "   administracion     avaluo terminado  \n",
       "1           0.050  14.923002        no  \n",
       "2           0.069  27.000000        si  \n",
       "3           0.000  15.738427        no  \n",
       "4           0.130  27.000000        no  \n",
       "5           0.000  39.567000        si  "
      ]
     },
     "execution_count": 2,
     "metadata": {},
     "output_type": "execute_result"
    }
   ],
   "source": [
    "url = 'https://raw.githubusercontent.com/fhernanb/datos/master/aptos2015'\n",
    "dt = pd.read_table(url, comment='#', sep=' ')\n",
    "dt.head()"
   ]
  },
  {
   "cell_type": "markdown",
   "metadata": {},
   "source": [
    "## Diagramas de barras para tablas de contingencia de una vía\n",
    "\n",
    "Para crear este tipo de tablas se usa la función `crosstab`, la documentación completa de esta función se puede encontrar en este [enlace](https://pandas.pydata.org/pandas-docs/stable/generated/pandas.crosstab.html). Luego para dibujar la tabla de contingencia se usa la función `plot.bar`, la documentación completa de esta función se puede encontrar [aquí](https://matplotlib.org/api/_as_gen/matplotlib.pyplot.bar.html).\n",
    "\n",
    "A continuación se crea una tabla de frecuencia absoluta para la variable `ubicacion`."
   ]
  },
  {
   "cell_type": "code",
   "execution_count": 3,
   "metadata": {},
   "outputs": [
    {
     "data": {
      "text/html": [
       "<div>\n",
       "<style scoped>\n",
       "    .dataframe tbody tr th:only-of-type {\n",
       "        vertical-align: middle;\n",
       "    }\n",
       "\n",
       "    .dataframe tbody tr th {\n",
       "        vertical-align: top;\n",
       "    }\n",
       "\n",
       "    .dataframe thead th {\n",
       "        text-align: right;\n",
       "    }\n",
       "</style>\n",
       "<table border=\"1\" class=\"dataframe\">\n",
       "  <thead>\n",
       "    <tr style=\"text-align: right;\">\n",
       "      <th>col_0</th>\n",
       "      <th>Numero</th>\n",
       "    </tr>\n",
       "    <tr>\n",
       "      <th>ubicacion</th>\n",
       "      <th></th>\n",
       "    </tr>\n",
       "  </thead>\n",
       "  <tbody>\n",
       "    <tr>\n",
       "      <th>aburra sur</th>\n",
       "      <td>169</td>\n",
       "    </tr>\n",
       "    <tr>\n",
       "      <th>belen guayabal</th>\n",
       "      <td>67</td>\n",
       "    </tr>\n",
       "    <tr>\n",
       "      <th>centro</th>\n",
       "      <td>38</td>\n",
       "    </tr>\n",
       "    <tr>\n",
       "      <th>laureles</th>\n",
       "      <td>73</td>\n",
       "    </tr>\n",
       "    <tr>\n",
       "      <th>norte</th>\n",
       "      <td>10</td>\n",
       "    </tr>\n",
       "    <tr>\n",
       "      <th>occidente</th>\n",
       "      <td>69</td>\n",
       "    </tr>\n",
       "    <tr>\n",
       "      <th>poblado</th>\n",
       "      <td>268</td>\n",
       "    </tr>\n",
       "  </tbody>\n",
       "</table>\n",
       "</div>"
      ],
      "text/plain": [
       "col_0           Numero\n",
       "ubicacion             \n",
       "aburra sur         169\n",
       "belen guayabal      67\n",
       "centro              38\n",
       "laureles            73\n",
       "norte               10\n",
       "occidente           69\n",
       "poblado            268"
      ]
     },
     "execution_count": 3,
     "metadata": {},
     "output_type": "execute_result"
    }
   ],
   "source": [
    "t1 = pd.crosstab(index=dt['ubicacion'], columns=\"Numero\")\n",
    "t1"
   ]
  },
  {
   "cell_type": "markdown",
   "metadata": {},
   "source": [
    "Usando la tabla `t1` se dibuja el diagrama de barras usando las siguientes instrucciones."
   ]
  },
  {
   "cell_type": "code",
   "execution_count": 4,
   "metadata": {},
   "outputs": [
    {
     "data": {
      "image/png": "[encoded data removed]",
      "text/plain": [
       "<matplotlib.figure.Figure at 0x1e302674710>"
      ]
     },
     "metadata": {},
     "output_type": "display_data"
    }
   ],
   "source": [
    "t1.plot.bar(rot=0, figsize=[8, 5], legend=False, color='orange')\n",
    "plt.xlabel('Ubicación')\n",
    "plt.ylabel('Frecuencia absoluta')\n",
    "plt.title('Diagrama de barras para la ubicación de los apartamentos');"
   ]
  },
  {
   "cell_type": "markdown",
   "metadata": {},
   "source": [
    "## Diagramas de barras para tablas de contingencia de dos vías\n",
    "\n",
    "Al igual que en el ejemplo anterior, primero se construye la tabla de contingencia y luego con ella se dibuja el diagrama de barras.\n",
    "\n",
    "A continuación se crea una tabla de frecuencia absoluta para las variable `ubicacion` y `parqueadero`."
   ]
  },
  {
   "cell_type": "code",
   "execution_count": 5,
   "metadata": {},
   "outputs": [
    {
     "data": {
      "text/html": [
       "<div>\n",
       "<style scoped>\n",
       "    .dataframe tbody tr th:only-of-type {\n",
       "        vertical-align: middle;\n",
       "    }\n",
       "\n",
       "    .dataframe tbody tr th {\n",
       "        vertical-align: top;\n",
       "    }\n",
       "\n",
       "    .dataframe thead th {\n",
       "        text-align: right;\n",
       "    }\n",
       "</style>\n",
       "<table border=\"1\" class=\"dataframe\">\n",
       "  <thead>\n",
       "    <tr style=\"text-align: right;\">\n",
       "      <th>parqueadero</th>\n",
       "      <th>no</th>\n",
       "      <th>si</th>\n",
       "    </tr>\n",
       "    <tr>\n",
       "      <th>ubicacion</th>\n",
       "      <th></th>\n",
       "      <th></th>\n",
       "    </tr>\n",
       "  </thead>\n",
       "  <tbody>\n",
       "    <tr>\n",
       "      <th>aburra sur</th>\n",
       "      <td>39</td>\n",
       "      <td>130</td>\n",
       "    </tr>\n",
       "    <tr>\n",
       "      <th>belen guayabal</th>\n",
       "      <td>31</td>\n",
       "      <td>36</td>\n",
       "    </tr>\n",
       "    <tr>\n",
       "      <th>centro</th>\n",
       "      <td>28</td>\n",
       "      <td>10</td>\n",
       "    </tr>\n",
       "    <tr>\n",
       "      <th>laureles</th>\n",
       "      <td>3</td>\n",
       "      <td>70</td>\n",
       "    </tr>\n",
       "    <tr>\n",
       "      <th>norte</th>\n",
       "      <td>3</td>\n",
       "      <td>7</td>\n",
       "    </tr>\n",
       "    <tr>\n",
       "      <th>occidente</th>\n",
       "      <td>20</td>\n",
       "      <td>49</td>\n",
       "    </tr>\n",
       "    <tr>\n",
       "      <th>poblado</th>\n",
       "      <td>2</td>\n",
       "      <td>266</td>\n",
       "    </tr>\n",
       "  </tbody>\n",
       "</table>\n",
       "</div>"
      ],
      "text/plain": [
       "parqueadero     no   si\n",
       "ubicacion              \n",
       "aburra sur      39  130\n",
       "belen guayabal  31   36\n",
       "centro          28   10\n",
       "laureles         3   70\n",
       "norte            3    7\n",
       "occidente       20   49\n",
       "poblado          2  266"
      ]
     },
     "execution_count": 5,
     "metadata": {},
     "output_type": "execute_result"
    }
   ],
   "source": [
    "c1 = pd.crosstab(index=dt[\"ubicacion\"], columns=dt[\"parqueadero\"])\n",
    "c1"
   ]
  },
  {
   "cell_type": "code",
   "execution_count": 6,
   "metadata": {},
   "outputs": [
    {
     "data": {
      "image/png": "[encoded data removed]",
      "text/plain": [
       "<matplotlib.figure.Figure at 0x1e3026e3390>"
      ]
     },
     "metadata": {},
     "output_type": "display_data"
    }
   ],
   "source": [
    "c1.plot.bar(rot=20, figsize=[8, 5])\n",
    "plt.xlabel('Ubicación')\n",
    "plt.ylabel('Frecuencia absoluta')\n",
    "plt.title('Diagrama de barras para Parqueadero y Ubicación')\n",
    "plt.legend(loc=0);"
   ]
  },
  {
   "cell_type": "markdown",
   "metadata": {},
   "source": [
    "Para incluir los totales se hace así:"
   ]
  },
  {
   "cell_type": "code",
   "execution_count": 7,
   "metadata": {},
   "outputs": [
    {
     "data": {
      "text/html": [
       "<div>\n",
       "<style scoped>\n",
       "    .dataframe tbody tr th:only-of-type {\n",
       "        vertical-align: middle;\n",
       "    }\n",
       "\n",
       "    .dataframe tbody tr th {\n",
       "        vertical-align: top;\n",
       "    }\n",
       "\n",
       "    .dataframe thead th {\n",
       "        text-align: right;\n",
       "    }\n",
       "</style>\n",
       "<table border=\"1\" class=\"dataframe\">\n",
       "  <thead>\n",
       "    <tr style=\"text-align: right;\">\n",
       "      <th>parqueadero</th>\n",
       "      <th>no</th>\n",
       "      <th>si</th>\n",
       "      <th>All</th>\n",
       "    </tr>\n",
       "    <tr>\n",
       "      <th>ubicacion</th>\n",
       "      <th></th>\n",
       "      <th></th>\n",
       "      <th></th>\n",
       "    </tr>\n",
       "  </thead>\n",
       "  <tbody>\n",
       "    <tr>\n",
       "      <th>aburra sur</th>\n",
       "      <td>39</td>\n",
       "      <td>130</td>\n",
       "      <td>169</td>\n",
       "    </tr>\n",
       "    <tr>\n",
       "      <th>belen guayabal</th>\n",
       "      <td>31</td>\n",
       "      <td>36</td>\n",
       "      <td>67</td>\n",
       "    </tr>\n",
       "    <tr>\n",
       "      <th>centro</th>\n",
       "      <td>28</td>\n",
       "      <td>10</td>\n",
       "      <td>38</td>\n",
       "    </tr>\n",
       "    <tr>\n",
       "      <th>laureles</th>\n",
       "      <td>3</td>\n",
       "      <td>70</td>\n",
       "      <td>73</td>\n",
       "    </tr>\n",
       "    <tr>\n",
       "      <th>norte</th>\n",
       "      <td>3</td>\n",
       "      <td>7</td>\n",
       "      <td>10</td>\n",
       "    </tr>\n",
       "    <tr>\n",
       "      <th>occidente</th>\n",
       "      <td>20</td>\n",
       "      <td>49</td>\n",
       "      <td>69</td>\n",
       "    </tr>\n",
       "    <tr>\n",
       "      <th>poblado</th>\n",
       "      <td>2</td>\n",
       "      <td>266</td>\n",
       "      <td>268</td>\n",
       "    </tr>\n",
       "    <tr>\n",
       "      <th>All</th>\n",
       "      <td>126</td>\n",
       "      <td>568</td>\n",
       "      <td>694</td>\n",
       "    </tr>\n",
       "  </tbody>\n",
       "</table>\n",
       "</div>"
      ],
      "text/plain": [
       "parqueadero      no   si  All\n",
       "ubicacion                    \n",
       "aburra sur       39  130  169\n",
       "belen guayabal   31   36   67\n",
       "centro           28   10   38\n",
       "laureles          3   70   73\n",
       "norte             3    7   10\n",
       "occidente        20   49   69\n",
       "poblado           2  266  268\n",
       "All             126  568  694"
      ]
     },
     "execution_count": 7,
     "metadata": {},
     "output_type": "execute_result"
    }
   ],
   "source": [
    "c2 = pd.crosstab(index=dt[\"ubicacion\"], columns=dt[\"parqueadero\"], margins=True)\n",
    "c2"
   ]
  },
  {
   "cell_type": "code",
   "execution_count": 8,
   "metadata": {},
   "outputs": [
    {
     "data": {
      "image/png": "[encoded data removed]",
      "text/plain": [
       "<matplotlib.figure.Figure at 0x1e302a58908>"
      ]
     },
     "metadata": {},
     "output_type": "display_data"
    }
   ],
   "source": [
    "c2.plot.bar(rot=20, figsize=[8, 5])\n",
    "plt.xlabel('Ubicación')\n",
    "plt.ylabel('Frecuencia absoluta')\n",
    "plt.title('Diagrama de barras para Parqueadero según Ubicación')\n",
    "plt.legend(loc=0);"
   ]
  },
  {
   "cell_type": "markdown",
   "metadata": {},
   "source": [
    "El parámetro `normalize` se puede usar para obtener tablas de frecuencia relativa global, por columnas, por filas. Abajo los ejemplos de como usar `normalize`."
   ]
  },
  {
   "cell_type": "code",
   "execution_count": 9,
   "metadata": {},
   "outputs": [
    {
     "data": {
      "text/html": [
       "<div>\n",
       "<style scoped>\n",
       "    .dataframe tbody tr th:only-of-type {\n",
       "        vertical-align: middle;\n",
       "    }\n",
       "\n",
       "    .dataframe tbody tr th {\n",
       "        vertical-align: top;\n",
       "    }\n",
       "\n",
       "    .dataframe thead th {\n",
       "        text-align: right;\n",
       "    }\n",
       "</style>\n",
       "<table border=\"1\" class=\"dataframe\">\n",
       "  <thead>\n",
       "    <tr style=\"text-align: right;\">\n",
       "      <th>parqueadero</th>\n",
       "      <th>no</th>\n",
       "      <th>si</th>\n",
       "      <th>All</th>\n",
       "    </tr>\n",
       "    <tr>\n",
       "      <th>ubicacion</th>\n",
       "      <th></th>\n",
       "      <th></th>\n",
       "      <th></th>\n",
       "    </tr>\n",
       "  </thead>\n",
       "  <tbody>\n",
       "    <tr>\n",
       "      <th>aburra sur</th>\n",
       "      <td>5.6</td>\n",
       "      <td>18.7</td>\n",
       "      <td>24.4</td>\n",
       "    </tr>\n",
       "    <tr>\n",
       "      <th>belen guayabal</th>\n",
       "      <td>4.5</td>\n",
       "      <td>5.2</td>\n",
       "      <td>9.7</td>\n",
       "    </tr>\n",
       "    <tr>\n",
       "      <th>centro</th>\n",
       "      <td>4.0</td>\n",
       "      <td>1.4</td>\n",
       "      <td>5.5</td>\n",
       "    </tr>\n",
       "    <tr>\n",
       "      <th>laureles</th>\n",
       "      <td>0.4</td>\n",
       "      <td>10.1</td>\n",
       "      <td>10.5</td>\n",
       "    </tr>\n",
       "    <tr>\n",
       "      <th>norte</th>\n",
       "      <td>0.4</td>\n",
       "      <td>1.0</td>\n",
       "      <td>1.4</td>\n",
       "    </tr>\n",
       "    <tr>\n",
       "      <th>occidente</th>\n",
       "      <td>2.9</td>\n",
       "      <td>7.1</td>\n",
       "      <td>9.9</td>\n",
       "    </tr>\n",
       "    <tr>\n",
       "      <th>poblado</th>\n",
       "      <td>0.3</td>\n",
       "      <td>38.3</td>\n",
       "      <td>38.6</td>\n",
       "    </tr>\n",
       "    <tr>\n",
       "      <th>All</th>\n",
       "      <td>18.2</td>\n",
       "      <td>81.8</td>\n",
       "      <td>100.0</td>\n",
       "    </tr>\n",
       "  </tbody>\n",
       "</table>\n",
       "</div>"
      ],
      "text/plain": [
       "parqueadero       no    si    All\n",
       "ubicacion                        \n",
       "aburra sur       5.6  18.7   24.4\n",
       "belen guayabal   4.5   5.2    9.7\n",
       "centro           4.0   1.4    5.5\n",
       "laureles         0.4  10.1   10.5\n",
       "norte            0.4   1.0    1.4\n",
       "occidente        2.9   7.1    9.9\n",
       "poblado          0.3  38.3   38.6\n",
       "All             18.2  81.8  100.0"
      ]
     },
     "execution_count": 9,
     "metadata": {},
     "output_type": "execute_result"
    }
   ],
   "source": [
    "c3 = pd.crosstab(index=dt[\"ubicacion\"], columns=dt[\"parqueadero\"], margins=True, normalize='all')\n",
    "round(c3 * 100, 1)"
   ]
  },
  {
   "cell_type": "code",
   "execution_count": 10,
   "metadata": {},
   "outputs": [
    {
     "data": {
      "image/png": "[encoded data removed]",
      "text/plain": [
       "<matplotlib.figure.Figure at 0x1e302aaf518>"
      ]
     },
     "metadata": {},
     "output_type": "display_data"
    }
   ],
   "source": [
    "c3.plot.bar(rot=20, figsize=[8, 5])\n",
    "plt.xlabel('Ubicación')\n",
    "plt.ylabel('Frecuencia relativa')\n",
    "plt.title('Diagrama de barras para Parqueadero según Ubicación')\n",
    "plt.legend(loc=0);"
   ]
  },
  {
   "cell_type": "code",
   "execution_count": 11,
   "metadata": {},
   "outputs": [
    {
     "data": {
      "text/html": [
       "<div>\n",
       "<style scoped>\n",
       "    .dataframe tbody tr th:only-of-type {\n",
       "        vertical-align: middle;\n",
       "    }\n",
       "\n",
       "    .dataframe tbody tr th {\n",
       "        vertical-align: top;\n",
       "    }\n",
       "\n",
       "    .dataframe thead th {\n",
       "        text-align: right;\n",
       "    }\n",
       "</style>\n",
       "<table border=\"1\" class=\"dataframe\">\n",
       "  <thead>\n",
       "    <tr style=\"text-align: right;\">\n",
       "      <th>parqueadero</th>\n",
       "      <th>no</th>\n",
       "      <th>si</th>\n",
       "      <th>All</th>\n",
       "    </tr>\n",
       "    <tr>\n",
       "      <th>ubicacion</th>\n",
       "      <th></th>\n",
       "      <th></th>\n",
       "      <th></th>\n",
       "    </tr>\n",
       "  </thead>\n",
       "  <tbody>\n",
       "    <tr>\n",
       "      <th>aburra sur</th>\n",
       "      <td>31.0</td>\n",
       "      <td>22.9</td>\n",
       "      <td>24.4</td>\n",
       "    </tr>\n",
       "    <tr>\n",
       "      <th>belen guayabal</th>\n",
       "      <td>24.6</td>\n",
       "      <td>6.3</td>\n",
       "      <td>9.7</td>\n",
       "    </tr>\n",
       "    <tr>\n",
       "      <th>centro</th>\n",
       "      <td>22.2</td>\n",
       "      <td>1.8</td>\n",
       "      <td>5.5</td>\n",
       "    </tr>\n",
       "    <tr>\n",
       "      <th>laureles</th>\n",
       "      <td>2.4</td>\n",
       "      <td>12.3</td>\n",
       "      <td>10.5</td>\n",
       "    </tr>\n",
       "    <tr>\n",
       "      <th>norte</th>\n",
       "      <td>2.4</td>\n",
       "      <td>1.2</td>\n",
       "      <td>1.4</td>\n",
       "    </tr>\n",
       "    <tr>\n",
       "      <th>occidente</th>\n",
       "      <td>15.9</td>\n",
       "      <td>8.6</td>\n",
       "      <td>9.9</td>\n",
       "    </tr>\n",
       "    <tr>\n",
       "      <th>poblado</th>\n",
       "      <td>1.6</td>\n",
       "      <td>46.8</td>\n",
       "      <td>38.6</td>\n",
       "    </tr>\n",
       "  </tbody>\n",
       "</table>\n",
       "</div>"
      ],
      "text/plain": [
       "parqueadero       no    si   All\n",
       "ubicacion                       \n",
       "aburra sur      31.0  22.9  24.4\n",
       "belen guayabal  24.6   6.3   9.7\n",
       "centro          22.2   1.8   5.5\n",
       "laureles         2.4  12.3  10.5\n",
       "norte            2.4   1.2   1.4\n",
       "occidente       15.9   8.6   9.9\n",
       "poblado          1.6  46.8  38.6"
      ]
     },
     "execution_count": 11,
     "metadata": {},
     "output_type": "execute_result"
    }
   ],
   "source": [
    "c4 = pd.crosstab(index=dt[\"ubicacion\"], columns=dt[\"parqueadero\"], margins=True, normalize='columns')\n",
    "round(c4 * 100, 1)"
   ]
  },
  {
   "cell_type": "code",
   "execution_count": 12,
   "metadata": {},
   "outputs": [
    {
     "data": {
      "image/png": "[encoded data removed]",
      "text/plain": [
       "<matplotlib.figure.Figure at 0x1e302bd4ef0>"
      ]
     },
     "metadata": {},
     "output_type": "display_data"
    }
   ],
   "source": [
    "c4.plot.bar(rot=20, figsize=[8, 5])\n",
    "plt.xlabel('Ubicación')\n",
    "plt.ylabel('Frecuencia relativa')\n",
    "plt.title('Diagrama de barras para Parqueadero según Ubicación')\n",
    "plt.legend(loc=0);"
   ]
  },
  {
   "cell_type": "code",
   "execution_count": 13,
   "metadata": {},
   "outputs": [
    {
     "data": {
      "text/html": [
       "<div>\n",
       "<style scoped>\n",
       "    .dataframe tbody tr th:only-of-type {\n",
       "        vertical-align: middle;\n",
       "    }\n",
       "\n",
       "    .dataframe tbody tr th {\n",
       "        vertical-align: top;\n",
       "    }\n",
       "\n",
       "    .dataframe thead th {\n",
       "        text-align: right;\n",
       "    }\n",
       "</style>\n",
       "<table border=\"1\" class=\"dataframe\">\n",
       "  <thead>\n",
       "    <tr style=\"text-align: right;\">\n",
       "      <th>parqueadero</th>\n",
       "      <th>no</th>\n",
       "      <th>si</th>\n",
       "    </tr>\n",
       "    <tr>\n",
       "      <th>ubicacion</th>\n",
       "      <th></th>\n",
       "      <th></th>\n",
       "    </tr>\n",
       "  </thead>\n",
       "  <tbody>\n",
       "    <tr>\n",
       "      <th>aburra sur</th>\n",
       "      <td>23.1</td>\n",
       "      <td>76.9</td>\n",
       "    </tr>\n",
       "    <tr>\n",
       "      <th>belen guayabal</th>\n",
       "      <td>46.3</td>\n",
       "      <td>53.7</td>\n",
       "    </tr>\n",
       "    <tr>\n",
       "      <th>centro</th>\n",
       "      <td>73.7</td>\n",
       "      <td>26.3</td>\n",
       "    </tr>\n",
       "    <tr>\n",
       "      <th>laureles</th>\n",
       "      <td>4.1</td>\n",
       "      <td>95.9</td>\n",
       "    </tr>\n",
       "    <tr>\n",
       "      <th>norte</th>\n",
       "      <td>30.0</td>\n",
       "      <td>70.0</td>\n",
       "    </tr>\n",
       "    <tr>\n",
       "      <th>occidente</th>\n",
       "      <td>29.0</td>\n",
       "      <td>71.0</td>\n",
       "    </tr>\n",
       "    <tr>\n",
       "      <th>poblado</th>\n",
       "      <td>0.7</td>\n",
       "      <td>99.3</td>\n",
       "    </tr>\n",
       "    <tr>\n",
       "      <th>All</th>\n",
       "      <td>18.2</td>\n",
       "      <td>81.8</td>\n",
       "    </tr>\n",
       "  </tbody>\n",
       "</table>\n",
       "</div>"
      ],
      "text/plain": [
       "parqueadero       no    si\n",
       "ubicacion                 \n",
       "aburra sur      23.1  76.9\n",
       "belen guayabal  46.3  53.7\n",
       "centro          73.7  26.3\n",
       "laureles         4.1  95.9\n",
       "norte           30.0  70.0\n",
       "occidente       29.0  71.0\n",
       "poblado          0.7  99.3\n",
       "All             18.2  81.8"
      ]
     },
     "execution_count": 13,
     "metadata": {},
     "output_type": "execute_result"
    }
   ],
   "source": [
    "c5 = pd.crosstab(index=dt[\"ubicacion\"], columns=dt[\"parqueadero\"], margins=True, normalize='index')\n",
    "round(c5 * 100, 1)"
   ]
  },
  {
   "cell_type": "code",
   "execution_count": 14,
   "metadata": {},
   "outputs": [
    {
     "data": {
      "image/png": "[encoded data removed]",
      "text/plain": [
       "<matplotlib.figure.Figure at 0x1e302c504e0>"
      ]
     },
     "metadata": {},
     "output_type": "display_data"
    }
   ],
   "source": [
    "c5.plot.bar(rot=20, figsize=[8, 5])\n",
    "plt.xlabel('Ubicación')\n",
    "plt.ylabel('Frecuencia relativa')\n",
    "plt.title('Diagrama de barras para Parqueadero según Ubicación')\n",
    "plt.legend(loc=0);"
   ]
  },
  {
   "cell_type": "markdown",
   "metadata": {},
   "source": [
    "## Tablas de contingencia con 3 o más variables\n",
    "\n",
    "Es posible usar la función `crosstab` para crear este tipo de tablas usando la siguiente estructura:\n",
    "`pd.crosstab([variables por fila], [variables por columna])`.\n",
    "\n",
    "A continuación se muestra un ejemplo de una tabla de contingencia que tiene en la fila la variable `parqueadero` mientras que en la columna las variables `ubicación` y `balcón`."
   ]
  },
  {
   "cell_type": "code",
   "execution_count": 15,
   "metadata": {},
   "outputs": [
    {
     "data": {
      "text/html": [
       "<div>\n",
       "<style scoped>\n",
       "    .dataframe tbody tr th:only-of-type {\n",
       "        vertical-align: middle;\n",
       "    }\n",
       "\n",
       "    .dataframe tbody tr th {\n",
       "        vertical-align: top;\n",
       "    }\n",
       "\n",
       "    .dataframe thead tr th {\n",
       "        text-align: left;\n",
       "    }\n",
       "\n",
       "    .dataframe thead tr:last-of-type th {\n",
       "        text-align: right;\n",
       "    }\n",
       "</style>\n",
       "<table border=\"1\" class=\"dataframe\">\n",
       "  <thead>\n",
       "    <tr>\n",
       "      <th>ubicacion</th>\n",
       "      <th colspan=\"2\" halign=\"left\">aburra sur</th>\n",
       "      <th colspan=\"2\" halign=\"left\">belen guayabal</th>\n",
       "      <th colspan=\"2\" halign=\"left\">centro</th>\n",
       "      <th colspan=\"2\" halign=\"left\">laureles</th>\n",
       "      <th colspan=\"2\" halign=\"left\">norte</th>\n",
       "      <th colspan=\"2\" halign=\"left\">occidente</th>\n",
       "      <th colspan=\"2\" halign=\"left\">poblado</th>\n",
       "    </tr>\n",
       "    <tr>\n",
       "      <th>balcon</th>\n",
       "      <th>no</th>\n",
       "      <th>si</th>\n",
       "      <th>no</th>\n",
       "      <th>si</th>\n",
       "      <th>no</th>\n",
       "      <th>si</th>\n",
       "      <th>no</th>\n",
       "      <th>si</th>\n",
       "      <th>no</th>\n",
       "      <th>si</th>\n",
       "      <th>no</th>\n",
       "      <th>si</th>\n",
       "      <th>no</th>\n",
       "      <th>si</th>\n",
       "    </tr>\n",
       "    <tr>\n",
       "      <th>parqueadero</th>\n",
       "      <th></th>\n",
       "      <th></th>\n",
       "      <th></th>\n",
       "      <th></th>\n",
       "      <th></th>\n",
       "      <th></th>\n",
       "      <th></th>\n",
       "      <th></th>\n",
       "      <th></th>\n",
       "      <th></th>\n",
       "      <th></th>\n",
       "      <th></th>\n",
       "      <th></th>\n",
       "      <th></th>\n",
       "    </tr>\n",
       "  </thead>\n",
       "  <tbody>\n",
       "    <tr>\n",
       "      <th>no</th>\n",
       "      <td>20</td>\n",
       "      <td>19</td>\n",
       "      <td>5</td>\n",
       "      <td>26</td>\n",
       "      <td>13</td>\n",
       "      <td>15</td>\n",
       "      <td>0</td>\n",
       "      <td>3</td>\n",
       "      <td>1</td>\n",
       "      <td>2</td>\n",
       "      <td>10</td>\n",
       "      <td>10</td>\n",
       "      <td>2</td>\n",
       "      <td>0</td>\n",
       "    </tr>\n",
       "    <tr>\n",
       "      <th>si</th>\n",
       "      <td>18</td>\n",
       "      <td>112</td>\n",
       "      <td>7</td>\n",
       "      <td>29</td>\n",
       "      <td>5</td>\n",
       "      <td>5</td>\n",
       "      <td>25</td>\n",
       "      <td>45</td>\n",
       "      <td>1</td>\n",
       "      <td>6</td>\n",
       "      <td>18</td>\n",
       "      <td>31</td>\n",
       "      <td>60</td>\n",
       "      <td>206</td>\n",
       "    </tr>\n",
       "  </tbody>\n",
       "</table>\n",
       "</div>"
      ],
      "text/plain": [
       "ubicacion   aburra sur      belen guayabal     centro     laureles     norte  \\\n",
       "balcon              no   si             no  si     no  si       no  si    no   \n",
       "parqueadero                                                                    \n",
       "no                  20   19              5  26     13  15        0   3     1   \n",
       "si                  18  112              7  29      5   5       25  45     1   \n",
       "\n",
       "ubicacion      occidente     poblado       \n",
       "balcon      si        no  si      no   si  \n",
       "parqueadero                                \n",
       "no           2        10  10       2    0  \n",
       "si           6        18  31      60  206  "
      ]
     },
     "execution_count": 15,
     "metadata": {},
     "output_type": "execute_result"
    }
   ],
   "source": [
    "c6 = pd.crosstab(dt[\"parqueadero\"], [dt[\"ubicacion\"], dt[\"balcon\"]])\n",
    "c6"
   ]
  },
  {
   "cell_type": "code",
   "execution_count": 16,
   "metadata": {},
   "outputs": [
    {
     "data": {
      "image/png": "[encoded data removed]",
      "text/plain": [
       "<matplotlib.figure.Figure at 0x1e302c02da0>"
      ]
     },
     "metadata": {},
     "output_type": "display_data"
    }
   ],
   "source": [
    "c6.plot.bar(rot=0, figsize=[8, 5])\n",
    "plt.xlabel('¿Tiene parqueadero el apartamento?')\n",
    "plt.ylabel('Frecuencia absoluta')\n",
    "plt.title('Diagrama de barras para Parqueadero, Ubicación y Balcón')\n",
    "plt.legend(loc=0);"
   ]
  },
  {
   "cell_type": "markdown",
   "metadata": {},
   "source": [
    "A continuación se muestra un ejemplo de una tabla de contingencia que tiene en la fila las variables `parqueadero` y `balcón` mientras que en la columna la variable `ubicación`."
   ]
  },
  {
   "cell_type": "code",
   "execution_count": 17,
   "metadata": {},
   "outputs": [
    {
     "data": {
      "text/html": [
       "<div>\n",
       "<style scoped>\n",
       "    .dataframe tbody tr th:only-of-type {\n",
       "        vertical-align: middle;\n",
       "    }\n",
       "\n",
       "    .dataframe tbody tr th {\n",
       "        vertical-align: top;\n",
       "    }\n",
       "\n",
       "    .dataframe thead th {\n",
       "        text-align: right;\n",
       "    }\n",
       "</style>\n",
       "<table border=\"1\" class=\"dataframe\">\n",
       "  <thead>\n",
       "    <tr style=\"text-align: right;\">\n",
       "      <th></th>\n",
       "      <th>ubicacion</th>\n",
       "      <th>aburra sur</th>\n",
       "      <th>belen guayabal</th>\n",
       "      <th>centro</th>\n",
       "      <th>laureles</th>\n",
       "      <th>norte</th>\n",
       "      <th>occidente</th>\n",
       "      <th>poblado</th>\n",
       "    </tr>\n",
       "    <tr>\n",
       "      <th>parqueadero</th>\n",
       "      <th>balcon</th>\n",
       "      <th></th>\n",
       "      <th></th>\n",
       "      <th></th>\n",
       "      <th></th>\n",
       "      <th></th>\n",
       "      <th></th>\n",
       "      <th></th>\n",
       "    </tr>\n",
       "  </thead>\n",
       "  <tbody>\n",
       "    <tr>\n",
       "      <th rowspan=\"2\" valign=\"top\">no</th>\n",
       "      <th>no</th>\n",
       "      <td>20</td>\n",
       "      <td>5</td>\n",
       "      <td>13</td>\n",
       "      <td>0</td>\n",
       "      <td>1</td>\n",
       "      <td>10</td>\n",
       "      <td>2</td>\n",
       "    </tr>\n",
       "    <tr>\n",
       "      <th>si</th>\n",
       "      <td>19</td>\n",
       "      <td>26</td>\n",
       "      <td>15</td>\n",
       "      <td>3</td>\n",
       "      <td>2</td>\n",
       "      <td>10</td>\n",
       "      <td>0</td>\n",
       "    </tr>\n",
       "    <tr>\n",
       "      <th rowspan=\"2\" valign=\"top\">si</th>\n",
       "      <th>no</th>\n",
       "      <td>18</td>\n",
       "      <td>7</td>\n",
       "      <td>5</td>\n",
       "      <td>25</td>\n",
       "      <td>1</td>\n",
       "      <td>18</td>\n",
       "      <td>60</td>\n",
       "    </tr>\n",
       "    <tr>\n",
       "      <th>si</th>\n",
       "      <td>112</td>\n",
       "      <td>29</td>\n",
       "      <td>5</td>\n",
       "      <td>45</td>\n",
       "      <td>6</td>\n",
       "      <td>31</td>\n",
       "      <td>206</td>\n",
       "    </tr>\n",
       "  </tbody>\n",
       "</table>\n",
       "</div>"
      ],
      "text/plain": [
       "ubicacion           aburra sur  belen guayabal  centro  laureles  norte  \\\n",
       "parqueadero balcon                                                        \n",
       "no          no              20               5      13         0      1   \n",
       "            si              19              26      15         3      2   \n",
       "si          no              18               7       5        25      1   \n",
       "            si             112              29       5        45      6   \n",
       "\n",
       "ubicacion           occidente  poblado  \n",
       "parqueadero balcon                      \n",
       "no          no             10        2  \n",
       "            si             10        0  \n",
       "si          no             18       60  \n",
       "            si             31      206  "
      ]
     },
     "execution_count": 17,
     "metadata": {},
     "output_type": "execute_result"
    }
   ],
   "source": [
    "c7 = pd.crosstab([dt[\"parqueadero\"], dt['balcon']], dt[\"ubicacion\"])\n",
    "c7"
   ]
  },
  {
   "cell_type": "code",
   "execution_count": 18,
   "metadata": {},
   "outputs": [
    {
     "data": {
      "image/png": "[encoded data removed]",
      "text/plain": [
       "<matplotlib.figure.Figure at 0x1e303d994e0>"
      ]
     },
     "metadata": {},
     "output_type": "display_data"
    }
   ],
   "source": [
    "c7.plot.bar(rot=0, figsize=[8, 5])\n",
    "plt.xlabel('¿Tiene parqueadero y balcón?')\n",
    "plt.ylabel('Frecuencia absoluta')\n",
    "plt.title('Diagrama de barras para Parqueadero, Balcón y Ubicación')\n",
    "plt.legend(loc=0);"
   ]
  }
 ],
 "metadata": {
  "kernelspec": {
   "display_name": "Python 3",
   "language": "python",
   "name": "python3"
  },
  "language_info": {
   "codemirror_mode": {
    "name": "ipython",
    "version": 3
   },
   "file_extension": ".py",
   "mimetype": "text/x-python",
   "name": "python",
   "nbconvert_exporter": "python",
   "pygments_lexer": "ipython3",
   "version": "3.6.4"
  }
 },
 "nbformat": 4,
 "nbformat_minor": 2
}
