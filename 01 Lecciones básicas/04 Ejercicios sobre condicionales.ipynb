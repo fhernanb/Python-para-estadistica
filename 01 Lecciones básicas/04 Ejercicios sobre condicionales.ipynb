{
 "cells": [
  {
   "cell_type": "markdown",
   "metadata": {},
   "source": [
    "# Ejercicios sobre condicionales\n",
    "\n",
    "<img src=\"https://raw.githubusercontent.com/fhernanb/fhernanb.github.io/master/my_docs/logo_unal_color.png\" alt=\"drawing\" width=\"200\"/>"
   ]
  },
  {
   "cell_type": "markdown",
   "metadata": {},
   "source": [
    "Los ejercicios de abajo fueron tomados de http://aprendeconalf.es/python/ejercicios/condicionales.html"
   ]
  },
  {
   "cell_type": "markdown",
   "metadata": {},
   "source": [
    "### Ejercicio\n",
    "Escribir un programa que pregunte al usuario su edad y muestre por pantalla si es mayor de edad o no."
   ]
  },
  {
   "cell_type": "code",
   "execution_count": null,
   "metadata": {},
   "outputs": [],
   "source": [
    "edad = input('Por favor ingrese su edad: ')\n",
    "edad = float(edad)\n",
    "if edad >= 18:\n",
    "    print('Usted es mayor de edad.')\n",
    "else:\n",
    "    print('Usted es menor de edad.')"
   ]
  },
  {
   "cell_type": "markdown",
   "metadata": {},
   "source": [
    "### Ejercicio\n",
    "Escribir un programa que pida al usuario dos números y muestre por pantalla su división. Si el divisor es cero el programa debe mostrar un error."
   ]
  },
  {
   "cell_type": "code",
   "execution_count": null,
   "metadata": {},
   "outputs": [],
   "source": [
    "num = float(input('Ingrese el numerador: '))\n",
    "den = float(input('Ingrese el denominador: '))\n",
    "if den == 0:\n",
    "    print('Upps, hay un error')\n",
    "else:\n",
    "    print(num/den)"
   ]
  },
  {
   "cell_type": "markdown",
   "metadata": {},
   "source": [
    "### Ejercicio\n",
    "Para tributar un determinado impuesto se debe ser mayor de 16 años y tener unos ingresos iguales o superiores a 1000 € mensuales. Escribir un programa que pregunte al usuario su edad y sus ingresos mensuales y muestre por pantalla si el usuario tiene que tributar o no."
   ]
  },
  {
   "cell_type": "code",
   "execution_count": null,
   "metadata": {},
   "outputs": [],
   "source": [
    "edad = float(input('Por favor ingrese su edad: '))\n",
    "ing = float(input('Por favor ingrese sus ingresos: '))\n",
    "\n",
    "if edad > 16 and ing >= 1000:\n",
    "    print('Usted SI debe tributar.')\n",
    "else:\n",
    "    print('Tranquilo, usted NO debe tributar.')"
   ]
  },
  {
   "cell_type": "markdown",
   "metadata": {},
   "source": [
    "### Ejercicio\n",
    "Los alumnos de un curso se han dividido en dos grupos A y B de acuerdo al sexo y el nombre. El grupo A esta formado por las mujeres con un nombre anterior a la M y los hombres con un nombre posterior a la N y el grupo B por el resto. Escribir un programa que pregunte al usuario su nombre y sexo, y muestre por pantalla el grupo que le corresponde."
   ]
  },
  {
   "cell_type": "code",
   "execution_count": null,
   "metadata": {},
   "outputs": [],
   "source": [
    "sexo = input('Por favor ingrese la letra <h> si es hombre y la letra <m> si es mujer:')\n",
    "nombre = input('Por favor ingrese su nombre: ')\n",
    "nombre = nombre.lower()\n",
    "\n",
    "cond1 = sexo == 'm' and ord(nombre[0]) < 109\n",
    "cond2 = sexo == 'h' and ord(nombre[0]) < 110\n",
    "if cond1 or cond2:\n",
    "    print('Usted pertenece al grupo A')\n",
    "else:\n",
    "    print('Usted pertenece al grupo B')"
   ]
  }
 ],
 "metadata": {
  "kernelspec": {
   "display_name": "Python 3 (ipykernel)",
   "language": "python",
   "name": "python3"
  },
  "language_info": {
   "codemirror_mode": {
    "name": "ipython",
    "version": 3
   },
   "file_extension": ".py",
   "mimetype": "text/x-python",
   "name": "python",
   "nbconvert_exporter": "python",
   "pygments_lexer": "ipython3",
   "version": "3.12.7"
  }
 },
 "nbformat": 4,
 "nbformat_minor": 4
}
