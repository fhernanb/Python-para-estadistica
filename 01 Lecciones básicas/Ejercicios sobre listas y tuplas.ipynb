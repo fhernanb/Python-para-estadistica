{
 "cells": [
  {
   "cell_type": "markdown",
   "metadata": {},
   "source": [
    "# Listas y tuplas\n",
    "\n",
    "<img src=\"https://raw.githubusercontent.com/fhernanb/fhernanb.github.io/master/my_docs/logo_unal_color.png\" alt=\"drawing\" width=\"200\"/>\n",
    "\n",
    "Los ejercicios de abajo fueron tomados de http://aprendeconalf.es/python/ejercicios/condicionales.html"
   ]
  },
  {
   "cell_type": "markdown",
   "metadata": {},
   "source": [
    "Una lista en Python es un arreglo o conjunto ordenado de objetos del mismo o diferente tipo. Para crear una lista se usan corchetes rectos `[]`. A continuación se muestran dos ejemplos, la lista `a` contine tres números enteros y la lista `b` contiene caracteres, números y un valor lógico."
   ]
  },
  {
   "cell_type": "code",
   "execution_count": 1,
   "metadata": {},
   "outputs": [
    {
     "name": "stdout",
     "output_type": "stream",
     "text": [
      "[3, 6, 9]\n",
      "['hola', 96, 3.14, 'mundo', False]\n"
     ]
    }
   ],
   "source": [
    "a = [3, 6, 9]\n",
    "b = [\"hola\", 96, 3.14, \"mundo\", False]\n",
    "\n",
    "print(a)\n",
    "print(b)"
   ]
  },
  {
   "cell_type": "markdown",
   "metadata": {},
   "source": [
    "Todas las listas de Python incluyen las siguientes características:\n",
    "\n",
    "- Las listas pueden contener elementos de diferentes tipos al mismo tiempo (incluyendo cadenas, enteros, números de punto flotante y valores booleanos).\n",
    "- Las listas son mutables y dinámicas; los elementos de la lista pueden ser añadidos, eliminados o modificados después de que la lista ha sido definida.\n",
    "- Las listas son ordenadas; los elementos recién añadidos se colocarán al final de la lista.\n",
    "- Las listas utilizan un índice basado en cero; cada elemento de la lista tiene un índice asociado, y el índice del primer elemento es 0.\n",
    "- Se permiten elementos duplicados en las listas.\n",
    "- Las listas pueden anidarse dentro de otras listas indefinidamente.\n",
    "\n",
    "El anterior listado de características fue tomado de [https://builtin.com/data-science/python-list](https://builtin.com/data-science/python-list)."
   ]
  },
  {
   "cell_type": "markdown",
   "metadata": {},
   "source": [
    "## Slicing\n",
    "\n",
    "<img src=\"Figs/slicing.jpg\" alt=\"drawing\" width=\"300\"/>\n",
    "\n",
    "El slicing en Python es una técnica para extraer sublistas de una lista principal utilizando rangos de índices. Esta operación no modifica la lista original y se realiza con la sintaxis:\n",
    "\n",
    "`lista[inicio:fin:paso]`\n",
    "\n",
    "- inicio: Índice donde comienza el corte (inclusive). Por defecto es 0 si se omite.\n",
    "- fin: Índice donde termina el corte (exclusivo). Por defecto, es la longitud de la lista si se omite.\n",
    "- paso: Intervalo entre elementos. Por defecto es 1 si se omite.\n",
    "\n",
    "A continuación vamos a mostrar varios ejemplos de cómo usar `[inicio:fin:paso]` para crear sublistas."
   ]
  },
  {
   "cell_type": "code",
   "execution_count": 2,
   "metadata": {},
   "outputs": [
    {
     "name": "stdout",
     "output_type": "stream",
     "text": [
      "10\n",
      "40\n"
     ]
    }
   ],
   "source": [
    "numeros = [10, 20, 30, 40, 50, 60]\n",
    "\n",
    "# Slicing un solo elemento\n",
    "print(numeros[0])  # Output 10\n",
    "print(numeros[3])  # Output 40"
   ]
  },
  {
   "cell_type": "code",
   "execution_count": 3,
   "metadata": {},
   "outputs": [
    {
     "name": "stdout",
     "output_type": "stream",
     "text": [
      "[20, 30, 40]\n",
      "[30, 40, 50, 60]\n",
      "[10, 20, 30]\n"
     ]
    }
   ],
   "source": [
    "numeros = [10, 20, 30, 40, 50, 60]\n",
    "\n",
    "# Slicing varios elementos\n",
    "print(numeros[1:4])  # Output: [20, 30, 40]\n",
    "print(numeros[2:])   # Output: [30, 40, 50, 60]\n",
    "print(numeros[:3])   # Output: [10, 20, 30]"
   ]
  },
  {
   "cell_type": "code",
   "execution_count": 4,
   "metadata": {},
   "outputs": [
    {
     "name": "stdout",
     "output_type": "stream",
     "text": [
      "[10, 30, 50]\n",
      "[10, 30, 50]\n"
     ]
    }
   ],
   "source": [
    "numeros = [10, 20, 30, 40, 50, 60]\n",
    "\n",
    "# Slicing con paso\n",
    "print(numeros[0:5:2]) # Output: [10, 30, 50]\n",
    "print(numeros[::2])   # Output: [10, 30, 50]"
   ]
  },
  {
   "cell_type": "code",
   "execution_count": 5,
   "metadata": {},
   "outputs": [
    {
     "name": "stdout",
     "output_type": "stream",
     "text": [
      "60\n",
      "[30, 40, 50]\n",
      "[40, 50, 60]\n",
      "[10, 30, 50]\n",
      "[60, 40]\n"
     ]
    }
   ],
   "source": [
    "numeros = [10, 20, 30, 40, 50, 60]\n",
    "\n",
    "# Slicing usando índices negativos\n",
    "print(numeros[-1])        # Output: [60]\n",
    "print(numeros[-4:-1])     # Output: [30, 40, 50]\n",
    "print(numeros[-3:])       # Output: [40, 50, 60]\n",
    "print(numeros[-6:-1:2])   # Output: [10, 30, 50]\n",
    "print(numeros[-1:-5:-2])  # Output: [60, 40]"
   ]
  },
  {
   "cell_type": "code",
   "execution_count": 6,
   "metadata": {},
   "outputs": [
    {
     "name": "stdout",
     "output_type": "stream",
     "text": [
      "[60, 50, 40, 30, 20, 10]\n"
     ]
    }
   ],
   "source": [
    "numeros = [10, 20, 30, 40, 50, 60]\n",
    "\n",
    "# Invirtiendo la lista\n",
    "print(numeros[::-1])  # Output: [60, 50, 40, 30, 20, 10]"
   ]
  },
  {
   "cell_type": "markdown",
   "metadata": {},
   "source": [
    "## Métodos aplicables a listas\n",
    "\n",
    "- index.\n",
    "- count.\n",
    "- sort.\n",
    "- append.\n",
    "- remove.\n",
    "- pop.\n",
    "- extend.\n",
    "- insert.\n",
    "\n",
    "### index\n",
    "\n",
    "Retorna la primera posición donde se encuentra el valor de interés."
   ]
  },
  {
   "cell_type": "code",
   "execution_count": 7,
   "metadata": {},
   "outputs": [
    {
     "data": {
      "text/plain": [
       "1"
      ]
     },
     "execution_count": 7,
     "metadata": {},
     "output_type": "execute_result"
    }
   ],
   "source": [
    "z = [4, 3, 5, 3, 10, 4]\n",
    "z.index(3) # queremos la primera posición que tenga el \"3\""
   ]
  },
  {
   "cell_type": "markdown",
   "metadata": {},
   "source": [
    "### count\n",
    "\n",
    "Retorna el número de veces que un elemento está dentro de la lista."
   ]
  },
  {
   "cell_type": "code",
   "execution_count": 8,
   "metadata": {},
   "outputs": [
    {
     "data": {
      "text/plain": [
       "2"
      ]
     },
     "execution_count": 8,
     "metadata": {},
     "output_type": "execute_result"
    }
   ],
   "source": [
    "z = [4, 3, 5, 3, 10, 4]\n",
    "z.count(4)"
   ]
  },
  {
   "cell_type": "markdown",
   "metadata": {},
   "source": [
    "### sort\n",
    "\n",
    "Ordena los elementos de una lista."
   ]
  },
  {
   "cell_type": "code",
   "execution_count": 9,
   "metadata": {},
   "outputs": [
    {
     "name": "stdout",
     "output_type": "stream",
     "text": [
      "antigua lista: [7, -3, -2, 0, 5, 1, 0, False, True]\n",
      "lista ordenada: [-3, -2, 0, 0, False, 1, True, 5, 7]\n"
     ]
    }
   ],
   "source": [
    "z = [7, -3, -2, 0, 5, 1, 0, False, True]\n",
    "print(\"antigua lista:\", z)\n",
    "z.sort()\n",
    "print(\"lista ordenada:\", z)"
   ]
  },
  {
   "cell_type": "code",
   "execution_count": 10,
   "metadata": {},
   "outputs": [
    {
     "name": "stdout",
     "output_type": "stream",
     "text": [
      "[7, 5, 1, True, 0, 0, False, -2, -3]\n"
     ]
    }
   ],
   "source": [
    "z.sort(reverse=True)\n",
    "print(z)"
   ]
  },
  {
   "cell_type": "markdown",
   "metadata": {},
   "source": [
    "### append\n",
    "\n",
    "Agrega un elemento al final de la lista."
   ]
  },
  {
   "cell_type": "code",
   "execution_count": 11,
   "metadata": {},
   "outputs": [
    {
     "name": "stdout",
     "output_type": "stream",
     "text": [
      "[7, -3, -2, 0, 5, 1, 0, False, True, -45]\n"
     ]
    }
   ],
   "source": [
    "z = [7, -3, -2, 0, 5, 1, 0, False, True]\n",
    "z.append(-45)\n",
    "print(z)"
   ]
  },
  {
   "cell_type": "markdown",
   "metadata": {},
   "source": [
    "### remove\n",
    "\n",
    "Remueve el elemento indicado de la lista."
   ]
  },
  {
   "cell_type": "code",
   "execution_count": 12,
   "metadata": {},
   "outputs": [
    {
     "name": "stdout",
     "output_type": "stream",
     "text": [
      "[7, -3, -2, 5, 1, 0, False, True]\n"
     ]
    }
   ],
   "source": [
    "z = [7, -3, -2, 0, 5, 1, 0, False, True]\n",
    "z.remove(0) # remueve el primer cero\n",
    "print(z)"
   ]
  },
  {
   "cell_type": "markdown",
   "metadata": {},
   "source": [
    "### pop\n",
    "\n",
    "Remueve el elemento que se encuentra en el índice seleccionado."
   ]
  },
  {
   "cell_type": "code",
   "execution_count": 13,
   "metadata": {},
   "outputs": [
    {
     "name": "stdout",
     "output_type": "stream",
     "text": [
      "[-3, -2, 0, 5, 1, 0, False, True]\n"
     ]
    }
   ],
   "source": [
    "z = [7, -3, -2, 0, 5, 1, 0, False, True]\n",
    "z.pop(0) # para quitar el primer elemento\n",
    "print(z)"
   ]
  },
  {
   "cell_type": "markdown",
   "metadata": {},
   "source": [
    "### extend\n",
    "\n",
    "Sirve para agregar una nueva lista a una ya existente."
   ]
  },
  {
   "cell_type": "code",
   "execution_count": 14,
   "metadata": {},
   "outputs": [
    {
     "name": "stdout",
     "output_type": "stream",
     "text": [
      "[7, -3, -2, 0, 5, 1, 0, False, True, 4, 3, 6]\n"
     ]
    }
   ],
   "source": [
    "z = [7, -3, -2, 0, 5, 1, 0, False, True]\n",
    "z.extend([4, 3, 6])\n",
    "print(z)"
   ]
  },
  {
   "cell_type": "markdown",
   "metadata": {},
   "source": [
    "Es posible agregar dos listas usando el operador `+`."
   ]
  },
  {
   "cell_type": "code",
   "execution_count": 15,
   "metadata": {},
   "outputs": [
    {
     "name": "stdout",
     "output_type": "stream",
     "text": [
      "[7, -3, -2, 0, 5, 1, 0, False, True, 4, 3, 6]\n"
     ]
    }
   ],
   "source": [
    "z = [7, -3, -2, 0, 5, 1, 0, False, True]\n",
    "y = [4, 3, 6]\n",
    "w = z + y\n",
    "print(w)"
   ]
  },
  {
   "cell_type": "markdown",
   "metadata": {},
   "source": [
    "### insert\n",
    "\n",
    "Sirve para insertar un elemento dentro de una lista indicando el índice donde se debe insertar. El elemento puede ser un solo valor o una lista de valores."
   ]
  },
  {
   "cell_type": "code",
   "execution_count": 16,
   "metadata": {},
   "outputs": [
    {
     "name": "stdout",
     "output_type": "stream",
     "text": [
      "[7, -3, [10, 15], 4, 5]\n"
     ]
    }
   ],
   "source": [
    "z = [7, -3, 4, 5]\n",
    "y = [10, 15]\n",
    "z.insert(2, y)\n",
    "print(z)"
   ]
  },
  {
   "cell_type": "markdown",
   "metadata": {},
   "source": [
    "### Ejercicio\n",
    "Escribir un programa que almacene las asignaturas de un curso (por ejemplo Matemáticas, Física, Química, Historia y Lengua) en una lista y la muestre por pantalla."
   ]
  },
  {
   "cell_type": "code",
   "execution_count": 17,
   "metadata": {},
   "outputs": [
    {
     "name": "stdout",
     "output_type": "stream",
     "text": [
      "['Matemáticas', 'Física', 'Química']\n"
     ]
    }
   ],
   "source": [
    "asignaturas = ['Matemáticas', 'Física', 'Química']\n",
    "print(asignaturas)"
   ]
  },
  {
   "cell_type": "markdown",
   "metadata": {},
   "source": [
    "### Ejemplo\n",
    "Escribir un programa que almacene las asignaturas de un curso (por ejemplo Matemáticas, Física, Química, Historia y Lengua) en una lista y la muestre por pantalla el mensaje Yo estudio \"asignatura\", donde \"asignatura\" es cada una de las asignaturas de la lista."
   ]
  },
  {
   "cell_type": "code",
   "execution_count": 18,
   "metadata": {},
   "outputs": [
    {
     "name": "stdout",
     "output_type": "stream",
     "text": [
      "Yo estudio Matemáticas\n",
      "Yo estudio Física\n",
      "Yo estudio Química\n"
     ]
    }
   ],
   "source": [
    "asignaturas = ['Matemáticas', 'Física', 'Química']\n",
    "for i in range(len(asignaturas)):\n",
    "    print(\"Yo estudio \" + asignaturas[i])"
   ]
  },
  {
   "cell_type": "markdown",
   "metadata": {},
   "source": [
    "Otra forma más elegante sería"
   ]
  },
  {
   "cell_type": "code",
   "execution_count": 19,
   "metadata": {},
   "outputs": [
    {
     "name": "stdout",
     "output_type": "stream",
     "text": [
      "Yo estudio Matemáticas\n",
      "Yo estudio Física\n",
      "Yo estudio Química\n"
     ]
    }
   ],
   "source": [
    "asignaturas = ['Matemáticas', 'Física', 'Química']\n",
    "for i in asignaturas:\n",
    "    print(\"Yo estudio \" + i)"
   ]
  },
  {
   "cell_type": "markdown",
   "metadata": {},
   "source": [
    "### Ejemplo\n",
    "Escribir un programa que almacene las asignaturas de un curso (por ejemplo Matemáticas, Física, Química, Historia y Lengua) en una lista, pregunte al usuario la nota que ha sacado en cada asignatura, y después las muestre por pantalla con el mensaje En \"asignatura\" has sacado \"nota\" donde \"asignatura\" es cada una des las asignaturas de la lista y \"nota\" cada una de las correspondientes notas introducidas por el usuario."
   ]
  },
  {
   "cell_type": "code",
   "execution_count": 20,
   "metadata": {},
   "outputs": [
    {
     "name": "stdin",
     "output_type": "stream",
     "text": [
      "Por favor ingrese la nota de Matemáticas  3.5\n",
      "Por favor ingrese la nota de Física  4.2\n",
      "Por favor ingrese la nota de Química  2.6\n"
     ]
    },
    {
     "name": "stdout",
     "output_type": "stream",
     "text": [
      "\n",
      "\n",
      "En  Matemáticas has sacado  3.5\n",
      "En  Física has sacado  4.2\n",
      "En  Química has sacado  2.6\n"
     ]
    }
   ],
   "source": [
    "asignaturas = ['Matemáticas', 'Física', 'Química']\n",
    "\n",
    "notas = list()\n",
    "for i in range(len(asignaturas)):\n",
    "    temp = input('Por favor ingrese la nota de ' + asignaturas[i] + ' ')\n",
    "    notas.append(temp)\n",
    "    \n",
    "print(\"\\n\")\n",
    "    \n",
    "for j in range(len(asignaturas)):\n",
    "    print(\"En \", asignaturas[j], \"has sacado \", notas[j])"
   ]
  },
  {
   "cell_type": "markdown",
   "metadata": {},
   "source": [
    "### Ejemplo\n",
    "\n",
    "Escribir un programa que almacene en una lista los números del 1 al 10 y los muestre por pantalla en orden inverso separados por comas."
   ]
  },
  {
   "cell_type": "code",
   "execution_count": 21,
   "metadata": {},
   "outputs": [
    {
     "name": "stdout",
     "output_type": "stream",
     "text": [
      "10, 9, 8, 7, 6, 5, 4, 3, 2, 1, "
     ]
    }
   ],
   "source": [
    "numbers = [1, 2, 3, 4, 5, 6, 7, 8, 9, 10]\n",
    "for i in range(1, 11):\n",
    "    print(numbers[-i], end=\", \")"
   ]
  },
  {
   "cell_type": "code",
   "execution_count": 22,
   "metadata": {},
   "outputs": [
    {
     "name": "stdout",
     "output_type": "stream",
     "text": [
      "[1, 2, 3, 4, 5, 6, 7, 8, 9, 10]\n",
      "8\n"
     ]
    }
   ],
   "source": [
    "print(numbers)\n",
    "print(numbers[-3])"
   ]
  }
 ],
 "metadata": {
  "kernelspec": {
   "display_name": "Python 3 (ipykernel)",
   "language": "python",
   "name": "python3"
  },
  "language_info": {
   "codemirror_mode": {
    "name": "ipython",
    "version": 3
   },
   "file_extension": ".py",
   "mimetype": "text/x-python",
   "name": "python",
   "nbconvert_exporter": "python",
   "pygments_lexer": "ipython3",
   "version": "3.12.7"
  }
 },
 "nbformat": 4,
 "nbformat_minor": 4
}
