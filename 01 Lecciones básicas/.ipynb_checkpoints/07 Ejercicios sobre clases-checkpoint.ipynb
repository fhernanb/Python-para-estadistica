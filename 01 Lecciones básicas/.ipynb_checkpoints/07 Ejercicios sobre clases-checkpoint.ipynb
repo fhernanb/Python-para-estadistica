{
 "cells": [
  {
   "cell_type": "markdown",
   "metadata": {},
   "source": [
    "# Ejercicios sobre condicionales\n",
    "\n",
    "<img src=\"https://raw.githubusercontent.com/fhernanb/fhernanb.github.io/master/my_docs/logo_unal_color.png\" alt=\"drawing\" width=\"200\"/>"
   ]
  },
  {
   "cell_type": "markdown",
   "metadata": {},
   "source": [
    "Los ejercicios de abajo fueron tomados de "
   ]
  },
  {
   "cell_type": "markdown",
   "metadata": {},
   "source": [
    "### Ejercicio\n",
    "Crear una clase llamada Auto que tenga los atributos marca y color. Luego construya un elemento de esa clase y defina los atributos."
   ]
  },
  {
   "cell_type": "code",
   "execution_count": 1,
   "metadata": {},
   "outputs": [],
   "source": [
    "class Auto():\n",
    "  marca = ''\n",
    "  color = ''"
   ]
  },
  {
   "cell_type": "code",
   "execution_count": 2,
   "metadata": {},
   "outputs": [
    {
     "name": "stdout",
     "output_type": "stream",
     "text": [
      "BMW\n",
      "blanco\n"
     ]
    }
   ],
   "source": [
    "mi_auto = Auto()\n",
    "mi_auto.marca = 'BMW'\n",
    "mi_auto.color = 'blanco'\n",
    "\n",
    "print(mi_auto.marca)\n",
    "print(mi_auto.color)"
   ]
  },
  {
   "cell_type": "markdown",
   "metadata": {},
   "source": [
    "### Ejercicio\n",
    "Crear la clase Persona con los atributos nombre y edad. Defina los métodos print_nombre y print_edad para que impriman la información de nombre y edad respectivamente."
   ]
  },
  {
   "cell_type": "code",
   "execution_count": 3,
   "metadata": {},
   "outputs": [
    {
     "name": "stdout",
     "output_type": "stream",
     "text": [
      "Mi nombre es: Carolina\n",
      "Mi edad edad es: 20 años\n"
     ]
    }
   ],
   "source": [
    "class Persona():\n",
    "  nombre = ''\n",
    "  edad = ''\n",
    "  \n",
    "  def print_nombre(self):\n",
    "    print('Mi nombre es:', self.nombre)\n",
    "    \n",
    "  def print_edad(self):\n",
    "    print('Mi edad edad es:', self.edad, 'años')\n",
    "    \n",
    "carolina = Persona()\n",
    "carolina.nombre = 'Carolina'\n",
    "carolina.edad = 20\n",
    "\n",
    "carolina.print_nombre()\n",
    "carolina.print_edad()"
   ]
  },
  {
   "cell_type": "markdown",
   "metadata": {},
   "source": [
    "### Ejercicio\n",
    "Crear una clase llamada Persona que tendrá como atributo (variable) el nombre de la persona y dos métodos (funciones). El primero de los métodos inicializará el atributo nombre y el segundo mostrará por pantalla el contenido del mismo. Definir dos instancias (objetos) de la clase Persona."
   ]
  },
  {
   "cell_type": "code",
   "execution_count": 4,
   "metadata": {},
   "outputs": [
    {
     "name": "stdout",
     "output_type": "stream",
     "text": [
      "El nombre es:  Marcos\n",
      "Marcos\n",
      "El nombre es:  Ivan\n",
      "Ivan\n"
     ]
    }
   ],
   "source": [
    "class Persona:\n",
    "    # creamos el primer metodo para inicializar el atributo nombre\n",
    "    def inicializar(self, nom):\n",
    "        self.nombre = nom\n",
    "\n",
    "    # creamos el segundo metodo para mostrar el nombre\n",
    "    def mostrar(self):\n",
    "        print(\"El nombre es: \", self.nombre)\n",
    "\n",
    "# creamos un objeto de la clase persona\n",
    "persona1 = Persona()\n",
    "persona1.inicializar(\"Marcos\")\n",
    "persona1.mostrar()\n",
    "print(persona1.nombre)\n",
    " \n",
    "# creamos un objeto de la clase persona\n",
    "persona2 = Persona()\n",
    "persona2.inicializar(\"Ivan\")\n",
    "persona2.mostrar()\n",
    "print(persona2.nombre)"
   ]
  },
  {
   "cell_type": "code",
   "execution_count": null,
   "metadata": {},
   "outputs": [],
   "source": []
  }
 ],
 "metadata": {
  "kernelspec": {
   "display_name": "Python 3 (ipykernel)",
   "language": "python",
   "name": "python3"
  },
  "language_info": {
   "codemirror_mode": {
    "name": "ipython",
    "version": 3
   },
   "file_extension": ".py",
   "mimetype": "text/x-python",
   "name": "python",
   "nbconvert_exporter": "python",
   "pygments_lexer": "ipython3",
   "version": "3.12.7"
  }
 },
 "nbformat": 4,
 "nbformat_minor": 4
}
