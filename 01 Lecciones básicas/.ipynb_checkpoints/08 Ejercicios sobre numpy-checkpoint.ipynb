{
 "cells": [
  {
   "cell_type": "markdown",
   "metadata": {},
   "source": [
    "# Ejercicios sobre numpy\n",
    "\n",
    "<img src=\"https://raw.githubusercontent.com/fhernanb/fhernanb.github.io/master/my_docs/logo_unal_color.png\" alt=\"drawing\" width=\"200\"/>"
   ]
  },
  {
   "cell_type": "markdown",
   "metadata": {},
   "source": [
    "Ejercicios tomados de https://www.iaa.csic.es/python/cientifico/ejercicios/numpy/"
   ]
  },
  {
   "cell_type": "code",
   "execution_count": 1,
   "metadata": {},
   "outputs": [],
   "source": [
    "import numpy as np"
   ]
  },
  {
   "cell_type": "markdown",
   "metadata": {},
   "source": [
    "### Ejercicio\n",
    "Cree un array cuyos elementos sean los enteros pares en [1,100] y en orden decreciente. Muestre los 10 últimos por pantalla."
   ]
  },
  {
   "cell_type": "code",
   "execution_count": 2,
   "metadata": {},
   "outputs": [
    {
     "data": {
      "text/plain": [
       "array([100,  98,  96,  94,  92,  90,  88,  86,  84,  82,  80,  78,  76,\n",
       "        74,  72,  70,  68,  66,  64,  62,  60,  58,  56,  54,  52,  50,\n",
       "        48,  46,  44,  42,  40,  38,  36,  34,  32,  30,  28,  26,  24,\n",
       "        22,  20,  18,  16,  14,  12,  10,   8,   6,   4,   2])"
      ]
     },
     "execution_count": 2,
     "metadata": {},
     "output_type": "execute_result"
    }
   ],
   "source": [
    "a = np.arange(start=100, stop=0, step=-2)\n",
    "a"
   ]
  },
  {
   "cell_type": "markdown",
   "metadata": {},
   "source": [
    "### Ejercicio\n",
    "Cree un array con 10 elementos en el intervalo [-2,2] y equidistantes entre ellos. Muestre por pantalla el array. Después muestre sólo el tercer y cuarto elemento."
   ]
  },
  {
   "cell_type": "code",
   "execution_count": 3,
   "metadata": {},
   "outputs": [
    {
     "name": "stdout",
     "output_type": "stream",
     "text": [
      "[-2.         -1.55555556 -1.11111111 -0.66666667 -0.22222222  0.22222222\n",
      "  0.66666667  1.11111111  1.55555556  2.        ]\n",
      "El tercero es: -1.1111111111111112\n",
      "El cuarto es: -0.6666666666666667\n"
     ]
    }
   ],
   "source": [
    "b = np.linspace(start=-2, stop=2, num=10)\n",
    "print(b)\n",
    "print('El tercero es:', b[2])\n",
    "print('El cuarto es:', b[3])"
   ]
  },
  {
   "cell_type": "markdown",
   "metadata": {},
   "source": [
    "### Ejercicio\n",
    "Genere un array de tipo 'float' de dimensiones (4, 4). Debe contener números consecutivos del 1 al 16."
   ]
  },
  {
   "cell_type": "code",
   "execution_count": 4,
   "metadata": {},
   "outputs": [
    {
     "name": "stdout",
     "output_type": "stream",
     "text": [
      "[[ 1.  2.  3.  4.]\n",
      " [ 5.  6.  7.  8.]\n",
      " [ 9. 10. 11. 12.]\n",
      " [13. 14. 15. 16.]]\n",
      "float64\n"
     ]
    }
   ],
   "source": [
    "c = np.arange(start=1, stop=17)\n",
    "c = c.reshape((4, 4))\n",
    "c = c.astype('float64') \n",
    "print(c)\n",
    "print(c.dtype)"
   ]
  },
  {
   "cell_type": "markdown",
   "metadata": {},
   "source": [
    "### Ejercicio\n",
    "Dado el array:  \n",
    "2 4 5 6   \n",
    "0 3 7 4   \n",
    "8 8 5 2    \n",
    "1 5 6 1   \n",
    "Seleccione con una instrucción el subarray de elementos:   \n",
    "0 3 7 4   \n",
    "Después, seleccione el subarray de elementos:   \n",
    "2 5   \n",
    "8 5  "
   ]
  },
  {
   "cell_type": "code",
   "execution_count": 5,
   "metadata": {},
   "outputs": [
    {
     "name": "stdout",
     "output_type": "stream",
     "text": [
      "[[2 4 5 6]\n",
      " [0 3 7 4]\n",
      " [8 8 5 2]\n",
      " [1 5 6 1]] \n",
      "\n",
      "[0 3 7 4] \n",
      "\n",
      "[[2 4 5 6]\n",
      " [8 8 5 2]] \n",
      "\n",
      "[[2 5]\n",
      " [8 5]] \n",
      "\n"
     ]
    }
   ],
   "source": [
    "ab = np.array([[2, 4, 5, 6],\n",
    "               [0, 3, 7, 4],\n",
    "               [8, 8, 5, 2],\n",
    "               [1, 5, 6, 1]])\n",
    "\n",
    "print(ab, '\\n')\n",
    "print(ab[1], '\\n')\n",
    "print(ab[0:3:2], '\\n')\n",
    "print(ab[0:3:2, 0:3:2], '\\n')"
   ]
  },
  {
   "cell_type": "markdown",
   "metadata": {},
   "source": [
    "### Ejercicio\n",
    "Cree un array de enteros de dimensiones (3,3) y valores iguales a 0. Asigne el valor de 1 a las cuatro esquinas."
   ]
  },
  {
   "cell_type": "code",
   "execution_count": 6,
   "metadata": {},
   "outputs": [
    {
     "name": "stdout",
     "output_type": "stream",
     "text": [
      "[[1. 0. 1.]\n",
      " [0. 0. 0.]\n",
      " [1. 0. 1.]]\n"
     ]
    }
   ],
   "source": [
    "a = np.zeros((3, 3))\n",
    "a[0, 0] = 1\n",
    "a[0, 2] = 1\n",
    "a[2, 0] = 1\n",
    "a[2, 2] = 1\n",
    "print(a)"
   ]
  },
  {
   "cell_type": "markdown",
   "metadata": {},
   "source": [
    "### Ejercicio\n",
    "Opción a: Dado el array de tipo float64 y elementos [3., 4., 6., 1, 1.5], agregue un cero al principio del array y un -1 al final.  \n",
    "Opción b: Tengo valores de cordenadas (x, y) en las columnas del array  \n",
    "\n",
    "1.33 4.5  \n",
    "30.0 10.7  \n",
    "70.2 0.5  \n",
    "\n",
    "Agregue a este array las coordenadas (37.1, -3.6). Muestre por pantalla las dimensiones del nuevo array."
   ]
  },
  {
   "cell_type": "code",
   "execution_count": 7,
   "metadata": {},
   "outputs": [
    {
     "name": "stdout",
     "output_type": "stream",
     "text": [
      "Parte 1\n",
      "[ 0.   3.   4.   6.   1.   1.5 -1. ] \n",
      "\n",
      "Parte 2\n",
      "[[ 1.33  4.5 ]\n",
      " [30.   10.7 ]\n",
      " [70.2   0.5 ]\n",
      " [37.1  -3.6 ]]\n",
      "La dimension es: (4, 2)\n"
     ]
    }
   ],
   "source": [
    "print('Parte 1')\n",
    "a = np.array([3.0, 4.0, 6.0, 1.0, 1.5])\n",
    "a = np.concatenate([[0], a, [-1]]) \n",
    "print(a, '\\n')\n",
    "\n",
    "print('Parte 2')\n",
    "b = np.array([[1.33, 4.5],\n",
    "              [30.0, 10.7],\n",
    "              [70.2, 0.5]])\n",
    "c = np.array([37.1, -3.6])\n",
    "\n",
    "bc = np.vstack([b, c])\n",
    "print(bc)\n",
    "print(\"La dimension es:\", bc.shape)"
   ]
  },
  {
   "cell_type": "markdown",
   "metadata": {},
   "source": [
    "### Ejercicio\n",
    "Copie el array del ejercicio anterior. Traspóngalo. Agregue ahora dos nuevos pares de coordenadas: (10.8, 3.0) y (35.8, 12.0)."
   ]
  },
  {
   "cell_type": "code",
   "execution_count": 8,
   "metadata": {},
   "outputs": [
    {
     "data": {
      "text/plain": [
       "array([[ 1.33, 30.  , 70.2 , 37.1 ],\n",
       "       [ 4.5 , 10.7 ,  0.5 , -3.6 ]])"
      ]
     },
     "execution_count": 8,
     "metadata": {},
     "output_type": "execute_result"
    }
   ],
   "source": [
    "np.transpose(bc)"
   ]
  },
  {
   "cell_type": "markdown",
   "metadata": {},
   "source": [
    "### Ejercicio\n",
    "¿Puedo sumar los arrays a = [[1, 2, 3]] y b = [[0], [1], [10]]?. ¿Por qué?. De ser posible, ¿cuál es su suma?."
   ]
  },
  {
   "cell_type": "code",
   "execution_count": 9,
   "metadata": {},
   "outputs": [
    {
     "name": "stdout",
     "output_type": "stream",
     "text": [
      "[[1 2 3]] \n",
      "\n",
      "[[ 0]\n",
      " [ 1]\n",
      " [10]] \n",
      "\n",
      "Si se puede\n"
     ]
    },
    {
     "data": {
      "text/plain": [
       "array([[ 1,  2,  3],\n",
       "       [ 2,  3,  4],\n",
       "       [11, 12, 13]])"
      ]
     },
     "execution_count": 9,
     "metadata": {},
     "output_type": "execute_result"
    }
   ],
   "source": [
    "a = np.array([[1, 2, 3]]) \n",
    "b = np.array([[0], [1], [10]])\n",
    "print(a, '\\n')\n",
    "print(b, '\\n')\n",
    "print('Si se puede')\n",
    "np.add(a, b)"
   ]
  },
  {
   "cell_type": "markdown",
   "metadata": {},
   "source": [
    "### Ejercicio\n",
    "Dados los arrays a = [1, 4, 2, 7] y b = [1, 3, 2, 9], obtenga la media aritmética de la diferencia (a-b)."
   ]
  },
  {
   "cell_type": "code",
   "execution_count": 10,
   "metadata": {},
   "outputs": [
    {
     "data": {
      "text/plain": [
       "-0.25"
      ]
     },
     "execution_count": 10,
     "metadata": {},
     "output_type": "execute_result"
    }
   ],
   "source": [
    "a = np.array([[1, 4, 2, 7]]) \n",
    "b = np.array([[1, 3, 2, 9]])\n",
    "\n",
    "np.mean(a-b)"
   ]
  },
  {
   "cell_type": "markdown",
   "metadata": {},
   "source": [
    "### Ejercicio\n",
    "Dado el array a = ['1', '2', '3'], realice las operaciones necesarias para obtener la suma todos ellos."
   ]
  },
  {
   "cell_type": "code",
   "execution_count": 37,
   "metadata": {},
   "outputs": [
    {
     "name": "stdout",
     "output_type": "stream",
     "text": [
      "[['1' '2' '3']]\n",
      "[[1 2 3]]\n"
     ]
    },
    {
     "data": {
      "text/plain": [
       "6"
      ]
     },
     "execution_count": 37,
     "metadata": {},
     "output_type": "execute_result"
    }
   ],
   "source": [
    "a = np.array([['1', '2', '3']])\n",
    "print(a)\n",
    "\n",
    "b = a.astype(int)\n",
    "print(b)\n",
    "\n",
    "np.sum(b)"
   ]
  },
  {
   "cell_type": "code",
   "execution_count": null,
   "metadata": {},
   "outputs": [],
   "source": []
  }
 ],
 "metadata": {
  "kernelspec": {
   "display_name": "Python 3 (ipykernel)",
   "language": "python",
   "name": "python3"
  },
  "language_info": {
   "codemirror_mode": {
    "name": "ipython",
    "version": 3
   },
   "file_extension": ".py",
   "mimetype": "text/x-python",
   "name": "python",
   "nbconvert_exporter": "python",
   "pygments_lexer": "ipython3",
   "version": "3.12.7"
  }
 },
 "nbformat": 4,
 "nbformat_minor": 4
}
