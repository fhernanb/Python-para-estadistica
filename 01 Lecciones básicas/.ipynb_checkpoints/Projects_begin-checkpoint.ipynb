{
 "cells": [
  {
   "cell_type": "markdown",
   "id": "5d2cc2c6-81f9-45d3-bd46-97f389705b14",
   "metadata": {},
   "source": [
    "# Python Projects for Beginners\n",
    "\n",
    "<img src=\"https://raw.githubusercontent.com/fhernanb/fhernanb.github.io/master/my_docs/logo_unal_color.png\" alt=\"drawing\" width=\"200\"/>\n",
    "\n",
    "Mosh Hamedani en [este video](https://youtu.be/yVl_G-F7m8c?si=YOaYw7GkwORz7u_3) presenta varios proyectos para iniciantes, y lo más interesante, tiene las soluciones.\n",
    "\n",
    "Mosh sugiere que se vea la presentación de cada proyecto, se haga pausa en el video, se intente crear una solución para el proyecto y luego dar continuidad al video para ver la solución. \n",
    "\n",
    "En este notebook yo presento la solución que se me ocurrió antes de ver la solución. En algunas ocasiones mi solución se parece bastante a la solución de Mosh, en otras me alejo mucho de la solución de él. Lo importante es que uno intente solucionar el proyecto y luego comparar las soluciones."
   ]
  },
  {
   "cell_type": "code",
   "execution_count": 6,
   "id": "f20c87f9-f0e0-439e-97d5-288cbc7740ae",
   "metadata": {},
   "outputs": [
    {
     "data": {
      "text/html": [
       "<iframe width=\"560\" height=\"315\" src=\"https://www.youtube.com/embed/yVl_G-F7m8c?si=NwF8WvKcKjLmqhfb\" frameborder=\"0\" allowfullscreen></iframe>"
      ],
      "text/plain": [
       "<IPython.core.display.HTML object>"
      ]
     },
     "execution_count": 6,
     "metadata": {},
     "output_type": "execute_result"
    }
   ],
   "source": [
    "from IPython.display import HTML\n",
    "\n",
    "HTML('<iframe width=\"560\" height=\"315\" src=\"https://www.youtube.com/embed/yVl_G-F7m8c?si=NwF8WvKcKjLmqhfb\" frameborder=\"0\" allowfullscreen></iframe>')"
   ]
  },
  {
   "cell_type": "markdown",
   "id": "e4c36fbf-e06c-45ad-a149-885317281177",
   "metadata": {},
   "source": [
    "## Proyecto 1\n",
    "\n",
    "<img src=\"Figs/proyect_1_Mosh_begin.png\" alt=\"drawing\" width=\"700\"/>"
   ]
  },
  {
   "cell_type": "code",
   "execution_count": 19,
   "id": "15668336-f13d-4914-ae59-6bab411f9e8a",
   "metadata": {},
   "outputs": [
    {
     "name": "stdin",
     "output_type": "stream",
     "text": [
      "Roll the dice? (y/n): y\n"
     ]
    },
    {
     "name": "stdout",
     "output_type": "stream",
     "text": [
      "(4, 6)\n"
     ]
    },
    {
     "name": "stdin",
     "output_type": "stream",
     "text": [
      "Roll the dice? (y/n): y\n"
     ]
    },
    {
     "name": "stdout",
     "output_type": "stream",
     "text": [
      "(1, 4)\n"
     ]
    },
    {
     "name": "stdin",
     "output_type": "stream",
     "text": [
      "Roll the dice? (y/n): w\n"
     ]
    },
    {
     "name": "stdout",
     "output_type": "stream",
     "text": [
      "Invalid choice!\n"
     ]
    },
    {
     "name": "stdin",
     "output_type": "stream",
     "text": [
      "Roll the dice? (y/n): n\n"
     ]
    },
    {
     "name": "stdout",
     "output_type": "stream",
     "text": [
      "Thanks for playing!\n"
     ]
    }
   ],
   "source": [
    "import random\n",
    "\n",
    "roll = \"y\"\n",
    "\n",
    "while roll == \"y\":\n",
    "    roll = input(\"Roll the dice? (y/n):\").lower()\n",
    "    if roll == \"y\":\n",
    "        dado1 = random.randint(1, 6)\n",
    "        dado2 = random.randint(1, 6)\n",
    "        print(f\"({dado1}, {dado2})\")\n",
    "    elif roll == \"n\":\n",
    "        print(\"Thanks for playing!\")\n",
    "    else:\n",
    "        roll = \"y\"\n",
    "        print(\"Invalid choice!\")\n"
   ]
  },
  {
   "cell_type": "code",
   "execution_count": null,
   "id": "02d3ce5b-47ee-42bf-a570-8224ddd7b06a",
   "metadata": {},
   "outputs": [],
   "source": []
  }
 ],
 "metadata": {
  "kernelspec": {
   "display_name": "Python 3 (ipykernel)",
   "language": "python",
   "name": "python3"
  },
  "language_info": {
   "codemirror_mode": {
    "name": "ipython",
    "version": 3
   },
   "file_extension": ".py",
   "mimetype": "text/x-python",
   "name": "python",
   "nbconvert_exporter": "python",
   "pygments_lexer": "ipython3",
   "version": "3.12.7"
  }
 },
 "nbformat": 4,
 "nbformat_minor": 5
}
