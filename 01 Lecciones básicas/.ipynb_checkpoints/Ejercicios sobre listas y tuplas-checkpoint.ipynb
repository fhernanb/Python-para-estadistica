{
 "cells": [
  {
   "cell_type": "markdown",
   "metadata": {},
   "source": [
    "# Listas y tuplas\n",
    "\n",
    "<img src=\"https://raw.githubusercontent.com/fhernanb/fhernanb.github.io/master/my_docs/logo_unal_color.png\" alt=\"drawing\" width=\"200\"/>\n",
    "\n",
    "Los ejercicios de abajo fueron tomados de http://aprendeconalf.es/python/ejercicios/condicionales.html"
   ]
  },
  {
   "cell_type": "markdown",
   "metadata": {},
   "source": [
    "### Ejercicio\n",
    "Escribir un programa que almacene las asignaturas de un curso (por ejemplo Matemáticas, Física, Química, Historia y Lengua) en una lista y la muestre por pantalla."
   ]
  },
  {
   "cell_type": "code",
   "execution_count": 1,
   "metadata": {},
   "outputs": [
    {
     "name": "stdout",
     "output_type": "stream",
     "text": [
      "['Matemáticas', 'Física', 'Química']\n"
     ]
    }
   ],
   "source": [
    "asignaturas = ['Matemáticas', 'Física', 'Química']\n",
    "print(asignaturas)"
   ]
  },
  {
   "cell_type": "markdown",
   "metadata": {},
   "source": [
    "### Ejercicio\n",
    "Escribir un programa que almacene las asignaturas de un curso (por ejemplo Matemáticas, Física, Química, Historia y Lengua) en una lista y la muestre por pantalla el mensaje Yo estudio \"asignatura\", donde \"asignatura\" es cada una de las asignaturas de la lista."
   ]
  },
  {
   "cell_type": "code",
   "execution_count": 2,
   "metadata": {},
   "outputs": [
    {
     "name": "stdout",
     "output_type": "stream",
     "text": [
      "Yo estudio Matemáticas\n",
      "Yo estudio Física\n",
      "Yo estudio Química\n"
     ]
    }
   ],
   "source": [
    "asignaturas = ['Matemáticas', 'Física', 'Química']\n",
    "for i in range(len(asignaturas)):\n",
    "    print(\"Yo estudio \" + asignaturas[i])"
   ]
  },
  {
   "cell_type": "markdown",
   "metadata": {},
   "source": [
    "Otra forma más elegante sería"
   ]
  },
  {
   "cell_type": "code",
   "execution_count": 3,
   "metadata": {},
   "outputs": [
    {
     "name": "stdout",
     "output_type": "stream",
     "text": [
      "Yo estudio Matemáticas\n",
      "Yo estudio Física\n",
      "Yo estudio Química\n"
     ]
    }
   ],
   "source": [
    "asignaturas = ['Matemáticas', 'Física', 'Química']\n",
    "for i in asignaturas:\n",
    "    print(\"Yo estudio \" + i)"
   ]
  },
  {
   "cell_type": "markdown",
   "metadata": {},
   "source": [
    "### Ejercicio\n",
    "Escribir un programa que almacene las asignaturas de un curso (por ejemplo Matemáticas, Física, Química, Historia y Lengua) en una lista, pregunte al usuario la nota que ha sacado en cada asignatura, y después las muestre por pantalla con el mensaje En \"asignatura\" has sacado \"nota\" donde \"asignatura\" es cada una des las asignaturas de la lista y \"nota\" cada una de las correspondientes notas introducidas por el usuario."
   ]
  },
  {
   "cell_type": "code",
   "execution_count": null,
   "metadata": {},
   "outputs": [],
   "source": [
    "asignaturas = ['Matemáticas', 'Física', 'Química']\n",
    "\n",
    "notas = list()\n",
    "for i in range(len(asignaturas)):\n",
    "    temp = input('Por favor ingrese la nota de ' + asignaturas[i] + ' ')\n",
    "    notas.append(temp)\n",
    "    \n",
    "print(\"\\n\")\n",
    "    \n",
    "for j in range(len(asignaturas)):\n",
    "    print(\"En \", asignaturas[j], \"has sacado \", notas[j])"
   ]
  },
  {
   "cell_type": "markdown",
   "metadata": {},
   "source": [
    "### Ejercicio\n",
    "\n",
    "Escribir un programa que almacene en una lista los números del 1 al 10 y los muestre por pantalla en orden inverso separados por comas."
   ]
  },
  {
   "cell_type": "code",
   "execution_count": null,
   "metadata": {},
   "outputs": [],
   "source": [
    "numbers = [1, 2, 3, 4, 5, 6, 7, 8, 9, 10]\n",
    "for i in range(1, 11):\n",
    "    print(numbers[-i], end=\", \")"
   ]
  },
  {
   "cell_type": "code",
   "execution_count": null,
   "metadata": {},
   "outputs": [],
   "source": [
    "print(numbers)\n",
    "print(numbers[-3])"
   ]
  }
 ],
 "metadata": {
  "kernelspec": {
   "display_name": "Python 3 (ipykernel)",
   "language": "python",
   "name": "python3"
  },
  "language_info": {
   "codemirror_mode": {
    "name": "ipython",
    "version": 3
   },
   "file_extension": ".py",
   "mimetype": "text/x-python",
   "name": "python",
   "nbconvert_exporter": "python",
   "pygments_lexer": "ipython3",
   "version": "3.12.7"
  }
 },
 "nbformat": 4,
 "nbformat_minor": 4
}
