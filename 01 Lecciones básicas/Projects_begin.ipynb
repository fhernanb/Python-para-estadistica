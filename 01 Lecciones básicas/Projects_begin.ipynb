{
 "cells": [
  {
   "cell_type": "markdown",
   "id": "5d2cc2c6-81f9-45d3-bd46-97f389705b14",
   "metadata": {},
   "source": [
    "# Python Projects for Beginners\n",
    "\n",
    "<img src=\"https://raw.githubusercontent.com/fhernanb/fhernanb.github.io/master/my_docs/logo_unal_color.png\" alt=\"drawing\" width=\"200\"/>\n",
    "\n",
    "Mosh Hamedani en [este video](https://youtu.be/yVl_G-F7m8c?si=YOaYw7GkwORz7u_3) presenta varios proyectos para iniciantes, y lo más interesante, tiene las soluciones.\n",
    "\n",
    "Mosh sugiere que se vea la presentación de cada proyecto, se haga pausa en el video, se intente crear una solución para el proyecto y luego dar continuidad al video para ver la solución. \n",
    "\n",
    "En este notebook yo presento la solución que se me ocurrió antes de ver la solución. En algunas ocasiones mi solución se parece bastante a la solución de Mosh, en otras me alejo mucho de la solución de él. Lo importante es que uno intente solucionar el proyecto y luego comparar las soluciones."
   ]
  },
  {
   "cell_type": "markdown",
   "id": "e4c36fbf-e06c-45ad-a149-885317281177",
   "metadata": {},
   "source": [
    "## Proyecto 1\n",
    "\n",
    "<img src=\"Figs/proyect_1_Mosh_begin.png\" alt=\"drawing\" width=\"700\"/>"
   ]
  },
  {
   "cell_type": "code",
   "execution_count": 1,
   "id": "15668336-f13d-4914-ae59-6bab411f9e8a",
   "metadata": {},
   "outputs": [
    {
     "name": "stdin",
     "output_type": "stream",
     "text": [
      "Roll the dice? (y/n): y\n"
     ]
    },
    {
     "name": "stdout",
     "output_type": "stream",
     "text": [
      "(5, 1)\n"
     ]
    },
    {
     "name": "stdin",
     "output_type": "stream",
     "text": [
      "Roll the dice? (y/n): y\n"
     ]
    },
    {
     "name": "stdout",
     "output_type": "stream",
     "text": [
      "(5, 2)\n"
     ]
    },
    {
     "name": "stdin",
     "output_type": "stream",
     "text": [
      "Roll the dice? (y/n): n\n"
     ]
    },
    {
     "name": "stdout",
     "output_type": "stream",
     "text": [
      "Thanks for playing!\n"
     ]
    }
   ],
   "source": [
    "import random\n",
    "\n",
    "roll = \"y\"\n",
    "\n",
    "while roll == \"y\":\n",
    "    roll = input(\"Roll the dice? (y/n):\").lower()\n",
    "    if roll == \"y\":\n",
    "        dado1 = random.randint(1, 6)\n",
    "        dado2 = random.randint(1, 6)\n",
    "        print(f\"({dado1}, {dado2})\")\n",
    "    elif roll == \"n\":\n",
    "        print(\"Thanks for playing!\")\n",
    "    else:\n",
    "        roll = \"y\"\n",
    "        print(\"Invalid choice!\")\n"
   ]
  },
  {
   "cell_type": "markdown",
   "id": "de2c1b10-9f26-4fd1-960a-16a3dd0993e6",
   "metadata": {},
   "source": [
    "## Proyecto 2\n",
    "\n",
    "<img src=\"Figs/proyect_2_Mosh_begin.png\" alt=\"drawing\" width=\"500\"/>"
   ]
  },
  {
   "cell_type": "code",
   "execution_count": 2,
   "id": "02d3ce5b-47ee-42bf-a570-8224ddd7b06a",
   "metadata": {},
   "outputs": [
    {
     "name": "stdin",
     "output_type": "stream",
     "text": [
      "Guess the number between 1 and 100: 50\n"
     ]
    },
    {
     "name": "stdout",
     "output_type": "stream",
     "text": [
      "Too low!\n"
     ]
    },
    {
     "name": "stdin",
     "output_type": "stream",
     "text": [
      "Guess the number between 1 and 100: 75\n"
     ]
    },
    {
     "name": "stdout",
     "output_type": "stream",
     "text": [
      "Too high!\n"
     ]
    },
    {
     "name": "stdin",
     "output_type": "stream",
     "text": [
      "Guess the number between 1 and 100: 70\n"
     ]
    },
    {
     "name": "stdout",
     "output_type": "stream",
     "text": [
      "Too high!\n"
     ]
    },
    {
     "name": "stdin",
     "output_type": "stream",
     "text": [
      "Guess the number between 1 and 100: 65\n"
     ]
    },
    {
     "name": "stdout",
     "output_type": "stream",
     "text": [
      "Too high!\n"
     ]
    },
    {
     "name": "stdin",
     "output_type": "stream",
     "text": [
      "Guess the number between 1 and 100: 60\n"
     ]
    },
    {
     "name": "stdout",
     "output_type": "stream",
     "text": [
      "Too high!\n"
     ]
    },
    {
     "name": "stdin",
     "output_type": "stream",
     "text": [
      "Guess the number between 1 and 100: 55\n"
     ]
    },
    {
     "name": "stdout",
     "output_type": "stream",
     "text": [
      "Too high!\n"
     ]
    },
    {
     "name": "stdin",
     "output_type": "stream",
     "text": [
      "Guess the number between 1 and 100: 53\n"
     ]
    },
    {
     "name": "stdout",
     "output_type": "stream",
     "text": [
      "Too high!\n"
     ]
    },
    {
     "name": "stdin",
     "output_type": "stream",
     "text": [
      "Guess the number between 1 and 100: 52\n"
     ]
    },
    {
     "name": "stdout",
     "output_type": "stream",
     "text": [
      "Too high!\n"
     ]
    },
    {
     "name": "stdin",
     "output_type": "stream",
     "text": [
      "Guess the number between 1 and 100: 52\n"
     ]
    },
    {
     "name": "stdout",
     "output_type": "stream",
     "text": [
      "Too high!\n"
     ]
    },
    {
     "name": "stdin",
     "output_type": "stream",
     "text": [
      "Guess the number between 1 and 100: 51\n"
     ]
    },
    {
     "name": "stdout",
     "output_type": "stream",
     "text": [
      "Congratulations! You guessed the number.\n"
     ]
    }
   ],
   "source": [
    "import random\n",
    "\n",
    "x = random.randint(1, 100)\n",
    "\n",
    "while True:\n",
    "    try:\n",
    "        number = int(input(\"Guess the number between 1 and 100:\"))\n",
    "        if number > x:\n",
    "            print(\"Too high!\")\n",
    "        elif number < x:\n",
    "            print(\"Too low!\")\n",
    "        else:\n",
    "            flag = False\n",
    "            print(\"Congratulations! You guessed the number.\")\n",
    "            break\n",
    "    except ValueError:\n",
    "        print(\"Please enter a valid number\")"
   ]
  },
  {
   "cell_type": "markdown",
   "id": "8e3acc3c-91c7-42a0-a04e-4952d5bef78a",
   "metadata": {},
   "source": [
    "## Proyecto 3\n",
    "\n",
    "<img src=\"Figs/proyect_3_Mosh_begin.png\" alt=\"drawing\" width=\"500\"/>"
   ]
  },
  {
   "cell_type": "code",
   "execution_count": null,
   "id": "bb4ae075-0272-4f24-8904-d03594493f8a",
   "metadata": {},
   "outputs": [],
   "source": [
    "import random\n",
    "\n",
    "cont = \"y\"\n",
    "possible_values = [\"r\", \"p\", \"s\"]\n",
    "\n",
    "while cont == \"y\":\n",
    "    user_choice = input(\"Rock, paper, or scissors? (r/p/s): \").lower()\n",
    "\n",
    "    while user_choice not in possible_values:\n",
    "        print(\"Invalid choice!\")\n",
    "        user_choice = input(\"Rock, paper, or scissors? (r/p/s): \").lower()\n",
    "    \n",
    "    comp_choice = random.choice(possible_values)\n",
    "    # Print message -------------------------\n",
    "    print(f\"You chose {user_choice}\")\n",
    "    print(f\"Computer chose {comp_choice}\")\n",
    "    # First case ----------------------------\n",
    "    if user_choice==\"r\" and comp_choice==\"r\":\n",
    "        print(\"Empate\")\n",
    "    elif user_choice==\"r\" and comp_choice==\"p\":\n",
    "        print(\"You lose\")\n",
    "    elif user_choice==\"r\" and comp_choice==\"s\":\n",
    "        print(\"You win\")\n",
    "    # Second case ---------------------------\n",
    "    elif user_choice==\"p\" and comp_choice==\"r\":\n",
    "        print(\"You win\")\n",
    "    elif user_choice==\"p\" and comp_choice==\"p\":\n",
    "        print(\"Empate\")\n",
    "    elif user_choice==\"p\" and comp_choice==\"s\":\n",
    "        print(\"You lose\")\n",
    "    # Third case -----------------------------\n",
    "    elif user_choice==\"s\" and comp_choice==\"r\":\n",
    "        print(\"You lose\")\n",
    "    elif user_choice==\"s\" and comp_choice==\"p\":\n",
    "        print(\"You win\")\n",
    "    elif user_choice==\"s\" and comp_choice==\"s\":\n",
    "        print(\"Empate\")\n",
    "    cont = input(\"Continue? (y/n): \")\n"
   ]
  },
  {
   "cell_type": "code",
   "execution_count": null,
   "id": "677f9811-9bf3-4e48-bfe7-7f4ea2e3f6e8",
   "metadata": {},
   "outputs": [],
   "source": []
  }
 ],
 "metadata": {
  "kernelspec": {
   "display_name": "Python 3 (ipykernel)",
   "language": "python",
   "name": "python3"
  },
  "language_info": {
   "codemirror_mode": {
    "name": "ipython",
    "version": 3
   },
   "file_extension": ".py",
   "mimetype": "text/x-python",
   "name": "python",
   "nbconvert_exporter": "python",
   "pygments_lexer": "ipython3",
   "version": "3.12.7"
  }
 },
 "nbformat": 4,
 "nbformat_minor": 5
}
