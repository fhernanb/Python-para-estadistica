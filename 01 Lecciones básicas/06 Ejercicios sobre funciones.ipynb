{
 "cells": [
  {
   "cell_type": "markdown",
   "metadata": {},
   "source": [
    "# Ejercicios sobre funciones\n",
    "<img src=\"https://raw.githubusercontent.com/fhernanb/fhernanb.github.io/master/my_docs/logo_unal_color.png\" alt=\"drawing\" width=\"200\"/>"
   ]
  },
  {
   "cell_type": "markdown",
   "metadata": {},
   "source": [
    "Los ejercicios de abajo fueron tomados de https://aprendeconalf.es/docencia/python/ejercicios/funciones/"
   ]
  },
  {
   "cell_type": "markdown",
   "metadata": {},
   "source": [
    "### Ejercicio\n",
    "Escribir una función que muestre por pantalla el saludo ¡Hola amiga! cada vez que se la invoque."
   ]
  },
  {
   "cell_type": "code",
   "execution_count": 1,
   "metadata": {},
   "outputs": [
    {
     "name": "stdout",
     "output_type": "stream",
     "text": [
      "¡Hola amiga!\n",
      "¡Hola amiga!\n"
     ]
    }
   ],
   "source": [
    "def saludo():\n",
    "    print('¡Hola amiga!')\n",
    "    \n",
    "saludo()\n",
    "saludo()"
   ]
  },
  {
   "cell_type": "markdown",
   "metadata": {},
   "source": [
    "### Ejercicio\n",
    "Escribir una función a la que se le pase una cadena nombre y muestre por pantalla el saludo ¡hola nombre!"
   ]
  },
  {
   "cell_type": "code",
   "execution_count": 2,
   "metadata": {},
   "outputs": [
    {
     "name": "stdout",
     "output_type": "stream",
     "text": [
      "¡Hola Freddy !\n",
      "¡Hola Ronaldo !\n"
     ]
    }
   ],
   "source": [
    "def saludo2(nombre):\n",
    "    print('¡Hola ' + nombre, '!')\n",
    "    \n",
    "saludo2('Freddy')\n",
    "saludo2(\"Ronaldo\")"
   ]
  },
  {
   "cell_type": "markdown",
   "metadata": {},
   "source": [
    "### Ejercicio\n",
    "Escribir una función que reciba un número entero positivo y devuelva su factorial."
   ]
  },
  {
   "cell_type": "code",
   "execution_count": 3,
   "metadata": {},
   "outputs": [
    {
     "data": {
      "text/plain": [
       "24"
      ]
     },
     "execution_count": 3,
     "metadata": {},
     "output_type": "execute_result"
    }
   ],
   "source": [
    "def factorial(num):\n",
    "    res = 1\n",
    "    for i in range(num):\n",
    "        res = res * (i+1)\n",
    "    return res\n",
    "    \n",
    "factorial(4)"
   ]
  },
  {
   "cell_type": "markdown",
   "metadata": {},
   "source": [
    "### Ejercicio\n",
    "Escribir una función que calcule el área de un círculo y otra que calcule el volumen de un cilindro usando la primera función."
   ]
  },
  {
   "cell_type": "code",
   "execution_count": 4,
   "metadata": {},
   "outputs": [
    {
     "data": {
      "text/plain": [
       "141.3716694115407"
      ]
     },
     "execution_count": 4,
     "metadata": {},
     "output_type": "execute_result"
    }
   ],
   "source": [
    "import math\n",
    "\n",
    "def a_circulo(radio):\n",
    "    return math.pi * radio**2\n",
    "\n",
    "def a_cilindro(radio, altura):\n",
    "    return a_circulo(radio) * altura\n",
    "\n",
    "a_cilindro(radio=3, altura=5)"
   ]
  },
  {
   "cell_type": "markdown",
   "metadata": {},
   "source": [
    "### Ejercicio \n",
    "Escribir una función que reciba una muestra de números en una lista y devuelva su media."
   ]
  },
  {
   "cell_type": "code",
   "execution_count": 5,
   "metadata": {},
   "outputs": [
    {
     "data": {
      "text/plain": [
       "5.0"
      ]
     },
     "execution_count": 5,
     "metadata": {},
     "output_type": "execute_result"
    }
   ],
   "source": [
    "def media(x):\n",
    "    return sum(x) / len(x)\n",
    "\n",
    "a = [5, 4, 6]\n",
    "media(a)"
   ]
  },
  {
   "cell_type": "markdown",
   "metadata": {},
   "source": [
    "### Ejercicio \n",
    "Escribir una función que reciba una muestra de números en una lista y devuelva otra lista con sus cuadrados."
   ]
  },
  {
   "cell_type": "code",
   "execution_count": 6,
   "metadata": {},
   "outputs": [
    {
     "data": {
      "text/plain": [
       "[25, 16, 4, 0]"
      ]
     },
     "execution_count": 6,
     "metadata": {},
     "output_type": "execute_result"
    }
   ],
   "source": [
    "def cuadrados(x):\n",
    "    n = len(x)\n",
    "    res = [None] * n # Lista con n elementos pero vacios\n",
    "    for i in range(n):\n",
    "        res[i] = x[i]**2\n",
    "    return res\n",
    "\n",
    "a = [5, 4, 2, 0]\n",
    "cuadrados(a)"
   ]
  },
  {
   "cell_type": "code",
   "execution_count": 7,
   "metadata": {},
   "outputs": [
    {
     "data": {
      "text/plain": [
       "[25, 16, 4, 0]"
      ]
     },
     "execution_count": 7,
     "metadata": {},
     "output_type": "execute_result"
    }
   ],
   "source": [
    "# Una solución más elegante\n",
    "\n",
    "def cuadrados(x):\n",
    "    res = []\n",
    "    for i in x:\n",
    "        res.append(i**2)\n",
    "    return res\n",
    "\n",
    "a = [5, 4, 2, 0]\n",
    "cuadrados(a)"
   ]
  },
  {
   "cell_type": "markdown",
   "metadata": {
    "tags": []
   },
   "source": [
    "### Ejercicio \n",
    "Escribir una función que reciba una muestra de números en una lista y devuelva un diccionario con su media, varianza y desviación típica."
   ]
  },
  {
   "cell_type": "code",
   "execution_count": 8,
   "metadata": {},
   "outputs": [
    {
     "data": {
      "text/plain": [
       "{'Media': 3.0, 'Varianza': 2.5, 'Desviación': 1.5811388300841898}"
      ]
     },
     "execution_count": 8,
     "metadata": {},
     "output_type": "execute_result"
    }
   ],
   "source": [
    "def media_var_desvi(x):\n",
    "    n = len(x)\n",
    "    media = sum(x) / n\n",
    "    x2 = []\n",
    "    for i in x:\n",
    "        x2.append((i-media)**2)\n",
    "    var = sum(x2) / (n-1) # usando n-1 en el denominador\n",
    "    desvi = var ** 0.5\n",
    "    res = {\"Media\": media,\n",
    "           \"Varianza\": var,\n",
    "           \"Desviación\": desvi }\n",
    "    return res\n",
    "    \n",
    "a = [1, 2, 3, 4, 5]\n",
    "media_var_desvi(a)"
   ]
  },
  {
   "cell_type": "markdown",
   "metadata": {
    "tags": []
   },
   "source": [
    "### Ejercicio \n",
    "Escribir una función que calcule el máximo común divisor de dos números y otra que calcule el mínimo común múltiplo."
   ]
  },
  {
   "cell_type": "code",
   "execution_count": 9,
   "metadata": {},
   "outputs": [
    {
     "name": "stdout",
     "output_type": "stream",
     "text": [
      "Luego lo hago\n"
     ]
    }
   ],
   "source": [
    "def mcd_mcm(a, b):\n",
    "    print(\"Luego lo hago\")\n",
    "\n",
    "mcd_mcm(16, 12)"
   ]
  }
 ],
 "metadata": {
  "kernelspec": {
   "display_name": "Python 3 (ipykernel)",
   "language": "python",
   "name": "python3"
  },
  "language_info": {
   "codemirror_mode": {
    "name": "ipython",
    "version": 3
   },
   "file_extension": ".py",
   "mimetype": "text/x-python",
   "name": "python",
   "nbconvert_exporter": "python",
   "pygments_lexer": "ipython3",
   "version": "3.12.7"
  }
 },
 "nbformat": 4,
 "nbformat_minor": 4
}
