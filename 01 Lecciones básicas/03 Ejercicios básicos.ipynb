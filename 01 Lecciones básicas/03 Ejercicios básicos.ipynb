{
 "cells": [
  {
   "cell_type": "markdown",
   "metadata": {},
   "source": [
    "# Ejercicios básicos creando programas\n",
    "\n",
    "<img src=\"https://raw.githubusercontent.com/fhernanb/fhernanb.github.io/master/my_docs/logo_unal_color.png\" alt=\"drawing\" width=\"200\"/>\n",
    "\n",
    "<img src=\"Figs/real_python_program.png\" alt=\"drawing\" width=\"400\"/>"
   ]
  },
  {
   "cell_type": "markdown",
   "metadata": {},
   "source": [
    "Los ejercicios de abajo fueron tomados de https://aprendeconalf.es/docencia/python/ejercicios/tipos-datos/"
   ]
  },
  {
   "cell_type": "markdown",
   "metadata": {},
   "source": [
    "### Ejercicio\n",
    "Escribir un programa que pregunte el nombre del usuario en la consola y después de que el usuario lo introduzca muestre por pantalla \"NOMBRE tiene n letras\", donde \"NOMBRE\" es el nombre de usuario en mayúsculas y \"n\" es el número de letras que tienen el nombre."
   ]
  },
  {
   "cell_type": "code",
   "execution_count": 1,
   "metadata": {},
   "outputs": [
    {
     "name": "stdin",
     "output_type": "stream",
     "text": [
      "Por favor ingrese su nombre  James\n"
     ]
    },
    {
     "name": "stdout",
     "output_type": "stream",
     "text": [
      "James tiene 5 letras\n"
     ]
    }
   ],
   "source": [
    "nombre = input('Por favor ingrese su nombre ')\n",
    "print(nombre, 'tiene', len(nombre), 'letras')"
   ]
  },
  {
   "cell_type": "markdown",
   "metadata": {},
   "source": [
    "### Ejercicio\n",
    "Escribir un programa que pregunte el nombre del usuario en la consola y un número entero e imprima por pantalla en líneas distintas el nombre del usuario tantas veces como el número introducido."
   ]
  },
  {
   "cell_type": "code",
   "execution_count": 2,
   "metadata": {},
   "outputs": [
    {
     "name": "stdin",
     "output_type": "stream",
     "text": [
      "Por favor ingrese su nombre:  James\n",
      "Por ingrese un número entero positivo:  3\n"
     ]
    },
    {
     "name": "stdout",
     "output_type": "stream",
     "text": [
      "James\n",
      "James\n",
      "James\n"
     ]
    }
   ],
   "source": [
    "nombre = input('Por favor ingrese su nombre: ')\n",
    "veces = input('Por ingrese un número entero positivo: ')\n",
    "\n",
    "veces = int(veces)\n",
    "for i in range(veces):\n",
    "    print (nombre)"
   ]
  },
  {
   "cell_type": "markdown",
   "metadata": {},
   "source": [
    "Otra forma evitando el `for`"
   ]
  },
  {
   "cell_type": "code",
   "execution_count": 3,
   "metadata": {},
   "outputs": [
    {
     "name": "stdin",
     "output_type": "stream",
     "text": [
      "Por favor ingrese su nombre:  James\n",
      "Por ingrese un número entero positivo:  3\n"
     ]
    },
    {
     "name": "stdout",
     "output_type": "stream",
     "text": [
      "James\n",
      "James\n",
      "James\n",
      "\n"
     ]
    }
   ],
   "source": [
    "nombre = input('Por favor ingrese su nombre: ')\n",
    "veces = input('Por ingrese un número entero positivo: ')\n",
    "\n",
    "veces = int(veces)\n",
    "print((nombre + \"\\n\") * veces)"
   ]
  },
  {
   "cell_type": "markdown",
   "metadata": {},
   "source": [
    "### Ejercicio\n",
    "Escribir un programa que realice la siguiente operación aritmética $\\left( \\frac{3+2}{2 \\times 5} \\right)^2$"
   ]
  },
  {
   "cell_type": "code",
   "execution_count": 4,
   "metadata": {},
   "outputs": [
    {
     "data": {
      "text/plain": [
       "0.25"
      ]
     },
     "execution_count": 4,
     "metadata": {},
     "output_type": "execute_result"
    }
   ],
   "source": [
    "((3+2)/(2*5))**2"
   ]
  },
  {
   "cell_type": "markdown",
   "metadata": {},
   "source": [
    "### Ejercicio\n",
    "Escribir un programa que pida al usuario su peso (en kg) y estatura (en metros), calcule el índice de masa corporal y lo almacene en una variable, y muestre por pantalla la frase \"Tu índice de masa corporal es imc\" donde imc es el índice de masa corporal calculado redondeado con dos decimales."
   ]
  },
  {
   "cell_type": "code",
   "execution_count": 5,
   "metadata": {},
   "outputs": [
    {
     "name": "stdin",
     "output_type": "stream",
     "text": [
      "Por favor ingrese su peso en kg:  65\n",
      "Por ingrese su estatura en metros:  1.7\n"
     ]
    },
    {
     "name": "stdout",
     "output_type": "stream",
     "text": [
      "Tu índice de masa corporal es 22.49\n"
     ]
    }
   ],
   "source": [
    "peso = input('Por favor ingrese su peso en kg: ')\n",
    "estatura = input('Por ingrese su estatura en metros: ')\n",
    "peso = float(peso)\n",
    "estatura = float(estatura)\n",
    "imc = peso / estatura**2\n",
    "print('Tu índice de masa corporal es', round(imc, 2))"
   ]
  },
  {
   "cell_type": "markdown",
   "metadata": {},
   "source": [
    "### Ejercicio\n",
    "Escribir un programa que pregunte al usuario una cantidad a invertir ($V_p$), el interés anual ($i$) y el número de años ($v$), y muestre por pantalla el capital obtenido en la inversión.\n",
    "\n",
    "La fórmula para obtener el $V_p$ es la siguiente:\n",
    "\n",
    "$$ V_f = V_p (1+i)^n $$"
   ]
  },
  {
   "cell_type": "code",
   "execution_count": 6,
   "metadata": {},
   "outputs": [
    {
     "name": "stdin",
     "output_type": "stream",
     "text": [
      "Ingrese la cantidad a invertir:  250\n",
      "Ingrese el interés anual:  0.1\n",
      "Ingrese el número de años:  2\n"
     ]
    },
    {
     "name": "stdout",
     "output_type": "stream",
     "text": [
      "El valor futuro es  302.50000000000006\n"
     ]
    }
   ],
   "source": [
    "vp = float(input('Ingrese la cantidad a invertir: '))\n",
    "i  = float(input('Ingrese el interés anual: '))\n",
    "n  = float(input('Ingrese el número de años: '))\n",
    "\n",
    "vf = vp * (1+i)**n\n",
    "print('El valor futuro es ', vf)"
   ]
  },
  {
   "cell_type": "markdown",
   "metadata": {},
   "source": [
    "### Ejercicio\n",
    "Escribir un programa que almacene la cadena de caracteres contraseña en una variable, pregunte al usuario por la contraseña nuevamente e imprima por pantalla si la contraseña introducida por el usuario coincide con la guardada en la variable sin tener en cuenta mayúsculas y minúsculas."
   ]
  },
  {
   "cell_type": "code",
   "execution_count": 7,
   "metadata": {},
   "outputs": [
    {
     "name": "stdin",
     "output_type": "stream",
     "text": [
      "Ingrese la contraseña:  Holamundo\n",
      "Vuela a ingresar la contraseña:  HoLAMundo\n"
     ]
    },
    {
     "name": "stdout",
     "output_type": "stream",
     "text": [
      "Las contraseñas SI coinciden.\n"
     ]
    }
   ],
   "source": [
    "contrasena1 = input('Ingrese la contraseña: ')\n",
    "contrasena2 = input('Vuela a ingresar la contraseña: ')\n",
    "contrasena1 = contrasena1.lower()\n",
    "contrasena2 = contrasena2.lower()\n",
    "if contrasena1 == contrasena2:\n",
    "    print('Las contraseñas SI coinciden.')\n",
    "else:\n",
    "    print('Las contraseñas NO coinciden')"
   ]
  }
 ],
 "metadata": {
  "kernelspec": {
   "display_name": "Python 3 (ipykernel)",
   "language": "python",
   "name": "python3"
  },
  "language_info": {
   "codemirror_mode": {
    "name": "ipython",
    "version": 3
   },
   "file_extension": ".py",
   "mimetype": "text/x-python",
   "name": "python",
   "nbconvert_exporter": "python",
   "pygments_lexer": "ipython3",
   "version": "3.12.7"
  }
 },
 "nbformat": 4,
 "nbformat_minor": 4
}
