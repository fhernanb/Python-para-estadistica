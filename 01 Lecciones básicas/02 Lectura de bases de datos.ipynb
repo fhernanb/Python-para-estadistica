{
 "cells": [
  {
   "cell_type": "markdown",
   "metadata": {},
   "source": [
    "# Lectura de bases de datos\n",
    "\n",
    "<img src=\"https://raw.githubusercontent.com/fhernanb/fhernanb.github.io/master/my_docs/logo_unal_color.png\" alt=\"drawing\" width=\"200\"/>"
   ]
  },
  {
   "cell_type": "markdown",
   "metadata": {},
   "source": [
    "En esta lección vamos a mostrar como leer bases de datos en:\n",
    "- formato .txt\n",
    "- formato .csv\n",
    "- desde una url\n",
    "- formato .xlxs\n",
    "\n",
    "En la [carpeta Datos](https://github.com/fhernanb/Python-para-estadistica/tree/master/01%20Lecciones%20b%C3%A1sicas/Datos) que está en este mismo repositorio se encuentran unas bases de datos sencillas que vamos a utilizar, los nombres de las bases de datos son: `datos1.txt`, `datos2.csv` y `datos4.xlxs`.\n",
    "\n",
    "La librería que vamos a usar se muestra a continuación."
   ]
  },
  {
   "cell_type": "code",
   "execution_count": 1,
   "metadata": {},
   "outputs": [],
   "source": [
    "import pandas as pd  # Librería con las funciones read_table y read_csv"
   ]
  },
  {
   "cell_type": "markdown",
   "metadata": {},
   "source": [
    "## Lectura de archivos .txt\n",
    "\n",
    "Para leer este tipo de archivos usamos la función `read_csv`, la documentación completa de la función se puede consultar [aqui](https://pandas.pydata.org/pandas-docs/stable/reference/api/pandas.read_csv.html).\n",
    "\n",
    "Las bases de datos de ejemplo se encuentran en la carpeta __Datos__.\n",
    "\n",
    "Vamos a leer la base de datos `datos1.txt`. La información se almacenará en el marco de datos `dt1`, a continuación la instrucción."
   ]
  },
  {
   "cell_type": "code",
   "execution_count": 2,
   "metadata": {},
   "outputs": [],
   "source": [
    "dt1 = pd.read_csv(\"Datos/datos1.txt\", sep=\" \")"
   ]
  },
  {
   "cell_type": "markdown",
   "metadata": {},
   "source": [
    "Para explorar lo que está dentro de `dt1` usamos la función `head` así:"
   ]
  },
  {
   "cell_type": "code",
   "execution_count": 3,
   "metadata": {},
   "outputs": [
    {
     "data": {
      "text/html": [
       "<div>\n",
       "<style scoped>\n",
       "    .dataframe tbody tr th:only-of-type {\n",
       "        vertical-align: middle;\n",
       "    }\n",
       "\n",
       "    .dataframe tbody tr th {\n",
       "        vertical-align: top;\n",
       "    }\n",
       "\n",
       "    .dataframe thead th {\n",
       "        text-align: right;\n",
       "    }\n",
       "</style>\n",
       "<table border=\"1\" class=\"dataframe\">\n",
       "  <thead>\n",
       "    <tr style=\"text-align: right;\">\n",
       "      <th></th>\n",
       "      <th>edad</th>\n",
       "      <th>sexo</th>\n",
       "      <th>fuma</th>\n",
       "      <th>deporte</th>\n",
       "    </tr>\n",
       "  </thead>\n",
       "  <tbody>\n",
       "    <tr>\n",
       "      <th>0</th>\n",
       "      <td>25</td>\n",
       "      <td>Mujer</td>\n",
       "      <td>No</td>\n",
       "      <td>Si</td>\n",
       "    </tr>\n",
       "    <tr>\n",
       "      <th>1</th>\n",
       "      <td>36</td>\n",
       "      <td>Hombre</td>\n",
       "      <td>Si</td>\n",
       "      <td>No</td>\n",
       "    </tr>\n",
       "    <tr>\n",
       "      <th>2</th>\n",
       "      <td>45</td>\n",
       "      <td>Mujer</td>\n",
       "      <td>Si</td>\n",
       "      <td>Si</td>\n",
       "    </tr>\n",
       "    <tr>\n",
       "      <th>3</th>\n",
       "      <td>28</td>\n",
       "      <td>Mujer</td>\n",
       "      <td>No</td>\n",
       "      <td>No</td>\n",
       "    </tr>\n",
       "  </tbody>\n",
       "</table>\n",
       "</div>"
      ],
      "text/plain": [
       "   edad    sexo fuma deporte\n",
       "0    25   Mujer   No      Si\n",
       "1    36  Hombre   Si      No\n",
       "2    45   Mujer   Si      Si\n",
       "3    28   Mujer   No      No"
      ]
     },
     "execution_count": 3,
     "metadata": {},
     "output_type": "execute_result"
    }
   ],
   "source": [
    "dt1.head()"
   ]
  },
  {
   "cell_type": "markdown",
   "metadata": {},
   "source": [
    "De la salida anterior vemos que la base `dt1` tiene cuatro variables."
   ]
  },
  {
   "cell_type": "markdown",
   "metadata": {},
   "source": [
    "## Lectura de archivos .csv\n",
    "\n",
    "Para leer este tipo de archivos usamos la función `read_csv`, la documentación completa de la función se puede consultar [aqui](https://pandas.pydata.org/pandas-docs/stable/generated/pandas.read_csv.html).\n",
    "\n",
    "Vamos a leer la base de datos `datos2.txt`. La información se almacenará en el marco de datos `dt2`, a continuación la instrucción."
   ]
  },
  {
   "cell_type": "code",
   "execution_count": 4,
   "metadata": {},
   "outputs": [],
   "source": [
    "dt2 = pd.read_csv(\"Datos/datos2.csv\", sep=\";\")"
   ]
  },
  {
   "cell_type": "markdown",
   "metadata": {},
   "source": [
    "Para explorar lo que está dentro de `dt2` usamos la función `head` así:"
   ]
  },
  {
   "cell_type": "code",
   "execution_count": 5,
   "metadata": {},
   "outputs": [
    {
     "data": {
      "text/html": [
       "<div>\n",
       "<style scoped>\n",
       "    .dataframe tbody tr th:only-of-type {\n",
       "        vertical-align: middle;\n",
       "    }\n",
       "\n",
       "    .dataframe tbody tr th {\n",
       "        vertical-align: top;\n",
       "    }\n",
       "\n",
       "    .dataframe thead th {\n",
       "        text-align: right;\n",
       "    }\n",
       "</style>\n",
       "<table border=\"1\" class=\"dataframe\">\n",
       "  <thead>\n",
       "    <tr style=\"text-align: right;\">\n",
       "      <th></th>\n",
       "      <th>mes</th>\n",
       "      <th>dia</th>\n",
       "      <th>ventas</th>\n",
       "    </tr>\n",
       "  </thead>\n",
       "  <tbody>\n",
       "    <tr>\n",
       "      <th>0</th>\n",
       "      <td>5</td>\n",
       "      <td>25</td>\n",
       "      <td>2563</td>\n",
       "    </tr>\n",
       "    <tr>\n",
       "      <th>1</th>\n",
       "      <td>7</td>\n",
       "      <td>14</td>\n",
       "      <td>2541</td>\n",
       "    </tr>\n",
       "    <tr>\n",
       "      <th>2</th>\n",
       "      <td>10</td>\n",
       "      <td>30</td>\n",
       "      <td>563</td>\n",
       "    </tr>\n",
       "  </tbody>\n",
       "</table>\n",
       "</div>"
      ],
      "text/plain": [
       "   mes  dia  ventas\n",
       "0    5   25    2563\n",
       "1    7   14    2541\n",
       "2   10   30     563"
      ]
     },
     "execution_count": 5,
     "metadata": {},
     "output_type": "execute_result"
    }
   ],
   "source": [
    "dt2.head()"
   ]
  },
  {
   "cell_type": "markdown",
   "metadata": {},
   "source": [
    "De la salida anterior vemos que la base `dt2` tiene tres variables."
   ]
  },
  {
   "cell_type": "markdown",
   "metadata": {},
   "source": [
    "## Lectura desde una url\n",
    "\n",
    "Para leer este tipo de archivos se puede usar nuevamente la función `read_csv`, la documentación completa de la función se puede consultar [aqui](https://pandas.pydata.org/pandas-docs/stable/generated/pandas.read_csv.html).\n",
    "\n",
    "Vamos a leer la base de datos `medidas_cuerpo2` que se encuentra disponible [aquí](https://raw.githubusercontent.com/fhernanb/datos/master/medidas_cuerpo2). La información se almacenará en el marco de datos `dt3`, a continuación la instrucción."
   ]
  },
  {
   "cell_type": "code",
   "execution_count": 6,
   "metadata": {},
   "outputs": [
    {
     "data": {
      "text/html": [
       "<div>\n",
       "<style scoped>\n",
       "    .dataframe tbody tr th:only-of-type {\n",
       "        vertical-align: middle;\n",
       "    }\n",
       "\n",
       "    .dataframe tbody tr th {\n",
       "        vertical-align: top;\n",
       "    }\n",
       "\n",
       "    .dataframe thead th {\n",
       "        text-align: right;\n",
       "    }\n",
       "</style>\n",
       "<table border=\"1\" class=\"dataframe\">\n",
       "  <thead>\n",
       "    <tr style=\"text-align: right;\">\n",
       "      <th></th>\n",
       "      <th>edad</th>\n",
       "      <th>peso</th>\n",
       "      <th>altura</th>\n",
       "      <th>sexo</th>\n",
       "      <th>muneca</th>\n",
       "      <th>biceps</th>\n",
       "    </tr>\n",
       "  </thead>\n",
       "  <tbody>\n",
       "    <tr>\n",
       "      <th>0</th>\n",
       "      <td>43</td>\n",
       "      <td>87.3</td>\n",
       "      <td>188.0</td>\n",
       "      <td>Hombre</td>\n",
       "      <td>12.2</td>\n",
       "      <td>35.8</td>\n",
       "    </tr>\n",
       "    <tr>\n",
       "      <th>1</th>\n",
       "      <td>65</td>\n",
       "      <td>80.0</td>\n",
       "      <td>174.0</td>\n",
       "      <td>Hombre</td>\n",
       "      <td>12.0</td>\n",
       "      <td>35.0</td>\n",
       "    </tr>\n",
       "    <tr>\n",
       "      <th>2</th>\n",
       "      <td>45</td>\n",
       "      <td>82.3</td>\n",
       "      <td>176.5</td>\n",
       "      <td>Hombre</td>\n",
       "      <td>11.2</td>\n",
       "      <td>38.5</td>\n",
       "    </tr>\n",
       "    <tr>\n",
       "      <th>3</th>\n",
       "      <td>37</td>\n",
       "      <td>73.6</td>\n",
       "      <td>180.3</td>\n",
       "      <td>Hombre</td>\n",
       "      <td>11.2</td>\n",
       "      <td>32.2</td>\n",
       "    </tr>\n",
       "    <tr>\n",
       "      <th>4</th>\n",
       "      <td>55</td>\n",
       "      <td>74.1</td>\n",
       "      <td>167.6</td>\n",
       "      <td>Hombre</td>\n",
       "      <td>11.8</td>\n",
       "      <td>32.9</td>\n",
       "    </tr>\n",
       "  </tbody>\n",
       "</table>\n",
       "</div>"
      ],
      "text/plain": [
       "   edad  peso  altura    sexo  muneca  biceps\n",
       "0    43  87.3   188.0  Hombre    12.2    35.8\n",
       "1    65  80.0   174.0  Hombre    12.0    35.0\n",
       "2    45  82.3   176.5  Hombre    11.2    38.5\n",
       "3    37  73.6   180.3  Hombre    11.2    32.2\n",
       "4    55  74.1   167.6  Hombre    11.8    32.9"
      ]
     },
     "execution_count": 6,
     "metadata": {},
     "output_type": "execute_result"
    }
   ],
   "source": [
    "url = 'https://raw.githubusercontent.com/fhernanb/datos/master/medidas_cuerpo'\n",
    "dt3 = pd.read_csv(url, comment='#', delimiter='\\t')\n",
    "dt3.head()"
   ]
  },
  {
   "cell_type": "markdown",
   "metadata": {},
   "source": [
    "De la salida anterior vemos que la base `dt3` tiene cinco variables."
   ]
  },
  {
   "cell_type": "markdown",
   "metadata": {},
   "source": [
    "## Lectura de archivos .xlsx\n",
    "\n",
    "Para leer este tipo de archivos se puede usar nuevamente la función `read_excel`, la documentación completa de la función se puede consultar [aqui](https://pandas.pydata.org/pandas-docs/stable/generated/pandas.read_excel.html).\n",
    "\n",
    "Vamos a leer la base de datos `datos4.xlsx`. La información se almacenará en el marco de datos `dt4`, a continuación la instrucción."
   ]
  },
  {
   "cell_type": "code",
   "execution_count": 7,
   "metadata": {},
   "outputs": [
    {
     "data": {
      "text/html": [
       "<div>\n",
       "<style scoped>\n",
       "    .dataframe tbody tr th:only-of-type {\n",
       "        vertical-align: middle;\n",
       "    }\n",
       "\n",
       "    .dataframe tbody tr th {\n",
       "        vertical-align: top;\n",
       "    }\n",
       "\n",
       "    .dataframe thead th {\n",
       "        text-align: right;\n",
       "    }\n",
       "</style>\n",
       "<table border=\"1\" class=\"dataframe\">\n",
       "  <thead>\n",
       "    <tr style=\"text-align: right;\">\n",
       "      <th></th>\n",
       "      <th>pais</th>\n",
       "      <th>deporte</th>\n",
       "    </tr>\n",
       "  </thead>\n",
       "  <tbody>\n",
       "    <tr>\n",
       "      <th>0</th>\n",
       "      <td>Colombia</td>\n",
       "      <td>Ciclismo</td>\n",
       "    </tr>\n",
       "    <tr>\n",
       "      <th>1</th>\n",
       "      <td>Brasil</td>\n",
       "      <td>Fútbol</td>\n",
       "    </tr>\n",
       "    <tr>\n",
       "      <th>2</th>\n",
       "      <td>Argentina</td>\n",
       "      <td>Fútbol</td>\n",
       "    </tr>\n",
       "    <tr>\n",
       "      <th>3</th>\n",
       "      <td>Peru</td>\n",
       "      <td>Voleibol</td>\n",
       "    </tr>\n",
       "    <tr>\n",
       "      <th>4</th>\n",
       "      <td>Venezuela</td>\n",
       "      <td>Natación</td>\n",
       "    </tr>\n",
       "  </tbody>\n",
       "</table>\n",
       "</div>"
      ],
      "text/plain": [
       "        pais   deporte\n",
       "0   Colombia  Ciclismo\n",
       "1     Brasil    Fútbol\n",
       "2  Argentina    Fútbol\n",
       "3       Peru  Voleibol\n",
       "4  Venezuela  Natación"
      ]
     },
     "execution_count": 7,
     "metadata": {},
     "output_type": "execute_result"
    }
   ],
   "source": [
    "dt4 = pd.read_excel(\"Datos/datos4.xlsx\", sheet_name='hoja1')\n",
    "dt4.head()"
   ]
  },
  {
   "cell_type": "markdown",
   "metadata": {},
   "source": [
    "## Dimensión de la base de datos\n",
    "\n",
    "Para conocer la dimensión de una base de datos se usa la función `shape`.\n",
    "\n",
    "A continuación de muestran las dimensiones de las tres bases de datos leídas."
   ]
  },
  {
   "cell_type": "code",
   "execution_count": 8,
   "metadata": {},
   "outputs": [
    {
     "data": {
      "text/plain": [
       "(4, 4)"
      ]
     },
     "execution_count": 8,
     "metadata": {},
     "output_type": "execute_result"
    }
   ],
   "source": [
    "dt1.shape"
   ]
  },
  {
   "cell_type": "code",
   "execution_count": 9,
   "metadata": {},
   "outputs": [
    {
     "data": {
      "text/plain": [
       "(3, 3)"
      ]
     },
     "execution_count": 9,
     "metadata": {},
     "output_type": "execute_result"
    }
   ],
   "source": [
    "dt2.shape"
   ]
  },
  {
   "cell_type": "code",
   "execution_count": 10,
   "metadata": {},
   "outputs": [
    {
     "data": {
      "text/plain": [
       "(36, 6)"
      ]
     },
     "execution_count": 10,
     "metadata": {},
     "output_type": "execute_result"
    }
   ],
   "source": [
    "dt3.shape"
   ]
  },
  {
   "cell_type": "code",
   "execution_count": 11,
   "metadata": {},
   "outputs": [
    {
     "data": {
      "text/plain": [
       "(5, 2)"
      ]
     },
     "execution_count": 11,
     "metadata": {},
     "output_type": "execute_result"
    }
   ],
   "source": [
    "dt4.shape"
   ]
  },
  {
   "cell_type": "markdown",
   "metadata": {},
   "source": [
    "## Usando las variables de las bases de datos\n",
    "\n",
    "Para usar cada variable de la base de datos se usa la siguiente estructura `nombre_datos.nombre_variable`. A continuación la forma de extraer las variables `edad`, `ventas` y `Sexo` de las bases de datos `dt1`, `dt2` y `dt3`."
   ]
  },
  {
   "cell_type": "code",
   "execution_count": 12,
   "metadata": {},
   "outputs": [
    {
     "data": {
      "text/plain": [
       "0    25\n",
       "1    36\n",
       "2    45\n",
       "3    28\n",
       "Name: edad, dtype: int64"
      ]
     },
     "execution_count": 12,
     "metadata": {},
     "output_type": "execute_result"
    }
   ],
   "source": [
    "dt1.edad"
   ]
  },
  {
   "cell_type": "code",
   "execution_count": 13,
   "metadata": {},
   "outputs": [
    {
     "data": {
      "text/plain": [
       "0    2563\n",
       "1    2541\n",
       "2     563\n",
       "Name: ventas, dtype: int64"
      ]
     },
     "execution_count": 13,
     "metadata": {},
     "output_type": "execute_result"
    }
   ],
   "source": [
    "dt2.ventas"
   ]
  },
  {
   "cell_type": "code",
   "execution_count": 14,
   "metadata": {},
   "outputs": [
    {
     "data": {
      "text/plain": [
       "0     Hombre\n",
       "1     Hombre\n",
       "2     Hombre\n",
       "3     Hombre\n",
       "4     Hombre\n",
       "5     Hombre\n",
       "6     Hombre\n",
       "7     Hombre\n",
       "8     Hombre\n",
       "9     Hombre\n",
       "10    Hombre\n",
       "11    Hombre\n",
       "12    Hombre\n",
       "13    Hombre\n",
       "14    Hombre\n",
       "15    Hombre\n",
       "16    Hombre\n",
       "17    Hombre\n",
       "18     Mujer\n",
       "19     Mujer\n",
       "20     Mujer\n",
       "21     Mujer\n",
       "22     Mujer\n",
       "23     Mujer\n",
       "24     Mujer\n",
       "25     Mujer\n",
       "26     Mujer\n",
       "27     Mujer\n",
       "28     Mujer\n",
       "29     Mujer\n",
       "30     Mujer\n",
       "31     Mujer\n",
       "32     Mujer\n",
       "33     Mujer\n",
       "34     Mujer\n",
       "35     Mujer\n",
       "Name: sexo, dtype: object"
      ]
     },
     "execution_count": 14,
     "metadata": {},
     "output_type": "execute_result"
    }
   ],
   "source": [
    "dt3.sexo"
   ]
  },
  {
   "cell_type": "code",
   "execution_count": 15,
   "metadata": {},
   "outputs": [
    {
     "data": {
      "text/plain": [
       "0    Ciclismo\n",
       "1      Fútbol\n",
       "2      Fútbol\n",
       "3    Voleibol\n",
       "4    Natación\n",
       "Name: deporte, dtype: object"
      ]
     },
     "execution_count": 15,
     "metadata": {},
     "output_type": "execute_result"
    }
   ],
   "source": [
    "dt4.deporte"
   ]
  }
 ],
 "metadata": {
  "kernelspec": {
   "display_name": "Python 3 (ipykernel)",
   "language": "python",
   "name": "python3"
  },
  "language_info": {
   "codemirror_mode": {
    "name": "ipython",
    "version": 3
   },
   "file_extension": ".py",
   "mimetype": "text/x-python",
   "name": "python",
   "nbconvert_exporter": "python",
   "pygments_lexer": "ipython3",
   "version": "3.12.7"
  }
 },
 "nbformat": 4,
 "nbformat_minor": 4
}
