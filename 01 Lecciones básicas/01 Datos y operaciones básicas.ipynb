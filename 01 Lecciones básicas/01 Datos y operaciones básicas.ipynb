{
 "cells": [
  {
   "cell_type": "markdown",
   "metadata": {},
   "source": [
    "# Funciones, datos y operaciones básicas\n",
    "\n",
    "<img src=\"https://raw.githubusercontent.com/fhernanb/fhernanb.github.io/master/my_docs/logo_unal_color.png\" alt=\"drawing\" width=\"200\"/>"
   ]
  },
  {
   "cell_type": "markdown",
   "metadata": {},
   "source": [
    "## Funciones\n",
    "En Python existen funciones que se encargan de hacer cosas. Abajo una ilustración de lo que es una función.\n",
    "\n",
    "<img src=\"function_machine.png\" alt=\"drawing\" width=\"300\"/>\n",
    "\n",
    "A continuación un listado de algunas de las funciones más básicas que un iniciante debería conocer:\n",
    "\n",
    "- `print()`: sirve para imprimir por pantalla un número o un mensaje.\n",
    "- `input()`: sirve para que el usuario ingrese un valor por pantalla.\n",
    "- `min()`: obtiene el mínimo de una lista.\n",
    "- `max()`: obtiene el máximo de una lista.\n",
    "- `len()`: entrega la longitud de una lista.\n",
    "\n",
    "El listado completo de todas las funciones \"incorporadas\" se puede encontrar en [este enlace](https://docs.python.org/es/3.13/library/functions.html)."
   ]
  },
  {
   "cell_type": "code",
   "execution_count": 1,
   "metadata": {},
   "outputs": [
    {
     "name": "stdout",
     "output_type": "stream",
     "text": [
      "[17, 23, 20, 20, 16, 18]\n"
     ]
    }
   ],
   "source": [
    "# Vamos a crear una lista con las edades de unos estudiantes\n",
    "edad = [17, 23, 20, 20, 16, 18]\n",
    "print(edad)"
   ]
  },
  {
   "cell_type": "code",
   "execution_count": 2,
   "metadata": {},
   "outputs": [
    {
     "data": {
      "text/plain": [
       "6"
      ]
     },
     "execution_count": 2,
     "metadata": {},
     "output_type": "execute_result"
    }
   ],
   "source": [
    "# Apliquemos las funciones de arriba\n",
    "min(edad)\n",
    "max(edad)\n",
    "len(edad)"
   ]
  },
  {
   "cell_type": "code",
   "execution_count": 3,
   "metadata": {},
   "outputs": [
    {
     "name": "stdout",
     "output_type": "stream",
     "text": [
      "16\n",
      "23\n",
      "6\n"
     ]
    }
   ],
   "source": [
    "# Apliquemos las funciones de arriba pero usando print\n",
    "print(min(edad))\n",
    "print(max(edad))\n",
    "print(len(edad))"
   ]
  },
  {
   "cell_type": "code",
   "execution_count": 12,
   "metadata": {},
   "outputs": [
    {
     "name": "stdout",
     "output_type": "stream",
     "text": [
      "La persona más joven tiene 16\n",
      "La persona mayor tiene 23\n",
      "La cantidad de personas es 6\n"
     ]
    }
   ],
   "source": [
    "# Apliquemos las funciones de arriba pero usando print y un mensaje\n",
    "print(\"La persona más joven tiene\", min(edad))\n",
    "print(\"La persona mayor tiene\", max(edad))\n",
    "print(\"La cantidad de personas es\", len(edad))"
   ]
  },
  {
   "cell_type": "markdown",
   "metadata": {},
   "source": [
    "## Tipos de datos\n",
    "\n",
    "En Python se tienen los siguientes tipos:\n",
    "- enteros (int)\n",
    "- enteros largos (long)\n",
    "- racionales (float)\n",
    "- complejos (complex)\n",
    "- booleanos (bool)\n",
    "- cadenas (str)\n",
    "- ninguno (None)\n",
    "\n",
    "A continuación se muestran algunos ejemplos de como crear variables con cada uno de los tipos de datos."
   ]
  },
  {
   "cell_type": "code",
   "execution_count": 5,
   "metadata": {},
   "outputs": [],
   "source": [
    "mi_entero = 4\n",
    "mi_racional = 8.35\n",
    "mi_complejo = 25 + 3j\n",
    "mi_bool1 = True\n",
    "mi_bool2 = False\n",
    "mi_cadena1 = \"Este es un ejemplo de una cadena\"\n",
    "mi_cadena2 = 'y este es otro ejemplo de una cadena'\n",
    "nada = None"
   ]
  },
  {
   "cell_type": "markdown",
   "metadata": {},
   "source": [
    "Se puede chequear el tipo de dato almacenado usando la función `type`. A continuación algunos ejemplos en los cuales se usó también la función `print` para mostrar el resultado de `type`."
   ]
  },
  {
   "cell_type": "code",
   "execution_count": 6,
   "metadata": {},
   "outputs": [
    {
     "name": "stdout",
     "output_type": "stream",
     "text": [
      "<class 'int'>\n",
      "<class 'float'>\n",
      "<class 'complex'>\n",
      "<class 'bool'>\n",
      "<class 'bool'>\n",
      "<class 'str'>\n",
      "<class 'str'>\n",
      "<class 'NoneType'>\n"
     ]
    }
   ],
   "source": [
    "print(type(mi_entero))\n",
    "print(type(mi_racional))\n",
    "print(type(mi_complejo))\n",
    "print(type(mi_bool1))\n",
    "print(type(mi_bool2))\n",
    "print(type(mi_cadena1))\n",
    "print(type(mi_cadena2))\n",
    "print(type(nada))"
   ]
  },
  {
   "cell_type": "markdown",
   "metadata": {},
   "source": [
    "## Operaciones básicas con números\n",
    "\n",
    "Las operaciones básicas con números son:\n",
    "- \\+ para sumar\n",
    "- \\- para restar\n",
    "- \\* para multiplicar\n",
    "- / para dividir\n",
    "- \\** para exponentes\n",
    "- // para división entera\n",
    "- % para el módulo en división"
   ]
  },
  {
   "cell_type": "code",
   "execution_count": 7,
   "metadata": {},
   "outputs": [
    {
     "name": "stdout",
     "output_type": "stream",
     "text": [
      "12.35\n",
      "16\n",
      "3.5\n",
      "3\n",
      "1\n"
     ]
    }
   ],
   "source": [
    "print(mi_entero + mi_racional)\n",
    "print(mi_entero ** 2)\n",
    "print(7 / 2)\n",
    "print(7 // 2)\n",
    "print(7 % 2)"
   ]
  },
  {
   "cell_type": "markdown",
   "metadata": {},
   "source": [
    "## Operaciones básicas con cadenas\n",
    "\n",
    "Las operaciones básicas con números son:\n",
    "- \\+ para concatenar\n",
    "- \\* para repetir"
   ]
  },
  {
   "cell_type": "code",
   "execution_count": 13,
   "metadata": {},
   "outputs": [
    {
     "name": "stdout",
     "output_type": "stream",
     "text": [
      "Este es un ejemplo de una cadenay este es otro ejemplo de una cadena\n",
      "y este es otro ejemplo de una cadenay este es otro ejemplo de una cadenay este es otro ejemplo de una cadena\n"
     ]
    }
   ],
   "source": [
    "print(mi_cadena1 + mi_cadena2)  # Concatena la cadena 1 y la 2\n",
    "print(mi_cadena2 * 3)           # Repite la cadena 3 veces"
   ]
  },
  {
   "cell_type": "markdown",
   "metadata": {},
   "source": [
    "## Programa\n",
    "\n",
    "Un programa es un conjunto de líneas con instrucciones para realizar una. \n",
    "\n",
    "A continuación vamos a crear un programa que recibe el nombre del usuario y un número entero `k`. El programa escribe en la pantalla \"Hola xxx\" donde \"xxx\" es el nombre ingresado y luego escribe por pantalla `k` veces el mensaje hola mundo."
   ]
  },
  {
   "cell_type": "code",
   "execution_count": 16,
   "metadata": {},
   "outputs": [
    {
     "name": "stdin",
     "output_type": "stream",
     "text": [
      "Escriba su nombre james\n"
     ]
    },
    {
     "ename": "ValueError",
     "evalue": "invalid literal for int() with base 10: 'Escriba un número entero'",
     "output_type": "error",
     "traceback": [
      "\u001b[1;31m---------------------------------------------------------------------------\u001b[0m",
      "\u001b[1;31mValueError\u001b[0m                                Traceback (most recent call last)",
      "Cell \u001b[1;32mIn[16], line 2\u001b[0m\n\u001b[0;32m      1\u001b[0m nombre \u001b[38;5;241m=\u001b[39m \u001b[38;5;28minput\u001b[39m(\u001b[38;5;124m\"\u001b[39m\u001b[38;5;124mEscriba su nombre\u001b[39m\u001b[38;5;124m\"\u001b[39m)\n\u001b[1;32m----> 2\u001b[0m k \u001b[38;5;241m=\u001b[39m \u001b[38;5;28minput\u001b[39m(\u001b[38;5;28mint\u001b[39m(\u001b[38;5;124m\"\u001b[39m\u001b[38;5;124mEscriba un número entero\u001b[39m\u001b[38;5;124m\"\u001b[39m))\n\u001b[0;32m      3\u001b[0m \u001b[38;5;28mprint\u001b[39m(\u001b[38;5;124m\"\u001b[39m\u001b[38;5;124mHola\u001b[39m\u001b[38;5;124m\"\u001b[39m, nombre)\n",
      "\u001b[1;31mValueError\u001b[0m: invalid literal for int() with base 10: 'Escriba un número entero'"
     ]
    }
   ],
   "source": [
    "nombre = input(\"Escriba su nombre:\")\n",
    "k = input(int(\"Escriba un número entero\"))\n",
    "print(\"Hola\", nombre)"
   ]
  },
  {
   "cell_type": "markdown",
   "metadata": {},
   "source": [
    "## Tarea\n",
    "\n",
    "1. Escribe un programa que pida al usuario su nombre y lo imprima en la consola. Usa la función `input()` para capturar el nombre y `print()` para mostrarlo.\n",
    "\n",
    "1. Dada una lista de números, utiliza la función `sum()` para calcular la suma total de los elementos de la lista. Ejemplo de lista: `[1, 2, 3, 4, 5]`.\n",
    "\n",
    "1. Crea un programa que reciba una lista de cadenas de texto. Luego, utiliza la función `len()` para encontrar la longitud de cada cadena e imprímelo. Ejemplo de lista: `[\"python\", \"programacion\", \"funciones\"]`.\n",
    "\n",
    "1. Escribe un programa que utilice la función `max()` para encontrar el número más grande de una lista de números. Ejemplo de lista: `[12, 7, 45, 23, 30]`.\n",
    "\n",
    "1. Crea un programa que utilice la función `min()` para encontrar el número más pequeño de una lista de números. Ejemplo de lista: `[12, 7, 45, 23, 30]`.\n",
    "\n",
    "1. Usa la función `range()` para imprimir los primeros 10 números naturales (del 1 al 10). Puedes usar `print()` dentro de un bucle `for`.\n",
    "\n",
    "1. Escribe un programa que convierta una lista de números en una lista de sus cuadrados. Utiliza la función `map()` para aplicar la operación a cada elemento de la lista. Ejemplo de lista: `[1, 2, 3, 4]`.\n",
    "\n",
    "1. Dado un número entero, usa la función `type()` para verificar si es de tipo `int`, `float`, `str`, etc., y muestra el resultado en la consola.\n",
    "\n",
    "1. Crea un programa que tome una lista de números y devuelva una lista con solo los números pares. Utiliza la función `filter()` para lograrlo. Ejemplo de lista: `[1, 2, 3, 4, 5, 6]`.\n",
    "\n",
    "1. Escribe un programa que reciba una cadena de texto y utilice la función `sorted()` para ordenar las palabras en orden alfabético y luego imprima el resultado. Ejemplo de cadena: `\"hola mundo python programación\"`.\n"
   ]
  },
  {
   "cell_type": "code",
   "execution_count": null,
   "metadata": {},
   "outputs": [],
   "source": []
  }
 ],
 "metadata": {
  "kernelspec": {
   "display_name": "Python 3 (ipykernel)",
   "language": "python",
   "name": "python3"
  },
  "language_info": {
   "codemirror_mode": {
    "name": "ipython",
    "version": 3
   },
   "file_extension": ".py",
   "mimetype": "text/x-python",
   "name": "python",
   "nbconvert_exporter": "python",
   "pygments_lexer": "ipython3",
   "version": "3.12.7"
  }
 },
 "nbformat": 4,
 "nbformat_minor": 4
}
