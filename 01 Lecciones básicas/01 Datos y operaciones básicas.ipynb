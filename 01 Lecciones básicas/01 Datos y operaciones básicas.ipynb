{
 "cells": [
  {
   "cell_type": "markdown",
   "metadata": {},
   "source": [
    "# Datos y operaciones básicas\n",
    "\n",
    "<img src=\"https://raw.githubusercontent.com/fhernanb/fhernanb.github.io/master/my_docs/logo_unal_color.png\" alt=\"drawing\" width=\"200\"/>"
   ]
  },
  {
   "cell_type": "markdown",
   "metadata": {},
   "source": [
    "## Tipos de datos\n",
    "\n",
    "En Python se tienen los siguientes tipos:\n",
    "- enteros (int)\n",
    "- enteros largos (long)\n",
    "- racionales (float)\n",
    "- complejos (complex)\n",
    "- booleanos (bool)\n",
    "- cadenas (str)\n",
    "- ninguno (None)\n",
    "\n",
    "A continuación se muestran algunos ejemplos de como crear variables con cada uno de los tipos de datos."
   ]
  },
  {
   "cell_type": "code",
   "execution_count": 1,
   "metadata": {},
   "outputs": [],
   "source": [
    "mi_entero = 4\n",
    "mi_racional = 8.35\n",
    "mi_complejo = 25 + 3j\n",
    "mi_bool1 = True\n",
    "mi_bool2 = False\n",
    "mi_cadena1 = \"Este es un ejemplo de una cadena\"\n",
    "mi_cadena2 = 'y este es otro ejemplo de una cadena'\n",
    "nada = None"
   ]
  },
  {
   "cell_type": "markdown",
   "metadata": {},
   "source": [
    "Se puede chequear el tipo de dato almacenado usando la función `type`. A continuación algunos ejemplos en los cuales se usó también la función `print` para mostrar el resultado de `type`."
   ]
  },
  {
   "cell_type": "code",
   "execution_count": 2,
   "metadata": {},
   "outputs": [
    {
     "name": "stdout",
     "output_type": "stream",
     "text": [
      "<class 'int'>\n",
      "<class 'float'>\n",
      "<class 'complex'>\n",
      "<class 'bool'>\n",
      "<class 'bool'>\n",
      "<class 'str'>\n",
      "<class 'str'>\n",
      "<class 'NoneType'>\n"
     ]
    }
   ],
   "source": [
    "print(type(mi_entero))\n",
    "print(type(mi_racional))\n",
    "print(type(mi_complejo))\n",
    "print(type(mi_bool1))\n",
    "print(type(mi_bool2))\n",
    "print(type(mi_cadena1))\n",
    "print(type(mi_cadena2))\n",
    "print(type(nada))"
   ]
  },
  {
   "cell_type": "markdown",
   "metadata": {},
   "source": [
    "## Operaciones básicas con números\n",
    "\n",
    "Las operaciones básicas con números son:\n",
    "- \\+ para sumar\n",
    "- \\- para restar\n",
    "- \\* para multiplicar\n",
    "- / para dividir\n",
    "- \\** para exponentes\n",
    "- // para división entera\n",
    "- % para el módulo en división"
   ]
  },
  {
   "cell_type": "code",
   "execution_count": 3,
   "metadata": {},
   "outputs": [
    {
     "name": "stdout",
     "output_type": "stream",
     "text": [
      "12.35\n",
      "16\n",
      "3.5\n",
      "3\n",
      "1\n"
     ]
    }
   ],
   "source": [
    "print(mi_entero + mi_racional)\n",
    "print(mi_entero ** 2)\n",
    "print(7 / 2)\n",
    "print(7 // 2)\n",
    "print(7 % 2)"
   ]
  },
  {
   "cell_type": "markdown",
   "metadata": {},
   "source": [
    "## Operaciones básicas con cadenas\n",
    "\n",
    "Las operaciones básicas con números son:\n",
    "- \\+ para concatenar\n",
    "- \\* para repetir"
   ]
  },
  {
   "cell_type": "code",
   "execution_count": 4,
   "metadata": {},
   "outputs": [
    {
     "name": "stdout",
     "output_type": "stream",
     "text": [
      "Este es un ejemplo de una cadenay este es otro ejemplo de una cade\n",
      "y este es otro ejemplo de una cadey este es otro ejemplo de una cadey este es otro ejemplo de una cade\n"
     ]
    }
   ],
   "source": [
    "print(mi_cadena1 + mi_cadena2)  # Concatena la cadena 1 y la 2\n",
    "print(mi_cadena2 * 3)           # Repite la cadena 3 veces"
   ]
  },
  {
   "cell_type": "code",
   "execution_count": null,
   "metadata": {},
   "outputs": [],
   "source": []
  }
 ],
 "metadata": {
  "kernelspec": {
   "display_name": "Python 3 (ipykernel)",
   "language": "python",
   "name": "python3"
  },
  "language_info": {
   "codemirror_mode": {
    "name": "ipython",
    "version": 3
   },
   "file_extension": ".py",
   "mimetype": "text/x-python",
   "name": "python",
   "nbconvert_exporter": "python",
   "pygments_lexer": "ipython3",
   "version": "3.12.7"
  }
 },
 "nbformat": 4,
 "nbformat_minor": 4
}
